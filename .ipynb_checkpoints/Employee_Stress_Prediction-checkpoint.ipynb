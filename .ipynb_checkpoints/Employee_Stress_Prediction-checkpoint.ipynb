{
 "cells": [
  {
   "cell_type": "markdown",
   "id": "537bdfc9",
   "metadata": {},
   "source": [
    "## Libraries Importing"
   ]
  },
  {
   "cell_type": "code",
   "execution_count": 1,
   "id": "6eea9c55",
   "metadata": {},
   "outputs": [],
   "source": [
    "import warnings\n",
    "warnings.filterwarnings(\"always\")\n",
    "warnings.filterwarnings(\"ignore\")"
   ]
  },
  {
   "cell_type": "code",
   "execution_count": 2,
   "id": "f25a8426",
   "metadata": {},
   "outputs": [],
   "source": [
    "import os\n",
    "import pandas as pd\n",
    "import numpy as np\n",
    "import matplotlib.pyplot as plt\n",
    "%matplotlib inline\n",
    "import seaborn as sns"
   ]
  },
  {
   "cell_type": "code",
   "execution_count": 3,
   "id": "dac62879",
   "metadata": {},
   "outputs": [],
   "source": [
    "from tensorflow.keras.preprocessing.text import Tokenizer\n",
    "from tensorflow.keras.preprocessing.sequence import pad_sequences\n",
    "from tensorflow.keras.utils import to_categorical"
   ]
  },
  {
   "cell_type": "markdown",
   "id": "ae59c6e8",
   "metadata": {},
   "source": [
    "## Data Loading"
   ]
  },
  {
   "cell_type": "code",
   "execution_count": 4,
   "id": "71718b59",
   "metadata": {},
   "outputs": [],
   "source": [
    "stress=pd.read_csv(filepath_or_buffer=\"input/Stress.csv\",encoding=\"ISO-8859-1\")"
   ]
  },
  {
   "cell_type": "code",
   "execution_count": 5,
   "id": "0a12b58e",
   "metadata": {},
   "outputs": [],
   "source": [
    "nonstress=pd.read_csv(filepath_or_buffer=\"input/Non_Stress.csv\",encoding=\"ISO-8859-1\")"
   ]
  },
  {
   "cell_type": "markdown",
   "id": "4458d45b",
   "metadata": {},
   "source": [
    "## Data Preprocessing"
   ]
  },
  {
   "cell_type": "markdown",
   "id": "608a24a0",
   "metadata": {},
   "source": [
    "***Stress preliminary Analysis***"
   ]
  },
  {
   "cell_type": "code",
   "execution_count": 6,
   "id": "f29cf8f3",
   "metadata": {},
   "outputs": [
    {
     "data": {
      "text/plain": [
       "(2410, 16)"
      ]
     },
     "execution_count": 6,
     "metadata": {},
     "output_type": "execute_result"
    }
   ],
   "source": [
    "stress.shape"
   ]
  },
  {
   "cell_type": "code",
   "execution_count": 7,
   "id": "8f9e671b",
   "metadata": {},
   "outputs": [
    {
     "data": {
      "text/html": [
       "<div>\n",
       "<style scoped>\n",
       "    .dataframe tbody tr th:only-of-type {\n",
       "        vertical-align: middle;\n",
       "    }\n",
       "\n",
       "    .dataframe tbody tr th {\n",
       "        vertical-align: top;\n",
       "    }\n",
       "\n",
       "    .dataframe thead th {\n",
       "        text-align: right;\n",
       "    }\n",
       "</style>\n",
       "<table border=\"1\" class=\"dataframe\">\n",
       "  <thead>\n",
       "    <tr style=\"text-align: right;\">\n",
       "      <th></th>\n",
       "      <th>Unnamed: 0</th>\n",
       "      <th>user</th>\n",
       "      <th>text</th>\n",
       "      <th>Unnamed: 3</th>\n",
       "      <th>Unnamed: 4</th>\n",
       "      <th>Unnamed: 5</th>\n",
       "      <th>Unnamed: 6</th>\n",
       "      <th>Unnamed: 7</th>\n",
       "      <th>Unnamed: 8</th>\n",
       "      <th>Unnamed: 9</th>\n",
       "      <th>Unnamed: 10</th>\n",
       "      <th>Unnamed: 11</th>\n",
       "      <th>Unnamed: 12</th>\n",
       "      <th>Unnamed: 13</th>\n",
       "      <th>Unnamed: 14</th>\n",
       "      <th>Unnamed: 15</th>\n",
       "    </tr>\n",
       "  </thead>\n",
       "  <tbody>\n",
       "    <tr>\n",
       "      <th>0</th>\n",
       "      <td>0</td>\n",
       "      <td>whosalli</td>\n",
       "      <td>The lack of this understanding is a small but ...</td>\n",
       "      <td>NaN</td>\n",
       "      <td>NaN</td>\n",
       "      <td>NaN</td>\n",
       "      <td>NaN</td>\n",
       "      <td>NaN</td>\n",
       "      <td>NaN</td>\n",
       "      <td>NaN</td>\n",
       "      <td>NaN</td>\n",
       "      <td>NaN</td>\n",
       "      <td>NaN</td>\n",
       "      <td>NaN</td>\n",
       "      <td>NaN</td>\n",
       "      <td>NaN</td>\n",
       "    </tr>\n",
       "    <tr>\n",
       "      <th>1</th>\n",
       "      <td>1</td>\n",
       "      <td>estermnunes</td>\n",
       "      <td>i just told my parents about my depression and...</td>\n",
       "      <td>NaN</td>\n",
       "      <td>NaN</td>\n",
       "      <td>NaN</td>\n",
       "      <td>NaN</td>\n",
       "      <td>NaN</td>\n",
       "      <td>NaN</td>\n",
       "      <td>NaN</td>\n",
       "      <td>NaN</td>\n",
       "      <td>NaN</td>\n",
       "      <td>NaN</td>\n",
       "      <td>NaN</td>\n",
       "      <td>NaN</td>\n",
       "      <td>NaN</td>\n",
       "    </tr>\n",
       "    <tr>\n",
       "      <th>2</th>\n",
       "      <td>2</td>\n",
       "      <td>TheAlphaAries</td>\n",
       "      <td>depression is something i don't speak about ev...</td>\n",
       "      <td>NaN</td>\n",
       "      <td>NaN</td>\n",
       "      <td>NaN</td>\n",
       "      <td>NaN</td>\n",
       "      <td>NaN</td>\n",
       "      <td>NaN</td>\n",
       "      <td>NaN</td>\n",
       "      <td>NaN</td>\n",
       "      <td>NaN</td>\n",
       "      <td>NaN</td>\n",
       "      <td>NaN</td>\n",
       "      <td>NaN</td>\n",
       "      <td>NaN</td>\n",
       "    </tr>\n",
       "    <tr>\n",
       "      <th>3</th>\n",
       "      <td>3</td>\n",
       "      <td>_ojhodgson</td>\n",
       "      <td>Made myself a tortilla filled with pb&amp;j. My de...</td>\n",
       "      <td>NaN</td>\n",
       "      <td>NaN</td>\n",
       "      <td>NaN</td>\n",
       "      <td>NaN</td>\n",
       "      <td>NaN</td>\n",
       "      <td>NaN</td>\n",
       "      <td>NaN</td>\n",
       "      <td>NaN</td>\n",
       "      <td>NaN</td>\n",
       "      <td>NaN</td>\n",
       "      <td>NaN</td>\n",
       "      <td>NaN</td>\n",
       "      <td>NaN</td>\n",
       "    </tr>\n",
       "    <tr>\n",
       "      <th>4</th>\n",
       "      <td>4</td>\n",
       "      <td>DMiller96371630</td>\n",
       "      <td>@WorldofOutlaws I am gonna need depression med...</td>\n",
       "      <td>NaN</td>\n",
       "      <td>NaN</td>\n",
       "      <td>NaN</td>\n",
       "      <td>NaN</td>\n",
       "      <td>NaN</td>\n",
       "      <td>NaN</td>\n",
       "      <td>NaN</td>\n",
       "      <td>NaN</td>\n",
       "      <td>NaN</td>\n",
       "      <td>NaN</td>\n",
       "      <td>NaN</td>\n",
       "      <td>NaN</td>\n",
       "      <td>NaN</td>\n",
       "    </tr>\n",
       "  </tbody>\n",
       "</table>\n",
       "</div>"
      ],
      "text/plain": [
       "  Unnamed: 0             user  \\\n",
       "0          0         whosalli   \n",
       "1          1      estermnunes   \n",
       "2          2    TheAlphaAries   \n",
       "3          3       _ojhodgson   \n",
       "4          4  DMiller96371630   \n",
       "\n",
       "                                                text Unnamed: 3 Unnamed: 4  \\\n",
       "0  The lack of this understanding is a small but ...        NaN        NaN   \n",
       "1  i just told my parents about my depression and...        NaN        NaN   \n",
       "2  depression is something i don't speak about ev...        NaN        NaN   \n",
       "3  Made myself a tortilla filled with pb&j. My de...        NaN        NaN   \n",
       "4  @WorldofOutlaws I am gonna need depression med...        NaN        NaN   \n",
       "\n",
       "  Unnamed: 5 Unnamed: 6 Unnamed: 7 Unnamed: 8 Unnamed: 9 Unnamed: 10  \\\n",
       "0        NaN        NaN        NaN        NaN        NaN         NaN   \n",
       "1        NaN        NaN        NaN        NaN        NaN         NaN   \n",
       "2        NaN        NaN        NaN        NaN        NaN         NaN   \n",
       "3        NaN        NaN        NaN        NaN        NaN         NaN   \n",
       "4        NaN        NaN        NaN        NaN        NaN         NaN   \n",
       "\n",
       "  Unnamed: 11 Unnamed: 12 Unnamed: 13 Unnamed: 14 Unnamed: 15  \n",
       "0         NaN         NaN         NaN         NaN         NaN  \n",
       "1         NaN         NaN         NaN         NaN         NaN  \n",
       "2         NaN         NaN         NaN         NaN         NaN  \n",
       "3         NaN         NaN         NaN         NaN         NaN  \n",
       "4         NaN         NaN         NaN         NaN         NaN  "
      ]
     },
     "execution_count": 7,
     "metadata": {},
     "output_type": "execute_result"
    }
   ],
   "source": [
    "stress.head()"
   ]
  },
  {
   "cell_type": "code",
   "execution_count": 10,
   "id": "7356677e",
   "metadata": {},
   "outputs": [],
   "source": [
    "stress=stress[[\"text\"]]"
   ]
  },
  {
   "cell_type": "code",
   "execution_count": 11,
   "id": "92c8d332",
   "metadata": {},
   "outputs": [
    {
     "data": {
      "text/html": [
       "<div>\n",
       "<style scoped>\n",
       "    .dataframe tbody tr th:only-of-type {\n",
       "        vertical-align: middle;\n",
       "    }\n",
       "\n",
       "    .dataframe tbody tr th {\n",
       "        vertical-align: top;\n",
       "    }\n",
       "\n",
       "    .dataframe thead th {\n",
       "        text-align: right;\n",
       "    }\n",
       "</style>\n",
       "<table border=\"1\" class=\"dataframe\">\n",
       "  <thead>\n",
       "    <tr style=\"text-align: right;\">\n",
       "      <th></th>\n",
       "      <th>text</th>\n",
       "    </tr>\n",
       "  </thead>\n",
       "  <tbody>\n",
       "    <tr>\n",
       "      <th>0</th>\n",
       "      <td>The lack of this understanding is a small but ...</td>\n",
       "    </tr>\n",
       "    <tr>\n",
       "      <th>1</th>\n",
       "      <td>i just told my parents about my depression and...</td>\n",
       "    </tr>\n",
       "    <tr>\n",
       "      <th>2</th>\n",
       "      <td>depression is something i don't speak about ev...</td>\n",
       "    </tr>\n",
       "    <tr>\n",
       "      <th>3</th>\n",
       "      <td>Made myself a tortilla filled with pb&amp;j. My de...</td>\n",
       "    </tr>\n",
       "    <tr>\n",
       "      <th>4</th>\n",
       "      <td>@WorldofOutlaws I am gonna need depression med...</td>\n",
       "    </tr>\n",
       "  </tbody>\n",
       "</table>\n",
       "</div>"
      ],
      "text/plain": [
       "                                                text\n",
       "0  The lack of this understanding is a small but ...\n",
       "1  i just told my parents about my depression and...\n",
       "2  depression is something i don't speak about ev...\n",
       "3  Made myself a tortilla filled with pb&j. My de...\n",
       "4  @WorldofOutlaws I am gonna need depression med..."
      ]
     },
     "execution_count": 11,
     "metadata": {},
     "output_type": "execute_result"
    }
   ],
   "source": [
    "stress.head()"
   ]
  },
  {
   "cell_type": "markdown",
   "id": "fc629143",
   "metadata": {},
   "source": [
    "***Non-Stress priliminary Analysis***"
   ]
  },
  {
   "cell_type": "code",
   "execution_count": 12,
   "id": "703713bc",
   "metadata": {},
   "outputs": [
    {
     "data": {
      "text/plain": [
       "(11763, 3)"
      ]
     },
     "execution_count": 12,
     "metadata": {},
     "output_type": "execute_result"
    }
   ],
   "source": [
    "nonstress.shape"
   ]
  },
  {
   "cell_type": "code",
   "execution_count": 13,
   "id": "9efcc146",
   "metadata": {},
   "outputs": [
    {
     "data": {
      "text/html": [
       "<div>\n",
       "<style scoped>\n",
       "    .dataframe tbody tr th:only-of-type {\n",
       "        vertical-align: middle;\n",
       "    }\n",
       "\n",
       "    .dataframe tbody tr th {\n",
       "        vertical-align: top;\n",
       "    }\n",
       "\n",
       "    .dataframe thead th {\n",
       "        text-align: right;\n",
       "    }\n",
       "</style>\n",
       "<table border=\"1\" class=\"dataframe\">\n",
       "  <thead>\n",
       "    <tr style=\"text-align: right;\">\n",
       "      <th></th>\n",
       "      <th>Unnamed: 0</th>\n",
       "      <th>TextId</th>\n",
       "      <th>Text</th>\n",
       "    </tr>\n",
       "  </thead>\n",
       "  <tbody>\n",
       "    <tr>\n",
       "      <th>0</th>\n",
       "      <td>0.0</td>\n",
       "      <td>0.0</td>\n",
       "      <td>is so sad for my APL frie...</td>\n",
       "    </tr>\n",
       "    <tr>\n",
       "      <th>1</th>\n",
       "      <td>1.0</td>\n",
       "      <td>0.0</td>\n",
       "      <td>I missed the New Moon trail...</td>\n",
       "    </tr>\n",
       "    <tr>\n",
       "      <th>2</th>\n",
       "      <td>2.0</td>\n",
       "      <td>1.0</td>\n",
       "      <td>omg its already 7:30 :O</td>\n",
       "    </tr>\n",
       "    <tr>\n",
       "      <th>3</th>\n",
       "      <td>3.0</td>\n",
       "      <td>0.0</td>\n",
       "      <td>.. Omgaga. Im sooo  im gunna CRy. I'...</td>\n",
       "    </tr>\n",
       "    <tr>\n",
       "      <th>4</th>\n",
       "      <td>4.0</td>\n",
       "      <td>0.0</td>\n",
       "      <td>i think mi bf is cheating on me!!!   ...</td>\n",
       "    </tr>\n",
       "  </tbody>\n",
       "</table>\n",
       "</div>"
      ],
      "text/plain": [
       "   Unnamed: 0  TextId                                               Text\n",
       "0         0.0     0.0                       is so sad for my APL frie...\n",
       "1         1.0     0.0                     I missed the New Moon trail...\n",
       "2         2.0     1.0                            omg its already 7:30 :O\n",
       "3         3.0     0.0            .. Omgaga. Im sooo  im gunna CRy. I'...\n",
       "4         4.0     0.0           i think mi bf is cheating on me!!!   ..."
      ]
     },
     "execution_count": 13,
     "metadata": {},
     "output_type": "execute_result"
    }
   ],
   "source": [
    "nonstress.head()"
   ]
  },
  {
   "cell_type": "code",
   "execution_count": 14,
   "id": "7d47189e",
   "metadata": {},
   "outputs": [],
   "source": [
    "nonstress=nonstress[[\"Text\"]]"
   ]
  },
  {
   "cell_type": "code",
   "execution_count": 15,
   "id": "ecfa8c22",
   "metadata": {},
   "outputs": [
    {
     "data": {
      "text/html": [
       "<div>\n",
       "<style scoped>\n",
       "    .dataframe tbody tr th:only-of-type {\n",
       "        vertical-align: middle;\n",
       "    }\n",
       "\n",
       "    .dataframe tbody tr th {\n",
       "        vertical-align: top;\n",
       "    }\n",
       "\n",
       "    .dataframe thead th {\n",
       "        text-align: right;\n",
       "    }\n",
       "</style>\n",
       "<table border=\"1\" class=\"dataframe\">\n",
       "  <thead>\n",
       "    <tr style=\"text-align: right;\">\n",
       "      <th></th>\n",
       "      <th>Text</th>\n",
       "    </tr>\n",
       "  </thead>\n",
       "  <tbody>\n",
       "    <tr>\n",
       "      <th>0</th>\n",
       "      <td>is so sad for my APL frie...</td>\n",
       "    </tr>\n",
       "    <tr>\n",
       "      <th>1</th>\n",
       "      <td>I missed the New Moon trail...</td>\n",
       "    </tr>\n",
       "    <tr>\n",
       "      <th>2</th>\n",
       "      <td>omg its already 7:30 :O</td>\n",
       "    </tr>\n",
       "    <tr>\n",
       "      <th>3</th>\n",
       "      <td>.. Omgaga. Im sooo  im gunna CRy. I'...</td>\n",
       "    </tr>\n",
       "    <tr>\n",
       "      <th>4</th>\n",
       "      <td>i think mi bf is cheating on me!!!   ...</td>\n",
       "    </tr>\n",
       "  </tbody>\n",
       "</table>\n",
       "</div>"
      ],
      "text/plain": [
       "                                                Text\n",
       "0                       is so sad for my APL frie...\n",
       "1                     I missed the New Moon trail...\n",
       "2                            omg its already 7:30 :O\n",
       "3            .. Omgaga. Im sooo  im gunna CRy. I'...\n",
       "4           i think mi bf is cheating on me!!!   ..."
      ]
     },
     "execution_count": 15,
     "metadata": {},
     "output_type": "execute_result"
    }
   ],
   "source": [
    "nonstress.head()"
   ]
  },
  {
   "cell_type": "code",
   "execution_count": 16,
   "id": "83f10cd0",
   "metadata": {},
   "outputs": [],
   "source": [
    "nonstress.rename(columns={\"Text\":\"text\"},inplace=True)"
   ]
  },
  {
   "cell_type": "code",
   "execution_count": 17,
   "id": "a6edfd27",
   "metadata": {},
   "outputs": [
    {
     "data": {
      "text/html": [
       "<div>\n",
       "<style scoped>\n",
       "    .dataframe tbody tr th:only-of-type {\n",
       "        vertical-align: middle;\n",
       "    }\n",
       "\n",
       "    .dataframe tbody tr th {\n",
       "        vertical-align: top;\n",
       "    }\n",
       "\n",
       "    .dataframe thead th {\n",
       "        text-align: right;\n",
       "    }\n",
       "</style>\n",
       "<table border=\"1\" class=\"dataframe\">\n",
       "  <thead>\n",
       "    <tr style=\"text-align: right;\">\n",
       "      <th></th>\n",
       "      <th>text</th>\n",
       "    </tr>\n",
       "  </thead>\n",
       "  <tbody>\n",
       "    <tr>\n",
       "      <th>0</th>\n",
       "      <td>is so sad for my APL frie...</td>\n",
       "    </tr>\n",
       "    <tr>\n",
       "      <th>1</th>\n",
       "      <td>I missed the New Moon trail...</td>\n",
       "    </tr>\n",
       "    <tr>\n",
       "      <th>2</th>\n",
       "      <td>omg its already 7:30 :O</td>\n",
       "    </tr>\n",
       "    <tr>\n",
       "      <th>3</th>\n",
       "      <td>.. Omgaga. Im sooo  im gunna CRy. I'...</td>\n",
       "    </tr>\n",
       "    <tr>\n",
       "      <th>4</th>\n",
       "      <td>i think mi bf is cheating on me!!!   ...</td>\n",
       "    </tr>\n",
       "  </tbody>\n",
       "</table>\n",
       "</div>"
      ],
      "text/plain": [
       "                                                text\n",
       "0                       is so sad for my APL frie...\n",
       "1                     I missed the New Moon trail...\n",
       "2                            omg its already 7:30 :O\n",
       "3            .. Omgaga. Im sooo  im gunna CRy. I'...\n",
       "4           i think mi bf is cheating on me!!!   ..."
      ]
     },
     "execution_count": 17,
     "metadata": {},
     "output_type": "execute_result"
    }
   ],
   "source": [
    "nonstress.head()"
   ]
  },
  {
   "cell_type": "code",
   "execution_count": 18,
   "id": "6892c8ec",
   "metadata": {},
   "outputs": [
    {
     "name": "stdout",
     "output_type": "stream",
     "text": [
      "(2410, 1) (11763, 1)\n"
     ]
    }
   ],
   "source": [
    "print(stress.shape,nonstress.shape)"
   ]
  },
  {
   "cell_type": "markdown",
   "id": "a25b0b53",
   "metadata": {},
   "source": [
    "***Visualizations***"
   ]
  },
  {
   "cell_type": "code",
   "execution_count": 20,
   "id": "bdd36bd2",
   "metadata": {},
   "outputs": [
    {
     "data": {
      "image/png": "[encoded data removed]",
      "text/plain": [
       "<Figure size 1296x576 with 1 Axes>"
      ]
     },
     "metadata": {
      "needs_background": "light"
     },
     "output_type": "display_data"
    }
   ],
   "source": [
    "plt.figure(figsize=(18,8))\n",
    "plt.rcParams[\"font.size\"]=20\n",
    "plt.barh(y=[\"Stress data Size\",\"Non-Stress data size\"],width=[stress.shape[0],nonstress.shape[0]],color=[\"seagreen\",\"crimson\"])\n",
    "plt.title(label=\"Comparision of Stress and Non-Stress data size\")\n",
    "plt.show()"
   ]
  },
  {
   "cell_type": "code",
   "execution_count": 22,
   "id": "0bb18c72",
   "metadata": {},
   "outputs": [
    {
     "data": {
      "image/png": "[encoded data removed]",
      "text/plain": [
       "<Figure size 720x720 with 1 Axes>"
      ]
     },
     "metadata": {},
     "output_type": "display_data"
    }
   ],
   "source": [
    "plt.figure(figsize=(10,10))\n",
    "plt.pie(labels=[\"Stress data Size\",\"Non-Stress data size\"],x=[stress.shape[0],nonstress.shape[0]],colors=[\"seagreen\",\"crimson\"],autopct=\"%.2f\",shadow=True)\n",
    "plt.title(label=\"Comparision of Stress and Non-Stress data size\")\n",
    "plt.show()"
   ]
  },
  {
   "cell_type": "markdown",
   "id": "d96a297b",
   "metadata": {},
   "source": [
    "## Label Creation"
   ]
  },
  {
   "cell_type": "code",
   "execution_count": 17,
   "id": "f6f43bf7",
   "metadata": {},
   "outputs": [],
   "source": [
    "stress_label=np.ones(shape=stress.shape[0])\n",
    "nonstress_label=np.zeros(shape=nonstress.shape[0])"
   ]
  },
  {
   "cell_type": "code",
   "execution_count": 18,
   "id": "2ca1dbf9",
   "metadata": {},
   "outputs": [
    {
     "name": "stdout",
     "output_type": "stream",
     "text": [
      "(2410,) (11763,)\n"
     ]
    }
   ],
   "source": [
    "print(stress_label.shape,nonstress_label.shape)"
   ]
  },
  {
   "cell_type": "code",
   "execution_count": 19,
   "id": "8e497e95",
   "metadata": {},
   "outputs": [
    {
     "name": "stdout",
     "output_type": "stream",
     "text": [
      "[1. 1. 1. ... 1. 1. 1.]\n"
     ]
    }
   ],
   "source": [
    "print(stress_label)"
   ]
  },
  {
   "cell_type": "code",
   "execution_count": 20,
   "id": "98760f98",
   "metadata": {},
   "outputs": [
    {
     "name": "stdout",
     "output_type": "stream",
     "text": [
      "[0. 0. 0. ... 0. 0. 0.]\n"
     ]
    }
   ],
   "source": [
    "print(nonstress_label)"
   ]
  },
  {
   "cell_type": "code",
   "execution_count": 21,
   "id": "1a3294de",
   "metadata": {},
   "outputs": [],
   "source": [
    "labels=np.concatenate([stress_label,nonstress_label])"
   ]
  },
  {
   "cell_type": "code",
   "execution_count": 22,
   "id": "fca2b429",
   "metadata": {},
   "outputs": [
    {
     "name": "stdout",
     "output_type": "stream",
     "text": [
      "[1. 1. 1. ... 0. 0. 0.]\n"
     ]
    }
   ],
   "source": [
    "print(labels)"
   ]
  },
  {
   "cell_type": "code",
   "execution_count": 23,
   "id": "8059b794",
   "metadata": {},
   "outputs": [
    {
     "data": {
      "text/plain": [
       "(14173,)"
      ]
     },
     "execution_count": 23,
     "metadata": {},
     "output_type": "execute_result"
    }
   ],
   "source": [
    "labels.shape"
   ]
  },
  {
   "cell_type": "code",
   "execution_count": 24,
   "id": "f033c71c",
   "metadata": {},
   "outputs": [],
   "source": [
    "df=pd.concat(objs=[stress,nonstress])"
   ]
  },
  {
   "cell_type": "code",
   "execution_count": 25,
   "id": "915cfe46",
   "metadata": {},
   "outputs": [
    {
     "data": {
      "text/plain": [
       "(14173, 1)"
      ]
     },
     "execution_count": 25,
     "metadata": {},
     "output_type": "execute_result"
    }
   ],
   "source": [
    "df.shape"
   ]
  },
  {
   "cell_type": "code",
   "execution_count": 26,
   "id": "6d2a6665",
   "metadata": {},
   "outputs": [],
   "source": [
    "df[\"labels\"]=labels"
   ]
  },
  {
   "cell_type": "code",
   "execution_count": 27,
   "id": "33d03a6f",
   "metadata": {},
   "outputs": [
    {
     "data": {
      "text/html": [
       "<div>\n",
       "<style scoped>\n",
       "    .dataframe tbody tr th:only-of-type {\n",
       "        vertical-align: middle;\n",
       "    }\n",
       "\n",
       "    .dataframe tbody tr th {\n",
       "        vertical-align: top;\n",
       "    }\n",
       "\n",
       "    .dataframe thead th {\n",
       "        text-align: right;\n",
       "    }\n",
       "</style>\n",
       "<table border=\"1\" class=\"dataframe\">\n",
       "  <thead>\n",
       "    <tr style=\"text-align: right;\">\n",
       "      <th></th>\n",
       "      <th>text</th>\n",
       "      <th>labels</th>\n",
       "    </tr>\n",
       "  </thead>\n",
       "  <tbody>\n",
       "    <tr>\n",
       "      <th>0</th>\n",
       "      <td>The lack of this understanding is a small but ...</td>\n",
       "      <td>1.0</td>\n",
       "    </tr>\n",
       "    <tr>\n",
       "      <th>1</th>\n",
       "      <td>i just told my parents about my depression and...</td>\n",
       "      <td>1.0</td>\n",
       "    </tr>\n",
       "    <tr>\n",
       "      <th>2</th>\n",
       "      <td>depression is something i don't speak about ev...</td>\n",
       "      <td>1.0</td>\n",
       "    </tr>\n",
       "    <tr>\n",
       "      <th>3</th>\n",
       "      <td>Made myself a tortilla filled with pb&amp;j. My de...</td>\n",
       "      <td>1.0</td>\n",
       "    </tr>\n",
       "    <tr>\n",
       "      <th>4</th>\n",
       "      <td>@WorldofOutlaws I am gonna need depression med...</td>\n",
       "      <td>1.0</td>\n",
       "    </tr>\n",
       "  </tbody>\n",
       "</table>\n",
       "</div>"
      ],
      "text/plain": [
       "                                                text  labels\n",
       "0  The lack of this understanding is a small but ...     1.0\n",
       "1  i just told my parents about my depression and...     1.0\n",
       "2  depression is something i don't speak about ev...     1.0\n",
       "3  Made myself a tortilla filled with pb&j. My de...     1.0\n",
       "4  @WorldofOutlaws I am gonna need depression med...     1.0"
      ]
     },
     "execution_count": 27,
     "metadata": {},
     "output_type": "execute_result"
    }
   ],
   "source": [
    "df.head()"
   ]
  },
  {
   "cell_type": "code",
   "execution_count": 28,
   "id": "7421dd40",
   "metadata": {},
   "outputs": [],
   "source": [
    "df[\"labels\"]=df[\"labels\"].astype(dtype=\"int64\")"
   ]
  },
  {
   "cell_type": "code",
   "execution_count": 29,
   "id": "75419d0c",
   "metadata": {},
   "outputs": [
    {
     "data": {
      "text/html": [
       "<div>\n",
       "<style scoped>\n",
       "    .dataframe tbody tr th:only-of-type {\n",
       "        vertical-align: middle;\n",
       "    }\n",
       "\n",
       "    .dataframe tbody tr th {\n",
       "        vertical-align: top;\n",
       "    }\n",
       "\n",
       "    .dataframe thead th {\n",
       "        text-align: right;\n",
       "    }\n",
       "</style>\n",
       "<table border=\"1\" class=\"dataframe\">\n",
       "  <thead>\n",
       "    <tr style=\"text-align: right;\">\n",
       "      <th></th>\n",
       "      <th>text</th>\n",
       "      <th>labels</th>\n",
       "    </tr>\n",
       "  </thead>\n",
       "  <tbody>\n",
       "    <tr>\n",
       "      <th>0</th>\n",
       "      <td>The lack of this understanding is a small but ...</td>\n",
       "      <td>1</td>\n",
       "    </tr>\n",
       "    <tr>\n",
       "      <th>1</th>\n",
       "      <td>i just told my parents about my depression and...</td>\n",
       "      <td>1</td>\n",
       "    </tr>\n",
       "    <tr>\n",
       "      <th>2</th>\n",
       "      <td>depression is something i don't speak about ev...</td>\n",
       "      <td>1</td>\n",
       "    </tr>\n",
       "    <tr>\n",
       "      <th>3</th>\n",
       "      <td>Made myself a tortilla filled with pb&amp;j. My de...</td>\n",
       "      <td>1</td>\n",
       "    </tr>\n",
       "    <tr>\n",
       "      <th>4</th>\n",
       "      <td>@WorldofOutlaws I am gonna need depression med...</td>\n",
       "      <td>1</td>\n",
       "    </tr>\n",
       "  </tbody>\n",
       "</table>\n",
       "</div>"
      ],
      "text/plain": [
       "                                                text  labels\n",
       "0  The lack of this understanding is a small but ...       1\n",
       "1  i just told my parents about my depression and...       1\n",
       "2  depression is something i don't speak about ev...       1\n",
       "3  Made myself a tortilla filled with pb&j. My de...       1\n",
       "4  @WorldofOutlaws I am gonna need depression med...       1"
      ]
     },
     "execution_count": 29,
     "metadata": {},
     "output_type": "execute_result"
    }
   ],
   "source": [
    "df.head()"
   ]
  },
  {
   "cell_type": "code",
   "execution_count": 30,
   "id": "872d5428",
   "metadata": {},
   "outputs": [
    {
     "data": {
      "text/html": [
       "<div>\n",
       "<style scoped>\n",
       "    .dataframe tbody tr th:only-of-type {\n",
       "        vertical-align: middle;\n",
       "    }\n",
       "\n",
       "    .dataframe tbody tr th {\n",
       "        vertical-align: top;\n",
       "    }\n",
       "\n",
       "    .dataframe thead th {\n",
       "        text-align: right;\n",
       "    }\n",
       "</style>\n",
       "<table border=\"1\" class=\"dataframe\">\n",
       "  <thead>\n",
       "    <tr style=\"text-align: right;\">\n",
       "      <th></th>\n",
       "      <th>text</th>\n",
       "      <th>labels</th>\n",
       "    </tr>\n",
       "  </thead>\n",
       "  <tbody>\n",
       "    <tr>\n",
       "      <th>11758</th>\n",
       "      <td>#wave client? Nah, just gimme telnet and a por...</td>\n",
       "      <td>0</td>\n",
       "    </tr>\n",
       "    <tr>\n",
       "      <th>11759</th>\n",
       "      <td>#Wayman Tisdale just went to www.waymantisdale...</td>\n",
       "      <td>0</td>\n",
       "    </tr>\n",
       "    <tr>\n",
       "      <th>11760</th>\n",
       "      <td>#weather_me b67 5de, sunny, still really lovel...</td>\n",
       "      <td>0</td>\n",
       "    </tr>\n",
       "    <tr>\n",
       "      <th>11761</th>\n",
       "      <td>#weather_me Helsingborg, rain, +13C, typical s...</td>\n",
       "      <td>0</td>\n",
       "    </tr>\n",
       "    <tr>\n",
       "      <th>11762</th>\n",
       "      <td>#websoup pleeeeeease...i missed the turtles ev...</td>\n",
       "      <td>0</td>\n",
       "    </tr>\n",
       "  </tbody>\n",
       "</table>\n",
       "</div>"
      ],
      "text/plain": [
       "                                                    text  labels\n",
       "11758  #wave client? Nah, just gimme telnet and a por...       0\n",
       "11759  #Wayman Tisdale just went to www.waymantisdale...       0\n",
       "11760  #weather_me b67 5de, sunny, still really lovel...       0\n",
       "11761  #weather_me Helsingborg, rain, +13C, typical s...       0\n",
       "11762  #websoup pleeeeeease...i missed the turtles ev...       0"
      ]
     },
     "execution_count": 30,
     "metadata": {},
     "output_type": "execute_result"
    }
   ],
   "source": [
    "df.tail()"
   ]
  },
  {
   "cell_type": "code",
   "execution_count": 31,
   "id": "ff708667",
   "metadata": {},
   "outputs": [
    {
     "data": {
      "text/plain": [
       "text      262\n",
       "labels      0\n",
       "dtype: int64"
      ]
     },
     "execution_count": 31,
     "metadata": {},
     "output_type": "execute_result"
    }
   ],
   "source": [
    "df.isnull().sum()"
   ]
  },
  {
   "cell_type": "code",
   "execution_count": 32,
   "id": "0138da63",
   "metadata": {},
   "outputs": [
    {
     "data": {
      "text/plain": [
       "287"
      ]
     },
     "execution_count": 32,
     "metadata": {},
     "output_type": "execute_result"
    }
   ],
   "source": [
    "df.duplicated().sum()"
   ]
  },
  {
   "cell_type": "code",
   "execution_count": 33,
   "id": "c411fc72",
   "metadata": {},
   "outputs": [],
   "source": [
    "df=df.dropna().drop_duplicates(subset=[\"text\",\"labels\"],keep=\"first\").reset_index(drop=True)"
   ]
  },
  {
   "cell_type": "code",
   "execution_count": 34,
   "id": "eda0e9ef",
   "metadata": {},
   "outputs": [
    {
     "data": {
      "text/plain": [
       "(13884, 2)"
      ]
     },
     "execution_count": 34,
     "metadata": {},
     "output_type": "execute_result"
    }
   ],
   "source": [
    "df.shape"
   ]
  },
  {
   "cell_type": "code",
   "execution_count": 35,
   "id": "748a5838",
   "metadata": {},
   "outputs": [
    {
     "data": {
      "text/plain": [
       "0    11584\n",
       "1     2300\n",
       "Name: labels, dtype: int64"
      ]
     },
     "execution_count": 35,
     "metadata": {},
     "output_type": "execute_result"
    }
   ],
   "source": [
    "df[\"labels\"].value_counts()"
   ]
  },
  {
   "cell_type": "code",
   "execution_count": 36,
   "id": "d5cf70b7",
   "metadata": {},
   "outputs": [],
   "source": [
    "val_1=df[df[\"labels\"]==1]\n",
    "val_0=df[df[\"labels\"]==0][:2300]"
   ]
  },
  {
   "cell_type": "code",
   "execution_count": 37,
   "id": "aca006c3",
   "metadata": {},
   "outputs": [
    {
     "name": "stdout",
     "output_type": "stream",
     "text": [
      "(2300, 2) (2300, 2)\n"
     ]
    }
   ],
   "source": [
    "print(val_1.shape,val_0.shape)"
   ]
  },
  {
   "cell_type": "code",
   "execution_count": 38,
   "id": "a84bd4da",
   "metadata": {},
   "outputs": [],
   "source": [
    "df=pd.concat(objs=[val_1,val_0],ignore_index=True)"
   ]
  },
  {
   "cell_type": "code",
   "execution_count": 39,
   "id": "0fec4558",
   "metadata": {},
   "outputs": [
    {
     "data": {
      "text/plain": [
       "(4600, 2)"
      ]
     },
     "execution_count": 39,
     "metadata": {},
     "output_type": "execute_result"
    }
   ],
   "source": [
    "df.shape"
   ]
  },
  {
   "cell_type": "code",
   "execution_count": 40,
   "id": "12c02690",
   "metadata": {},
   "outputs": [
    {
     "data": {
      "text/html": [
       "<div>\n",
       "<style scoped>\n",
       "    .dataframe tbody tr th:only-of-type {\n",
       "        vertical-align: middle;\n",
       "    }\n",
       "\n",
       "    .dataframe tbody tr th {\n",
       "        vertical-align: top;\n",
       "    }\n",
       "\n",
       "    .dataframe thead th {\n",
       "        text-align: right;\n",
       "    }\n",
       "</style>\n",
       "<table border=\"1\" class=\"dataframe\">\n",
       "  <thead>\n",
       "    <tr style=\"text-align: right;\">\n",
       "      <th></th>\n",
       "      <th>text</th>\n",
       "      <th>labels</th>\n",
       "    </tr>\n",
       "  </thead>\n",
       "  <tbody>\n",
       "    <tr>\n",
       "      <th>0</th>\n",
       "      <td>The lack of this understanding is a small but ...</td>\n",
       "      <td>1</td>\n",
       "    </tr>\n",
       "    <tr>\n",
       "      <th>1</th>\n",
       "      <td>i just told my parents about my depression and...</td>\n",
       "      <td>1</td>\n",
       "    </tr>\n",
       "    <tr>\n",
       "      <th>2</th>\n",
       "      <td>depression is something i don't speak about ev...</td>\n",
       "      <td>1</td>\n",
       "    </tr>\n",
       "    <tr>\n",
       "      <th>3</th>\n",
       "      <td>Made myself a tortilla filled with pb&amp;j. My de...</td>\n",
       "      <td>1</td>\n",
       "    </tr>\n",
       "    <tr>\n",
       "      <th>4</th>\n",
       "      <td>@WorldofOutlaws I am gonna need depression med...</td>\n",
       "      <td>1</td>\n",
       "    </tr>\n",
       "  </tbody>\n",
       "</table>\n",
       "</div>"
      ],
      "text/plain": [
       "                                                text  labels\n",
       "0  The lack of this understanding is a small but ...       1\n",
       "1  i just told my parents about my depression and...       1\n",
       "2  depression is something i don't speak about ev...       1\n",
       "3  Made myself a tortilla filled with pb&j. My de...       1\n",
       "4  @WorldofOutlaws I am gonna need depression med...       1"
      ]
     },
     "execution_count": 40,
     "metadata": {},
     "output_type": "execute_result"
    }
   ],
   "source": [
    "df.head()"
   ]
  },
  {
   "cell_type": "code",
   "execution_count": 41,
   "id": "c026335b",
   "metadata": {},
   "outputs": [
    {
     "data": {
      "text/html": [
       "<div>\n",
       "<style scoped>\n",
       "    .dataframe tbody tr th:only-of-type {\n",
       "        vertical-align: middle;\n",
       "    }\n",
       "\n",
       "    .dataframe tbody tr th {\n",
       "        vertical-align: top;\n",
       "    }\n",
       "\n",
       "    .dataframe thead th {\n",
       "        text-align: right;\n",
       "    }\n",
       "</style>\n",
       "<table border=\"1\" class=\"dataframe\">\n",
       "  <thead>\n",
       "    <tr style=\"text-align: right;\">\n",
       "      <th></th>\n",
       "      <th>text</th>\n",
       "      <th>labels</th>\n",
       "    </tr>\n",
       "  </thead>\n",
       "  <tbody>\n",
       "    <tr>\n",
       "      <th>4595</th>\n",
       "      <td>he makes me so happy!</td>\n",
       "      <td>0</td>\n",
       "    </tr>\n",
       "    <tr>\n",
       "      <th>4596</th>\n",
       "      <td>he makes my little heart smile</td>\n",
       "      <td>0</td>\n",
       "    </tr>\n",
       "    <tr>\n",
       "      <th>4597</th>\n",
       "      <td>he never call me&amp;gt;_&amp;lt; i'll come psh yeah ...</td>\n",
       "      <td>0</td>\n",
       "    </tr>\n",
       "    <tr>\n",
       "      <th>4598</th>\n",
       "      <td>He wasn't able to stay the whole night.  He h...</td>\n",
       "      <td>0</td>\n",
       "    </tr>\n",
       "    <tr>\n",
       "      <th>4599</th>\n",
       "      <td>headache.</td>\n",
       "      <td>0</td>\n",
       "    </tr>\n",
       "  </tbody>\n",
       "</table>\n",
       "</div>"
      ],
      "text/plain": [
       "                                                   text  labels\n",
       "4595                              he makes me so happy!       0\n",
       "4596                     he makes my little heart smile       0\n",
       "4597   he never call me&gt;_&lt; i'll come psh yeah ...       0\n",
       "4598   He wasn't able to stay the whole night.  He h...       0\n",
       "4599                                          headache.       0"
      ]
     },
     "execution_count": 41,
     "metadata": {},
     "output_type": "execute_result"
    }
   ],
   "source": [
    "df.tail()"
   ]
  },
  {
   "cell_type": "code",
   "execution_count": 42,
   "id": "c84dc502",
   "metadata": {},
   "outputs": [],
   "source": [
    "df=df.sample(frac=1).reset_index(drop=True)"
   ]
  },
  {
   "cell_type": "code",
   "execution_count": 43,
   "id": "63287f92",
   "metadata": {},
   "outputs": [
    {
     "data": {
      "text/html": [
       "<div>\n",
       "<style scoped>\n",
       "    .dataframe tbody tr th:only-of-type {\n",
       "        vertical-align: middle;\n",
       "    }\n",
       "\n",
       "    .dataframe tbody tr th {\n",
       "        vertical-align: top;\n",
       "    }\n",
       "\n",
       "    .dataframe thead th {\n",
       "        text-align: right;\n",
       "    }\n",
       "</style>\n",
       "<table border=\"1\" class=\"dataframe\">\n",
       "  <thead>\n",
       "    <tr style=\"text-align: right;\">\n",
       "      <th></th>\n",
       "      <th>text</th>\n",
       "      <th>labels</th>\n",
       "    </tr>\n",
       "  </thead>\n",
       "  <tbody>\n",
       "    <tr>\n",
       "      <th>0</th>\n",
       "      <td>I remember falling into depression last year b...</td>\n",
       "      <td>1</td>\n",
       "    </tr>\n",
       "    <tr>\n",
       "      <th>1</th>\n",
       "      <td>Didn't have time updating because was 2 busy ...</td>\n",
       "      <td>0</td>\n",
       "    </tr>\n",
       "    <tr>\n",
       "      <th>2</th>\n",
       "      <td>@MarvelStudios @Marvel WHYYYYYYY??? Depression...</td>\n",
       "      <td>1</td>\n",
       "    </tr>\n",
       "    <tr>\n",
       "      <th>3</th>\n",
       "      <td>belllly ache.</td>\n",
       "      <td>0</td>\n",
       "    </tr>\n",
       "    <tr>\n",
       "      <th>4</th>\n",
       "      <td>@jhamby @rjcc @Freeyourmindkid @SaneN85 Kanye ...</td>\n",
       "      <td>1</td>\n",
       "    </tr>\n",
       "    <tr>\n",
       "      <th>5</th>\n",
       "      <td>@Pmakedon813 @Satoranskyisgod @JoeyBats434 @bo...</td>\n",
       "      <td>1</td>\n",
       "    </tr>\n",
       "    <tr>\n",
       "      <th>6</th>\n",
       "      <td>grrr why does maths have to be SO frustrating...</td>\n",
       "      <td>0</td>\n",
       "    </tr>\n",
       "    <tr>\n",
       "      <th>7</th>\n",
       "      <td>We finally spoke about my depression and besid...</td>\n",
       "      <td>1</td>\n",
       "    </tr>\n",
       "    <tr>\n",
       "      <th>8</th>\n",
       "      <td>depression gives</td>\n",
       "      <td>1</td>\n",
       "    </tr>\n",
       "    <tr>\n",
       "      <th>9</th>\n",
       "      <td>anyway.. going &lt;Emoji: Airplane&gt; INTENSE depre...</td>\n",
       "      <td>1</td>\n",
       "    </tr>\n",
       "  </tbody>\n",
       "</table>\n",
       "</div>"
      ],
      "text/plain": [
       "                                                text  labels\n",
       "0  I remember falling into depression last year b...       1\n",
       "1   Didn't have time updating because was 2 busy ...       0\n",
       "2  @MarvelStudios @Marvel WHYYYYYYY??? Depression...       1\n",
       "3                                      belllly ache.       0\n",
       "4  @jhamby @rjcc @Freeyourmindkid @SaneN85 Kanye ...       1\n",
       "5  @Pmakedon813 @Satoranskyisgod @JoeyBats434 @bo...       1\n",
       "6   grrr why does maths have to be SO frustrating...       0\n",
       "7  We finally spoke about my depression and besid...       1\n",
       "8                                   depression gives       1\n",
       "9  anyway.. going <Emoji: Airplane> INTENSE depre...       1"
      ]
     },
     "execution_count": 43,
     "metadata": {},
     "output_type": "execute_result"
    }
   ],
   "source": [
    "df.head(10)"
   ]
  },
  {
   "cell_type": "markdown",
   "id": "c065dd98",
   "metadata": {},
   "source": [
    "## Data Cleaning"
   ]
  },
  {
   "cell_type": "code",
   "execution_count": 44,
   "id": "d5cfe7df",
   "metadata": {},
   "outputs": [],
   "source": [
    "import spacy\n",
    "from spacy.lang.en.stop_words import STOP_WORDS\n",
    "stopwords=set(STOP_WORDS)\n",
    "from spacy.lang.en import English\n",
    "parser=English()"
   ]
  },
  {
   "cell_type": "code",
   "execution_count": 45,
   "id": "89178718",
   "metadata": {},
   "outputs": [],
   "source": [
    "import string\n",
    "punctuations=string.punctuation"
   ]
  },
  {
   "cell_type": "code",
   "execution_count": 46,
   "id": "413f885d",
   "metadata": {},
   "outputs": [
    {
     "name": "stdout",
     "output_type": "stream",
     "text": [
      "!\"#$%&'()*+,-./:;<=>?@[\\]^_`{|}~\n"
     ]
    }
   ],
   "source": [
    "print(punctuations)"
   ]
  },
  {
   "cell_type": "code",
   "execution_count": 47,
   "id": "efb5fa1e",
   "metadata": {},
   "outputs": [
    {
     "data": {
      "text/plain": [
       "'3.2.3'"
      ]
     },
     "execution_count": 47,
     "metadata": {},
     "output_type": "execute_result"
    }
   ],
   "source": [
    "spacy.__version__"
   ]
  },
  {
   "cell_type": "code",
   "execution_count": 48,
   "id": "22aac7c8",
   "metadata": {},
   "outputs": [],
   "source": [
    "nlp=spacy.load(\"en_core_web_sm\")"
   ]
  },
  {
   "cell_type": "code",
   "execution_count": 49,
   "id": "f180e77f",
   "metadata": {},
   "outputs": [],
   "source": [
    "def preprocess_text(docx):\n",
    "    sentence=parser(docx)\n",
    "    sentence=[word.lemma_.lower().strip() if word.lemma_ != \"-PRON-\" else word.lower_ for word in sentence]\n",
    "    sentence=[word for word in sentence if word not in stopwords and word not in punctuations]\n",
    "    sentence=[word for word in sentence if len(word)>1 and word.isalpha()]\n",
    "    return sentence"
   ]
  },
  {
   "cell_type": "code",
   "execution_count": 50,
   "id": "9f2a7574",
   "metadata": {},
   "outputs": [],
   "source": [
    "sentences=[]\n",
    "for sentes in df[\"text\"]:\n",
    "    sp_sentes=nlp(text=sentes)\n",
    "    cleaned=preprocess_text(sp_sentes)\n",
    "    sentences.append(cleaned)"
   ]
  },
  {
   "cell_type": "code",
   "execution_count": 51,
   "id": "5be4f4b3",
   "metadata": {},
   "outputs": [
    {
     "name": "stdout",
     "output_type": "stream",
     "text": [
      "['remember', 'fall', 'depression', 'year', 'person', 'love', 'busy', 'love', 'suppose', 'year', 've', 'learn', 'let', 'shit', 'matter', 'bitch', 'nigga', 'appreciate', 'end', 'day'] \n",
      "\n",
      "\n",
      "['time', 'updating', 'busy', 'enjoy', 'making', 'sleep', 'clothe', 'amp', 'eat', 'weather', 'miss'] \n",
      "\n",
      "\n",
      "['whyyyyyyy', 'depression', 'level', 'infinitywar', 'serbian'] \n",
      "\n",
      "\n",
      "['belllly', 'ache'] \n",
      "\n",
      "\n",
      "['kanye', 'favorite', 'rapper', 'old', 'stuff', 'notch', 'change', 'behavior', 'sudden', 'occur', 'right', 'mom', 'death', 'sure', 'depression', 'anxiety', 'look', 'like', 'asshole', 'pp'] \n",
      "\n",
      "\n",
      "['middle', 'depression'] \n",
      "\n",
      "\n",
      "['grrr', 'math', 'frustratingly', 'annoying', 'mind', 'boggile'] \n",
      "\n",
      "\n",
      "['finally', 'speak', 'depression', 'believe', 'disorder', 'blessing', 'ahead', 'admit', 'hospital', 'emoji', 'loudly', 'cry', 'loudly', 'cry', 'loudly', 'cry', 'loudly', 'cry', 'loudly', 'cry', 'face'] \n",
      "\n",
      "\n",
      "['depression'] \n",
      "\n",
      "\n",
      "['emoji', 'airplane', 'intense', 'depression', 'nap'] \n",
      "\n",
      "\n"
     ]
    }
   ],
   "source": [
    "for sents in sentences[:10]:\n",
    "    print(sents,\"\\n\\n\")"
   ]
  },
  {
   "cell_type": "markdown",
   "id": "6a4c7c91",
   "metadata": {},
   "source": [
    "## Text Data into Numerical Data Convertion"
   ]
  },
  {
   "cell_type": "code",
   "execution_count": 52,
   "id": "df2ee1e5",
   "metadata": {},
   "outputs": [],
   "source": [
    "tok=Tokenizer()\n",
    "tok.fit_on_texts(sentences)"
   ]
  },
  {
   "cell_type": "code",
   "execution_count": 53,
   "id": "4a7a5004",
   "metadata": {},
   "outputs": [
    {
     "name": "stdout",
     "output_type": "stream",
     "text": [
      "7876\n"
     ]
    }
   ],
   "source": [
    "vocab_size=len(tok.word_index)+1\n",
    "print(vocab_size)"
   ]
  },
  {
   "cell_type": "code",
   "execution_count": 54,
   "id": "e405c2c8",
   "metadata": {},
   "outputs": [],
   "source": [
    "encd_text=tok.texts_to_sequences(sentences)"
   ]
  },
  {
   "cell_type": "code",
   "execution_count": 55,
   "id": "e44ffbde",
   "metadata": {},
   "outputs": [
    {
     "name": "stdout",
     "output_type": "stream",
     "text": [
      "[[356, 129, 1, 31, 94, 12, 567, 12, 469, 31, 568, 203, 50, 71, 220, 165, 3084, 2033, 101, 4], [10, 3085, 567, 253, 3086, 26, 697, 61, 53, 318, 24], [3087, 1, 319, 2034, 3088], [3089, 1247], [778, 1050, 1248, 123, 232, 3090, 109, 1249, 1545, 1250, 41, 80, 184, 110, 1, 2, 47, 3, 698, 3091], [470, 1], [1251, 699, 3092, 2035, 194, 3093], [135, 221, 1, 195, 107, 1252, 779, 471, 700, 8, 156, 27, 156, 27, 156, 27, 156, 27, 156, 27, 14], [1], [8, 1051, 1546, 1, 108], [60], [1, 20, 211, 91], [1], [73, 428, 196, 102, 1, 86, 338], [1253, 3094, 222, 912, 111, 3095, 1, 569, 3096, 3097, 357, 185, 185, 185, 268, 472, 1052], [157, 33, 1547, 232, 68, 429, 33, 62, 143, 3098, 1548, 3099, 3100, 3101], [197], [5, 20, 2036, 3102, 1], [7, 254, 71, 517, 780, 3, 780, 780, 780, 15, 2, 1, 115, 15, 51, 3, 15, 20], [212, 1, 629, 913, 914, 211, 1549], [781, 166, 166, 167, 915], [255, 3103, 29, 782, 518, 56, 3104], [1053, 3105, 9, 198, 38, 144, 1, 783, 8, 1254, 14], [136, 430, 916, 1550, 48, 784], [3106, 74, 3107, 2, 1, 785, 19], [1, 184], [2037, 63, 3108, 36], [786, 1054, 786, 3109], [52, 3110, 431, 34, 172, 11], [320, 3111, 3, 137, 103, 130, 45, 1, 3112, 1551, 82, 1552, 1553, 2038], [18, 220, 1, 3113, 28, 2039, 101, 5, 3, 787, 701], [3114, 32, 1255, 3115, 9, 1055, 1554, 1256], [1, 223, 788], [2040, 432, 87], [1257, 9, 3116], [702, 702, 473, 38, 41, 186, 519, 18, 3117, 2041], [3118, 2042, 3119, 1555, 400, 3120, 630, 703, 2043, 3121], [11, 1056, 917, 1057], [2, 69, 1, 69], [1, 96, 1250, 5, 22, 1058, 1258, 138, 280, 10], [18, 570, 3122, 143, 2044, 3123, 400, 20, 161, 269, 1, 41, 11, 5, 213], [145, 2045, 39], [80, 1, 233, 87, 158, 270, 224], [5, 3, 433], [281, 5, 6, 3124], [1059, 2046, 2, 1], [2, 1, 789, 8, 3125, 789], [43, 30, 1556], [1, 3, 1060], [15, 1, 1557, 1061, 173, 3126, 2047, 17, 2048, 3127, 1062, 95, 51, 13, 212, 6], [145, 214, 174, 3128], [300, 32, 104, 256, 35, 1, 2, 31, 54, 51, 1259, 474, 2049, 3129, 187, 1260, 1558, 1063, 631], [1, 913, 914, 154, 43, 401, 45, 913, 914], [301, 116, 1559, 1, 33, 175], [2050, 4], [475, 358, 571, 434, 375, 790, 1, 321, 1064, 215, 23], [3130, 186, 3131, 704, 3132, 3133], [23, 23, 23, 23, 4, 572, 1261, 2051, 29, 1050], [359, 1, 282, 131, 83, 44, 225], [3134, 283, 1065, 2052, 3135, 791, 360, 3136, 705, 632, 573, 1, 2, 284, 25, 37, 3137], [3138, 3139, 3140, 1560, 2053, 1, 3141, 1561, 3142, 2054, 3143, 2055, 3144, 3145, 22, 1562], [3146, 75, 792, 520, 3, 1563, 521, 2056, 196, 521, 1262, 339, 3147], [199, 85, 26, 44], [18, 23, 4], [2057, 1263, 3148, 139, 91, 2058, 176, 1, 3149, 234, 793, 3150, 633, 3151, 794, 3152, 177, 1564, 3153], [3154, 3155, 476, 27, 184, 104, 1, 2059, 204, 28, 45, 1], [200, 105, 1565, 135, 7, 574, 5, 76, 1, 435, 1566, 175, 32, 2060], [60, 24], [216, 477, 3156, 918, 29, 3157, 3158, 3159, 1264, 3160, 1, 1264, 522, 2061, 49, 2062, 1567, 3161], [2063, 95, 51, 51, 13, 3162, 13, 9, 13, 919, 253, 2064, 1, 28, 2065], [795, 2066, 4, 101, 920, 2067, 2068, 302, 1568, 322], [80, 1, 233, 87, 158, 270, 224], [3163, 3164, 1066, 1569, 921], [1067, 1, 3165, 436, 17, 57, 1570, 922], [51, 132, 117, 41, 1, 92, 65, 41, 634, 12, 81], [1, 478], [8, 226, 214, 66, 3166, 3167, 3168, 8, 323, 97, 923, 3169, 188, 159, 155, 226, 214, 1], [33, 1571, 1572, 235, 33, 271, 68, 5, 285], [796, 1], [29, 217, 797, 303, 9, 2069, 479], [361, 303, 1, 2070, 522, 116, 3170, 7, 922, 3171, 3172, 340, 1265, 3173, 303, 1, 2070, 321], [924, 94, 2, 3174, 3175, 400, 1266, 234, 1, 517, 1573, 6, 185], [2071, 523, 1, 21, 635, 118, 375, 118, 1267], [2072, 304, 781, 150, 376, 68, 18, 1574, 75, 271, 68], [925, 471], [475, 706], [78, 245, 53, 107, 103, 437, 1, 3176, 3177, 285, 3178, 1575, 22, 162, 362], [795, 1268, 480, 56, 104, 195, 305, 135, 43], [438, 11, 1576, 43, 283, 6, 1, 524, 7, 65, 1577, 11], [1269, 39, 575, 439, 68, 40, 178, 20, 112], [64], [576, 2073, 174, 1270, 10, 3179], [3180, 3, 257], [129, 2, 1], [258, 1068], [707, 3, 167, 70, 13, 82, 223], [1578, 20, 306], [798, 1, 146, 107, 19], [32, 69, 235, 1271, 147], [3181, 2074, 577, 3182, 44, 125, 286, 253, 3183, 3184, 3185, 3186, 1579, 44, 377, 3187, 21, 246, 110, 6, 3188, 1069, 1580, 1], [9, 926, 2075, 3189, 54, 1, 259, 132, 1581, 799, 428, 636, 3190, 143], [10, 11, 2076, 3191, 136, 136, 258], [1582, 800, 33, 378, 1, 637], [30, 4, 1583, 1583, 379, 1584, 3192, 1582], [20, 4, 1, 1272, 106, 108, 18, 16, 1273, 49, 2077], [1, 55, 708, 801, 43], [24, 1274, 363, 55, 1070, 802, 55], [], [3193, 2078, 3194, 3195, 2079, 3196, 38, 4], [287, 52, 71, 578, 525, 22, 227], [709, 154, 272, 18, 1, 4], [803, 440, 1, 1275, 246, 710, 39, 1071, 803, 710, 1276, 1277, 4, 5, 23, 4, 47, 1072, 572, 1, 3197], [205, 927, 441, 1, 2, 102], [97, 3198], [526, 1585, 2080, 1, 108, 21, 46], [3199, 1586, 1587, 319, 53, 6, 46, 273, 1], [3, 341, 3200], [108, 26, 4], [402, 1588, 138, 579, 638, 342, 1073, 3201, 22, 1, 130, 1278], [60, 179, 1589, 928], [65, 273, 66, 3202, 1074, 3203, 639, 640, 580, 3204, 163, 1], [3205, 23, 1, 641, 168, 41, 169, 929], [95, 132, 189, 432, 13, 3, 1, 6, 190, 432, 235, 189, 88, 1075], [254, 21, 2081, 271, 3206, 40, 3207, 2081, 481], [930, 380, 9, 307, 2082, 403, 2083, 113, 33, 2, 1, 12, 3208, 8, 226, 214, 66, 8, 3209], [3210, 3211, 931, 3212, 1590, 161, 642], [212, 1076, 18], [30, 18], [9, 3213, 439, 114, 61, 48, 3], [479, 1591, 6, 11, 3214], [20, 482, 1592, 7, 1077, 84, 381, 19, 41, 7, 1258, 527, 3, 160, 1078, 442, 528, 1, 103, 3215], [1279], [3216, 126, 3217, 1079, 6, 161, 117, 708, 1593, 3218], [3219, 435, 1594, 3220, 72, 3221, 72, 140, 529, 483, 932, 3222, 1594, 3223, 2, 1, 2, 3224], [23, 364, 324, 98, 49, 49, 2, 1, 72, 581, 1080, 3225, 404, 2084, 3226, 1062, 3227, 3228, 3229, 3230, 382, 3231], [804, 173, 3232, 568, 933, 363], [3, 173, 3233, 3234, 3235, 1, 162, 3236], [4, 1280, 1, 435, 643, 2085], [11, 711, 2086, 3237, 127, 308, 1569, 2087], [9, 20, 228], [28, 582, 31, 1081, 2088, 6, 3238, 582, 2089, 483, 639, 195, 644, 19, 343, 1082], [53, 3, 2090, 1], [11, 13, 1083, 583, 321, 94, 17, 51, 10, 583, 1281, 484, 94, 1595, 1282, 3, 365, 1, 146, 443, 94, 17, 69], [64, 56, 236, 1283], [3239, 45, 1, 1596], [1084, 485, 9, 640, 485, 42, 113, 1], [113, 86, 1, 1597, 444, 3240, 3241, 44, 3242, 1284, 3243, 3244, 3245, 8, 14, 124, 274], [344, 34, 4, 61, 34, 288, 1285, 24, 1598], [60, 1085, 18, 61, 1286, 3246], [4], [3247, 200, 2091], [64, 1281, 483, 365, 17, 125, 255, 3248, 307, 3249, 3250, 3251, 303, 1287, 3252, 151, 584, 1], [3253, 712, 1599, 3254, 4, 12, 445, 212, 1, 55, 445, 64, 23, 16], [3255, 3256], [22, 3257], [33, 1600, 2092, 1, 232, 110, 55], [3258, 111, 20, 56, 2093, 366, 143, 64, 206], [367, 379, 3259], [97, 1278, 2094, 713, 3260, 309, 3261, 237, 2095, 585, 310], [238, 69, 64, 19, 18, 89, 325, 58], [2096, 3262, 111], [40, 1, 108, 4, 16, 65, 36, 405, 1288, 486, 570], [39, 1289, 173, 1290, 631, 3263, 207, 247, 714, 487, 488, 1601, 1086], [2097, 1290, 569, 2098, 715, 3264, 2097, 164, 645, 1], [1087, 260, 47, 3, 54, 176, 1, 261, 345], [85, 1072, 805], [646, 48, 1602, 48, 1088], [289], [934, 41, 11, 135, 39, 30, 3265], [9, 12, 9, 2099, 174, 2100, 3266, 290, 309, 935, 4], [27, 3267], [1089, 716], [135, 60, 367, 3268, 290, 326, 68, 2101, 446, 383], [95, 13, 239, 2102, 1603, 1, 25, 90, 13, 39, 46, 806, 341, 13, 806], [112, 2103, 1547], [112, 79, 3269], [75, 157, 807, 1, 40, 441, 717, 530, 125, 165, 489, 1090, 787, 7, 3, 50, 128, 2104, 647, 808, 12], [147, 3270, 5, 168, 1291], [3271, 74, 586, 290], [29, 86, 1604, 1292, 1091, 3272, 3273, 39, 291, 447, 936, 2105, 1, 809, 327, 3274, 1605, 140, 3275], [167, 55, 718, 937, 3276, 99, 88, 34, 1606], [37, 191, 141], [198, 3277, 148, 3278, 3279, 201, 5, 325, 255, 648], [3280, 3281, 780, 3282, 3283, 1], [124], [2, 1, 119, 20, 77], [7, 810, 1, 20, 568, 292, 86, 293, 3284, 1607, 2106, 58, 811], [31, 123], [719, 128, 3285, 180], [44, 1283, 7, 40, 938, 96, 311, 40, 6, 1608, 1], [1, 3286], [1293, 720, 18, 42], [368, 531, 140, 721, 2, 1, 3287, 812], [2, 1, 310, 3288, 70, 7], [16, 248, 9, 7, 939, 163, 1, 448, 13, 813, 222, 55, 72, 581, 2107], [1092, 477, 179, 55, 814, 275, 100, 3289, 366, 1, 198], [17, 1294, 7, 93, 384, 587], [2108, 148, 469, 1609, 1, 1093, 3290, 1295, 3291, 275, 13], [815, 271, 532, 106, 276, 1554, 722, 106], [11, 449, 588], [180, 2109, 1296, 3292, 216, 11, 2110, 3293, 3294, 240, 406, 180, 649], [1297, 3295, 143, 64, 93], [3296, 3297, 940, 221, 76, 1, 3298, 490, 59], [3299, 45, 1, 173], [3300, 5], [3, 1, 3301, 178, 292, 113, 22, 3302, 326, 450, 257, 429], [723, 1, 81, 1094, 1298], [1, 1610, 916, 74], [3303, 816, 22, 2111, 2112, 650], [223, 2113, 216, 2114, 779, 1095, 724, 29, 817, 941, 2, 1, 17, 294, 194, 3304, 3305, 3306, 202, 1299, 3307], [1, 2115, 3308, 2116], [30, 2051, 912, 3309], [523, 1300, 3310, 1301, 109, 2117, 942, 1302, 3311, 1303, 3312, 651, 2118, 3313, 1287, 203, 1611, 491, 48, 587, 17, 289, 1304], [70, 7, 24], [1612, 46, 312, 49, 1, 2, 3314], [574, 9], [170, 145, 1051, 369, 943], [778, 2119, 48, 407, 4, 3, 408, 48, 407, 3, 408, 944, 1, 8, 14, 124, 274, 112, 1305], [818, 945, 945, 3315, 3316, 4, 74, 112], [30, 167, 3317, 2120, 1096, 589, 313], [1, 124, 42, 27, 3318, 2121], [5, 3, 8, 67, 14, 66, 451, 192, 1, 141, 8, 27, 14], [8, 67, 14, 346, 1, 208, 103, 725, 110, 207, 1306, 698, 3319, 1576, 1097, 2122, 3320], [100, 34, 1, 108, 652, 3321, 1098], [1, 533, 45], [724, 1307, 3322, 283, 18, 57, 3323, 268, 1, 60, 590, 187], [347, 591, 15, 195, 21, 195, 61, 42, 195, 93], [1, 592, 402, 3324, 53, 277], [104, 3325, 70, 946, 209, 472, 2123, 409, 472, 115], [3326, 36, 3327, 947, 1, 1099, 218, 484, 948, 1613], [3328, 142, 87, 54, 1], [1, 949, 2124, 2125, 197, 3329, 385, 819, 3330, 820, 2126], [451, 3331, 3332, 643, 3333, 209, 1, 209, 2127, 950, 3334, 451], [1100, 69], [2128, 24, 328, 62, 3335, 114, 2129, 2130, 21, 2131, 2129, 2130, 21, 2131, 1, 2128, 24, 328, 1], [593, 573, 653, 120, 1, 208, 821, 654, 705, 127, 249, 10, 3336], [1308, 1614, 369, 1, 35, 1309, 1262, 249, 16, 951, 196, 1309, 241, 1614, 594, 2132, 3, 2133, 952, 143], [191, 726], [378, 1, 46, 822, 1310, 91, 35, 3337, 2134, 2135], [2136, 1, 40, 797, 386, 83, 2137, 5, 1311, 1281, 953, 823], [2138, 440, 82, 269, 1], [595, 2139, 305, 21, 31], [1, 329, 88, 596, 787, 528, 17, 1101, 492, 348, 2140, 1102, 2140, 919, 95, 824], [62, 1103, 637, 3338, 1615, 3339, 150, 637, 1, 3340], [703, 83, 3341, 1616, 1617, 3342, 2141, 2142, 174, 2143, 21, 143], [1618, 20, 4, 3343, 3344, 21, 3345, 349, 2144, 825, 1619, 1, 826, 582], [7, 127, 1, 1104, 109], [2145, 4], [18, 294, 4, 1, 77], [655, 32, 3346, 170, 1105, 3347, 120, 1, 2, 589, 170, 41, 12, 8, 226, 214, 1620, 2146], [33, 1, 87], [157, 3, 469, 43, 80, 1, 27, 473], [8, 523, 97, 163, 188, 155, 54, 378, 1, 205, 2, 1621, 341, 648, 81, 3348], [3349, 3350, 3351, 3352, 23, 70, 3353], [1], [1312, 105, 18], [1, 62, 8, 156, 27, 156, 27, 156, 27, 14], [5, 3, 71, 2147, 34, 61, 1313, 61, 926, 1247, 61, 534, 1314, 2148, 954, 955, 820, 84], [3354, 491, 23, 1, 3355], [723, 1, 81, 1094, 1298, 2149], [581, 152, 1059, 25, 37, 58, 350, 52, 656, 248, 1, 486, 1315, 1316, 535, 387, 330, 1622, 202, 827], [49, 345, 37, 138, 2, 107, 482, 1, 3356, 262, 31, 801, 207, 956, 957, 363, 308, 1623, 1624, 2150, 1106, 82, 410], [1107, 21, 295, 1, 2, 7, 528, 68, 3357], [3358, 20, 192, 1108, 89, 145, 1109, 39], [3359, 61, 314, 411, 3360, 657, 585, 52, 91], [828, 3361], [58, 2151, 1110, 21, 3362, 104, 3363, 162, 658, 3364, 3365, 829], [1557, 536], [493, 1111, 1112, 16, 110, 42], [48, 784, 175], [3366, 3367, 21, 1056, 75, 326, 3368, 3369, 25, 76, 1, 14, 388, 9, 358, 74, 3370, 15], [1, 165], [799, 1625, 45, 1], [597, 126, 191, 121, 9, 331, 629, 1, 26, 637, 719, 113], [3, 1, 229, 194, 412, 253], [576, 8, 1626, 66, 9, 440, 76, 2, 1, 39, 1627, 404, 537, 440, 360, 2152, 1113, 1627, 6, 2, 1, 19, 6, 4, 8, 226, 214, 66], [3371, 1628, 290, 1], [1107, 129, 199, 189, 494, 50, 2, 1, 2153, 292, 132, 137, 1312, 722, 23, 73, 2, 25, 189, 189, 168, 83], [598, 2154, 19, 230, 599, 923, 42, 2155], [1, 108, 2156], [351, 193, 1, 92, 31, 5, 3372, 1], [1251, 52, 16, 3373, 3374, 444, 52, 1629], [705, 13, 599, 3375, 958, 54, 1], [52, 88, 568, 567, 26, 10, 823, 103, 52, 3376], [3, 31, 1317, 96, 830, 113, 3, 959], [2157, 114, 174, 960, 214, 1114, 177, 961], [82, 82, 3377, 19, 528, 101, 7, 1, 9, 55, 3378, 3379, 831, 82], [1, 62, 832, 159, 429], [1115, 1595, 1116, 590, 13, 43, 76, 715, 1, 2, 833], [2158, 259, 1, 70, 199], [36, 190, 494, 106, 119, 3380, 650, 77, 3381, 33, 538, 1], [413, 20, 4, 1, 329], [1630, 222, 659, 1, 1631, 3382, 478, 962, 1593, 478, 175, 834, 2159, 151], [1117, 124, 646, 60, 100, 3, 414], [28, 28, 65, 1089, 2160, 963], [209, 24, 1632, 151, 39, 1118, 39, 2161, 24, 1632, 1633, 151], [646, 3383, 3384, 599, 3385, 30, 4, 1318, 829], [], [2162, 9, 41, 2163, 3386], [2164, 3387, 31, 213, 79, 2092, 660, 3388, 3389, 3390, 3391, 3392, 2165, 1], [51, 1634, 3393, 654, 2166, 177, 1, 2], [413, 1, 111, 1, 20], [1119, 200, 3394, 9, 1319, 238, 1320], [406, 964, 600, 2167, 9, 964, 700], [246, 1, 343], [1, 3395, 3396], [3397, 3398, 15, 727, 1, 1635, 1321, 727, 72, 3399, 3400], [207, 1120, 1, 293, 189, 480, 209], [368, 362, 50, 175, 32, 1322, 645, 91, 12, 721], [728, 9, 43, 35], [661, 19], [81, 601, 124, 27], [729, 139, 29, 3401, 1636, 74, 18, 2168], [287, 3402], [6, 126, 817], [18, 93, 9, 7, 3403, 357, 348, 2169, 602, 428, 602, 12, 12, 602, 36, 36, 602, 2170, 2170, 602, 1, 1, 588], [576, 82, 2171, 1, 64], [236, 110, 1], [112, 3404, 9, 1637, 332, 175, 2172, 489, 79, 22, 730, 1638, 5, 2173, 56, 16, 49, 1], [2174, 1323, 10, 415, 17], [1121, 12, 3405], [7], [1093, 95, 154, 3406, 1639, 835, 2175, 154, 362, 524, 46, 3407, 3408, 1, 185, 2175, 154], [585, 3409], [3410, 42, 3411, 31, 2176, 1546, 603, 1, 315, 20, 1640], [2177, 21, 1307, 577, 3412, 58, 61, 360, 577, 3413], [48, 3414, 34], [5, 3, 647], [65], [62, 932, 3415, 1122, 2178, 45, 1, 429, 1324, 70, 240], [3416, 15, 1, 5, 38, 494, 139, 161, 3417, 414, 63, 67, 1123, 12], [389, 5, 1637, 1, 8, 94, 604, 97], [3418, 3419, 3420, 3421, 2179, 3422, 2179, 3423, 1325, 3424, 836, 3425, 169, 23, 1, 1641, 2060, 157], [7, 95, 569, 10, 167, 333, 5, 3, 1, 17, 5, 3, 1, 416, 167, 333], [2180, 3426, 3427], [965, 77, 495, 3428, 111, 41, 53, 1642], [3429, 69], [3430, 42, 1643, 100, 189, 196, 605], [1326, 3431, 3432, 228, 60, 35, 59, 452, 1, 92, 65], [529, 2, 1, 2181, 1644], [1327, 45, 1, 3433], [51, 518, 1328, 2, 1, 98, 5], [1124, 4, 15, 1, 2182, 72, 3434, 3435], [178, 1329, 3436, 3437, 73, 965, 178, 654], [3438, 53, 949, 4, 2183, 61, 55, 966, 129, 1291, 53, 3, 1645], [9, 63, 126, 213, 29, 1646, 3439], [1330, 38, 153, 34, 1053, 1647, 3, 31], [453, 1331, 104, 4, 123, 837, 3440], [2184], [31, 3441, 3442, 2135, 204, 9, 295, 1, 42], [3443], [4, 18, 1, 114, 11, 42, 180, 18], [3444, 30, 816], [2185, 1332, 572], [21], [808, 361, 2158, 259, 1, 70, 199, 146, 3445, 539], [379, 100, 967, 726, 60, 3, 567, 3446], [114, 731, 1, 3447], [2186, 3448, 594, 1333, 103, 1, 54, 296, 3449, 3450, 97, 30, 3451, 594], [2187, 319, 1], [3452, 3453, 3454, 1, 172, 79], [8, 1118, 217, 1334, 159, 376, 1118, 217, 1334, 1, 3455], [1125], [281, 85, 42, 2188, 18], [21, 6, 32, 24, 3456, 2189, 27], [1648, 732, 1648, 838, 20, 123, 180, 1648, 3457], [388, 733, 48, 334, 606, 144, 3458, 1, 128, 109, 389, 540, 3459, 16, 3460, 109, 232, 118, 411], [2190, 1, 92, 48, 1649], [9, 403], [5, 3, 48, 242, 1, 41, 8, 156, 27, 14], [95, 6, 1550, 19, 202, 41, 46], [1126, 170, 142, 187, 1260, 2191, 1335, 1259, 1650, 295, 15, 1], [35, 1, 35, 184], [57, 53, 596, 128, 652, 607, 4, 662, 517, 780, 36, 190, 36, 3461, 103, 968, 1, 2, 417, 2192, 438, 8, 1651, 97, 159, 155, 370], [496, 58, 3462, 24, 200], [149, 1, 108, 17], [179, 292, 18, 839, 68, 3463, 6], [12], [1618, 200, 172, 236, 181, 12, 27, 1336], [11, 2193, 1127, 166, 3464, 969], [9, 83], [1652, 2194, 59, 1081, 1, 62, 608, 304, 17], [211, 280, 1, 412, 533, 9, 1326, 2195, 14], [263, 42], [418, 1337, 1, 2196, 1249, 138, 146, 107, 1128, 148, 1295, 1609, 276, 1128, 148, 276, 113, 327, 323, 15, 1295, 1609, 276], [781, 229, 3465, 1, 6, 4, 707], [26], [3466, 3467, 2197], [145, 11, 286, 63, 109, 3, 51, 37, 341, 1653, 1338, 734, 1, 51, 10], [454, 3, 111, 1, 76, 1129, 449, 249, 541, 935, 304, 30], [532, 1, 2198, 83], [62, 1, 106], [182, 840, 840], [29, 174, 112, 311, 1654, 3468, 3469, 311, 3470, 2199, 3471, 1, 575, 3472], [11, 1, 315, 11, 38, 285, 1339, 25, 90, 3473, 1340], [55], [2200, 3474, 735, 3475, 306, 1341], [1116, 27], [2201, 92, 841, 607, 609], [18, 600, 63, 33, 1, 2, 185, 1342, 3476, 191], [842, 76, 1, 455, 15, 309, 843, 970, 971], [448, 3477, 24, 3478, 31, 3479, 104, 1589, 928], [3480, 162], [208, 806, 1, 1655, 8, 204, 736, 97, 159, 155, 370], [723, 1, 81, 1094, 1298], [1, 8, 1343, 14], [94, 491, 176, 154, 1130, 1, 352, 231, 96, 644, 57, 922, 203, 15, 1656, 542], [64, 2202, 133, 709, 972, 297, 298, 3481, 844, 20, 3482, 844, 1327, 35, 1], [31, 1559, 1, 135, 39, 123, 29], [62, 1, 106], [3483, 1131, 13, 25, 90, 1344, 1, 2, 3484, 3485, 419, 2038, 3486, 543, 3487, 409, 163, 62, 3488], [80, 1, 233, 87, 158, 270, 224], [77, 1, 315, 223], [1], [497, 109], [3489, 1585, 1, 3490, 3491, 3492], [158], [310, 471, 164, 1345, 49, 450, 153, 1, 2, 269, 637, 50, 1346, 450, 1657, 654, 1132, 730, 27, 206, 1581, 326, 8, 14, 1658, 192], [3493, 544, 1659, 3494, 1660], [6, 123, 3495, 3496, 610, 660, 1133, 737, 1134, 1135, 545, 3497, 738, 845], [3498, 1136, 30, 44, 30, 2203, 30], [58, 191, 58, 264, 3499, 1661, 3500, 1347], [9, 60, 84, 53, 954, 55, 32, 739, 4, 5, 3, 433], [1137, 846, 178, 225, 1662, 498], [63, 16, 3501, 137, 280, 343, 3, 168], [52, 44, 66, 728], [35, 30, 1348, 217, 1138, 481, 179, 719, 46, 128, 180], [23, 1], [1349, 1663, 315, 5, 20, 3502, 1092, 1664], [179, 151, 541, 22, 3503, 486, 135, 53, 125, 456, 499], [73, 1350, 333, 457, 378, 1, 847, 222, 123, 659, 3504, 73, 1350, 1351, 847, 222, 123, 659, 484, 265, 458], [3505, 257, 136, 1139, 500], [210, 1, 2204, 335, 175, 142, 610, 2205, 263, 848, 211], [459, 3506, 586, 663, 740, 3507, 3508], [1087, 1352, 51, 19, 3, 634, 973, 71, 580, 43, 1352, 1352, 1, 611, 83, 401, 228], [3509, 26, 1, 12, 32, 3510, 3511], [96, 23, 3512, 1, 3513], [3514], [112, 10, 16, 3515], [2206, 1110, 3516], [475, 52, 1617], [2207, 21, 3517, 3518, 134, 228, 3519], [2208, 23, 3520, 1628, 741, 305, 2208, 1, 849, 2209, 60, 3521, 17], [664, 32, 298, 1, 460, 103, 725, 527, 2, 333, 32, 1120, 6, 1653, 37], [634, 151, 56], [1353, 495], [7, 116, 54, 2, 792, 2, 1, 1140, 942], [313, 1665, 1666, 3522, 3523, 3524, 3525, 3526, 22, 1141, 1667], [9, 324, 262, 139, 724, 19, 109, 17], [249, 118, 17, 11, 98, 19, 46, 3527, 41, 974, 19, 79, 17, 65, 28, 1668, 3528, 1, 2, 404, 1080], [217, 21], [850, 1142, 323, 1669, 491, 1, 3529, 306], [698, 532, 851, 163, 1670, 1143, 1671, 1106, 82, 1670, 3530], [1053, 256, 223, 1, 1354, 2, 2210, 1355, 610], [1, 1672], [361, 1, 573, 1052, 2211, 268, 8, 3531, 1673, 37], [12, 852, 343, 3532], [3533, 612, 3534, 3535, 460, 327, 350, 1129, 853, 1, 249, 1116, 951, 3536, 33, 649, 3537, 10], [390, 33, 316], [1], [3538, 472, 3539, 1, 3540], [795, 3541, 477, 11, 216, 307, 2212, 230, 3542, 3543], [3544, 854, 191, 434, 3545, 734, 153, 51, 13, 1, 11, 12, 121], [166], [47, 133, 1], [55, 3546, 665, 3547, 3548, 3549, 21, 1], [75, 1351, 131, 613, 2213, 1, 741, 3550, 2214, 6, 10], [1356, 1357, 186, 3551, 1674, 3, 7, 1, 221], [59, 322, 1, 19, 19, 169, 3552], [], [1098, 126, 122], [3553, 384, 1358], [3554, 2215, 77], [3555, 1140, 3556, 3557, 26, 222, 2, 1], [436, 211, 3, 501, 1, 1144, 8, 742, 1139, 830, 1359, 14, 5, 1360], [], [726, 788], [1, 1361, 229], [743, 49, 236, 1, 10, 208, 16, 30, 596, 99, 2216, 99, 3558, 497, 1637, 733, 388, 277, 88, 349, 733, 3559], [28, 1675, 46, 206, 1676, 296, 1145, 3560, 2, 1], [795, 2066, 4, 101, 920, 2067, 2068], [2217, 4, 1, 83], [2218, 29, 3561, 1261, 1677], [3562, 3563], [331, 3, 9, 32, 35, 3564, 331, 1678, 743, 2219, 85], [666, 3565], [172, 644, 546, 1, 3566, 1679, 3567, 365, 3568, 2220], [3569, 3570, 2221, 247, 855], [119, 3571, 80], [], [6, 126, 2222, 975, 40, 1146, 597], [8, 156, 27, 156, 27, 156, 27, 14, 86, 3572, 1, 62, 420], [1, 2223, 8, 2224, 2224, 1680, 14, 67, 1680, 14, 67, 192], [145, 741, 339, 1, 2], [3573, 3574, 3575, 100, 1651, 1068, 109, 3576, 730, 3577, 3578, 176, 2, 1], [168, 6], [502, 2225, 2226, 3579, 61, 3580, 3581, 1362], [497, 273, 1, 744, 38, 171, 162, 147, 3582, 12, 184, 66, 8, 3583, 14], [26, 3584, 931, 12, 1147, 6, 663, 52], [649, 1, 257, 4], [810, 58, 18, 3585], [385, 1148, 546], [236, 182, 152, 110, 2227, 185, 113, 234, 1, 3586, 3587, 1572, 8, 14, 1286, 2228, 2083, 247, 192], [5, 147, 3588, 547, 4], [80, 700, 421, 1149], [12, 29, 697, 745, 29, 697, 494, 3589], [1, 388], [57, 187, 309, 1], [3590, 3591, 976, 242, 1, 3592, 53, 3593, 820, 606, 3594], [16, 284, 1150, 1363, 635, 3595, 346, 1151, 346, 1, 146, 107, 2229, 977, 1305], [179, 104, 34, 4], [98, 2, 1, 1664, 206, 1149], [389, 334, 2230, 1681, 3596, 3597, 21, 837, 1364, 1, 62], [38, 47, 3598, 657], [481, 746, 3599, 253, 915, 4, 11, 5, 20, 149, 2231, 978, 2232, 3600, 979], [3601, 3602, 3603, 614, 960, 3604, 45], [83, 166], [3605, 1682], [980, 362, 2233, 162, 16, 29, 162, 713, 69, 12], [40, 24, 3606, 3607, 79, 1365, 1366, 322, 530, 2234, 856, 410, 3608, 747], [1683, 24, 1367, 783], [2235, 611, 612, 3609, 45, 527, 1], [36, 1684, 2236, 124, 3610, 79, 2237], [64], [7], [26, 55, 2238, 3611, 1685], [3612, 2184, 173, 45, 1], [748, 23, 266], [122], [351, 533, 45, 1, 91, 548], [43, 289, 1624, 615, 3613, 2239, 2240, 3614], [667, 3615, 44, 981, 87, 93, 139, 3616, 1121, 31], [1, 62, 2241], [12, 3617], [43, 289, 1686, 272, 2242, 3618, 607, 7, 6], [], [736, 3619, 16, 727, 1, 1321, 3620, 72, 1635, 2, 3621, 3622], [2243, 76, 1, 2, 185, 389, 324, 433], [43, 28, 33, 1, 5, 3, 749, 503, 3623, 117, 982, 1368, 317, 9, 195, 668, 22, 707], [70, 33, 1, 2, 1687, 29, 286, 526, 194], [80, 1, 233, 87, 158, 270, 224, 2244], [254, 3624, 299, 1, 983], [42, 2245], [1, 449, 946, 127, 13, 104, 144, 91, 2246, 13, 11, 1, 1369], [175, 32, 104, 123, 360, 600, 38, 3625, 600, 3], [1152, 381, 115, 85, 74, 1370], [1688, 406, 385, 615, 128], [3626, 3627], [3628, 3629, 75, 287, 13], [2247, 8, 3630, 3631, 2248, 3632, 146, 1, 7], [3633, 183, 2249, 2250, 273, 984, 3634, 985, 3635, 986, 1, 3636, 1689, 3637], [202, 52], [24], [306, 612, 3638, 1301, 109, 504, 1690, 2251], [930, 3639, 3, 517, 2252, 99, 1371], [1, 21, 832, 1691, 78, 132, 8, 742, 67, 14], [135, 492, 148, 3640, 391, 347, 1153, 75, 134, 114], [2253, 3641, 412, 180, 3642, 3643, 1372, 1373, 2254, 1, 408, 22, 105, 2255, 3644], [2256, 353, 300, 151, 1374, 239, 1, 23, 2257, 13, 422, 497, 134, 439, 1692, 698, 300, 392], [3645, 2258, 8, 67, 14, 66, 451, 67, 14, 66, 451, 67, 14, 66, 451, 192, 1, 714], [3646, 2259, 3647, 1645, 3648, 846, 88, 16, 38, 413, 3649, 1693, 750, 50, 123, 32, 15, 2259, 371, 1, 39, 29, 190, 740, 3650, 1154], [493, 987, 3651, 4, 9, 21, 3652], [816, 1, 2], [3653, 96, 549, 505, 69], [98], [292, 125, 1375], [406, 260, 75, 3654, 988, 3655, 56, 3656, 751, 301, 260], [1056, 3657, 50, 917, 3658, 174, 1251], [3659, 3660, 180, 43, 3661], [23, 390, 304, 393, 24, 3662, 144], [433, 4, 5, 182, 162, 1694, 17, 1376, 3663, 17], [105, 1155, 2260], [38, 42, 106, 24, 2261, 1376, 669, 2262, 929], [27, 26], [96, 137, 28, 11, 3664, 947, 1, 2263], [2264, 319, 2265, 1250, 1377, 989, 2266, 3665, 3666, 1, 3667, 341, 103, 2267, 1603, 807], [1, 352, 3668, 3669, 752, 481, 125, 151, 105, 101, 17, 3, 3670, 130, 367, 707, 130, 367, 306, 367, 3671, 246], [13, 2268, 1378, 19, 482, 1695, 1379, 630, 733, 3672, 1380, 3673, 13, 42, 857, 17, 1], [291, 447, 1696, 1, 1697, 854, 2269, 2270, 1698, 1325, 1156, 1150, 2271], [3674, 1381, 171, 1, 8, 1280, 323, 3675, 188, 230, 155, 370], [77], [1257, 141, 19, 3676, 184, 1, 1157, 17, 3677, 70, 141, 50, 56, 394, 306, 3678], [2272, 3679, 36, 311, 31, 378, 1, 205, 2, 265, 3680, 144, 110, 1699, 2273, 1158, 223], [1, 948, 2, 69, 2274, 495], [120, 1, 240, 3681, 38, 7, 9], [469, 419, 19, 3682, 133, 413, 2, 111, 1, 4, 4, 19, 11, 79, 550], [9, 70, 30, 536, 3683, 490, 4], [3684, 9, 60], [965, 69, 303, 805, 858, 1700, 3685], [50, 99, 289, 289], [1693, 3686, 33, 2275, 1, 413], [30, 106, 101, 1382, 193, 112, 740, 1383, 2276], [5, 20], [3687, 81, 1159, 2277, 361, 461, 52], [85, 99, 1322, 33, 59, 322, 1, 71, 115, 62], [1160, 140, 1132, 859, 268, 1384, 1, 1380, 203, 1160, 41, 658, 571, 18], [1, 927, 418, 3688, 258, 284], [32, 42, 225, 12], [3689, 1701, 112, 3690], [1, 3691], [526, 3692, 3693, 55, 3694, 400, 2278, 3695, 3696, 2279, 70, 3697, 199, 3698, 3699], [9, 718, 42, 193], [216, 1, 3700, 3701, 3702, 2280, 734, 3703, 3704], [3705, 1385, 3706, 3707, 3708, 3709, 3710, 284, 1], [250, 485, 267, 312, 1, 49, 2], [47, 1, 1], [3, 3711, 289, 3712, 3713, 3714, 551, 785, 3715, 164, 1386, 177, 2281, 3716, 3717, 860, 422, 641, 1, 731, 2282, 75, 89], [3718, 748, 2283, 22, 55, 95, 151], [3719, 1125, 3720, 1161, 3721], [129, 42, 129, 42, 1128], [54, 265, 1], [3722, 83, 3, 4, 243, 225, 2284, 2285, 405], [117, 223, 3723], [861, 25, 37, 3724, 57, 1387, 861, 3725, 462, 630, 2, 1, 229, 2, 1702, 862, 345, 3726, 862, 2286, 81, 169, 164, 319, 1162, 49], [616, 423, 316, 3727, 1163, 863, 753, 23, 1, 91, 275], [3728, 3729, 410, 3730, 1, 92, 3731, 3732, 65, 521, 990, 8, 153, 864], [3733, 3734, 709, 1377, 501, 130, 72, 1, 3735], [22, 162, 3736, 754, 3737, 2287, 639, 15], [361, 3738, 3739, 552, 176, 1], [59, 322, 1, 2288, 62], [47, 39, 3740, 32], [2289, 372, 83, 991], [84, 421, 332, 100], [803, 123, 327, 803, 1703, 49, 1, 277, 803, 123, 327, 13, 3741, 3742], [137, 162, 1388, 3743], [22, 15, 644, 755, 3744, 617, 110, 921, 2290, 644, 404, 2291, 865, 184, 12, 1704, 1164, 2, 1, 395, 865, 184, 3745], [58], [26, 69, 2292, 3746, 469, 218], [824, 594, 502, 357, 262, 169, 72, 583, 49, 1, 251, 1705, 1706, 1389, 146, 140, 1390, 1707, 1708, 992, 1066], [11, 260, 40, 262, 34], [506, 506, 506, 506, 506, 506, 506, 506, 506, 506, 506, 506], [127, 221, 221, 718, 12, 12, 335, 1, 177, 437, 12, 127], [632, 670, 73, 25, 37, 1, 2293, 72], [2294, 3747, 3748, 671, 3749, 14, 23, 1, 46], [85, 1076, 1165, 2295, 281, 85, 79, 2296, 2297], [672, 1391, 1709, 81, 962], [87, 74, 2298, 2299, 1392, 26, 18, 1393, 1166], [318, 3750], [1, 416, 277, 73, 29, 86], [11, 3751, 229, 1], [4, 3752, 40, 24, 42, 3753, 2300, 2300, 405, 405, 6, 34, 52], [383], [26, 553, 255, 1, 993, 56, 375, 1360], [994], [995, 592, 3754], [4], [1097, 1, 1279, 79, 17, 1667, 79], [507, 3755, 1, 110, 160], [3756, 1710, 308], [105, 778, 2119, 54, 1], [3757, 396, 179, 3758, 673, 840, 10, 182], [2301, 3759], [46, 5, 41], [54, 176, 1, 10, 17, 641, 335, 120, 142, 12], [949, 120, 1, 1711], [980, 36, 3760], [554, 2262, 1642, 18], [3, 756, 826, 140, 1, 90, 182, 1166, 227, 239, 755, 3, 3761, 132, 968, 3762], [5, 3, 996, 40, 104, 18, 385, 192, 441, 1394], [115, 286, 2302, 1, 719, 58, 157], [139, 3763, 1395, 720, 216, 29, 618, 89, 58], [438, 15, 1266, 249], [2201, 192, 1712, 225, 20], [19, 3764, 1713, 1, 19, 424, 325, 17, 1713], [127, 411, 51, 19, 1167, 605, 1, 229, 194, 3765, 20, 148], [3, 99, 33, 1396, 278, 1, 1714, 866, 141, 33, 113, 3766, 220, 46, 1354, 49, 62, 1294], [1, 2303], [3767, 175, 12, 757, 1579], [3768, 175, 1397, 127, 1], [23, 77, 23], [1, 2, 758, 17, 39, 3769, 31, 336, 1157, 125, 42, 17, 21, 3770, 28, 98, 39, 668, 799, 92, 60, 51], [2, 3771, 3772], [3773, 474, 529, 269, 1], [111, 140, 969], [576, 88, 808, 1715, 3774, 313], [1716, 125, 434, 211, 3775, 463, 1398, 203, 662, 2, 1], [36, 16, 201, 2304], [2305, 1717, 819, 752, 461, 2306, 34, 44], [368, 1, 45], [9, 74, 3776], [48, 87, 863, 555, 100, 141], [2307, 56, 21, 143], [331, 38, 22, 3777, 41], [1138, 194], [298, 583, 38, 583, 263, 1, 72], [1718, 1111, 1, 546, 436, 602, 310, 175, 784, 82, 3778, 128, 3779], [1719, 867, 3780, 2308, 87, 14, 91, 18, 1], [1159, 3781, 2309, 3782, 2309, 3783, 79, 3784, 674, 3785, 32, 3786, 395, 178, 3787, 154, 1720], [38, 136, 524, 94, 759, 1721], [10, 3, 347], [63, 183, 1687, 1, 364, 760, 148, 22, 25, 37, 556, 3788, 3789, 3790, 581], [997, 1], [179, 129, 956, 14, 63, 3791, 212, 3792], [5, 3, 1072, 84, 672, 172, 996, 27, 868], [984, 16], [313, 739, 1168, 3793, 3794, 739, 557, 1722, 3795, 485, 1], [149, 1, 5, 285, 293, 347, 13], [488, 981, 225, 232, 420, 3796, 5], [132, 159, 3797, 4, 159, 159, 3798, 558, 869, 1723, 3799, 1, 3800, 3801, 1399, 34, 998, 1400, 464], [1, 3802, 71, 165], [975, 3803, 3804, 6], [3805, 178, 3806], [1724], [1401], [2310, 4, 3807], [258, 483, 191, 1725, 7, 9, 129, 351, 1166], [1726, 47, 425, 2311, 22, 73], [210, 2312, 13, 986, 1623, 3808, 1, 20, 3809, 2313, 5, 1402, 3810, 3811], [3812, 2314, 3813, 61, 3814, 1147, 22, 3815, 540], [32, 3, 64, 394], [22, 3816, 2315, 59, 870, 858, 397, 25, 90, 141, 13, 1403, 858, 397, 57, 194, 141, 25, 3817], [1727, 761, 3818, 1382, 23, 174, 1727, 1130, 63, 739, 3819, 586], [1, 3820], [11, 1106, 675, 109, 1169, 3821, 1, 3822], [258], [795, 1268, 3823, 1404, 1292, 24, 3824, 3825], [2316, 2317, 114, 1304, 1405, 6, 3826], [7, 13, 995, 169, 1, 1406, 2318, 2319, 2320], [85, 182], [1170, 1407, 2321, 1082, 336, 281, 89, 271, 228, 1257, 3827, 1170], [24, 175, 32], [39, 286, 237, 1408, 3828, 1728, 241], [1141, 229, 1], [56, 1729, 473], [160, 4], [30], [408, 1730, 1284, 610, 143, 213, 101, 299, 1, 105, 81, 22, 96, 150, 423, 731, 8, 1343, 1343, 3829, 14], [3830, 4, 28, 3831, 2322, 2323, 117, 426, 68, 495], [1171, 1, 1162, 1731], [69, 1732, 45, 1], [405, 170, 24, 446, 446, 353, 586, 200, 201, 548], [3832, 3833], [1090, 90, 3834, 1, 723], [145, 508, 1124, 987, 1, 87, 790, 676], [116, 248, 2, 1], [23, 505, 1409, 824, 372, 243, 218, 1172, 415, 93, 1409], [2324, 1, 54, 574, 1573, 250, 209, 334, 3835, 319, 594, 3836, 319], [20, 34, 1636], [25, 37, 90, 1, 1167, 95, 38, 51, 65], [2325, 128, 126, 2326, 540, 2327, 999, 61, 385, 871, 872], [11, 59, 2328, 1, 62, 19, 676, 2329, 34, 2328, 2330, 745], [249, 4, 57, 509, 188, 2331, 1733, 23, 1], [1329, 223, 421, 3837, 3838, 474, 2156], [158, 2332, 66, 111, 1, 5], [3839, 1628, 100, 8, 1051, 1051, 1], [11, 3840, 3841, 2333, 3842, 3843, 3844, 335, 934, 298], [11, 2, 1, 395, 49, 522, 291, 37, 11], [3845, 2334, 3846, 16, 3847, 79, 149, 3848, 2074, 3849, 180, 57, 1410], [3850, 734, 1411, 22, 41, 1173], [3851, 1329, 178, 1734, 60, 1394, 2335], [1, 2, 6, 32, 420], [9, 87, 12, 443, 510, 26, 2336, 1, 1724, 116, 127], [3852, 1], [3853, 1280, 1412, 330, 3854, 418, 1058, 297, 918, 2, 1], [43, 151, 2337, 44], [7, 782, 162, 69], [6, 34, 170, 3855, 3856], [9, 3857, 1633, 3858, 1413, 127], [2338, 1414, 337, 2338], [9], [24, 24, 123, 10, 2339], [6, 145, 503, 1360, 559, 2340, 49, 1, 2, 3859, 3860, 5, 20, 195, 320, 130], [134, 1295, 706, 3861, 3862, 3863, 69], [510, 2341, 661, 2342, 35, 2, 1, 5, 2343, 285, 1330, 240, 753, 240, 3864], [13, 2344, 484, 1735, 131, 218, 484, 1000, 3865, 169, 1150, 539, 1151, 1, 3866, 1001], [12, 335, 1, 928, 1415], [39, 32, 762, 372, 83, 325, 548], [54, 1, 1736, 170, 15, 12, 170, 635, 142, 392, 8, 156, 27, 66, 1620, 2146], [121, 38, 163, 1, 3867, 1161], [723, 1, 81, 1094, 1298, 2149], [134, 2345, 3868, 44, 125, 261, 99, 642, 3869, 472, 44], [1, 141, 3870, 1, 27, 127, 677, 127, 10, 178, 92, 117, 1002, 1737, 14, 178, 66, 178], [511, 873, 90, 1, 1, 3871, 2346, 734], [2110, 294, 3872, 27], [28, 582, 125, 1738], [160, 135, 105, 1565, 356, 10, 850, 292, 619, 183, 91, 76, 1, 3873, 1739, 183, 76, 377], [3874, 18], [986, 4], [372, 874, 211, 111, 395, 1, 27, 271, 875, 271, 763, 5], [22, 1, 678, 255, 35, 3875, 360, 152, 427], [351, 1, 11, 165], [367, 42, 2188, 3876, 3877, 144, 2347, 2348, 4, 58, 44, 560, 1578, 3878, 3879, 82, 3880, 3881], [5, 3882, 465, 40, 172, 3883, 1740], [147], [2349, 36, 3884, 3885, 328, 3886, 1659, 615, 4, 1740, 4, 1, 280, 24, 328, 8, 156, 3887], [5, 1174, 3888, 620, 15, 531, 620, 868, 670, 13, 2, 531, 1416, 3889, 573, 37, 1586, 25, 37, 512, 49, 2, 1, 111, 96], [1, 876, 1003], [], [122, 649, 1741, 3890, 12, 122, 36, 2350, 1, 1742, 2, 3891, 101, 3892, 508, 1741, 3893, 136, 353, 2351], [1, 448, 81, 3894, 282, 547, 3895, 3896], [59, 1743, 1, 20, 77, 871, 395, 121, 194], [446, 3897, 479, 238, 264], [190, 18, 203, 3898, 2352, 1293, 1744, 1100, 18], [36, 71, 3899], [137, 7, 393, 592, 1, 115, 256, 3900, 461], [3901, 59, 61, 1078, 70, 253, 118, 4], [], [5, 3, 27, 119, 165, 797, 175, 9], [85, 3902, 84], [1, 285, 2353, 28, 1735, 1004, 7, 763, 142, 1, 72, 3903], [495, 147, 2354, 1005, 1, 1, 1], [1112, 754, 162, 44, 832, 2355], [127, 166, 1, 21, 1723, 44], [361, 3904, 877, 78, 1417, 2356, 79, 1745, 2357, 72, 1, 2358], [23, 663], [212, 1175, 2359, 421, 358], [3905, 190, 3906, 1312, 3907, 2360, 3908], [1176, 131, 2361, 109, 1746, 3909, 829], [422, 217, 1747, 18, 5], [1748, 561, 1, 723, 3910], [2362, 3911], [3912, 256, 3913, 56, 751, 61, 24], [3914, 538, 15, 1, 2, 49, 671, 494, 17, 140, 3915, 3916, 535, 210, 268, 121, 49, 352], [56, 479, 322, 548, 353, 3917, 479, 340], [347, 13, 54, 1, 1596, 173, 1006, 497, 63, 15, 239, 1, 222], [1418, 3918, 369, 257, 16, 3919, 3920], [1, 92, 65, 27, 74, 7, 8, 878, 14], [184, 200, 679, 2294, 3921, 2363], [55, 850, 1142, 33, 1, 1177, 373, 1419, 10, 1749], [59, 814, 275, 1], [1, 522, 806, 753, 265, 418, 341, 1007], [75, 537, 1, 1666, 418, 341, 15, 540, 73, 2183, 185, 602, 531, 5, 3922, 161, 1420, 17, 69, 17, 69], [1629, 17, 1750, 291, 3923, 341, 2364, 128, 2365, 697, 466, 1751, 764, 169, 755, 313, 210, 1, 232], [667, 3924, 621, 48, 1148, 19], [526, 82, 27, 36, 3925, 260, 231], [3926, 3927, 250, 324, 544, 2366, 962, 1421, 8, 41, 153, 1178, 864, 159, 155, 370, 250, 267, 312, 1], [8, 323, 97, 188, 155, 370, 288, 164, 806, 94, 79, 1, 2, 251, 302, 2367, 2368, 1325, 204, 7, 46, 491, 6, 3928, 1384], [236, 6, 543, 31, 123, 3929], [9, 160, 201, 1, 366, 198, 3930, 9, 253, 1084, 157], [395, 1, 482, 7, 94, 120, 402], [3931, 3932, 3933, 3934, 3935, 2369, 3936, 2370, 12], [132, 3937, 3938, 929, 23, 1, 641, 168, 41, 169, 929, 3939, 133], [62, 128, 3940, 3941, 1], [1, 949], [20, 4], [12, 29, 3942], [110, 95, 16, 409, 1, 41], [2371, 1, 108, 16, 38, 2372, 1701], [1, 92, 3, 1008, 8, 156, 27, 14], [3943, 3944, 3945], [2372, 397, 782, 1, 108], [6, 1009], [878, 9, 1718, 2373, 100], [3, 273, 13, 1139, 73, 1, 2182, 112, 15, 49, 3946, 3947, 466, 1752, 1751, 6, 150, 1336, 171, 228, 1607], [2374, 2375], [289, 151, 167, 60, 74, 18, 2, 1, 309, 417], [74, 586, 996, 680, 2376, 68, 112], [250, 1422, 312, 1, 49, 2], [144, 524, 918, 314, 357, 1, 5, 3, 7, 316, 2, 1423, 34, 5, 3, 11, 184, 3948], [3949, 2377, 476, 316, 1753, 491, 1, 1067, 3950, 589, 110], [3951, 166, 3952, 21, 3953], [287, 3954, 79, 6], [1, 2, 198, 165, 1010, 50, 3955, 18], [1348, 646], [1754, 381], [43, 2378, 243], [3956, 5, 3, 71, 3957, 2379, 3958], [1011, 1755, 415], [33, 3959, 63], [82, 11, 778, 146, 3960, 132, 652, 518, 681, 202, 234, 1], [1756, 632, 73, 416, 1, 979, 30], [3961, 96, 137, 241, 1, 326, 5], [425, 100, 1297], [1], [3962, 136, 2380, 2381, 3963, 2382, 5, 3964, 3965, 3966, 30, 1719, 2380, 3967, 1424, 1399, 1757, 1012, 3968, 3969, 1, 2, 15], [144, 1, 18, 8, 14, 124, 274, 3970, 165], [499, 1, 6, 18, 166], [2383, 11, 269, 1], [206, 528, 874], [134, 92, 553, 34, 1, 8, 500, 14], [2384, 279, 31], [1758, 231, 59, 3971, 231, 67, 231, 3972, 300, 41, 130], [11, 3973, 3974, 1102, 4, 79], [85, 555, 403, 101, 110, 2385, 45, 1], [41, 83], [2386, 3975, 2387, 147, 42, 217, 466, 4, 2388, 761], [208, 1759, 3976, 3977, 3978, 1249, 163, 3979, 3980, 1760, 230, 327], [3981, 1654, 54, 2, 1, 3982, 2389], [], [365, 1, 2390, 3983, 3984, 18, 112, 1252, 3985, 3986, 161, 88], [59, 3987, 1, 177, 289, 151, 29, 876], [1, 31, 12, 145, 13, 952], [438, 1761, 135, 666, 622, 1, 8, 523, 97, 163, 159, 155, 436, 1, 8, 523, 97, 163, 159, 155, 370], [670, 3988, 1355, 3989, 529, 416, 1, 2, 352, 107, 1001, 3990, 3991, 1013, 3992, 879, 3993, 3994, 107, 3995, 675], [459, 655, 751, 1601, 1601, 122, 66], [6, 3996, 55, 64, 8, 66, 56, 13, 55, 210, 1, 377, 569], [3997, 7, 3998, 3999, 4000, 138, 738, 193, 1425], [1014, 1762, 35, 1, 1057, 977, 314], [25, 90, 1763, 169, 196, 1426, 4001, 1, 2231, 1015, 13, 178, 1764, 380, 136, 350, 4002, 54, 41], [10, 208, 1765, 1104, 325, 58], [526, 110, 465], [1054, 68, 122], [227, 849, 4003, 1, 268, 1766, 1150], [558, 4004, 1, 141, 141], [302, 4005, 143, 1767], [30, 307, 123, 32], [4006, 1003, 1619, 1402], [2391, 2392, 54, 1, 2, 1016, 2393, 2392, 304, 833, 395, 127], [2394, 25, 37, 2395, 1, 519, 847, 4007, 41, 538, 7, 443, 1, 4008, 40], [], [405, 91], [80, 1, 233, 87, 158, 270, 224], [116, 248, 2, 1], [144, 1768, 41, 144, 112, 26, 1754, 462], [73, 460, 102, 1, 327, 562, 39], [2050, 20, 21, 4009], [73, 1, 4010, 6, 25, 37], [20, 4], [114, 1769, 1770, 383, 100, 4011, 4012, 58], [303, 4, 30, 93, 12, 4013, 4014], [36, 207, 16, 310, 459, 839, 2177], [64, 23, 1120, 320, 1, 563, 4015, 632, 73, 15, 13, 1], [7, 7], [9, 237, 1771, 554, 427, 243], [975, 4016, 47, 3, 962, 1427, 27, 975, 49, 77], [1276, 1277, 1], [4017, 4018, 2396, 2397, 4019, 425, 4020, 498], [24, 4021, 438, 99, 99, 597, 34, 287, 24, 4022], [482, 5, 981, 1179, 5, 4023, 255, 139, 377, 4024, 55, 91, 792, 56, 16], [429], [217, 4025, 747, 4026], [139, 800, 5, 3, 1553, 436, 19, 1], [20, 4], [2398, 410, 711, 104, 112, 1772], [4027, 4028, 281, 85, 4029, 318, 2399, 4030, 249, 402], [2400, 4031, 375, 502, 4032, 2401, 2402, 672, 2403, 2404, 671, 2405, 4033, 401, 1345, 263, 1, 2, 4034, 4035, 4036, 2238, 179], [507, 1, 123, 32, 2406, 77, 8, 1366, 1366, 1428], [4037], [1429, 6], [36, 1430, 2, 1, 454, 13, 509, 445, 4038, 232, 1180, 211, 4039, 25, 1017, 1074, 125, 2407], [4040, 1008, 2408, 759, 4041, 1323, 416, 78, 623, 72, 483, 1, 2, 354, 1097], [368, 140, 501, 1, 606, 1738], [356, 10, 1, 20], [32, 2291, 765, 147, 4042], [145, 145, 79, 25, 90, 1, 2, 2409, 4043, 2410, 138, 204, 5, 22, 223, 81, 436, 4044], [1, 106, 27, 1181, 1431, 199], [3, 315, 2411, 875, 4045, 1, 92, 606, 334, 17, 1432, 4046], [227, 1, 81, 28, 2412, 2413, 811, 113, 380, 113, 13, 7, 113, 164, 633, 216], [96, 150, 269, 1, 10, 362], [344, 13, 1773], [2307, 24], [371, 1, 4047, 4048, 4049], [288, 799, 45, 1], [12, 344, 2414, 343, 232, 105, 739], [1, 240, 240, 1006, 7], [621, 4050, 11, 838, 599, 1182], [1018, 1774, 1433, 624, 1, 78, 37], [209, 1019, 4051, 4052, 1362, 560, 1103, 2187], [1020, 66, 529, 10], [36, 715, 4053, 489, 89, 559, 106, 1170, 281, 2204, 613, 16], [257, 2415, 1373, 20, 10, 518, 1407, 415], [9, 4054, 114], [26, 144, 1084, 1775, 2416, 15, 26, 27], [1, 83, 9], [288, 4055, 76, 1776, 1, 259, 132, 355, 5, 48, 42, 17, 542, 22, 33, 537, 33, 782], [309, 2, 1, 7, 19], [29, 391, 257, 570, 328, 570], [86, 1, 4056, 573, 4057, 2417, 1183, 323, 342, 4058], [2203, 4059, 244, 44, 963, 11, 2418, 44], [4060, 42, 119, 180, 595, 23, 633, 1672, 230, 4061], [979, 1127, 995, 174, 880], [4062, 120, 4063, 4064, 1157, 91, 101, 682, 655, 1, 4065], [64, 950, 4066, 4067, 1317, 2419, 272, 1434], [1, 1184, 875, 875, 164, 4068], [279, 31, 336, 221, 299, 1432, 1, 2, 10, 164, 20, 587, 138, 608, 939, 17], [97, 599, 505, 921, 112, 1435, 1177, 292, 247, 4069, 44, 4070], [4071, 114], [12, 589, 207, 1185, 575, 34, 262, 4, 3, 1, 2420], [2421, 2422, 2423, 1, 48, 4072, 17, 48, 16, 2424, 220, 28, 1186, 11, 19, 16], [465, 255, 2425, 74, 60, 4073, 4074, 1, 101, 1725], [123, 1436, 4075, 58, 336, 413, 39, 46, 59, 171, 220], [499, 114, 1777, 225, 4076, 1777, 1076, 4077, 38, 6, 211], [1179, 1778, 1187, 2426, 129, 4078, 4079, 243], [40, 28, 4080, 1779, 1, 108, 18], [4081, 4082, 55, 308], [736, 1, 2, 34, 527, 154, 253, 122], [1, 2, 993], [1780, 4083, 2427, 4084, 1, 4085, 1163, 551], [12, 2428], [144, 52, 475], [356, 80, 53, 1188, 128, 182, 215, 2, 1, 25, 107, 848, 4086, 107, 4087], [332, 464, 34, 47, 4088, 4089, 117, 296, 464, 672, 625, 661, 19, 625, 4090, 1781, 1310, 558, 56, 1], [503, 503], [799, 152, 336, 497, 1189, 25, 37, 11, 7, 88, 10, 2, 1, 138, 822, 1099, 2429, 136, 673, 3, 2430], [28, 205, 447, 5, 3, 15, 1], [1, 71, 174, 134, 871, 71, 81], [4091, 89, 271, 4092], [134, 29, 4093, 1782, 22, 254, 2431, 1783, 228, 57, 1783, 728, 11, 1286, 68], [1308, 1190, 20, 449, 1437, 23, 1], [4094], [4095, 14, 4096, 2351, 4097], [27, 766, 234, 1, 53, 26, 20, 111, 8, 156, 27, 14], [595, 162, 499, 75, 10, 2432, 1784, 331, 287], [585], [32, 118, 32, 32, 71, 4098, 4099, 4100, 1682], [1557, 1419, 1, 2, 538, 4101, 551, 12], [11, 10, 4102, 57, 1386, 1785, 1438, 1786, 1785, 4103, 1438], [1349, 532, 1696, 4104, 2433, 2433, 195, 81, 683, 97, 204, 115, 15, 35, 1, 132, 78], [727, 1, 1787, 354, 767, 1788, 4105, 4106, 2434, 251, 4107, 4108, 4109, 4110, 2, 4111, 4112, 179, 263, 4113, 1321, 501, 4114], [1, 119, 62], [38, 391, 18, 74, 212, 1143, 391, 1789, 495], [748, 2435], [2436, 216, 4115, 327, 4116, 2282, 23, 1, 205, 4117, 1790, 4118, 4119, 324, 731, 2437, 4120, 4121, 4122, 610], [95, 11, 461, 781, 205, 188, 1439, 35, 1328, 35, 1, 2438, 858, 2439, 4123, 2440, 4124, 4125], [4126, 253, 1791, 29, 4127, 181, 1792, 7, 10], [288, 8, 523, 97, 163, 188, 230, 155, 523, 97, 163, 188, 230, 155, 523, 97, 163, 188, 230, 155, 370, 4128, 76, 1776, 1, 259, 132, 355, 5, 48, 42, 17, 542, 22, 33, 537, 33, 782], [4129, 4130, 287], [94, 21, 1, 7, 21, 91, 97, 42, 707, 17, 342, 94, 604, 97], [462, 744, 4131, 24, 1440, 4132], [9, 980, 1, 4133], [1441, 45, 1], [11, 917, 1057], [31, 72, 535, 284, 54, 1321, 206, 330, 1793, 284, 1305, 59, 28, 387, 330, 727, 1], [344, 1, 1191, 4134, 333, 304, 5, 4135, 2377, 1, 394, 21, 382, 825, 5, 382, 50, 5, 4136], [91, 4137, 2427, 1], [392, 2441, 548, 1192, 1193, 165, 14, 43, 57, 1, 251, 35, 444, 184, 31, 336, 1340, 190], [139, 59, 2442, 1, 8, 163, 4138, 159, 155, 370], [63, 2196, 295, 457, 297, 1, 161, 1442, 155, 1720, 386, 93, 15], [69, 52, 4139, 46, 59, 4, 59, 32, 1794, 13, 11, 1099, 4140, 488], [574, 881, 240, 1443, 125, 10, 2443, 4141, 1021, 4142, 881, 2444, 88, 349, 2445, 1022, 15, 2, 1, 4143, 111, 1795, 185, 4144], [8, 467, 14, 1, 50, 624, 28], [9, 766, 123, 730, 212, 2446], [1, 1005], [507, 91, 79, 294, 1796, 84], [882], [1, 2, 15, 608, 4145, 142, 555, 4146, 713, 4147, 47, 8, 153, 1178, 864, 22, 150, 21, 1444, 1779, 8, 67, 14], [7, 53, 53, 2447, 1445, 182], [252, 4148, 596, 72, 583, 49, 1, 251, 1705, 1706, 1389, 146, 140, 1390, 1707, 1708, 992, 1066], [1797, 1, 318, 4149, 4, 552, 655, 4150, 495], [146, 1], [1194, 1, 189, 4151, 95, 1], [10, 88, 10, 4152, 258], [238, 4, 191, 193, 191, 1671, 4153, 965, 44], [210, 103, 854, 272, 4154, 1062, 4155, 54, 1, 560, 8, 1446, 14], [748], [4156, 229, 1, 208, 1798, 4157], [48, 150, 26], [507, 123, 32, 1], [97, 1763, 18, 24], [77, 1799, 19, 16], [632, 409, 13, 563, 102, 252, 1], [16, 973, 2448], [269, 1, 4158, 218, 1756, 4159, 2449], [54, 378, 1, 1131, 17, 7, 19], [16, 701, 372, 49, 264, 68, 4], [35, 527, 528, 103, 443, 4160, 355, 4161], [36, 5, 3, 804, 1, 69, 343, 347, 19, 1800, 8, 684, 14], [883, 45, 265, 1], [85, 16, 41, 446, 219, 2190, 2305], [150, 96, 1801, 210, 1], [79, 1, 1558], [4162, 451, 1], [89, 88, 1802, 1803, 151, 884, 278, 215, 59, 215, 298], [4163, 23, 1, 1804, 4164, 4165], [752], [238, 2435], [1805, 1806, 69, 191], [726, 292, 402, 180, 262, 4, 4166], [204, 428, 53, 164, 432, 2450, 958, 346, 1, 204, 53, 208, 432, 1621], [1090, 49, 522, 88, 349, 37, 86, 1807, 72, 539, 1808, 531, 329, 1, 2, 251, 556, 1809, 140, 268, 1080, 483, 932, 538], [36, 20, 4, 88, 10, 5, 208, 1, 2451, 539, 146, 2], [77, 1, 21, 28, 16], [3, 393, 326, 885, 71, 1195, 1, 637, 4167, 71, 159], [4168, 804, 234, 1, 804], [2452, 55], [344, 4169, 685, 128, 4170, 223, 738, 347, 4171, 314, 82, 13, 5, 23, 103, 1196, 1005, 127], [171, 1369, 110, 1023, 4172, 186], [16], [576, 2453, 1067, 259, 4173, 176, 1, 167, 335, 120, 2453, 1425, 4174, 8, 2041], [70, 320, 33, 1, 4175, 188, 3, 153, 556, 1197, 4176, 433], [123, 59, 496, 804, 36, 1], [4177, 134, 2454, 41, 6, 1009, 2316, 2317], [173, 45, 1], [935, 768, 815], [4178, 646, 48, 944, 269, 1], [373, 623, 396, 1, 396, 41, 26, 4179, 4180, 4181, 1584, 1436, 293], [1], [1781, 79, 2455, 123, 130, 51, 4182, 4183], [2456, 264], [2457, 88], [85, 3, 1332], [27, 24, 1011, 1755, 21, 42, 4184, 920, 27], [709, 393, 33, 25, 37, 1, 168, 2458, 612, 50, 33], [6, 10, 2, 1], [2459, 713, 1, 2460, 4185, 738, 2461, 759, 15, 136, 4186], [423, 426, 1317], [30, 1810, 8, 4187, 4188, 283, 1641, 4189, 23, 529, 1, 2, 251, 886, 2462, 644, 128, 1586, 4190, 4191, 4192, 4193, 30], [4194, 48, 4195, 4196, 4197, 65], [9, 1165, 452, 1347], [4198, 4199, 2463, 91, 2464, 4], [249, 4, 26, 11, 48, 194, 410, 4200, 1447, 1, 4201, 4202, 1183, 19], [1, 319], [2465, 1334, 4203, 184, 2, 1, 78, 608, 282, 138, 2466, 1811], [14, 122, 5, 1, 993, 9, 104], [1812, 46, 824, 145, 266, 294, 1813, 76, 1], [319, 133, 1023, 364, 137, 1448, 1436, 650, 48, 683, 4204, 4205], [9, 2467, 4206, 2468, 363, 29, 887, 4207, 4208], [86, 769, 1814, 888, 164, 645, 1], [4209, 86, 228, 25], [1815, 4210, 4211, 1449, 4212, 4213, 2469, 1449, 32, 4214, 4215, 9, 1729, 4216, 4217, 4218, 4219, 1118, 4220, 1449, 175, 1, 78, 105, 1450], [1, 76, 240, 2470], [407, 434], [4221, 223, 2471, 1447, 16, 1], [241, 100, 456, 4222, 4223], [1302, 2472, 4224, 18, 68], [2293, 936, 1, 4225], [30, 132, 533, 83, 226, 230, 334, 926, 848, 686, 5, 3, 154, 424, 279, 22, 15, 1, 1546, 22, 15], [2473, 5, 2289, 406, 4226, 180, 117, 227, 481, 179], [1, 2474, 4227, 4228, 4229, 800, 2396, 1113, 447, 304, 377, 17, 29, 545, 136, 4230], [152, 168, 1274, 391, 4231, 4232, 63, 1198, 98, 1, 2, 4233, 17, 282, 31], [314, 69], [1, 2, 284, 398], [57, 79, 242, 4234, 31, 1, 35, 1199, 1816, 1371, 1817, 209, 938, 4235, 2475, 4236], [384, 189, 1, 92, 3, 4237, 468, 68, 47, 687, 8, 4238, 189, 581], [10, 1, 92, 253, 4], [24, 4239, 59, 1610, 1, 88, 4240], [9, 172, 171, 221, 205, 138, 1450, 1, 2476, 983, 338, 1818, 1380, 4241, 194, 2477, 1819, 1200, 150, 885, 4242], [1153, 128, 53, 107, 41], [1, 1655, 2404, 152, 438, 557, 20, 53, 26, 1306, 13, 4243, 5, 3, 70, 2478, 1672, 77, 117, 8, 1254, 153, 889], [519, 108, 764, 607, 513, 217, 172, 1300, 192, 4244, 1, 4245], [510, 769, 1378, 222, 1820, 626, 446], [12, 833, 4246, 211, 1, 4247, 386, 790, 4248, 1821, 1375, 4249, 4250, 198, 838, 1822, 4251], [123, 13, 5, 285, 1024, 291, 447, 39, 416, 492, 265, 341, 4252, 879, 1, 2479, 4253, 73, 4254, 1184, 2120, 393, 12], [70, 1, 622, 560], [302, 33, 172, 15, 40, 1, 83], [148, 2480, 785, 57, 1451, 1156, 401, 12, 1, 25, 1451, 1156, 4255, 580, 128, 1451], [473, 258], [788, 21, 60, 218, 841, 189, 314, 9, 119, 190, 77, 77, 4256, 77, 77], [62, 511, 1823, 13, 28, 48, 194, 28, 48, 1824, 28, 92, 1, 6, 1381, 2481, 93, 489, 93, 6, 2482], [4257, 4258, 1452, 1825, 242, 1, 27, 550], [1, 876], [203, 279, 33, 1], [301, 579, 301, 47, 4259, 61, 579], [1826, 52], [281, 89, 271, 213, 40, 292, 186, 963, 55, 4260, 53, 456, 6, 4], [244, 173, 796, 1354, 2, 1, 2483, 590, 868, 2484], [56, 6, 4, 34], [1201, 4261, 2485, 55, 241], [1, 49], [36, 1661], [597, 2486, 438, 2472, 21], [1453, 225], [4262, 116, 248, 2, 1], [1811, 4263, 4264, 254, 58], [5, 1, 21, 8, 467, 14], [179, 4265, 685, 4266, 29, 508, 4267, 4268], [468], [249, 1195, 27, 1454, 127, 70, 43, 1, 11, 9, 104], [261, 4269, 307, 197, 261], [151, 739, 98, 25, 90, 1, 251, 1303, 1592, 443, 184, 1179], [135, 358, 29, 2487, 4270, 2488, 4271, 759, 9], [1, 4272, 15, 22], [431, 34, 572, 1261], [303, 91, 7, 17, 65, 4273, 443, 165, 1], [89, 271, 1202, 464, 1734, 35, 271, 842, 69], [86, 39, 73, 460, 102, 1], [39, 4274, 4275], [2489, 20, 374, 4, 318, 4276, 161], [4277, 243, 712, 4278, 2108], [1203, 2490, 2069, 1, 4279, 355], [1455, 1827, 1, 442, 1204, 2091, 4280, 4281], [770, 23, 1, 818, 2491, 50, 139, 1651, 770], [4282, 43, 16, 688, 4283, 1065, 1828, 4284], [6, 4, 1, 366, 1829, 686, 514, 395], [1, 1456, 2, 181, 50, 4285, 154], [20, 11], [1, 272, 14, 2492, 17], [23], [2219, 1155, 85, 21, 180, 647, 80, 4286, 16, 281, 647, 71, 587, 1830, 4287], [4288], [4289, 278, 1408, 242, 9], [6, 126, 890], [4290, 1831, 1807, 4291, 4292, 4293, 1457, 1205, 689, 4294, 1457, 177, 1, 769, 1458, 4295, 1831, 45, 1457], [66, 1459, 5, 62, 111, 192, 166, 1, 34, 1423, 508, 27, 15], [12, 38, 763, 4296, 513, 281, 101, 27, 118, 293, 9, 35, 38, 1, 99, 87, 281, 587, 118, 263, 4297], [28, 563, 1104, 525, 1, 4298], [4299, 1832, 4300, 1], [36, 1], [1], [36, 1, 53, 707], [30, 1125, 24, 51, 1143, 51, 12, 4301], [1, 78], [44, 4302, 146, 1, 681, 105, 161, 1442, 1, 681], [1254, 4303, 411, 1116, 2147], [331, 1, 5, 51, 158, 111, 55, 363, 221, 32, 2493, 42, 84, 4, 313, 57, 2494], [562, 4304, 252, 187, 268, 1], [432, 198, 15, 81, 779, 118, 2495, 118, 4305, 15, 118, 1, 216, 118, 4306, 2496], [747], [80, 1, 233, 87, 158, 270, 224], [200, 4, 4307, 30], [7, 4308, 4309, 42, 4310, 297, 239, 1206, 1108, 1, 57, 4311, 4312, 216, 4313, 212, 241, 2497], [7, 4314, 1605, 241, 1278, 4315], [1207, 109, 3, 4316, 58], [723, 4317, 4318, 222, 891, 4319, 4320, 297, 1, 8, 153, 1178, 153, 1178, 864], [115, 30, 4321, 1291, 209, 235, 593, 4322, 4323], [134, 92, 256, 5, 1357, 790, 1, 427], [557, 1025, 61, 2498, 2157, 3, 152, 61, 557, 962, 4324], [4325, 55, 1460, 308, 564, 4326, 469, 89, 271, 1086, 546], [], [1833, 2499, 8, 67, 14, 66, 451, 192, 979, 1, 601], [2500, 4327], [10, 42, 293, 24, 4328, 299, 4329, 4330, 4], [4331, 4332], [285, 1026, 690, 958, 169, 1, 2, 39, 86], [25, 37, 220, 25, 90, 321, 1, 2, 4333, 321, 4334], [361, 94, 1, 2, 251], [4335], [1, 92, 65, 126], [4336, 4337, 4338, 4339, 669, 1834, 4340, 669, 1834], [11, 333], [9, 119, 20, 36, 70, 237, 322, 376, 143, 9], [6, 126, 1208, 19, 23, 18], [27, 121, 64, 1027, 40, 39, 2082, 115, 239], [78, 245, 1122, 103, 437, 1], [12, 225, 13, 57, 349, 3, 1001, 1, 146, 587, 138, 2, 256, 7], [12, 6, 1, 108], [2, 381, 4341, 1, 4342, 85, 50, 101], [625, 2501, 166, 4343], [853, 4344, 340, 68, 4345, 160], [892, 162], [85, 186, 1395, 1835, 186, 4346, 66, 2502], [2503, 52, 4347, 29, 4348, 2504, 410], [1560, 355, 1, 2505, 4349, 63, 848, 4350], [1, 4351, 4352, 204, 115, 120, 79, 112, 1461], [6, 405, 6, 34], [164, 74, 87, 41, 205, 4353, 654, 1756, 600, 183, 203, 883, 450, 25, 581, 1, 2, 1018, 4354], [1021, 7, 4355], [330, 1, 316, 530, 257, 519, 4, 21, 296, 330], [30, 303, 4, 80], [2506, 10, 63, 16], [1, 3, 275, 114, 104, 28], [1126, 4356, 25, 37, 19, 2507, 2508, 300, 1650, 1, 936, 4357], [28, 237, 376, 4358, 4359, 237, 892, 1103, 32, 205, 1209, 242, 1, 9, 139, 677, 4360], [194], [157, 38, 1, 108, 10, 8, 26, 14], [5, 18, 220, 1462, 488, 893, 735, 593, 4361], [630, 86, 420, 331, 1, 1339, 165, 1606, 8, 11, 14], [4362, 304, 4363, 76, 5, 357, 4364, 2455, 1186, 5, 357, 11, 105, 1644, 96, 222, 1], [603, 269, 1, 157, 4365], [5, 1, 366, 8, 67, 14, 66, 451, 67, 14, 66, 451, 192], [40, 24, 40, 31, 101, 340, 2334, 1463, 70], [1210, 2509, 4366], [503, 461, 4367, 1304, 138, 207, 127, 2, 1], [491, 354, 95, 4368, 4369, 2510, 2511, 46, 404, 529, 8, 226, 214, 153, 1178, 864, 188, 230, 155, 2, 251], [123, 305, 290, 2512, 1028, 2513, 4370, 4371, 2514, 15, 1109, 371, 1702, 169, 251, 1, 187, 881, 399, 185, 4372, 754], [255, 121, 148, 1322, 318, 1836, 4, 1836, 735, 4373, 4374], [1211], [4375, 4376, 294, 308, 26, 332, 1212, 421, 180, 218], [667, 93], [296, 4377, 408, 1443, 4378, 4379, 2515, 457, 297, 1426, 411, 4380, 4381, 161, 109, 297, 4382, 1, 1552], [4383, 2516, 1], [91, 54, 23, 1], [63, 149, 177, 35, 4384, 399, 4385, 399, 1, 240, 242, 120, 65, 371, 809, 127, 675, 1092, 13, 229, 1837, 198, 627], [37, 341, 321, 26, 2517, 1838, 1, 879, 711, 7, 37], [1, 3, 1407, 91], [197, 126, 678], [745, 62, 374, 3, 58, 966, 997, 1], [1, 45], [28, 1197, 1062, 52, 8, 1139, 14, 50, 7, 22, 1, 2, 259, 132, 623, 2518, 691, 2519, 6, 15], [4386, 316], [1213, 276, 1], [603, 1839, 164, 738, 1464, 1, 824, 13, 59], [299, 504, 4387, 118, 475, 490], [68, 29, 4], [4388, 390, 828, 4389, 255], [276, 4390, 2520], [4391, 1169, 82, 28, 276, 3, 912, 4392, 1593, 87, 186, 552, 30, 46, 41, 54, 1, 20, 54, 226, 4393, 4394, 4395], [368, 2521, 4396, 140, 2, 1, 531, 140, 721, 13, 149, 1145, 58, 658, 203, 636, 721, 140, 868], [22, 247, 32, 587, 1813, 32, 177, 1, 49], [346, 1075, 418, 692, 692, 11, 681, 77, 24, 681, 1023], [288, 1, 6, 5, 1465], [22, 1214, 4397, 13, 1293, 3, 861, 2522, 110, 142, 284, 932, 121, 95, 7, 15, 1], [290, 477], [444, 78, 812, 328, 183, 305, 1466, 176, 1, 354, 7], [105, 1027, 1017, 4398, 2523, 1467], [95], [2524, 4399, 61, 1840, 4400, 565, 4], [1409, 505], [2473, 206, 517, 1465, 1573, 15, 1], [4401, 89, 4402, 1296, 1082, 195, 27], [47, 294, 18, 332, 9], [969, 4403, 750, 1029, 35, 1772], [2525, 223, 453, 70, 332, 190], [76, 176, 1, 552], [56, 10, 1311, 4404, 618, 933, 490, 369], [867, 24, 2526], [716, 4405, 1690, 4406, 60, 1292, 862, 2527, 479, 305, 4407, 277], [534], [2528], [1841, 1, 223, 2529, 4408], [4409, 1215, 4410, 638, 1842, 4411, 4412, 4413, 51, 230, 232, 2530, 584, 329, 149, 4414, 116, 769, 399, 1843, 1, 187, 57, 78, 440, 35, 133], [30, 161], [157, 27, 4415, 1139, 132, 33, 480, 547], [667, 609, 269, 1, 28, 67, 679, 81, 82, 43, 1844, 8, 67, 14, 67, 192], [4416, 1845, 4417, 376, 26, 4418], [8, 2531, 4419, 4420, 8, 453, 14, 124, 4421, 66, 4422, 4423, 8, 768, 894, 1324, 1468, 50, 1, 47, 1300], [1, 614, 18, 483, 191, 112, 450, 191, 1], [4424, 81, 2532], [254, 4425, 225, 4426], [299, 403], [136, 2533, 209, 759, 24, 703, 2534, 703, 1012, 2535, 1030], [302, 79, 1821, 53, 954, 1255, 648, 1, 107], [1, 674, 1846], [7, 52, 2536, 1, 35, 40, 2537, 2340, 4427], [1847, 4428], [1848, 202, 32, 4429, 198, 2538, 1849, 4430, 683, 2539], [105, 308, 3, 1289, 212, 1469, 10, 715, 9], [112, 40, 285, 34, 216], [13, 98, 2, 1, 221, 2, 1, 4431, 8, 1850, 14], [4432, 4433, 1842, 362, 35, 1453, 1], [400, 249, 31, 1470, 660, 686, 44, 419, 731, 1173, 57, 1, 16], [1471], [23, 42, 6, 32], [70, 1085, 23, 61], [4434, 693, 2540, 61, 693, 995], [4435, 4436, 4437, 4438, 329, 4439], [6, 201], [1, 230, 304, 17, 626, 4440, 522, 17, 1141, 17, 19, 129, 1291, 127, 2541], [4441, 456, 16, 181, 760, 4442, 589], [820], [2163, 4443, 113, 397, 5, 2333, 95, 44, 2542], [4444, 11, 212, 80, 43, 1, 934, 296, 1010, 50, 538, 8, 500, 14], [65, 1], [383, 4445, 839], [1, 103, 895, 70, 145], [29, 59, 1851, 4446, 596, 1434, 4447, 17, 4448, 4449, 398, 1, 4450, 4451, 4452, 4453, 4454, 2543, 4455, 1472], [], [625, 768], [1, 18, 165], [6, 201], [526, 99, 4456, 2544, 871, 117, 13, 4457], [648, 2, 1, 307, 1657], [5, 4458, 648, 771, 4459, 229, 4460, 77], [250, 267, 1473, 1], [2545, 4461, 11], [244, 173, 796, 311, 1, 836], [2546, 2547, 2548, 1474, 653, 2549, 978, 631, 1, 1852, 4462, 2546, 2547, 2548, 1474, 653, 2549, 978, 631], [1745, 308, 2550, 713, 47, 687, 713, 4463], [4464, 1816, 4465, 4466, 4467, 840, 1254, 4468, 1], [4469, 892, 737, 690, 2267, 688, 679, 4470, 34, 4471, 4472, 148, 487], [74, 1251, 161, 600, 42], [896, 70, 249, 325, 17, 292, 1119, 414], [1472, 1], [40, 24, 483, 4473, 600], [547, 4, 201, 249, 254], [4474, 272, 937, 925, 786, 459, 1270, 786, 1853, 61, 4475, 4476, 4477, 4478, 4479, 427], [941, 4480, 1594, 4481], [2551, 19, 6], [23, 10, 790, 379, 4482], [47, 687, 58, 1, 4483, 682], [957, 248, 1], [307, 1854], [3, 7, 1216, 17, 4484, 1], [23, 1337, 619, 434, 502, 283, 4485, 457, 1855, 1, 1475, 86], [699, 70, 4486, 214, 4487], [4488, 856, 13], [125, 1369, 201, 200, 4489, 125, 984], [131, 183, 4490, 372], [145, 13, 2385, 4491, 2552, 3, 29, 4492, 4493, 3, 2553, 1476, 1, 4494, 4495, 421, 62, 1852, 232, 2554], [1477, 1285, 743, 39, 829, 2555, 4496, 4497, 4498, 4499, 41, 4500, 4501, 12, 79, 19, 16, 4502, 578, 167, 60, 51, 4503, 1], [203, 1611, 4504, 2556, 1], [1, 772, 897, 772, 897, 772, 897, 772, 897, 772, 897, 772, 897, 772, 897, 772], [10, 135, 63, 650], [720, 343, 952, 2557, 1, 221, 25, 90, 176, 90], [1356, 4505, 677, 79, 974, 4506, 601, 79, 317], [4507, 2, 107, 947, 1], [20, 19, 1, 212, 53, 48, 334, 1478], [4508, 1, 154, 29, 808], [125, 66, 67], [1, 108], [200, 4509, 415, 817], [4510, 114, 242, 335, 11, 2558, 280, 56, 4511, 581, 1, 2], [363, 703, 5, 1856, 946, 809, 30, 2169, 296, 573, 1, 13, 41], [32, 1331, 53, 4512, 2559, 586, 2560], [226, 490, 57, 7, 35, 2, 1, 2561, 26, 131, 1445, 1247], [2562, 4513, 834, 4514], [915, 16, 68, 363, 100], [20, 4, 12, 195], [1, 69, 72], [189, 364, 760, 25, 37, 47, 4515, 4516, 445, 1, 244, 4517, 831, 361], [2563, 5, 3, 4518], [569, 4519, 105, 2564, 245, 2207, 13, 521, 4520, 25, 37, 138, 3, 2565, 2276, 15], [230, 1, 4521, 1857, 4522, 4523, 2566, 1, 4524], [6, 126, 209], [68], [4525, 1858, 7, 54, 1, 28, 585, 64, 4526, 1214], [559, 31, 336, 169, 222, 1, 346, 152, 336, 1479, 153, 1459, 105], [362, 2233, 4527, 462, 590, 162, 27, 560], [106, 1624, 839, 652, 42, 228, 60, 79, 4528, 112, 1], [59, 218, 1187, 4529, 960], [39, 4530], [1274, 590, 4531, 1574, 498], [26, 53, 1198, 4532, 9, 4533, 1], [4534, 55, 898, 4535, 1267, 367, 1, 440], [1859, 4536, 422, 4537, 1197, 556, 25, 37, 33, 1, 15, 4538, 380, 891, 1, 313, 4539, 2567, 430, 2567, 4540, 4541, 1859, 1860, 1750], [4542, 219, 446, 197], [7], [5, 3, 408, 134, 2568, 1, 8, 500, 14], [1], [4543, 153, 566, 749, 2, 1, 138, 9, 94, 98, 138, 57, 11, 131, 83, 282, 280], [1697, 854, 4544, 1861, 1, 39, 2342, 2569, 847, 222, 4545, 692, 177, 1350, 4546, 268, 341, 2162, 4547], [23, 1862, 446, 247, 88, 4548, 1862, 4, 89, 549, 4, 395], [2101], [177, 1], [45, 1, 559, 1863, 1864, 64, 142], [116, 248, 2, 1], [5, 431, 126, 36, 10, 11], [5, 4549, 875, 4550, 262, 2570, 1217, 683, 926], [1218, 4551, 2193, 1616, 4552], [246, 2571, 35, 321, 347, 4553, 4554, 1, 66, 458, 185, 57, 1739, 1214, 4555], [388, 1571, 33], [189, 4556, 85, 740], [89, 1, 83, 8, 500, 14], [2572, 1356, 2573, 4557, 152, 1, 78, 7, 204, 1028, 78, 2574, 521, 113, 4558, 1480, 2572, 117, 82, 1660, 657], [337, 21, 1269, 35, 254, 1481, 385, 56, 21, 68, 9, 18], [21, 4559, 1482, 1482, 1482, 1482], [64, 50, 7, 148, 4560, 213, 1733], [40, 351, 255, 213, 52], [3, 101, 205, 188, 59, 1, 814, 275, 141, 4561], [23, 368, 80, 180, 4562], [4563, 597, 126], [11, 34, 100, 4564, 2575, 174, 1865, 1, 108, 27, 655, 4565, 878, 10], [195, 4566, 45, 1, 3, 1441], [4567, 4568, 66, 258, 1577, 1, 300, 4569], [1866, 405, 1182, 80, 4570, 1182, 991, 564, 4571], [7, 1, 187, 245, 899], [4572, 612, 450, 792, 223, 4573, 1344, 4574, 1867], [615, 337], [409, 711, 1, 265, 111, 2576], [532, 179, 45, 1, 409, 155, 832], [1, 432, 8, 29, 1400, 14], [2230, 2577, 2374, 1219, 6, 1, 7, 44], [273, 1854, 1], [19, 1, 377, 491, 88], [1394, 2335, 4575, 458, 6, 19, 4576, 131, 1, 2, 1199, 1816, 1421, 111, 374, 129, 20, 575, 3, 240, 821, 614], [5, 38, 42, 2469], [1, 4577, 244, 2578, 4578, 95, 4579], [100], [122, 52], [127, 1, 63], [112, 7, 122], [30], [4580, 2579, 2580, 417, 1, 30, 5, 6, 262, 4, 313, 85, 122, 249, 10, 232, 3, 12], [76, 371, 1, 1868, 4581, 86, 4582, 665], [307, 100, 43, 305, 1869, 4583, 24], [7, 2044, 2581], [24, 4584, 275, 680, 1870, 292, 2582, 4585, 4586, 1006, 143], [337, 97, 475, 433], [132, 242, 875, 275, 11, 114, 316, 53, 26, 349, 1385, 377, 125, 19, 1141, 2583, 643, 1, 818, 220], [4587, 116, 4588, 1, 208, 103, 725, 664, 209, 1871, 37, 1872, 1873, 15, 4589, 1483, 717], [1, 625, 4590, 1282, 5, 447], [227, 272, 291, 222, 2, 49, 1, 4591, 153], [134, 12, 1484, 2584, 61, 4592, 4593, 1175, 788, 1220, 4594, 4595, 1874, 4596, 1677, 2524], [4597, 1591, 145], [59, 4598, 322, 1, 676, 388, 4599], [4600, 4, 4601, 810], [4, 4602, 1056, 1677, 765, 503, 4603, 21, 917, 4604, 485], [4605, 43, 4, 4606, 4607], [2, 1, 43, 22, 4608], [40, 1, 2034], [1875, 4609], [12, 1, 171], [433, 34, 47, 687, 585, 194], [264, 69], [49, 165, 1], [21, 4610, 4611, 1112, 44], [521, 466, 286, 2585, 4612, 4613, 1, 4614, 1117, 159, 1849, 17, 4615, 4616, 2586, 935, 4617, 4618, 4619, 1097], [70, 625, 1, 117, 1876, 83], [114, 1877, 4620, 75, 233, 4621], [383, 4622, 29, 2587, 2588, 4], [4623], [1, 25, 90, 11, 4624, 5, 234, 12, 65, 1113, 2589, 1404, 13, 91, 423, 1485, 25, 90, 5, 4625], [2412, 295, 1, 2493, 4626, 4627, 554, 4628, 4629, 4630, 16, 9, 366], [813, 2590, 1], [746, 4631, 2220, 1248, 266, 57, 269, 1, 2], [23, 161, 4632, 488, 383, 174, 100, 383, 31, 123, 68], [1, 177, 1, 280, 177, 1], [566, 1829, 267, 1351, 1, 312, 2, 1221, 4633, 1117, 159, 4634, 4635, 267, 321, 319, 49, 2, 1], [76, 234, 1, 53, 107, 307, 151, 12, 1878, 624, 634, 952, 55, 1878, 10, 1443, 6, 32, 1878], [12, 1, 1879], [119, 36, 13, 13, 121, 63, 11, 30, 132, 45, 181, 1, 38], [4636, 82, 71, 4637, 3, 153, 786, 4638], [1, 119, 69, 64], [2591, 2592, 217, 697, 16, 190, 36, 237, 71, 22, 23, 1, 17], [74, 68, 741, 2234, 39, 10, 1771, 27], [307, 4639, 448, 4640, 1425, 660, 4641, 389], [50, 56, 1880, 1, 174, 100, 7, 1222, 84, 53, 58, 105, 50, 119, 4642], [218, 2560, 1, 136, 2514, 34, 4643, 20], [56, 1832, 4644, 114, 2593], [36, 266], [2594, 681, 886, 45, 1], [507, 1, 160, 160, 4645, 4, 8, 742, 67, 742, 67, 742, 67, 14, 50, 4646, 1110, 1486, 1326, 4647, 8, 334, 4648, 4649], [77, 77, 4650], [4651, 4652, 101, 26, 4653, 16, 126, 1487, 2448, 1207], [1, 92, 533, 223, 2595, 8, 1881], [547, 4, 406, 419, 9, 4654, 896], [230, 2596, 441, 4655, 22, 4656, 4657], [4658, 4659, 1, 134, 865], [258, 4660, 7, 372, 2597, 674, 736, 4661, 554, 2597, 20, 4662], [80, 9, 373, 342, 4663, 265, 1, 2, 28, 65, 50, 101, 1668, 473, 541, 85, 93], [1329, 47, 3, 1], [6, 34, 279], [664, 652, 4664, 4665, 177, 1], [80, 1, 233, 87, 158, 4666, 224], [2598, 4667, 4668, 4669, 1], [172, 1004, 54, 727, 1], [1, 1361, 229], [635, 1, 108, 23, 3, 449, 449, 199, 356, 449, 160, 26], [1882, 52], [331, 5, 2, 1], [250, 267, 312, 1], [361, 361, 4670, 2591, 1120, 4671, 4672, 821, 2240, 1275, 4673, 1], [7, 1, 355, 2599, 8, 14, 47, 4674, 4675, 2599, 4676, 355, 543, 2600, 95, 1742, 4677], [7, 1, 881, 245, 899], [115, 27, 1031, 1313], [832, 139, 653], [4678], [6], [4679, 731, 2601, 900, 105, 515, 23, 1, 2296, 2297, 4680, 2602, 977, 4681, 2603, 1032], [901, 4, 4682, 68], [1223, 196, 4683, 6, 20, 50, 4684, 424, 2354, 4685, 4686, 374], [4687, 2604, 4688, 4689, 4690, 4691, 4692], [133, 4693, 59, 34, 19, 105, 134, 744, 642], [1144, 935, 551, 4694, 7, 2605, 35, 154, 2443, 33, 1], [6, 34, 52, 219, 201, 548, 30], [4695, 4696, 171, 1322, 1], [4697, 4698, 313, 77, 4699, 628, 209, 77, 564, 4700, 2035], [290, 50, 7, 116, 448, 13, 299, 671, 25, 37, 648, 25, 37, 138, 116, 116, 16, 169, 4701, 2, 1, 4702], [4703], [1398, 302, 35, 4704, 34, 126], [1883, 1884, 4705, 1406, 1, 2, 4706, 63, 118, 4], [291, 447, 1696, 1, 1697, 854, 2269, 2270, 1698, 297, 4707, 188], [414, 4, 10, 668, 890, 344, 375, 1, 2, 55], [4708], [4709, 4710, 99], [4711, 660, 1, 45], [9, 7, 9, 7, 642, 7, 66, 122, 782, 28, 6, 15, 176, 1], [4712, 558, 1], [38, 2606, 837, 4713], [752, 4714, 2607, 1, 5, 1856, 36, 8, 830, 14, 124, 274], [104, 4715, 4716], [1033], [49, 153, 256, 417, 1, 2, 826, 82, 139, 1393, 542, 19, 20, 833], [238], [1, 1471, 71, 4717, 277, 332, 160, 4718, 413, 38, 357, 1438, 194, 147, 2274, 7, 4719, 576, 19, 109, 56, 359, 105, 4720], [4721, 1462, 106, 4722, 4723, 24, 4724], [397, 959, 21, 46, 4725, 4726], [2603, 318, 75, 4727, 693, 4728, 4729], [4730, 323, 261, 2530, 616, 98, 357, 157, 5, 2608, 111, 471, 1678, 279, 4731, 630, 1488, 1, 95, 355, 681, 4732], [228, 2609, 902, 6, 405, 2609], [1096, 241, 4733, 1096, 241, 1], [131, 1, 2, 19, 48, 1824, 88, 10, 985, 7, 12, 468, 2610], [2611, 1034, 278, 4734, 4735], [250, 267, 312, 1, 1022, 267], [1, 301, 686, 1, 1885], [20, 4, 802, 4736, 16, 135, 553, 34, 618, 1035, 956], [6, 2612, 1655, 318, 15, 1], [258, 2206, 68, 279, 31, 705, 22, 31], [765, 390, 28, 4737, 1, 3], [4738, 714, 1489, 166, 4739], [1848], [135, 4740, 773, 101, 363, 557, 311, 4741, 481, 4742, 498, 5, 1886], [465, 9, 183, 4743, 179, 954, 1490, 4744, 551], [620, 1490, 1653, 561, 49, 2, 1, 136, 339, 333, 357, 350, 4, 620, 671, 4745, 1595, 241, 620, 4746], [752, 2257, 7, 943, 31, 1, 429], [566, 2410, 10, 210, 401, 2613, 136, 36, 401, 420, 110, 19, 17, 30], [157, 134, 1301, 143, 622, 1, 152, 31, 19, 572], [2614, 2615, 2615, 1432, 145, 88, 105, 2174, 2538, 1491, 4747], [178, 564, 4748, 175], [1, 62], [59, 1418, 4749, 340, 1, 62, 131], [4750, 157, 28, 43], [77], [1, 6, 1004, 694, 2616, 90, 325, 26, 4751, 7, 1167, 104, 10, 34, 353, 813, 105], [63, 4752, 124], [326, 409, 97, 450, 737, 1833, 47, 687, 253, 193, 152], [1220, 4753, 1056, 4754, 1220, 4755], [100, 150, 20, 1643, 391], [4756, 129, 2617, 157, 7, 106], [59, 4757, 1, 106], [], [], [934, 1, 2, 538, 23, 1687], [24], [877, 78, 1417, 2356, 79, 1745, 2357, 72, 1, 2358], [6, 126, 170, 126, 1055, 513, 4758, 735, 4], [394, 13, 244, 13, 3, 52], [1887, 52, 1794, 1888, 310, 141, 1], [39], [201, 69, 168], [11, 1444, 44], [4759, 38], [6, 34, 4760, 16, 261], [1, 111, 686, 4761, 215, 17, 9, 77, 2212, 2618], [4762], [1, 341, 346, 2, 1, 50, 2619, 664, 652, 5, 638, 360, 140, 1, 8, 226, 214, 4763, 464, 2620, 4764], [7, 896], [172, 171, 106, 4, 15, 512, 265, 111, 1492, 1, 1492], [1129, 541, 22, 6, 4765, 1053, 890, 261, 4766, 374, 22, 34], [144, 4767, 234], [4768, 1, 48, 1161, 2490, 4769, 1493, 136, 1493], [3, 332, 21, 246, 6, 19, 105, 18, 199, 27, 1, 223, 8, 878, 14], [73, 416, 1, 220, 327, 691], [285, 1026, 23, 102, 252, 2, 1, 127, 895, 4770], [515, 1, 529, 317, 225, 125, 4771, 4772, 1181, 459, 4773, 1494], [766, 1, 47, 6, 8, 878, 14], [331, 373, 900, 4774, 4775, 1889, 1890, 1, 71], [621, 4776, 304], [44, 4777, 2355], [243, 7, 677, 4778, 4779, 114], [4780], [646, 48, 804, 211, 48, 4781, 60, 903, 69, 526, 4782, 4783], [42, 490, 2621, 88, 122, 25, 37, 1759, 346, 259, 1, 31, 336, 105], [4784, 48, 177], [1257, 1891, 5, 4785, 4786, 28], [461, 1, 181], [82, 2192, 161, 4787, 4788, 447, 4789, 339, 4790, 447, 1587, 319, 561, 2, 1, 2061, 35, 4791, 2622, 1199, 2623, 563, 1649, 4792, 807], [904, 30, 286, 15, 371, 501, 1, 435, 15, 404, 17, 849, 1486, 167, 516], [182, 486, 84, 356, 105, 4793, 1554, 81, 4794, 83], [4795, 47, 3, 2624, 337, 47, 1036, 604, 445], [743, 761, 303, 755, 93, 398, 1, 2, 895], [1], [2625, 4796, 57, 1892, 4797, 187, 57, 4798, 161, 45, 1], [842, 76, 1, 455, 15, 309, 843, 970, 971, 4799], [20, 211, 58, 5, 6, 11, 101, 1, 5, 121, 21, 5, 3, 787, 4800], [14, 24, 4801, 100], [812, 7, 28, 39, 1748, 1472, 1735, 2, 1, 26, 138, 1023, 4802, 1893, 1748, 4803, 277, 15, 4804, 10, 4805], [24], [21, 455, 643, 1, 2, 643, 830, 1359, 14], [1, 1037, 4806, 17, 57, 1570, 4807, 4808], [2474, 54, 25, 90, 17, 25, 90, 629, 914, 154, 54, 1, 10, 65, 1716, 140, 295], [4809, 691, 2102, 1171, 4810, 204, 14, 18, 338, 418, 950, 222, 2626, 3, 38, 31, 4811], [1224, 1225, 104, 398], [337, 2627], [200, 4812], [381, 1486, 1208, 4813, 902], [4814, 76, 1, 758, 17, 240, 10, 4815, 4816, 741, 333, 1038, 39, 46, 749, 253, 17], [4817, 593, 4818, 4, 520, 3, 384], [2628], [79, 1459, 107, 671, 35, 895, 211, 1894, 39, 4819, 210, 4820, 350, 2395, 98, 1, 4821], [4822, 34, 495], [56, 578, 154, 131, 458, 11, 397, 465, 2629, 520, 1360], [30, 14], [162, 4823, 1855, 4824, 1208, 75, 491, 4, 4, 4, 4825], [32, 104, 771], [244, 2630, 4826, 2631, 1466, 903, 4827, 174, 2631, 23, 510, 1453, 1, 65, 1058, 116, 2632, 4828, 177, 116, 2632, 4829, 2633, 89, 2633, 4830], [21, 11, 392, 35, 1, 2, 177, 28, 2634, 78, 2246, 56], [501, 1, 179, 984], [1], [1036, 86, 534, 1290, 1478, 169, 1895, 222, 2, 1, 922, 636, 905], [661, 1, 8, 467, 14], [84, 10], [2512, 142, 640, 35, 630, 216, 17, 695, 824, 203, 12, 4831, 524, 561, 78, 4832, 2635, 1], [], [543, 103, 437, 139, 1, 31, 2636, 4833, 543, 103, 15, 4834, 4835], [1896, 2637, 554, 4836], [71, 69], [621, 16, 15, 15, 15], [22, 4837, 152, 530, 4838, 2638, 45, 1, 753, 1897, 382, 657, 69], [1079, 158, 94, 315, 804, 1, 46], [98, 4839, 90, 1, 4840, 1620], [1898, 4841, 121, 11, 1899, 46, 515, 836, 542, 272, 189, 1191, 4842, 4843, 265, 1], [4, 4844, 60, 1, 45], [7, 1549, 367, 64, 4845, 4846], [637, 1431, 382, 1431, 1, 8, 14, 124, 219], [941, 286, 4847, 99, 1, 119, 225, 4848], [257, 4, 73, 2639, 196, 102, 252, 1], [1, 1393, 146, 161, 1442, 8, 467, 14, 770, 4849], [2370, 4850, 2640], [110, 590, 490, 206, 13, 1, 33, 185, 38, 305], [1900, 45, 1], [13, 54, 45, 15, 1, 2, 45, 4851, 215, 4852, 1077], [1163, 551, 121, 4853, 617, 47, 4854, 1386, 4855, 983, 2556, 3, 1188, 128, 4856, 4857, 1188, 1386, 228, 2251, 641, 1, 551], [292, 819, 4858, 216, 34, 124], [920, 4859, 920, 810], [134, 2641, 68, 227, 905], [31, 1901, 1, 606, 334, 21, 4860, 6, 19, 1440, 1010, 195, 4861, 2350, 393, 334], [86, 4862, 2642, 4863, 146, 107, 365, 1], [54, 1, 31, 321, 1430, 800, 185, 4864, 1403, 71, 95], [264, 68, 74, 255, 182, 1495, 2643, 1, 685, 264, 302, 218, 1282, 70, 6, 1009, 68, 32], [2644, 1902, 31, 323, 87, 4865, 4866, 23, 2644, 1], [218, 4], [504, 1903, 4867, 706, 627, 4868], [4869, 1904, 1226, 846, 89, 4870], [5, 1905, 2277], [4871, 2645], [4872, 1144, 43, 786, 69, 118, 4873, 5], [422, 768, 1341, 943], [4874, 56, 63, 2586, 275, 45, 1], [1034, 614, 75, 4875, 44, 2646, 1754, 21, 55], [4876, 32, 52, 4877, 38, 202], [11, 966, 1, 8, 467, 467, 467, 467, 467, 467, 467, 14], [2, 1, 19, 10, 13, 63, 278], [78, 1, 245, 4878, 4879, 1411], [794, 176, 793, 1, 1496, 207, 109, 1789, 4880, 4881, 4882], [301, 260, 1, 4883, 1563], [12, 54, 1, 2, 15, 12, 418, 860, 569, 7, 569, 25, 37, 692, 1811, 1599], [288, 507, 1, 2, 20, 599, 592, 8, 500, 14], [199, 106, 1, 108], [279, 28, 43, 1, 25, 90, 43, 411, 121, 54, 25, 90, 11, 96, 234, 2625, 137], [293, 4884, 2381, 2543, 2106, 1383, 60, 1194, 434, 16, 53, 2647, 2450, 4885, 622, 1, 8, 156, 27, 14], [112, 1227, 1783, 2362, 21, 431, 1347, 4, 42, 720], [1835, 1, 2, 1067, 770, 9, 371, 928, 1039, 1831, 4886], [129, 2411, 1228, 36, 4887, 4888, 20, 306], [86, 39, 4889, 863, 164, 102, 252, 25, 37, 131, 1, 2, 78], [774, 1426, 2379, 125, 2616, 566, 4890, 45, 1, 476, 91], [433, 4, 4891, 4892], [647, 1], [], [515, 93, 4893, 1906, 50, 7, 105, 1458, 1907, 787, 1], [1, 62], [1497, 4894, 944, 4895, 116, 30, 2648, 533, 4896, 298, 527, 1, 1091, 4897, 4898, 387, 330, 1420, 4899], [60, 135, 4900, 1561, 1031, 4901], [381, 135, 679, 332, 2649, 79, 2650, 2651, 79, 4902, 615, 2652], [722, 308, 61, 678, 255, 4903, 462], [1014, 1215, 4904, 4905, 35, 23, 1, 1014, 2653, 4906, 2565, 2654, 2655, 2656, 553, 2441, 1192, 114, 4907, 4908, 4909, 4910, 1014, 2653, 4911, 23, 1, 4912, 2656, 215], [1228, 182], [30, 536, 80, 129, 84, 530, 84, 2657], [1036, 22, 96, 81, 853, 81, 1412, 4913, 547, 856, 448, 81, 261, 659, 81, 76, 514, 1, 873, 131, 608, 139, 1638, 1016], [77, 96, 34], [4914, 37, 1, 49, 1185, 575, 764, 419, 232], [40, 67, 530, 110, 9], [1, 2, 352, 231, 163, 1703], [4915, 181, 1427], [1085, 4, 4916, 162], [56, 1025, 4917, 4918], [62, 30, 19, 6], [4919, 2405, 1271, 1, 4920], [4921, 1, 2, 533, 231, 2658, 419, 542], [52, 286, 235, 133, 76, 2, 1], [1, 130, 906, 84], [1, 62], [582], [747, 18, 69, 56, 425, 139, 508, 359, 38, 4922, 4923, 702], [182, 926, 111, 1445, 111, 818, 1297], [1224, 1225, 4924, 1027, 1027, 93], [145, 29, 266, 4925, 2659, 4926, 4927, 1038], [461, 1612, 951, 161, 109], [898, 31, 818, 1800, 4], [4928, 4929, 2, 352, 4930, 1], [1, 5, 3, 27, 10, 206, 5, 1077, 10, 9, 896, 131], [12, 130], [4931, 2660], [52, 255, 5, 121, 2661, 2662, 541, 343, 49, 1099, 244, 1], [2663, 1498, 4932, 1908, 1229, 1499], [147, 11, 276, 913, 914, 154, 295, 956, 215, 48, 334, 289, 48, 1, 147], [1, 141, 4933, 1909, 152], [828, 63, 4934, 4935, 15], [4936, 1067, 1, 9, 20, 19, 105], [627, 553, 464, 1734, 308, 160], [60, 32, 4937, 882, 30], [4938, 136, 1], [45, 1, 454, 1495, 858], [711, 493, 554, 1769, 2664, 2664, 4939], [], [994, 1910, 4940, 21, 153, 42, 2665, 74, 60, 74, 252, 352, 231, 378, 1, 176, 2, 107, 185, 19, 22, 109], [2626, 2666, 1250, 4941, 75, 337, 1555, 258, 168], [346, 244, 176, 1, 176, 2, 4942, 2501, 179, 8, 67, 14, 4943], [1634, 860, 1040, 2667, 323, 556, 1, 182, 13, 1185, 861], [489, 1, 9, 279], [1476, 4944, 930, 1], [469, 1794, 23, 1, 586, 31], [4945, 239, 419, 11, 177, 1], [1887, 712, 1, 1911, 154, 1196, 50, 4946, 4947, 186, 88], [313, 1230, 318, 58, 2668, 4948, 2347, 4949, 4950], [158, 740, 4951, 1469, 199, 465, 5, 355, 2336, 211, 9, 122, 129, 2669, 1, 81, 1, 1566, 537, 5, 4952, 16, 1872], [1576, 215, 4953, 698, 4954, 454, 94, 438, 32, 1, 4955, 4956], [4957, 18, 83, 166], [24, 4958, 4959, 4960, 4961], [872, 18], [20, 4, 144, 419, 376, 2670], [33, 4962, 1500, 111, 1041, 436, 644, 596, 1, 2165, 1041, 1500], [4963, 1, 1912], [2503, 4964, 2671, 4965], [73, 257, 4, 196, 102, 252, 1, 37], [134, 599, 20, 550, 1367, 4966, 4967], [1231, 152, 17, 31, 352, 2, 231, 58, 1, 301, 686, 70, 480, 537, 4968, 386, 1078, 707, 8, 1626, 386, 2672], [1087, 1213, 36, 688, 4969], [249, 31, 17, 283, 457, 4970, 4971, 1263, 116, 25, 37, 2, 1, 354, 185, 339, 1372, 1059], [42, 254, 1232], [3, 173, 2673, 45, 1, 1364, 690], [2674, 29, 2675, 12, 907, 15, 1, 83], [595, 1424, 4972, 137, 669, 34, 4973, 1181], [4974, 366, 1034, 278], [802, 1, 414, 22, 4, 77, 389], [2607, 4975, 289, 1, 461, 16, 444, 4976, 207, 8, 67, 14, 67, 14, 67, 14, 1501], [176, 365, 1, 181, 1167], [118, 1502, 1, 23], [4977, 4978], [4979, 1675, 47, 412, 1714, 516, 1895, 423, 1, 13, 1, 922, 340, 4980], [377, 22, 2393, 10, 49, 1, 240, 4981, 4982, 4983, 2676, 2677, 131, 57], [407, 38, 48, 56], [], [1, 186, 174, 44], [11, 13, 280, 1, 62, 19], [11, 845, 4984], [80, 1, 233, 87, 158, 270, 224], [21, 74, 605, 1913, 19, 22], [148, 66, 12, 4985, 491, 1, 1, 4986, 56, 1430, 130, 132, 78, 46, 4987, 2678, 4988], [1275, 1490, 458, 4989, 4990, 4991, 111, 2181, 2613, 1283, 610, 4992, 4993, 1281, 4994, 4995, 2679, 458, 4996, 2680, 154, 1130, 1, 1093], [61, 28, 4997, 61, 488, 466, 4998, 4999, 5000, 5001, 5002, 834, 128, 5003, 476, 5004], [5005, 45], [19, 1], [210, 13, 57, 1, 342, 5006, 429], [748, 2681, 973], [9, 133, 266, 11], [77, 314, 189, 61, 190], [592, 313, 81, 1], [], [238, 24, 6, 232], [68, 1444, 2682, 5007, 1431, 5008, 1, 2419, 241], [82, 1], [23, 509, 2683, 5009, 364, 10, 121, 148, 72, 2683], [2684, 5010, 346, 947, 1, 893, 2685, 525, 313, 227, 1807, 544], [96, 449, 137, 1914, 468, 932, 574, 19, 44, 123, 631, 1, 208, 645, 115, 45, 13, 13, 2173, 1503, 81], [212, 12, 2686, 171, 549, 307, 147, 1722, 5011, 1, 294, 2687], [244, 173, 796, 1, 1124, 5012], [97, 805, 5013, 1915, 960, 5014, 1916], [589], [40, 1504, 5015, 74, 28, 5016, 32], [112, 101, 12, 5017, 5018], [5019], [22, 1460, 1005, 1220, 5020, 5021, 5022, 5023, 2407, 2688, 2688, 5024, 1, 1005, 5025, 5026, 2053, 1859, 930, 5027, 1917], [84, 839, 68, 5028, 5029, 5030], [18, 1, 139, 833, 710, 5031, 202, 262, 5032, 40, 6, 4, 8, 1850, 14], [43, 294, 5033], [1787, 412, 46, 5034, 771, 457, 1], [775, 1464, 2689, 1, 775, 375, 502, 522, 1, 775, 662, 57, 775, 2690, 340, 298], [504, 5, 1631], [5035, 1, 5036], [3, 908], [5037, 5038, 605, 1489, 1341, 5039, 2691, 125, 255, 166, 61, 5040, 5041], [1500, 1059, 25, 37, 556, 58, 877, 5042, 25, 37, 1316, 1746, 52, 656, 502, 248, 1, 656, 286, 5043, 202, 350, 827, 72], [34], [773, 5044, 22, 499, 499, 499], [5045, 5046, 5047, 43, 93, 275, 115, 45, 1], [36], [2513, 546, 477], [5048, 866, 337, 744, 5049, 232, 455], [144, 5050, 307, 2529], [9, 5051, 16, 5052, 5053, 225, 5054], [11, 16, 10], [70, 79, 168, 168, 83, 2692, 1463, 51, 382, 12, 2693, 5055], [5056, 145, 13, 33, 5057, 1, 296, 1052, 1472, 5058, 2516, 1026, 2694, 470, 327], [1455, 1918, 1042, 1133, 1, 442, 5059, 5060], [2361, 505, 27, 916], [1019, 368, 57, 737, 704, 5061, 2695, 4, 423, 25, 90, 417, 1023, 1, 22, 1023, 1259, 1006], [1], [2696, 48, 5062, 2364, 38, 4, 44], [170, 1891, 5063], [2647, 8, 453, 14, 1271, 3, 1, 5064], [115, 481, 2697, 5065, 28, 5066, 5067, 183, 132, 774, 593, 2698], [24, 12, 2063], [13, 103, 346, 141, 1, 245, 5068, 399, 118, 121, 118, 38, 118, 1919, 118, 607, 201, 461, 141, 118, 917, 2699, 273], [73, 1221, 102, 1], [65, 16, 5069, 7, 5070, 802, 609, 47, 414, 44], [481, 1500, 1, 2, 891, 512, 1073, 17, 1466, 398], [5071, 20, 19, 105], [2700, 2701, 83, 180, 998, 5072], [890, 5073, 808], [36, 193, 5074, 5075, 2702, 1226, 14], [541, 44], [453, 954, 5076, 815, 184, 13, 1169, 1010, 569, 210, 366, 848, 509, 121, 94, 1113, 5077, 365, 1, 5078, 1233, 5079, 132], [57, 173, 174, 404, 1], [347, 603, 4, 1, 83], [1920, 62, 5080, 5081, 1310, 5082, 2670, 1920, 760, 241, 5083, 5084], [42, 191], [135, 44, 5085, 2703, 5086], [1], [790, 394, 320, 196], [221, 5087, 427, 2704, 52, 1848, 5088, 470, 191, 2533, 5089], [85, 16], [845, 2331, 1921, 1759, 117, 5090, 273, 763], [135, 298, 2705, 52], [63, 5091, 51, 2197, 1261, 10, 1], [2706, 33, 243, 16], [2700, 5092, 358, 3, 55, 739, 739, 21], [1069, 204, 5093, 1362, 2707, 81, 2708], [54, 1, 2, 31, 135, 636, 905, 227, 15, 56], [166, 166, 83], [574, 153, 28, 5094, 5095, 37, 28, 314, 1615, 1262, 2709, 1505, 700, 227, 37, 9, 2710, 849, 1043], [2711, 5096, 5097, 1922, 415, 144, 559, 31, 83], [6, 4, 928], [6, 145], [5098, 10, 475, 1923], [7, 5099, 308, 1449, 2652, 874], [24, 5100], [57, 5101, 52, 65], [7, 38, 353, 304, 7], [5102, 219, 19, 219, 1, 288], [56, 1843, 5103], [62, 33, 778, 439, 989, 1, 54, 767, 372, 1902, 1397, 660, 5104, 175, 15, 220], [11, 32, 2712, 2713, 62, 700], [1773], [699, 264, 68, 17, 5105], [5106, 6, 161, 5107], [5108, 589], [1106, 5109, 59, 38, 95, 7, 311, 38], [2052, 744, 205, 188, 193, 841, 11, 601, 441, 1, 5110, 714, 8, 27, 27, 14], [57, 2299, 404, 2, 1, 430, 5111, 440, 150], [5112, 415, 50, 2154, 1506, 12, 39, 261, 40, 167, 244, 1665, 5113, 46], [1, 44], [788, 58, 1605, 59, 5114, 1, 1507, 487], [285, 34], [434, 33, 80, 741, 1, 479, 43], [1, 2, 514, 5115, 40], [269, 1, 1508, 1924], [1925, 2629, 924, 284, 694, 46, 1095, 767, 727, 1, 5116, 59], [110, 2714, 2715, 1, 316], [1743, 5117, 5118, 714, 921, 105, 1396, 193, 5119, 565], [590, 216, 2716, 1234, 172], [1186, 139, 6, 445, 244, 5120, 106, 546, 5121, 5122, 143, 634, 1215], [595, 36, 66, 446, 564, 157], [31, 1869, 1602, 99], [419, 648], [5123], [73, 428, 196, 102, 1, 86, 338], [99], [532, 5124, 1], [534], [], [5125, 38, 24, 5126], [5127, 18, 841, 96, 5128, 44], [726, 663, 144, 112, 57], [67, 826, 1641, 194, 30, 136, 35, 154, 546, 2330, 209, 5, 6, 913, 662, 1, 2], [1, 99], [533, 105, 133, 5129], [144, 5130, 5131, 144, 266, 117], [378, 1], [2542, 5132, 5133, 311, 1011, 1755, 430, 54, 1, 618], [70, 1428], [39, 46, 2142, 2717, 2717], [], [756, 253, 100, 24], [1926, 26, 2718, 1, 2, 326, 1684, 5134, 5135, 709, 5136], [1, 108, 10, 8, 67, 67, 14], [64, 5137, 5138, 2117, 194, 3, 5139, 120, 1, 262, 31, 2213, 5140], [22, 1092, 1349, 5141, 1791, 100], [109, 540, 45, 1], [576, 157, 808, 5142, 75, 2719, 44], [466, 5143, 6], [288, 473, 2720, 256, 28, 2721, 1914, 1, 1704, 5144, 2722, 5145, 3, 5146, 5147, 1881, 5148, 2723, 2724, 5149, 427, 2723, 5150], [147, 134, 649, 83, 1803, 823, 372, 5151, 5152, 61, 149, 5153, 403, 1903, 2725], [160, 47, 683, 784, 350, 1, 1059, 2726, 475, 2634], [147, 397, 43, 167], [2727, 2728, 1, 769, 1814, 863, 888, 862, 2527, 2286, 330, 769, 5154, 2639, 847, 222, 5155, 2729, 29, 283, 5156], [11, 88, 228, 5157, 1399, 278, 217, 855, 937, 1860, 1399], [127, 1, 92, 126, 1509], [1908, 5158, 79, 1927, 305, 5159, 28, 29, 442, 237, 9, 7, 15, 45, 1], [59, 2730, 1, 152, 176, 1510, 87, 445, 17, 41, 5, 3], [5160, 1928, 1, 372], [115, 315, 11, 13, 392, 1, 334, 115, 195, 1, 25, 90, 35, 510, 5161, 221, 5162], [3, 2704, 798, 1, 5163], [16, 2731, 5164, 5165, 220, 82, 708, 5166, 1929, 72, 5167, 1, 539, 1929, 1588, 880, 5168, 5169, 5170], [43, 4], [70], [919, 969, 3, 1930, 98, 259, 132, 1, 207, 394, 342, 1000, 5171], [7, 51, 20, 1020, 5172, 353], [161, 756, 1137, 292, 2732, 51], [10, 11, 850, 1142, 57, 1, 76, 1511, 774, 937, 1931, 183, 13, 3, 119, 1692, 13, 14, 277, 5173], [65, 1, 471, 1, 1131, 13, 127, 1, 115, 211, 20], [1574, 5174], [603, 672, 1], [65, 34, 773], [1013, 1769], [62, 387, 81, 21, 1095, 365, 1], [5175, 776, 57, 1, 5176, 16, 5177, 334], [383, 26, 163, 1], [40, 439, 2733, 421, 129, 598, 236, 219, 9, 5178, 5179, 2360], [250, 267, 312, 1, 418, 306, 18], [940, 5180, 2734, 5181, 5182, 104, 97, 126, 5183, 2735, 12], [1932, 5184, 210, 1447, 1328, 1447, 435, 271, 5185, 2736, 6, 227, 5186], [47, 5187, 2737, 383, 326, 7, 1933, 350, 1, 637, 916, 8, 14, 124, 274], [23, 1, 641, 168, 41, 169, 929, 5188, 41, 5189, 142, 5190, 1065, 1120, 205, 5191, 5192, 1861, 1373, 22, 1693, 1209, 2738, 191, 836, 76], [5193, 5194, 5195, 5196, 2739, 25, 37, 130, 72, 5197, 1, 2740, 5198], [1, 5199], [5200, 223, 36], [261, 38], [13, 7, 453, 1, 741, 651, 453, 6, 391, 64], [1934], [433, 302, 1, 33], [200], [8, 27, 14, 2741, 2741, 7, 959, 208, 103, 725, 1430, 5, 5201, 5202, 1778, 5203, 2742, 7, 2735, 587, 1815, 5204, 2, 1], [263, 2743, 695, 1, 350, 52, 656, 486, 1315, 1316, 535, 1168, 387, 330, 1622], [1], [4, 271, 74, 1661, 101], [57, 418, 1022, 146, 107, 1718, 396, 1422, 1189, 146, 107, 1, 5205, 22, 1933], [1101, 5206, 900, 2744, 5207, 768], [99, 2743, 32], [243, 752, 5208, 5209, 61, 5210, 5211, 5212, 5213, 5214, 143], [2745, 969], [9, 1547, 193], [481, 261, 5215, 61, 12, 472, 70, 104, 12, 5216, 1230], [11, 1550, 2746, 5217, 1288, 39, 6, 46, 404, 1, 90, 2747, 5218, 15, 320, 320, 1935, 4, 1084], [157, 114], [20, 29, 5219, 5220, 504, 655, 179, 636, 220, 65, 28], [9, 32, 30, 5221], [5222, 1, 388, 532, 271, 2748, 991, 146], [1404, 12, 2749, 2750, 191, 200, 1063, 631, 343, 116, 448, 659, 30, 5223, 80, 25, 37, 671, 5224, 5225], [84], [13, 5226, 95, 106, 16, 5227], [30, 18, 249, 1073, 10, 5228, 331, 160, 459, 18, 160, 237], [166], [1847, 2751, 3, 2239, 702, 57, 5229, 2751, 5230, 5231, 2752], [7, 48, 175, 105, 1, 8, 684, 14], [228, 60, 61, 42, 470, 143], [105, 129, 1, 413, 413, 2, 2, 544, 393, 184, 2085, 1936, 17, 1471, 3, 472, 5232, 5233, 122, 946, 1217, 324, 393, 122, 194, 8, 154], [1918, 1042, 5234, 1827, 1, 442, 2125, 900, 5235, 1512, 1513, 1512, 441, 743, 5236, 2753], [26, 553, 296, 5237, 1937, 11, 42, 476, 58, 61, 4], [534], [89, 549, 746, 81, 58], [212, 131, 1], [1, 108, 520, 6], [44, 422, 430, 11, 11, 532, 5238], [36, 666], [9, 5239, 5240, 293, 241, 5241, 498], [1, 5242, 161, 49, 13, 392], [5243, 2754, 54, 1, 628, 649, 2755, 1153, 223], [1, 62, 130, 2676, 90, 1938, 105, 665, 300], [729, 5244, 18, 148, 174, 5245, 9, 237, 75, 113, 68], [44, 315, 20, 1, 98, 1892], [142, 1939, 1, 736], [6, 4], [5246, 462, 2756, 96, 462, 716, 221, 5247], [40, 29, 5248, 21, 5249], [167, 1514], [45, 1], [53, 1233, 163, 5250, 2757, 28, 1801, 63, 48, 334, 73, 63, 5, 121, 1456, 5251, 5252], [206, 1940, 859, 1235, 120, 1, 5253], [285, 1026, 690, 958, 169, 1, 2, 39, 86, 5254, 140, 531, 5255], [315, 2, 1941, 1, 8, 14, 197, 1942, 70, 13, 210], [84, 101, 4], [5, 657, 388, 7, 153, 9, 202, 332, 628], [2758, 5256, 1515, 52], [586, 1202, 294, 166, 5257, 1], [1, 525], [16, 106, 18, 5258, 89, 88, 201, 773, 40, 19, 110], [23, 188, 5259, 86, 391, 1443, 2759, 854, 2, 1, 5260, 5261], [89, 31, 123, 1044, 5262, 733, 55, 174, 79, 301, 579, 2237, 1464, 293, 5263, 28, 1231, 189, 5264, 5265, 1, 5266], [12, 884, 5267], [351, 5268, 5269, 5270, 1, 169, 1898, 14, 81, 178, 205, 188], [1551, 5271, 120, 5272, 1, 2, 398], [66, 178, 1236], [50, 132, 1369, 286, 1770, 161, 215, 1, 21, 563, 2742, 21, 71, 167, 5273, 71, 21, 410, 5274, 148, 71], [884, 308, 434, 131, 2760, 392], [135, 431], [5275, 2761, 5276, 1419, 22, 861, 286, 10, 94, 1, 18, 10, 1700, 367, 2225, 81], [964, 104], [634, 304, 5277, 1717, 238], [250, 267, 312, 1, 49, 2, 1422], [137, 510, 1052, 35, 1], [7, 485, 1, 96, 183, 364, 323, 556], [452, 1825, 34, 2762, 924, 5278, 431, 5279, 1, 345, 184, 12, 5280, 1098, 430, 2763, 5281, 5282], [6, 126, 5283, 1415], [237, 5284, 5285, 62], [1126, 225, 1516, 300, 187, 463, 5286, 1335, 2764, 119, 225, 1126, 315, 3, 10, 22, 43, 2765, 474, 1], [666, 241, 10], [1377, 1, 2766, 1676, 5287, 2766, 203, 132, 1], [5288, 236, 64, 236, 5289], [1203, 755, 2254, 362, 8, 500], [1943, 51, 63, 21, 5290, 188, 5291, 25, 458, 2, 301, 860, 41, 9, 33, 2, 1, 51, 10, 353, 5292, 188, 57, 1377, 1117, 159], [296, 32, 43, 650, 115, 906], [1041, 5293, 5294, 13, 388, 1, 111, 408, 1463, 130, 584, 5295, 320, 465, 584, 1076, 6, 1378], [2767, 381, 5296, 1478], [811, 1], [1, 16, 3, 2768, 1393, 542, 154, 1045, 1468, 184, 184, 184, 184, 184, 184], [82, 119, 2769, 203, 98, 2, 1, 583, 260, 1434, 360, 1944, 2770, 63, 703, 697, 673, 190, 606, 2771, 708, 12, 165], [63, 96, 127, 707, 12, 1040, 440, 1689, 1279, 72, 539, 146, 1], [5297, 35, 1, 297, 1162, 5298, 205, 5299, 5300, 1945, 1046], [1, 221, 441, 1946, 5301, 12, 1947, 579, 13, 36, 1223, 1691, 579, 1876, 36, 2772, 13], [532], [766, 59, 814, 275, 1, 405], [2075, 290, 179, 50, 21, 1, 5302, 1788, 177, 811, 1, 22, 130, 158], [29, 5303, 5304, 5305, 1516, 5306, 1937, 5307, 9, 5308, 5309, 5310], [3, 27], [43, 3], [18, 4, 1, 422, 19, 117], [23, 5311, 5312, 305, 33, 5313, 5314, 305, 2465, 5315, 476, 1517], [1, 262, 5316, 6], [633, 1545, 1, 5317, 5318, 559], [5319, 3, 71, 41, 9, 26, 2773, 106, 2774, 360, 1273, 358], [1273, 5320, 1071], [5], [2487, 1407, 89, 5321, 1135, 545], [43, 607, 5322, 5323, 61, 5324, 5325, 139, 60, 2283, 38], [8, 5326, 14, 5327, 1, 2679, 16], [764], [1, 53, 559, 790, 1025, 2775, 1], [129, 30, 41], [141, 310, 142, 5328, 1829, 1069, 543, 3, 377], [5329, 83, 1, 5330], [2776, 5331, 5332, 1, 4, 8, 156, 27, 14], [930, 639, 1, 2, 15, 8, 684, 14], [144, 1710, 5333, 81, 124, 680, 508, 44], [29, 364, 59, 262, 58, 1590, 221, 555, 1173, 57, 404, 1, 2250, 183, 72, 5334, 5335, 329], [5336, 668, 682, 21, 247, 2095, 246, 1], [2777, 357, 2236, 5337, 488, 5338, 691, 5339, 645, 78, 1, 484, 120], [367, 591, 1], [170, 1699, 204, 98, 1, 412, 2, 1589, 5, 355, 204, 11, 1344, 355, 724], [264, 36, 264, 193, 99, 1085, 24], [134, 5340, 29, 518, 6], [40, 1285, 679, 10, 4, 328, 570], [5341], [5342, 455, 1948, 15, 1929, 873, 5343, 1], [31, 347, 116, 5344, 345, 35], [211, 519, 10, 212, 1, 295, 101, 5345, 41, 42, 5346, 56, 1149], [29, 183, 2778, 5347], [144, 197], [2692, 34], [36], [666, 5348, 6, 160, 217, 61, 1398, 1949, 293, 1002, 1821], [2489, 99, 32], [40, 1950, 1, 366, 118, 79, 139, 382, 430], [1925, 450, 418, 602, 317, 2062, 2779, 43, 206, 227, 3, 40, 626, 1, 1843, 1175, 418, 423, 40, 1925, 255, 81], [1082], [36, 33], [12, 130, 7, 716], [326, 5, 49, 319, 1, 510, 26, 49, 8, 742, 67, 14], [5, 5349, 38], [1764, 307, 30, 445, 13, 16, 1, 36, 1058, 382, 5350, 5351, 6, 47], [12], [59, 29, 364, 1, 73, 561, 328, 252, 1, 213, 17], [472, 16, 40, 63], [135, 134, 52, 2780, 1937], [5352, 5353], [2781, 1163, 705, 5354, 2782, 116], [6, 1208, 812, 2783, 1362, 789, 3, 789, 712, 1510, 6, 46], [356, 982, 317, 3, 653, 262, 152, 5355, 2784, 568, 967, 20, 25, 229, 262, 152, 568, 5, 3, 181, 1, 5356, 2077], [2785, 701, 122, 317, 1, 2786, 22], [801, 137, 5357, 915, 4], [5358, 9, 5359], [5, 3, 501, 1], [1570, 1893, 1040, 440, 474, 268, 1, 237], [507, 1, 123, 32, 21, 33], [31, 1205, 21, 5, 3, 1, 348, 348, 5, 3, 40, 5360], [59, 504, 494, 5361, 15, 312, 83, 1], [1332, 452, 1840, 452, 1165, 452, 61, 1227, 444, 452, 170, 11], [1, 1722, 688, 5362, 2787, 5363, 1213, 2787, 5364, 5365], [1382, 105, 880, 34], [424, 196, 5366, 196, 5367, 1], [3, 2227, 73, 2788, 1, 28], [318, 1145, 613, 1, 5368, 5369, 5370, 1517, 1743, 5371, 2789], [1219, 5372, 475], [147, 147], [22, 11], [77, 81, 36, 16, 5373], [], [5374, 1123, 210, 2790, 616, 1105, 1703, 49, 98, 94, 1714, 6], [73, 428, 196, 102, 1, 86, 5375, 6, 474, 5376], [118, 767], [1841, 2706], [47, 488, 751, 18, 1, 312], [77, 1015, 94], [5377, 24], [2791, 347, 977, 321, 26, 107, 338, 265, 527, 26, 107, 177, 291, 25, 37, 131, 1], [195, 5378, 121], [7, 70], [26, 591, 1, 2, 6, 2578, 1173], [1, 345, 1345], [40, 24, 2222, 186, 5379], [1429], [5380, 1951, 1, 5381, 334, 606], [162], [5382, 7, 1768, 2298, 5383], [1, 12, 2332], [2302, 198, 1, 435, 5384, 263, 872, 314, 9, 896, 404, 314, 8, 467, 14, 49, 420], [258, 699, 426, 36, 2456, 5385], [181, 34], [5, 1, 5386, 10, 1952, 5, 22, 15], [152, 470, 1761, 4, 48, 5387], [54, 1, 125, 695, 10, 5388, 65, 1079, 65, 343, 13, 130, 278, 32, 19, 212], [2792, 12, 82, 2171, 1, 2, 5389, 3, 589, 11, 12, 122, 2422, 542], [1376, 165, 1, 92, 3, 1008, 18], [2793, 24, 468, 560, 77], [1886, 17, 5390, 1227, 2794, 322, 2795, 29, 518, 554], [5391, 251, 1, 5392, 6, 1061], [16, 1671, 5393, 4, 779], [1, 2284, 5394], [160, 690], [173, 29, 5395, 5396, 398, 1007, 879, 1, 154, 66, 2714, 458, 5397], [77, 1267, 678, 1, 678, 71], [3, 293, 857, 182, 5398, 2796, 271, 651, 415], [64, 183, 5399, 1953, 2, 1, 5400, 5401, 200, 422, 497, 392, 445, 1886, 12], [22, 15, 276, 5402, 5403, 5404, 64, 474, 140, 149, 396, 15, 1, 2, 525], [248, 892, 5405, 5406, 32, 78, 5407, 5408, 5409, 1, 5410, 78, 5411, 5412, 5413], [5414, 543, 747], [9, 26, 126, 95, 87, 5415, 424, 117, 70, 1518, 83, 3, 5416], [11, 6, 4, 1045, 1045, 2797, 1944], [80, 29, 162, 1123, 1772, 373], [73, 428, 196, 102, 1, 86, 338], [394, 2798, 25, 90, 1, 1335, 776, 167, 1519, 272, 1335, 300, 1069, 315], [115, 1311, 23, 1], [1652, 1, 20, 573, 2799, 63, 5417, 1071, 16, 296, 94], [64, 31, 399, 123, 190, 152, 5418, 1, 1839, 701], [1, 108, 9, 435, 26], [50, 186, 1, 983], [43, 346, 1, 31, 336, 538, 43, 419, 311], [689, 278, 411, 359, 33, 5419, 2, 231, 96, 1804], [1773, 320, 496, 5420], [52, 316], [5421, 528, 722, 611], [151, 214, 193, 1, 1819], [2800, 5422, 1148, 5423, 1119, 1116, 152], [5424, 1954, 900, 1042, 900, 388, 1918, 1042, 1042, 1954, 820, 2685, 442, 1042, 442, 900, 1954, 2801, 1512, 1, 5425, 5426, 5427], [22, 7, 939, 163, 1, 448, 13, 16, 139, 247, 658, 248, 813, 222, 55, 5428, 2107, 5429], [5430, 1683, 1507, 841, 1, 2464, 99, 1955, 1741], [677, 697, 2541, 857, 619, 5431, 330, 1, 165], [200], [375, 1189, 330, 1676, 345, 263, 695, 98, 1815, 127, 339, 2, 1, 248, 492, 5432, 60], [7, 1, 215], [807, 193, 74], [24, 2802, 883, 560, 473, 1285, 2802, 71], [227, 2803, 553, 349, 2574, 1035, 479], [1, 1228, 989, 92], [1004, 1, 2, 356, 2804, 7, 211], [19, 622, 1, 1205, 193, 206, 32], [7, 990, 163, 53, 107, 511, 373, 342, 343, 116, 169, 648, 354, 1545, 17, 109, 76, 1, 5433], [1, 53, 420, 85, 26, 134, 1100, 68, 493, 43, 20, 190, 2805, 519, 420], [5434], [729, 705, 264, 1640], [5435, 365, 35, 437, 154, 224, 391, 2677, 102, 224, 5436, 131, 297, 2, 1, 5437, 5438, 2806, 354], [1282, 105, 28, 33, 5439, 1, 38, 121, 948], [128, 2444], [5440, 1790, 5441, 1458, 184, 592, 5442, 5443, 521, 5444, 1458, 5445, 232, 3, 1, 1956, 457, 90], [236, 47, 3, 1513, 5446, 5447, 18], [43, 263, 1, 65, 5448, 13, 210, 412, 10, 45, 651, 194, 567], [5449, 85, 145, 883], [128], [1, 592, 402, 53, 277], [22, 314], [2807, 1, 161, 2], [88, 2808, 2809, 5450, 6, 1009, 344, 5451], [70, 240], [1957, 5452, 425, 171, 12], [92, 14, 1234, 16, 1479, 5453, 44], [99, 207, 2810, 1234, 8, 1881, 2811, 1, 5454, 317, 577, 63, 2271, 5455, 145, 1, 2811, 5456, 17], [170, 5457, 40, 218, 34, 27, 549, 129, 598, 77], [1, 223, 1418], [234, 1, 8, 1020, 684, 14], [163, 18, 350, 5458, 613, 380, 204, 54, 5459, 107, 3, 501, 1, 50, 159, 80, 54, 1095], [166, 1008, 1947], [65, 16, 563, 1338, 6, 45, 2, 1, 774, 1064, 5460, 1064, 493, 63, 608], [148, 99, 423, 617, 834, 23, 1], [5461, 2669, 5462, 3, 103, 968, 5463, 1000, 1, 5464], [2812, 19, 1294, 2813, 5465, 215, 1520], [5466, 2596, 456, 202, 385, 5467, 1521, 22, 708, 58], [425, 2814, 5468], [839], [626, 874], [1, 222, 1517, 593, 5469, 860, 1787, 1467, 5470, 1634, 476, 891, 208, 319, 5471], [385, 615, 1958], [726, 16, 5472, 2096, 872], [119, 4], [1768, 865], [295, 2612, 5473, 1, 329, 5474, 5475, 1826], [1, 696, 696, 696, 696, 696, 696, 696, 696, 696, 588], [62, 1, 106], [1, 1711, 5476], [187, 270, 1, 279, 113], [1884, 172, 30, 266, 310, 38, 266, 28, 5477, 1, 5478], [1, 25, 90, 380, 295, 276, 380, 13, 22, 1153, 28, 28, 392, 62, 3, 28, 856, 383], [46, 137, 1778, 54, 25, 90, 1, 15], [1, 1864, 163, 723, 5479], [2815, 141, 111], [2373, 1, 401, 77, 5480, 2816, 1522, 2817, 5481, 1522, 618, 60, 401], [89, 201, 5482, 597], [73, 460, 102, 1, 327, 562, 39], [160, 19, 199, 415, 2818, 1789, 2819, 5483, 695, 429, 160, 108], [6, 5484, 52, 57, 2037, 5485], [181, 154, 5486, 79, 1474, 348, 952, 72, 37, 154, 5487, 340, 5488, 72, 1151, 146, 2, 1], [30, 46, 19, 2820], [825, 1, 17, 1058], [1452, 93, 294, 4], [137, 9, 168, 76, 176, 1, 304, 47, 11, 32, 175, 14, 869, 869, 1017, 402, 15, 67, 178, 1, 5489], [10, 1, 585, 150, 128, 513, 1423, 34, 8, 909, 600, 159, 155, 150, 1202, 19, 20, 8, 684, 14], [5490, 337, 104], [93, 221, 5491, 961, 76, 1, 2, 245, 399, 142, 529, 770, 340, 5492, 2821, 1638, 2822], [10, 11, 1, 83, 6, 47, 52, 1123, 139, 41], [281, 5493, 254], [30, 249, 10, 767], [16], [306, 1253, 493, 5494], [273, 1], [246, 5495, 5496, 5497, 1, 35, 373, 127, 121, 16, 198, 1083, 2823, 1083], [12, 5498, 153, 100, 280, 95], [5499, 123, 518, 776, 715, 1, 5500], [1506, 1206, 339, 102, 1], [296, 13, 2, 1, 1237, 2824, 640, 5501, 640, 227, 1174, 1485, 1485], [390, 38, 137], [219, 5, 285, 1088], [45, 1], [5502, 5503, 18, 2630, 678, 171, 5504, 1, 1365, 63, 289], [592, 2825], [145, 795, 1268, 104, 218, 152], [12, 33, 1184, 311], [85, 11, 1057, 917, 1238, 201, 272], [133, 324, 364, 670, 133, 25, 37, 96, 982, 324, 305, 133, 15, 1, 183, 364], [771, 1066, 1569], [2812, 19, 1294, 2813, 215, 1520], [9, 145, 112, 206], [9, 193, 12, 5505, 44, 5506], [254, 42, 929], [908, 213, 56, 575, 5507, 893, 10], [5508, 5509], [420, 1, 1115, 230, 1408, 421, 2764], [281, 89, 5510, 5511, 180], [142, 511, 1030, 361, 361, 361, 361, 72, 1], [850, 1142, 1562, 491, 1], [13, 25, 37, 122, 17, 49, 2, 1, 668, 182, 117, 594, 57, 25, 37, 122, 994, 774], [59, 322, 1, 6, 5512, 8, 156, 27, 226, 214, 12, 5513, 159, 155, 370], [2705, 2826, 33, 12, 5514, 2827], [1959, 5515, 1, 268, 1], [144, 215, 1147], [1, 2828, 2198, 817], [9, 925, 1960, 751, 125, 301, 5516, 2073], [9, 337, 1555, 88, 89, 53, 1034, 1669, 1521, 1521, 1521], [279, 10, 249, 4, 84, 1619, 1, 1679], [1, 395], [2367, 1474, 1237, 203, 74, 5517, 610, 186, 229, 16, 65, 5518, 1456, 85, 7, 1, 47, 74], [567, 693, 2829, 261], [803, 620, 904, 708, 516, 1122, 531, 5519, 5520, 2774, 103, 130, 26, 360, 2152, 1476, 2830, 150, 2831, 2831, 173, 5521, 1, 1810], [202], [1523, 549, 621, 276, 276, 621, 314, 314, 554, 5522, 2832], [134, 12, 438, 99, 47, 687, 1085], [1025, 1889, 955, 1889, 5523], [2833, 767, 5524, 5525, 221, 59, 2730, 1, 96], [1497, 2600, 1041, 1371, 177, 1], [89, 60, 55, 2782, 2834, 33, 5526], [], [621, 397, 44, 1353, 828, 5527], [2406, 252, 546, 425, 1086, 13, 5528, 425, 5529, 54, 1, 2], [1602, 11, 328, 5530, 167, 1524, 40, 443], [494, 724, 29, 671, 6, 110, 91, 7, 157, 1, 157, 13, 12, 548, 5531, 8, 298, 889, 5532], [1525, 33, 1, 1158, 17, 29, 1248, 1191, 619], [29, 2594, 681, 1900, 45, 1, 5533], [778, 21, 52, 409, 155, 45, 265, 1], [5534, 13, 22, 2835, 633, 670, 208, 153, 235, 16, 76, 1, 265, 2505, 2835], [1, 21, 3, 230, 1645], [5535, 165, 1], [114, 52, 1777, 238], [2733, 5536, 1239, 21, 58, 89, 882], [2836, 6, 2767, 30, 536, 809, 320, 434, 280, 5537, 2640], [197, 99], [125, 165, 2837, 342, 394, 1, 28, 3, 299, 504, 5538, 151, 2383, 429], [5539, 1961, 41, 2838, 570, 1526, 464, 1673, 1477, 1673, 2463, 5540, 570, 2752, 1715], [5541], [1119, 201, 714, 1880, 650, 6, 28, 39, 238], [5542, 18, 302, 1127, 243, 5543, 101, 39, 46, 816, 1527, 160, 1121], [1, 5544, 399, 1303, 329, 835], [12, 2839, 654, 827, 1, 5545, 35, 130], [5546, 1, 924, 5547, 235, 745, 58], [170, 689, 1087], [42, 60, 68], [243, 141, 1962, 5548, 2432, 316, 241, 1587, 365, 2, 1, 131, 8, 5549, 889], [65, 16, 242, 2, 1, 47, 767, 879], [1, 79, 402, 42], [5550], [18, 277, 1124, 1183, 1, 21, 746, 218, 30, 880], [2636, 1309, 339, 1, 207], [939, 944, 1452, 1826, 1, 123, 1660, 4], [39, 192, 1723, 5551], [2378, 293, 10, 3, 2621, 12, 1], [9, 1136, 1226, 9, 1226], [44, 1, 92, 65], [838, 1], [109, 17, 15, 2840, 216, 1, 78, 18, 435, 15], [30, 2841, 5552, 4, 5553, 5554, 75, 89, 434, 81, 22, 283, 258], [153, 5555, 1721, 5556, 5557, 5558, 71, 110, 2217, 23, 12, 1704, 603, 198, 1122, 1, 668, 1963, 445, 1717], [351, 12, 1], [226, 166, 1836, 597, 5559, 5560], [70, 2833], [34, 20], [703, 2750, 643, 734], [5561, 1068, 1060, 674, 2842, 1232, 750, 454, 5562, 555, 2843, 551, 168, 35, 2842, 13, 54, 164, 645, 1, 259], [3, 101, 34, 5563, 5564, 5565, 225, 60, 1145, 433], [101, 20, 5566, 8, 14, 124, 274, 1], [400, 1, 114, 1964], [205, 927, 441, 1, 2, 102], [130, 1138, 17], [272, 242, 1, 291, 2844], [444, 134, 1902, 5, 60, 5567, 5568, 2064, 60], [116, 248, 2, 1], [5, 22, 183, 1, 1408], [160, 1148, 1, 2726, 1523, 655, 749, 2845, 535, 555], [191, 20, 5569, 20, 1], [669, 407, 44], [5570, 1020, 66], [93, 12, 1038], [24, 1528, 9], [1011, 505, 382], [5571, 562, 298, 710, 749, 208, 319, 888, 1], [4, 152, 42, 5572, 42, 5573, 884], [553, 59, 5574, 364, 1, 2620], [1046, 891, 339, 1965, 102, 107, 918, 57, 881, 5575, 5576, 423, 1, 2, 53, 107, 29, 86, 888, 1844, 218, 484, 268], [2846, 1527, 584, 5577], [24], [424, 1217, 122, 1966], [1, 980, 7, 54, 5578, 1, 23, 17], [1, 6, 18, 5, 19, 5, 3, 935, 10, 5579, 5580, 7, 72], [2637, 5581, 125, 61], [89, 1, 1233, 993, 89, 10, 97], [288, 118, 61, 118, 5582, 2756, 22, 6, 403, 32, 5583, 157], [149, 1712, 1906, 2093], [219, 3, 17, 422, 5584, 1, 113, 5585, 313], [1525, 976, 1, 1158, 17, 29, 1967, 1191, 619], [603, 5586, 1, 265], [1529, 291, 447, 561, 13, 328, 252, 1], [208, 5587, 1, 5588, 16, 2575, 1003, 849, 6, 391], [328, 238], [288, 1302, 676, 103, 725, 298, 2, 1, 35, 35, 110, 1363, 5589, 28, 5590, 5591, 5592, 617, 98], [49, 165, 1, 8, 153, 889], [80, 1, 233, 87, 158, 270, 224], [56, 143], [5593, 2, 49, 1], [294, 4, 367, 117, 5594, 2847, 386, 5595, 5596], [26, 264, 68, 75], [], [5597, 33, 90, 1, 5598, 1689, 380, 5599, 17], [5600, 1, 177, 2848, 131, 72, 511, 291, 37], [432, 1, 818, 108, 351, 589], [162, 1342, 5601, 4, 490, 5602, 702, 1182, 5603, 5604, 1771], [895, 1, 2849, 2048, 5605, 1032, 5606, 2850, 17, 5607, 5608, 5609], [374, 47, 5610, 75], [75, 1, 2301, 2851, 406, 2851, 406, 1], [1020, 1966, 69], [663], [967, 13, 393, 1715, 5611], [103, 437, 581, 5612, 1, 146, 5613, 1809], [2852, 9, 2853, 2854, 114, 1530], [29, 5614, 5615, 5616, 950, 1211, 5617, 133], [2654, 1014, 1762, 35, 23, 5618, 5619, 147], [912, 395, 510, 652, 1894, 2855, 689, 5620, 211, 1592, 222, 365, 1], [781, 29, 582, 1883, 95, 958, 257, 138, 1883, 5621], [7, 680, 1, 2, 25], [115, 2856, 113, 152, 1678, 567, 24], [1525, 976, 1, 1158, 17, 29, 1967, 1191, 619], [858, 465, 120, 2, 1, 275, 180, 582, 5622, 5623, 5624, 5625, 71, 7, 1912, 2694, 2857, 236, 110, 114, 5626, 236, 110], [73, 1221, 102, 1, 73, 1221, 102, 73, 1221, 102], [1206, 35, 1], [166, 230, 998, 5627, 5628, 1180, 1, 5629, 1949, 1180, 229, 382, 229, 194, 625, 9, 1949, 5, 111, 734, 8, 734, 85, 1518, 164, 998, 8, 2672], [2858, 2337, 2859, 199, 13, 661, 116], [50, 125, 5630, 234, 568, 140, 758, 31, 134, 346, 176, 1, 2, 135, 140, 316, 1962, 131, 79, 5631, 33, 15], [647, 310, 260, 157, 112, 503, 219, 878, 910, 29, 150, 44], [628, 810, 4, 1239, 1239, 1134, 369, 2860], [902, 2608, 572, 825, 2861, 5632, 2386, 5633, 2861, 5634], [112, 1, 5635], [85, 789], [842, 76, 1, 455, 15, 309, 843, 970, 971], [1, 3, 28, 887, 406, 887, 686, 230, 10, 871, 887, 1045, 65, 117], [813, 2590, 1], [2727, 2728, 1, 769, 1814, 863], [73, 428, 196, 102, 1, 86, 338, 907, 601, 96], [5636, 5637, 805, 142, 5638, 3, 1504, 5639, 1873, 5640, 1505, 1873, 1504, 340, 284, 172, 2749, 662, 514, 1, 471, 284], [969, 7, 129, 422, 1, 5, 129, 143, 92, 1], [1269, 729, 139, 5641, 16, 18, 53, 5642, 513, 424], [1043, 545, 45, 1, 8, 14, 124, 14, 124, 14, 124, 274], [2862, 1, 11], [1405, 1, 1732, 234, 1968, 1314], [1143, 1867, 1969], [2, 1, 120, 4], [1, 521, 5643, 90, 1028, 78], [2476, 5644, 258], [676, 7, 17, 5645, 396, 1, 1730, 46, 209, 16, 1515, 396, 19, 15, 260], [2426, 5646, 38, 5647, 674, 1846, 611, 1531], [2863, 5648, 1217, 5649, 1, 2], [5650, 575, 5651, 148, 110, 24], [73, 428, 196, 102, 1, 86, 338], [227], [30, 456, 5652, 286, 128, 1146, 12, 128, 1146], [1532, 2255, 2587, 1730, 966, 104], [5653, 48, 174], [477, 1], [676, 7, 5], [825, 1, 17, 25, 37, 5654, 50], [10, 172, 1, 171, 47, 1607, 735, 318], [1, 783, 3, 414, 20, 63, 4, 470, 4, 27, 192, 6, 257, 325, 34, 236, 1357, 253, 783, 232], [135, 381], [20, 17, 1956, 136, 630, 5655, 1675, 94, 1044, 25, 138, 98, 338, 1389, 5656, 341, 1136], [218, 5657, 898, 5, 1956], [27, 1970, 44, 27, 51, 2588, 1, 108], [134, 680, 317, 422, 591, 38, 1], [139, 890, 60, 69, 23, 4, 12, 1662, 213], [400, 1971, 1, 51, 73, 33, 140, 30, 5658], [592, 2659, 229, 194, 2, 413, 1, 1017, 5659, 131, 439, 1842], [502, 5660, 2, 107, 580, 835, 268, 502, 1063, 5661, 1972, 186, 5662, 2, 2655, 1], [64, 22, 15], [2, 1, 1612, 1], [349, 649, 380, 2458, 791, 514, 13, 974, 1, 5663, 657, 514, 98, 5664, 37, 217], [1514, 162, 957, 480, 5665, 462, 7, 5666], [693, 5667, 201, 89], [1533, 38, 14], [55, 375, 40, 1000, 1], [666, 264, 507, 881, 100], [135, 52, 243], [81, 28, 372, 1, 2, 2388, 303, 2864, 1043], [1, 83, 98, 167, 542, 417], [246, 1040, 2324, 5668, 115, 1050, 682, 150, 5669], [215], [5670, 360, 5671, 5672, 80, 4, 2865, 845, 120, 1, 1239, 495, 439], [832, 1727, 2687, 203, 1222, 764, 11, 1973, 36, 118, 198], [137, 79, 1], [1, 73, 561, 328, 252, 1, 213, 17], [5673, 82, 67, 343, 11, 10, 189, 468], [76, 1, 2, 694, 1065, 329, 142, 5674, 47, 2308, 148, 760], [533, 1, 497, 202, 5675, 130, 63, 11, 78], [1524, 48, 961, 75, 113, 5676, 1047, 1318, 5677, 3, 31], [664, 1384, 1, 284], [1534, 759, 182, 13, 394, 2, 1001, 1, 259, 132, 1006, 342], [1, 69], [7, 15, 28, 1974, 7, 1, 187, 245, 899], [9, 1240, 5678, 1975, 508], [5679, 5680, 5681, 1289, 2866], [994, 5682, 1258, 103, 725, 1, 138, 82, 5683, 876, 5684], [1976, 2046, 2658, 1, 1908, 5685], [], [5686, 1935, 1198, 5687, 5688, 5689], [5690, 5691, 5692, 5693, 81, 1600, 171, 1747, 544, 1096, 766, 2417, 229, 1, 959, 5694, 5695, 2558, 139, 2830, 91], [2719, 3, 1977, 5696, 1978, 679, 5697, 495], [64, 5698, 2478], [1241, 234, 11, 11, 5699, 569, 1797, 5700, 1, 76, 489, 41], [1, 69, 259, 132, 210, 211, 50, 15, 183, 78, 1417, 7, 41, 46, 79, 566, 4, 2867], [29, 190, 6, 373, 750, 21, 37, 2824, 29, 32, 99, 17], [2868, 2172, 282, 1481, 101, 1], [6, 126, 23, 4], [975, 10, 182, 58, 5701, 2869], [1917, 5702, 5703, 1400, 2870, 5704, 1, 442, 5705], [16, 77], [36, 473], [22, 29, 996, 925, 19, 1979, 316, 2261, 56, 5706, 189], [242, 1, 880, 8, 14, 5707], [12, 170, 1680, 595, 978, 113, 1078, 62, 685, 44], [28, 39, 1105, 109, 948, 329, 72, 1, 2], [5708, 1868, 450, 2471, 280, 5709, 1868, 1378], [135, 5, 6, 1, 558], [113, 722, 137, 563, 52], [2602], [383, 2871], [5710, 5711], [53, 5712, 5713], [1], [73, 416, 1, 220, 327, 691, 5714, 511, 15, 5715, 37, 1263, 23, 5716, 73, 2275, 5717, 5718], [5719, 5720, 5721, 5, 981, 6, 1980, 2872, 5722], [197, 5723, 1790, 1, 1763], [5724, 5725, 1172, 9], [63, 330, 749, 17, 110, 1470, 234, 39, 92, 153, 1, 624, 21, 101, 279, 39], [3, 64, 5726, 35, 1535, 1, 360, 1981, 138, 701, 412, 15, 551, 1186, 2033, 344, 2834, 1981], [359, 18, 203, 662, 1879, 25, 231, 624, 93, 5727, 76, 1, 2, 221, 311, 93, 17, 19, 1726, 770, 548, 757, 311, 8, 94, 604, 97, 188, 155, 370], [429, 21, 1737, 1, 831, 808], [232, 3, 342, 3, 414, 348, 141, 399, 1910, 103, 437], [24, 106, 1643, 34, 39, 368], [5, 111, 382, 10, 5728], [294, 5729, 4, 2873, 839, 12], [385, 615, 18, 1647, 199, 218, 22, 162], [1597, 425, 1489, 6, 459], [3, 58, 133, 8, 14, 124, 274, 59, 322, 1, 41, 8, 156, 27, 14], [104, 1412, 720, 44, 55], [3, 173, 511, 823, 2, 1], [67, 45, 1, 8, 226, 214, 1366, 14, 1701, 192, 5730, 8, 14, 937, 8, 66], [103, 1731, 133, 59, 5731, 997, 1, 3, 493, 757, 2874, 46, 103, 5732, 6, 93, 5, 1230, 41, 1413, 119, 127, 2874, 19, 5733], [182, 6, 5734, 597], [199, 44], [1203, 2105, 1, 5735, 652, 647, 290, 1936, 1440, 362, 5736, 5737, 310, 5738, 820, 10, 53, 3, 5739, 5740, 2292, 4, 5741, 609], [1982, 5, 111], [2216, 1218, 5742, 1983, 5743, 61, 5744], [45, 146, 1, 53, 1980, 708, 1817, 215, 5745, 368, 2770, 2875, 474], [5746, 357, 5747, 5748, 1], [819, 1070, 1984, 5749, 1686, 1686], [387, 2716, 1234, 1256], [250, 267, 1473, 1], [228, 74, 1985, 5750, 285, 126], [1047, 992, 1076, 5751, 5752, 2876], [120, 54, 1, 550, 558, 6, 435, 335], [47, 2877, 45, 1453, 1, 1986, 103, 601, 269, 205, 2, 8, 1446, 1446, 1446, 14], [1511, 1017, 28, 45, 1, 630, 5753, 5754, 2260, 1536, 151, 427, 670, 2387, 2577], [5755, 7, 88, 8, 94, 323, 97, 5756, 188, 159, 155, 153, 864, 188, 159, 155, 5757, 97, 163, 188, 159, 155, 496, 73, 15, 5758, 708, 115], [353, 5, 378, 1, 7, 32, 15], [815, 343, 450, 815, 836, 5759, 17, 5760, 317, 1131, 191, 815, 78, 1, 2], [71, 6, 1, 1537], [192, 5761, 877, 363, 2697, 911, 58, 1197, 556, 1160, 140, 1], [1, 2807], [5762, 1845], [625, 768, 65, 195, 125, 5763, 18], [36, 1341, 199, 628, 2747], [5764, 5765, 27, 209, 5766, 963, 1, 317, 13, 43, 209], [197, 801, 5767, 5768, 115, 197, 18], [5769, 50, 216, 183], [2878], [1188, 128, 1046, 21, 1, 2879, 227, 540], [153, 1, 355, 605, 78, 1538, 39], [756, 493, 459, 5770, 400, 292, 5771, 5772, 5773], [303, 149, 1, 454, 494, 247, 247, 1946, 8, 1850, 14], [665, 300, 239, 1, 5774, 2765, 295, 1691, 227, 2880, 119, 1987, 65, 5775], [315, 432, 5776, 841, 1, 2, 255, 1613], [1, 738, 1822, 2881, 1863, 31, 1492, 476, 2265, 48, 1064, 2882, 1091, 5777, 5778, 5779, 5780, 5781, 5782, 1492], [144, 48, 407, 247, 15], [1539, 264, 5783, 5784], [1988, 504, 5785], [7, 168, 1, 310, 19, 439, 1989, 117, 5786, 5787, 5788, 520, 846, 30, 5789, 131, 1108], [36, 287], [5790], [226, 57, 490, 298, 1445, 1247, 26, 131, 2, 1, 2561, 248], [296, 5, 3, 5, 6, 30, 5791, 137, 289, 5792], [1223, 182, 5793, 293], [5794, 450, 5795, 5796], [1540, 305, 17, 1779, 5797], [26, 841, 2399, 2710, 1207, 10, 16], [273, 173, 712], [1197, 556, 1, 183, 76, 127, 297, 580, 2883, 435, 33, 1692, 13, 3, 82, 141], [848, 154, 711, 62, 1253, 2884, 15, 732, 848, 516, 30, 2884, 5798, 5799, 2, 1, 527, 5800], [51, 1, 799], [78, 245, 53, 107, 103, 437, 1, 1575, 22, 162, 362, 41], [1455, 1, 1990, 5801, 566, 5802, 5803, 5804, 442, 640], [634, 2885, 12, 1858], [109, 262, 109, 1183, 1, 72], [9, 5805], [315, 11, 408, 5806, 28, 5807, 680, 5808, 97, 885, 246, 626, 5809, 1, 113], [2214, 262, 152, 515, 5810, 5811, 1526, 5812, 5813, 2, 1, 1526, 515, 491, 93, 220, 8, 153, 864, 159, 155, 94, 604, 97, 159, 155, 370], [20, 19, 1, 5, 809], [172, 79, 186, 1, 5814, 1746, 2776, 5815], [511, 972, 248, 1, 1333, 263, 959, 96, 2886, 888, 22, 15, 658, 116, 888, 1921], [303, 309, 1950, 1264, 561, 102, 1, 241, 2887, 183, 1991, 1567, 2888, 26, 303, 179], [947, 1, 635, 297, 47, 974, 8, 2889, 66], [6, 1009, 1, 62, 424, 402, 117, 373, 342, 2040, 15, 5816, 8, 14, 5817, 1984, 5818, 6, 1009, 167, 567, 167], [170, 2890, 1552, 62, 5819, 5820, 19, 987, 223], [53, 26, 5, 182, 51, 5821], [], [326, 5822, 26, 5823, 56, 160, 915], [47, 3, 5824, 5825, 5826, 5827, 5828], [397, 5829, 218, 1202, 10], [212, 872, 60], [50, 5830, 5831, 5832, 5833], [1224, 1225, 5834, 398, 5835, 306], [1948, 33, 24], [5, 6, 9, 5836, 5837], [2891], [1, 1231, 678, 674, 1846], [2194, 579, 2744, 164, 102, 459, 200], [53, 7, 256, 48, 324, 3, 357, 5838, 2892, 42, 130, 15, 1, 35], [1992, 1, 65, 35, 870, 372, 83, 1983, 627, 3, 736, 15], [532, 106, 1993, 1365, 1813, 76, 1, 1993, 988, 667, 66, 1038, 431, 142, 170], [7, 15, 28, 1974, 7, 1, 187, 245, 899], [], [23, 632, 142, 277, 73, 509, 333, 2047, 73, 257, 4, 196, 102, 252, 1], [144, 24, 5839, 1491, 5840, 496, 1674, 213, 308], [5841, 11, 168, 779, 11, 407, 236, 5842], [23, 1125, 4, 5843, 5844, 882, 80, 311, 2893, 247, 454, 5845], [32, 2671, 1568, 1179, 5846, 80, 5847, 5848, 1992, 80, 390], [5849, 5850, 5851, 13, 1107, 623, 78, 5852, 5853, 1, 72, 5854], [116, 248, 2, 1], [385, 1115, 2894, 2895, 2896, 5855], [9, 1019], [468, 2897, 505, 322], [5856, 44, 967, 99, 4, 64, 5857, 2159, 64, 2086, 64, 5858, 5859, 5860, 5861, 5862, 5863], [238, 172], [49, 1, 2, 588, 1242, 272, 88, 9, 72, 1243, 2898], [5864, 273, 5865, 5866, 1994, 174], [1995, 1, 92, 3, 5867, 246, 315, 1115, 71, 161], [2273, 129, 117, 1853], [1996, 30], [6, 562, 5868, 2899, 57, 1, 2900, 338, 2900, 2901, 333, 357, 109, 5869], [534], [337, 2902, 1176, 1168, 40, 32, 131, 63, 16, 1532], [5870, 117, 5], [5871, 16, 337], [757, 128, 1765, 184, 5872, 22, 53, 819, 1070, 1997, 26], [1, 62, 2826, 773, 1797, 5, 262, 5873, 21, 9, 167], [64, 1086, 1562, 160, 47, 6], [80, 1, 233, 87, 158, 270, 224], [1541, 5874, 1945, 2903, 1, 5875, 5876, 5877, 5878, 85, 145], [135, 475, 621, 64, 254], [5879, 5880, 2375, 894, 5881], [1177, 38, 482, 296], [1155, 7, 5882, 973, 63, 387, 851, 675, 86], [519, 4, 56, 615], [30, 5883, 4, 5884, 547, 4, 1187, 547], [1127], [204, 76, 5885, 5886, 2, 1, 319, 1656, 204, 66, 458, 398], [1391, 1072, 846, 1510, 472, 2904, 39, 894, 421, 39, 46], [1561, 140, 1986, 1885, 5887, 5888, 1924, 1168, 1998, 2905, 5889, 868, 6, 268, 1, 2, 5890, 245, 512, 1560, 49, 5891, 5892, 636, 18], [5893, 50, 1215], [5894, 104, 5895, 5896], [1342, 493, 92, 679, 1, 1222, 8, 500, 830, 14], [953, 18], [2906, 2906, 5897], [1, 2, 62], [145, 144, 311, 5898, 5899], [5900, 1909, 2838, 5901, 21, 861, 12, 1450, 175, 1345, 1, 679], [170, 18, 4, 242, 25, 37, 2, 1, 251, 172, 518, 212, 4, 674, 21, 15, 8, 226, 214, 226, 214, 66], [38, 2907, 18, 9, 5902, 5903], [5904, 429, 2279, 11, 181, 170, 3, 1610], [1711, 577, 335, 393, 1934, 2850, 1477, 350, 5905, 1012, 5906, 5907, 5908, 5909, 5910, 1, 860], [12], [400, 1, 717, 48], [463, 54, 1, 48, 1212, 54, 397, 211, 1536, 5911, 5912, 231, 5913, 853, 5914, 2908, 5915, 1536, 5916, 5917, 1325, 2909, 142, 5918], [11, 4, 25, 37, 220, 31, 123, 1244, 1, 43, 492, 2779, 20, 13], [1018, 1774, 1433, 624, 1, 78, 37, 8, 2910, 348, 407], [296, 17, 3, 326, 32, 28, 15, 1, 310, 1919, 221], [13, 237, 2755, 2564, 855, 855, 95, 19, 793, 1], [23, 394, 2911, 626, 5919, 610, 1310, 1030, 228, 5920], [5921, 2908, 1663, 6, 329, 384, 1278, 309, 23, 1, 5922, 5923, 20, 5924, 577, 413, 310, 670, 5925], [9, 35, 22, 208, 1, 62, 2, 2815, 161, 1442, 436, 21, 118, 482, 1174, 367, 211], [47, 5926, 142, 47, 1729, 252, 5927, 623, 78, 435, 519, 367, 1, 2, 116, 288], [38, 197, 318, 622, 1, 38, 466, 318, 476, 266], [2348, 381, 536, 991, 1542, 1320, 2593, 1877, 991, 1238, 920], [1, 321, 13, 2848, 458], [5928, 1, 45], [134, 2520, 5929, 12, 5930], [70, 193, 10], [639, 627, 59, 5931, 1022, 421, 1999, 1216, 15, 1, 1999, 20, 82], [9], [2912, 87, 448, 31, 123, 1028, 78, 1, 5932, 5933], [1111, 33, 1111, 5934, 1468, 1102], [21, 379], [1, 2, 20, 19], [6, 201, 5935, 5936], [70, 419, 1, 82, 53, 193, 209, 290, 10], [331, 3, 7, 247, 264, 211, 1], [5937, 1828, 1, 69], [41, 5938, 13, 98, 1, 39, 65, 21, 349], [729, 139, 29, 5939, 106, 16, 18, 5940, 1518, 1928, 18], [5941, 43, 5942, 151, 783, 1144, 172], [705, 191, 5943, 294, 2913, 2218, 996, 5944, 5945, 463], [1180, 262, 139, 1, 1180, 941, 139, 2, 50, 18, 304, 630], [21, 52, 678, 96, 1, 71], [], [1160, 140, 1132, 859, 268, 1384, 1, 1380, 203, 1160, 41, 658, 571, 18], [236, 110, 163, 1], [22, 757], [2122], [2914, 1218, 1414, 5946, 22, 2462, 829], [53, 128, 1657], [2000, 15, 32, 98, 1, 2, 259, 132, 7, 15, 111, 312, 1402, 825, 56, 29, 4, 139, 2482], [9], [43, 93, 54, 1, 23, 305], [5947, 2915, 29, 229, 5948, 2568, 2916, 1428, 5949, 5950], [73, 428, 196, 102, 1, 86, 338], [13, 38, 20, 3, 30, 1, 5951, 5952, 158, 169, 2917, 17], [1, 141], [258, 699, 7, 1013], [195], [26, 75, 559, 534], [40, 24, 33, 5953, 40, 1636, 638, 364, 59, 452, 728], [1, 36, 71, 99], [4, 953, 40, 425, 351, 351, 351, 40, 3, 164, 74, 953, 5954, 2725, 5955], [2, 1, 98, 5956, 16, 21, 648, 524, 800, 5957, 4, 2918, 449], [220, 494, 535, 43, 20, 18, 904, 15, 1, 43, 15, 1, 535, 306, 188, 2508, 5958, 650, 5959], [235, 167, 34, 1179, 24], [36, 5960, 9, 1508, 720, 5961, 35, 110], [85, 16, 219, 24, 5962], [22, 22, 178, 2645], [64, 919, 2205], [1, 12], [1149, 5963, 466, 5964, 41, 1356, 1, 25, 90, 62, 342, 5965, 91, 131, 1930, 11, 1932, 296, 11], [115, 974, 1775, 5966, 365, 1, 78, 623, 20, 423, 13, 1358, 5, 20, 5967, 1324, 12, 7, 1527, 5968, 12], [1782, 305, 122, 66, 908, 571, 18], [2272, 221, 1216, 1233, 13, 346, 1, 2919, 152, 1, 20], [35, 398, 35, 1, 417, 2, 1196, 417, 1151], [39, 2732], [345, 1963, 1, 141, 704, 798, 165, 1963, 5969, 383, 2920, 445, 1720, 1871, 1507, 728, 2144, 11, 1219, 71, 237, 161], [5970, 5971, 245, 265, 1], [1, 608, 98, 3, 1088, 1668, 71, 65, 1364], [36, 5972], [318, 593, 18, 1, 47, 3], [5973, 5974, 74, 715, 37, 39, 909, 607, 5975, 1055, 513, 4, 460, 102, 1], [225, 141, 1, 47], [24, 261], [1, 69], [1132, 94, 1580, 125, 5976, 746, 5977, 1172, 5978, 5979], [5980, 2921, 33, 2922, 1], [1, 1167, 2784, 4, 409, 135, 273, 1353, 35, 5, 3, 135, 763, 153], [13, 2724, 33, 225, 1888, 627, 5981, 722, 266, 147], [244, 25, 37, 127, 5982, 5983, 125, 19, 3, 985, 600, 1198, 939, 116, 54, 1, 2], [112, 246, 1318, 1280, 430, 31, 1760, 1776], [552, 201], [5984, 5985, 1543, 1401, 5986, 5987, 5988, 1543, 5989, 1401], [77], [5990, 759, 2923, 2638, 2001], [816, 85, 114, 5991], [1, 149, 138, 148, 32], [2452, 6, 1627, 1], [55, 5992, 298, 164, 645, 2, 1, 105, 216], [390, 4, 5993, 157, 5, 255, 541, 7, 5994, 74, 5995, 1527, 5, 20], [173, 5996, 478, 1522, 5997, 659, 5998, 2924, 805, 478, 5999, 244, 1], [244, 173, 796, 6000, 1496, 242, 1, 451, 17], [385, 1115, 2894, 2895, 2896, 6001], [6002, 2925, 1029], [3, 1], [2926, 2071, 2252], [84, 134, 218, 4, 1564, 193], [44, 2927, 209, 809, 1245, 207, 2927, 1465, 460, 6003, 1414, 583, 1, 372, 3, 6, 6004], [919, 9, 544, 74, 1725, 235, 136, 19, 191, 1, 295, 77], [6005, 1, 187, 883, 6006, 6007, 2740, 72], [1943, 105, 1, 8, 684, 14], [407, 415], [117, 6008, 439, 6009, 6010, 286, 11, 837, 313], [6011, 150, 1845, 1068, 6012, 78, 16, 997, 1], [113, 1467, 113, 378, 1], [20, 965, 525], [27, 27, 27], [330, 1953, 1, 2928, 2290, 57, 295, 39, 2554, 2929, 845, 1851], [389, 19, 1, 11, 92, 572, 71, 20, 18, 136, 6013, 2930, 35, 38, 27, 53, 2930, 280, 537, 572], [39], [6014, 1], [405, 179, 46, 376, 2123, 578], [112, 24], [1355, 908, 2880, 185, 896, 6015, 613, 1213, 58, 642, 6016], [8, 2076, 159, 6017, 22, 29, 46, 239, 1], [45, 1, 128, 51, 8, 6018, 14, 6019, 6020, 2604, 6021, 6022, 6023, 6024], [26, 645], [89, 549, 880, 6025], [667, 1932, 54, 1, 81, 31, 968, 10, 807, 6, 32, 359, 136, 93, 1, 93, 387, 1, 295], [4, 2931], [5, 6026, 1, 76, 1169], [89, 2866, 1802, 100], [6027, 1556, 379, 21, 60, 162, 5, 48, 6028, 6029, 2932, 33], [1597], [20, 534], [2280, 480, 1, 13, 831, 82, 26, 25, 138], [24, 170, 11, 745, 6030, 6031, 751, 6032, 1853, 110, 18], [379, 1, 136, 17, 500], [1, 418, 2933, 2934, 295], [826, 282, 9, 5, 6033, 203, 12, 422, 138, 82, 189, 1, 211, 514, 497, 241], [288, 2935, 171, 6, 171, 1200, 10, 6034, 145, 239, 1, 171, 1200, 660, 1105, 274, 403, 2789, 2935], [147, 761, 1, 6035], [6036, 6037, 20, 4, 2526, 663, 6038], [4, 68, 622, 1, 613, 1088, 417, 41, 22, 730, 180, 2936, 2937, 198, 432, 446, 22, 1019, 8, 14, 124, 156, 27, 477, 8, 403, 14], [52, 46, 137, 299, 21, 148, 5, 98, 1656, 71, 740, 523, 1, 2, 6039], [135, 6, 161], [80, 2938, 94], [26, 238, 26, 6040], [55, 6041, 766, 6042, 9, 6043, 292, 6044, 2795, 4, 3, 6045], [414, 320, 6046, 535, 1, 90], [84], [53, 20, 1980, 11], [6047, 100], [1818, 216, 1028, 78, 6048, 43, 584, 1154, 18, 9, 183, 1891, 588, 176, 1, 11, 203, 16, 65, 1664, 64, 1818, 8, 226, 214, 66], [358, 55, 32, 38, 6049, 6050], [96, 20, 1, 810, 16, 1198, 58, 1048, 6051, 542, 325, 511, 16, 6052], [895, 1124, 1, 2], [1224, 1225, 372, 83], [70, 1331, 406, 6, 60, 95, 453, 6053], [6054, 6055], [110, 151, 16, 3, 11, 1], [7, 6056, 10, 2321, 166], [1395, 122], [595, 144, 639, 92, 6057, 2939, 58, 375, 6058, 6059, 907, 1710, 2939, 58, 44], [4, 120, 395, 1], [40, 478, 45, 1, 429], [1083, 163, 1, 247, 6060], [6, 34, 2715, 19, 21], [30, 39, 202, 2817, 137, 3, 295, 1], [1], [134, 1352, 7, 1015], [1, 92, 2], [372, 264, 18], [122, 425, 66, 605, 1913, 6061, 12, 266], [1054, 1382], [75, 351, 6062, 6063, 51, 58, 1, 2, 6064, 629, 2098, 91, 94, 410, 52, 851, 6065], [112, 60, 1556, 6066, 10, 17, 2940], [32, 851, 580, 163, 470, 2941, 204, 345, 6067, 6068, 767], [834, 151, 324, 401, 6069, 478, 964, 6070, 579, 261, 77, 301, 1087, 401, 1], [1, 321, 833], [1, 2, 49, 8, 14, 197, 14, 197, 14, 197, 156, 27, 156, 27, 156, 27, 156, 27, 156, 27, 14], [842, 76, 1, 455, 15, 309, 843, 970, 971], [217, 2479, 100, 38, 6071, 47, 3, 701, 6072, 6073], [2942, 6074], [390, 2943, 260, 223, 6075], [45, 1], [19, 515, 283, 260, 2, 1, 1239], [893, 1392, 204, 6076], [64, 93, 18, 431, 12, 2002, 2002], [2523, 6077], [26, 77, 17], [84, 10], [2944, 369, 28, 933, 6078, 1134], [2820, 26, 74, 6079], [480, 6080, 6081, 6082, 6083, 6084, 6085, 1969], [5, 3, 6086, 74, 151], [60], [23, 1, 6, 2945, 989, 142, 1839, 763, 304, 143], [6087, 1133, 170], [2946, 6088, 32, 2429, 6089, 1888, 968, 1, 6090, 14, 2947, 11, 6091], [2003, 1353, 49, 1, 20, 801, 1951, 1201, 119, 565, 31, 328, 74, 1], [9, 6092, 99, 834, 389, 379, 171, 3, 1516, 19, 609, 2100, 745, 1854, 459, 1965, 187, 1, 379, 171, 8, 26, 14], [80, 1, 233, 87, 158, 270, 224], [58, 620, 985, 39, 15, 13, 98, 1, 620, 1], [1543, 1401, 385, 337, 737, 113, 68, 112, 15, 137, 1549, 212], [49, 511], [255, 61, 324, 6093, 308, 101, 1775, 38, 40, 27], [122, 324, 89, 10], [1, 6094, 19, 1939, 1, 21], [11, 1, 1333, 6095, 9, 273, 639, 198], [140, 958, 15, 662, 2948, 1, 1040, 1074, 6096, 538, 6097, 44, 538, 1196, 210, 2949, 354, 5, 116], [1, 17, 828, 2622, 8, 67, 14, 278, 411, 197, 464, 945], [40, 28, 607, 472, 53, 10, 56, 167, 10, 53, 6098], [1], [4, 811, 26], [691, 275, 455, 838, 3, 1, 420], [776, 142, 430, 13, 6099, 776, 130, 430, 28, 323, 556, 232, 3, 2, 1, 521, 394, 82, 3], [212, 148, 463, 150, 851, 72, 6100, 1766, 6101, 6102, 6103, 6104, 49, 2, 1], [136, 23, 190, 694, 1049, 323, 373, 6105, 6106, 217, 6107, 6108, 373, 127], [49, 314, 1945, 1466, 6109, 2777, 653, 6110, 2948, 1, 27, 750, 762, 75, 354, 2950, 643, 6111], [1, 45], [6112], [1, 2, 1141, 229, 356, 6113, 19, 31, 336], [59, 150, 1, 150, 6114, 6115, 289, 8, 156, 27, 14], [566, 94, 91, 983, 2899, 476, 7, 53, 128, 220, 128, 209, 128, 508, 1, 128, 37, 2322], [1161, 412, 9, 337, 892, 6116, 6117, 549, 1588], [1506, 1206, 135, 6118], [7, 39, 1970, 373, 50, 634], [26, 12, 512, 1, 15, 79, 88, 129, 598, 685], [30, 597, 247, 586, 193], [2951, 97, 6119, 16], [6120, 53, 6], [2072, 304, 6121], [6122, 2878, 21, 261], [253, 4, 193], [1512], [1721], [263, 60, 1, 395, 660, 65, 31], [623, 13, 6123, 33, 258], [2952, 608, 4, 779], [6124, 43, 63, 5, 128, 49, 264, 2953, 255], [1324, 43, 172, 266, 944, 6125, 1, 1600], [6126, 12], [322, 213, 100], [1977, 24, 6127], [1], [199, 86, 426, 18, 1, 108, 8, 26, 14], [101, 1], [6128, 6129], [6130], [1], [23, 254, 6131, 217, 106, 60], [1188, 128, 1046, 21, 1, 2879, 227], [1543, 6132, 20, 4, 114], [6133], [203, 72, 138, 1328, 6134, 6135, 6136, 483, 1, 2, 49], [1227, 2794, 712, 2761, 2001], [844, 545, 6137, 205], [574, 145, 626, 46, 574, 626, 870, 38, 2954, 150, 62, 94, 62, 131, 1, 186, 1503], [46, 227, 6138, 198, 999, 44], [12, 17, 704, 1404, 498], [84, 287, 344, 52], [47, 5, 1230, 290, 1], [50, 1, 1013, 16, 2424, 302, 546, 171, 58, 3, 6139, 9], [44, 5, 1, 92, 14, 41, 118, 86], [709, 126, 28, 207, 58, 42, 74], [6140, 1, 62, 65, 201, 2837, 84, 764, 31, 1509], [2825, 6141, 2611, 6142], [254, 136, 633, 6143], [1979, 490, 52], [39, 9, 1968, 2004], [241, 6144, 18, 58, 112], [763, 10, 31, 622, 1, 136, 1024, 1], [1, 540, 128, 53, 220], [721, 140, 531, 140, 721, 2, 1], [290, 16, 907, 167, 34], [353, 6145, 88, 2955, 40, 77, 213, 990, 2893, 1, 21], [390, 390, 390, 252, 534, 9, 324, 6146, 1070, 2003], [1], [965, 187, 6], [2124, 31, 2956, 6147, 164, 6148, 6149, 339, 6150, 6151, 35, 6152], [486, 2415, 754, 802, 1218], [361, 250, 267, 312, 1, 1022, 267], [25, 6153, 1713, 1, 194, 44], [1, 63, 6154, 152, 9, 30], [9, 6155, 100], [358, 6156, 577, 1135, 6157, 191, 61, 89, 6158, 180], [1163, 175, 62, 1], [1, 21, 5, 6159, 9, 12, 564, 6], [485, 1, 45, 17, 6160, 109, 246, 913, 914, 35, 6161, 354, 485, 71, 1566], [726, 89, 627, 32, 2944, 6162], [6163, 1535, 1, 115, 400, 1032, 2957, 1032, 2484, 440, 32, 2839, 867, 2958, 6164], [52, 4, 11, 553, 52], [44, 463, 4, 149, 201, 1, 1952, 356], [2005, 134, 273, 6165, 1055, 6166, 75, 426, 186], [12, 1, 106], [6, 201, 47, 687, 23, 58], [472, 2904, 6167, 6168, 955, 1, 540], [6169, 296, 362], [70, 517, 1259, 963, 512, 1, 645, 8, 14, 124, 274], [29, 6170, 10, 181], [2, 43, 6171, 6172, 6173, 48, 875, 11, 811, 6174, 6175, 79, 6176, 6177, 6178, 6179, 6180, 625, 4, 2901], [6181, 6182, 6183, 6184], [144, 26, 47, 11, 6185, 6186, 903, 2534], [907, 1392, 118, 1388, 1541, 1819, 1368], [4], [6187, 257, 2, 1, 381], [6188, 636, 6189, 10, 18, 982, 386, 6190, 6191], [31, 13, 63, 36, 300, 474, 1, 753, 6192, 1537, 130, 25, 37, 215], [1092, 1, 71, 130], [7, 591, 3, 88, 10, 88, 10], [729, 43, 170, 585, 717, 6193], [6194, 2649, 214, 1114, 426, 214, 1114, 177, 961, 1617, 464, 340], [368], [111, 1532], [72, 138, 6195, 6196, 150, 1189, 6197, 2754, 242, 1, 116, 150, 1971, 791, 220, 1214], [595, 6198, 1988, 728, 9, 170, 360], [588, 202, 664, 25, 6199, 262, 46, 177, 6200, 6201, 822, 47, 91, 1639, 6202, 588, 6203, 18, 1, 2, 413], [695, 481, 26, 339, 102, 1], [2772, 41, 113, 1654, 15, 255, 40, 683], [98, 1, 240, 19, 54], [6204, 43, 940, 460, 376, 1103, 1201, 693, 718, 27], [1033, 400, 246, 82, 1211, 1, 10, 1419, 14, 124, 274], [376, 2959, 1165, 2295, 452], [2555, 2960, 699, 37, 2912, 1054, 1372, 15, 1559, 74, 16], [6205, 877, 6206], [1, 436, 19, 1753, 40, 104, 2961, 117], [5, 125, 318, 18], [39, 6207, 6208], [160, 63, 4, 6209, 1, 272, 10, 2583, 125, 601, 8, 684, 14], [4, 6, 70, 908, 106], [513, 189, 207, 513, 73], [24, 59, 189, 25, 37, 57, 189, 6210, 2, 1, 904, 539], [191, 387, 16, 1508, 6211, 765, 719, 53], [6212, 562, 86, 457, 1468, 1, 2, 6213], [994, 8, 2006, 97, 2006, 97, 2006, 97, 163, 88, 169, 378, 1, 3, 244, 463, 6214, 1688, 92], [], [743, 59, 1081, 1, 121, 2962, 4, 426], [393, 293, 6215], [1, 285, 293, 6216, 550, 219, 235, 6217, 67, 869, 111, 6218, 508, 104, 209, 6219, 212, 57], [2963, 2823, 509, 54, 1, 6220, 13, 5, 256, 1986, 6221], [287], [3, 173, 6222, 23, 1], [6223, 127, 1240, 1098, 1, 2, 1171, 629, 2186, 8, 14, 6224], [2964, 16, 956, 6225, 6226, 6227, 6228, 6229, 1, 2623, 6230, 16, 6231, 6232, 6233, 2965, 16, 6234, 6235, 1450, 633, 2964], [315, 22, 827, 59, 1081, 1], [765, 58, 1791, 765, 383, 1, 2517, 529, 30, 94, 289, 180, 6236, 8, 67, 14, 278, 411, 67, 67, 14, 278, 411, 67, 67, 14, 278, 411, 67, 192], [75, 101, 456, 6237, 6238], [29, 2966, 6239, 6240, 12, 1], [1, 6241, 249, 690, 88, 84, 559, 1104, 6242, 84, 1989], [38, 6243, 32], [1, 526, 5, 279, 279, 38, 212, 13, 130], [48, 355, 2, 1171, 1, 620, 6244], [618, 1035, 166, 75, 59], [6245, 6246], [135, 6247, 376, 1143, 6248], [6249, 6250, 6251, 6252, 122, 6253, 160, 6254, 457], [188, 992, 2967, 638, 2968, 1, 990, 1892, 6255], [1448, 627, 35, 1911, 487, 399, 744], [6256, 565, 6257], [344, 6258, 6259], [6260, 877, 6261, 2876, 6262, 6263], [6264, 242, 2, 1, 8, 94, 604, 97, 188, 230, 155, 370], [1525, 976, 1, 1158, 17, 29, 1967, 6265, 619], [2969, 16, 337, 1800, 6266, 6267], [6268, 870, 1212, 959, 356, 118, 536, 47], [3, 201, 6269], [705, 6270], [774, 2007, 207, 98, 245, 277, 1276, 1277, 107, 352, 2, 1, 1511], [6271, 2428, 2780, 1, 108, 213], [1270, 217, 6272], [5, 20, 1977, 481, 19], [407, 351], [359, 126, 2000, 558, 10, 17, 11, 9, 183, 123, 76, 146, 1, 1795, 17], [2970, 3, 2691, 10, 1231, 10, 1757, 6273, 6274, 10, 17, 17, 2491, 2970, 6275, 12, 548, 1, 2, 755, 413, 285, 15, 2598], [6276, 6, 18, 6277], [1, 930, 103, 6278, 88, 349, 6279, 6280, 504, 941, 6281], [182, 16, 6282, 5, 6283], [1164, 2971, 6284, 564, 6285, 1893], [115, 1311, 802, 1604, 1209, 25, 37, 333, 130, 2972, 16, 142, 6286, 116, 700, 251, 550, 2398], [6287, 6288, 564, 2310], [59, 855, 1974, 59, 728, 9, 316, 6289, 2973, 6290, 6291, 6292, 15, 732, 60, 2974, 1, 2974, 427], [1244, 239, 1, 6293, 120], [39, 6294, 2929, 1045, 117, 1002, 699, 154, 117, 21, 216], [805, 44, 258], [82, 6295, 1, 119, 1890, 13, 822, 121, 1346, 13, 6296, 75, 313, 82, 394, 2798, 28, 1685, 6297, 430, 6298], [], [23, 1215, 6, 6299], [239, 16, 1852, 1, 6300, 2738, 18, 25, 37, 1494, 2667, 1411, 2461, 1241, 25, 37, 1494, 2008, 6301, 91], [151, 2668, 6302], [1, 149, 2975, 1242, 348, 149, 149, 129, 95, 56, 569], [9, 248, 588, 2550], [152, 84, 258], [1018, 624, 685, 1071, 1], [1, 7, 6303, 6304], [2241, 221, 2088, 1], [6305, 12, 1, 565, 2903, 17, 297, 2976, 291, 6306, 23, 6307], [205, 188, 13, 11, 1, 187, 399, 208, 1806, 279, 6308, 786, 1652, 75], [22, 475, 6309, 656, 364, 120, 993, 1], [56, 1348], [1663, 673, 43, 488, 6310, 6311, 4, 147, 104], [50, 33, 1, 1788], [149, 6312, 262, 6313, 115, 1028, 78, 17, 256, 82, 11, 24, 50, 1, 2007, 11, 42], [332, 180], [75, 6314, 6315, 6316, 911], [95, 289, 7, 1, 165, 2864, 17, 6, 190, 81, 32, 175, 260, 453, 1195, 6, 23], [584, 24, 911, 1544, 1134, 202, 6, 911, 306, 6317], [1, 21], [169, 466, 2696, 6318, 807, 26, 107, 1, 2855, 766, 109, 17, 7, 2009, 203, 484, 268, 139, 23, 1071], [89, 55, 6319, 2454, 3, 6320], [80, 1, 233, 87, 158, 270, 224], [30, 18], [20, 59, 322, 1, 443, 1159, 200], [246, 482, 1744, 6321, 2926, 222, 1, 2977, 1744, 210, 717, 349, 13, 1926, 6322, 972, 8, 94, 604, 97], [47, 84, 296, 6323, 47, 6324], [34, 64], [], [151, 47, 47, 1, 49, 1683, 6325], [200, 1437, 609, 23, 174], [67], [1330, 219, 86, 791, 423, 40, 65, 15], [2978, 237, 2010, 56, 3, 2010], [174, 773, 62, 449, 6326, 31, 17, 7, 76, 2, 1, 277, 2390, 295, 226, 6327, 6328, 212, 806], [907, 1996, 46, 1388, 39, 170, 746, 444, 348, 931, 104, 2391, 1035, 379, 560, 82, 2806], [1229, 306, 80, 1, 233, 87, 158, 270, 224, 1434, 1113, 6329], [157], [2011, 2011, 11, 2011], [2468, 12, 34], [384, 29, 6330, 6331, 6332], [2569, 6333, 6334, 6335, 1284, 437, 1260, 174, 10, 314, 2665, 6336, 6337], [93, 339, 1245, 274, 641, 182, 84, 1894, 6338, 1105, 371, 1885, 6339, 1, 6340, 6341, 6342], [1110, 23, 1, 302, 6343, 579, 6344, 873, 2916, 515, 555, 18, 873, 2057, 379], [1286, 1187, 6345, 16, 106, 257, 6346], [136, 363, 117, 211, 402, 471, 256, 5], [6347, 6348], [18], [559, 659, 1093, 76, 1], [290, 74, 1991, 266, 6349, 7], [10, 490, 2012, 515, 184, 1, 2012, 206, 15, 635], [6350, 299, 1181, 1520, 2134, 6351, 6352, 6353, 6354, 1], [73, 460, 102, 1, 102, 327, 562, 39], [93, 218, 6355, 598, 18, 379, 4, 232, 290], [60, 3, 486, 18, 88, 4, 1429, 209, 1975, 846, 178, 6356], [1969, 280, 234], [6357, 21, 1, 89], [1270, 201, 720, 1109], [56, 23, 4], [6358, 2528], [852, 1246, 852, 1246, 852, 1246, 852, 1246, 852, 1246, 852], [42, 143], [1, 6359, 6360, 2809, 6361, 443, 7, 6362, 11, 48, 667, 6363, 6364, 1123, 5], [85, 1541, 27], [80, 1, 233, 87, 158, 270, 224], [6365, 6366, 2979, 42, 1405, 114, 547, 853, 6367, 717], [1996, 6368], [5, 3, 217, 402, 1045, 38, 113, 6369, 29, 2980, 1583], [1983, 6370, 1, 6371, 6372, 1337, 615, 4, 6373], [2981, 75, 10, 47, 2827, 6374, 344, 151, 6375, 6376, 1003, 785, 1181], [850, 33, 4, 1, 10, 1749, 6377], [129, 2497, 1939, 439, 1, 550, 42, 9, 744, 544, 2841, 487, 1396], [59, 882, 1, 6378], [20, 6379, 13], [794, 21, 571, 275, 1002, 1032, 6380, 1190, 217, 640, 689, 82, 23, 1, 460, 2982, 2013, 794, 1830, 323, 2982, 373], [39, 6381, 1709, 1233, 1712, 214, 2014, 2863], [120, 1, 514, 2983, 1244, 64, 1957, 229, 6382, 55, 6383, 19, 7, 1538, 1351, 2, 1, 113, 5, 3, 6384, 113, 24, 6385, 1913], [1, 108, 3, 317, 165], [20, 4, 1020, 442, 735, 318, 6386], [353, 6387, 6388], [18, 6, 4, 112, 683, 180, 6389, 20], [195, 24, 4, 901], [6390, 4], [1941, 6391, 1495, 6392, 119, 57, 400, 297, 269, 1, 1106, 291, 90, 1237], [1518, 1463, 1133, 2496, 6393, 149, 223, 1391, 698, 206, 1901], [1015, 6394, 1, 64, 6395, 487], [6396, 36], [629, 504, 2, 1, 1001, 470, 426], [287, 541, 1958, 6397, 137, 6398, 2483, 71, 5, 140], [1529, 291, 447, 561, 13, 328, 252, 1], [358, 225, 577, 99, 6399, 2932, 817, 12, 476], [6, 121, 682, 910, 3, 6400, 6401, 6402, 6, 1, 343, 798, 1, 94, 310, 815, 682, 6403], [429, 318, 473, 6404, 642, 6405, 1, 989, 724], [129, 598], [16, 18, 106], [1877, 1083, 1307, 55, 186], [578, 2917, 2015, 993, 651, 60, 100, 200], [71, 1, 82, 137], [1018, 29, 1, 187, 31], [70, 19, 896, 661, 19, 5, 91, 21, 369, 1, 2, 2984], [511, 324, 298, 1327, 1], [1128, 69], [1301, 845, 6406, 441, 2985, 1731, 6407, 6408, 2985], [2981, 162, 69, 2563], [2055, 6409, 137, 1220, 2016, 1526, 1, 6410, 6411, 6412, 10, 183, 6413, 6414, 6415, 6416, 6417, 6418, 109, 6419, 6420, 6421, 6422, 6423], [6424, 2712, 2713, 763, 2986, 127, 1460, 21, 2209], [1, 1737, 152, 280, 473], [6425], [120, 1, 310, 613, 13, 178], [265, 1, 303, 6426, 7, 381, 1021, 598, 27, 7, 33], [6427, 2987], [36, 1838, 374, 196, 68, 715, 6428], [2049, 6429, 701, 564], [6430, 614, 126, 5, 18], [6431, 584, 187, 1758, 63, 1767, 71, 584, 85, 323, 556, 1, 6432, 41, 2551, 6433, 142, 665, 300], [244, 1, 1457, 207, 682, 2952, 55, 6434, 6435, 746, 957, 10, 532, 118, 311, 2397, 682, 957, 10, 2988, 122], [2662, 260, 493, 260, 444, 2643], [1302, 42, 81, 75, 81, 9, 2702, 18, 11, 235, 38, 238, 1320], [837, 6436, 91, 465, 1953], [70, 2989, 114, 6, 266, 238], [2816, 96, 6437, 1402, 96, 2790, 791, 6438, 1, 1036], [26, 2718, 321, 37, 26, 6439, 37, 1097, 527, 327, 1, 6440], [6441, 2013, 231, 1957, 6442, 1323, 1133, 6443], [5, 6, 18], [1021], [6444, 52], [21, 60, 2116, 2414, 415], [6, 32, 74, 5, 6, 1], [668, 2017, 6445, 459, 6446, 487, 31, 336, 603, 342, 298, 487, 1, 641], [34, 5, 1905], [12, 307, 384, 2311, 143], [931, 6447, 219, 433, 26, 12, 6448, 6449, 6450, 6451], [22, 403], [1, 6452, 287], [16, 6453, 6454, 6455, 21, 988, 258], [40, 6456, 96, 213, 52], [6457, 1131, 25, 37, 98, 345, 2, 1, 354, 103, 437, 1363, 244, 1243, 2589, 6458, 205, 158, 2923, 2352], [1, 47, 3, 235, 84, 6459], [6460, 946, 1379, 86, 47, 1140, 391, 580, 2990, 6461, 509, 102, 1, 2, 924, 345, 365, 1, 107, 580, 348, 2990, 186, 1063, 6462], [149, 1995, 1, 2], [61], [12, 6463, 6464, 6465, 1633, 6466, 145, 2871], [96, 590, 1448, 570, 628, 9, 33, 495, 39, 1155], [378, 1, 1695, 6467, 35, 1237], [887, 6468], [709, 33, 1, 8, 6469], [754, 2366, 6470, 171], [351, 288, 1], [52, 143, 6471], [1503, 769, 1497, 263, 6472, 84, 295, 2235, 611, 1, 167, 293, 6473, 153, 492, 30, 359, 8, 219, 94, 604, 97], [1, 945], [86, 873, 29, 1235, 239, 146, 1], [115, 6474, 3, 17, 10, 3, 9, 115, 1144, 937, 1323], [344, 256, 412, 1, 2, 689, 672, 147, 28, 616, 352], [238, 28, 278, 851, 16, 2832], [842, 76, 1, 455, 15, 309, 843, 970, 971], [1], [133, 638, 1, 6475, 186, 6476, 171, 967, 417], [526, 47, 10, 1], [199, 1, 26, 1390, 104], [7, 24, 165, 6477, 6478, 6479, 20, 2382, 1410, 510, 6480, 185], [1152, 381], [10, 6481, 2004, 101, 637, 988, 6482, 886, 6483, 6484, 139, 150, 886, 6485, 2709, 6486, 2991, 23, 6487, 6488], [700, 18, 2992, 6489, 6, 396, 16, 2993, 24, 566, 1245, 1010, 327, 6, 2994, 412, 2992, 1], [290, 42, 1205, 903, 2995, 24, 100], [80, 1, 233, 87, 158, 270, 224], [2996, 6490, 269, 1, 127, 9, 167, 84, 4], [74, 6491, 2018, 654, 2, 202, 1], [43, 1, 62, 19, 6492, 395, 6493, 6494, 6495, 6496, 6497, 6498, 6499, 6500, 6501, 6502, 8, 1359, 14], [6503, 1036, 145, 57, 6504, 1275, 298, 1, 96], [36, 337, 1694, 104, 988, 892, 1194, 83], [244, 173, 796, 6505, 45, 1], [2891], [279, 70, 13, 19, 3, 1, 414], [2997, 1192, 2998, 976, 1, 259, 1972, 171, 140, 72], [7, 6506, 215], [6507, 2, 1, 1001, 277, 242, 76, 1, 6508, 6509, 6510, 1809], [389, 568, 235, 2039, 134, 987, 1], [735, 12, 166, 166, 3, 417, 1, 5, 3, 71, 420], [6511, 1152, 1140, 86, 1, 6512, 612, 6513, 873, 6514, 6515, 6516, 2821, 462, 6517, 2999, 6518], [23, 6519, 388, 6520, 23, 1], [120, 1], [7, 719, 50, 593, 2617], [302, 2628, 45, 1, 1], [2189, 55, 3000, 1491], [665, 300, 6521, 300, 98, 6522, 300, 215], [2371, 6523, 1], [164, 3001, 512, 1, 102, 6524, 301], [280, 234, 1982, 151, 990, 6525], [202, 121, 6526, 6527, 6528, 1, 6529, 6530], [10, 337, 369, 2660, 10, 1048, 369, 6531, 2859, 427, 385, 6532], [1018, 1774, 1433, 624, 1, 78, 37], [1, 45], [85, 901, 6533, 6534, 69], [263, 24, 922, 34, 203, 87, 936, 245, 2, 1, 1012, 6535, 437], [438, 1405, 6536], [1539, 100, 1539, 68, 4, 61, 34, 1997], [1455, 6537, 1827, 1, 442, 1513, 6538, 6539, 278, 2711, 2753], [2016, 522, 6540, 474, 2954], [16, 4, 1, 5, 488, 1502, 1340, 6541, 6542, 454, 7, 5, 51, 412, 17, 125], [117, 254, 615], [1, 2, 352, 107, 6543, 49, 1385, 107, 245, 3002, 2882], [13, 812, 1, 17, 3, 181, 19, 121, 121, 9, 297, 6544, 1, 8, 2965, 14], [1, 65, 22, 39, 46, 416, 11, 664, 6545, 65, 10, 27, 473, 10, 560], [253, 1], [205, 142, 325, 6546, 128, 6547, 680, 813, 2281, 602, 501, 1, 6548, 6549, 1635, 6550, 2434], [6551, 136, 234, 1], [44, 669, 3, 2792, 1757, 962, 6552], [9, 1, 9, 34, 27, 26, 316, 9, 30, 9], [505], [923, 1534, 1955, 34, 35, 6553], [465, 1437], [281, 316], [781, 22, 3, 6554, 330, 545, 6555], [], [67], [145, 2885, 6556, 898, 6557, 409, 657], [1, 3003, 927], [1236, 7, 168], [16, 6558, 2972], [2126, 10], [56, 39, 23, 6559], [6560, 2502, 1182], [5, 46, 31, 80, 98, 6561, 458, 1, 366, 198, 1884, 1685, 13, 906, 406, 162, 206, 71, 783], [771], [679, 982, 2566, 690, 710, 233, 363, 34], [46, 1, 92, 208, 103, 725, 208, 5, 1, 253, 350, 5, 20, 11, 97, 97], [2442, 1, 62, 420], [1, 256, 149, 165], [77, 175, 256, 43, 20, 1, 119, 71, 718, 119, 324, 71, 89, 271, 4], [1], [240, 1716, 282, 208, 103, 725, 1, 391, 6562, 6563, 8, 156, 27, 156, 27, 14], [34, 129, 598, 69, 256], [149, 4, 6564, 68, 6565, 593, 472, 197], [6566, 4], [1262, 16, 191, 33, 672, 6567, 149, 393, 1372, 11, 835, 2436, 1, 9, 391, 384, 1812, 6568, 6569], [4, 1, 62, 198, 161], [6570, 1, 19], [288, 3, 1004, 3004, 1, 10, 20, 1581, 1039, 2736, 692, 1535, 1], [38, 48, 32, 6571, 6572, 669, 24], [12, 40, 55, 205, 17, 6573, 1, 106], [6574, 6575, 6576], [1803, 151, 100], [6, 10, 254, 168, 6577, 1413, 47, 18], [365, 163, 1, 414, 56, 1016, 15], [141, 1212, 101, 223, 1, 677, 87, 1461], [1224, 1225, 464, 104, 398], [6578, 673, 2416, 192, 599, 56, 143], [6579, 485, 1, 557, 111, 291, 281, 215, 154, 11, 160, 2510, 2511], [120, 1, 6580], [3005, 134, 1035, 1238], [124, 6581, 198, 1, 955], [11, 606, 6582], [431, 886, 199, 1644, 893, 2858, 91, 160, 386, 199, 310, 1582, 1498], [6583], [], [1, 6584, 550, 43, 2488, 91], [6585, 1542, 1033, 113, 1507, 3006, 6586, 29, 6587], [142, 6588, 6589, 207, 1044, 169, 176, 25, 90, 2557, 1, 88, 349, 1, 19, 338, 283, 1805, 1046, 35, 1, 146], [9, 1070, 6590, 495], [1841, 243, 6591, 503, 719], [6592, 1166], [1, 32], [1887, 621, 16, 6593, 134, 51, 6594, 18, 15], [250, 267, 312, 1, 49, 2, 386], [2783, 501, 1, 80, 15, 6595, 72, 1080], [356, 6596, 2515], [124, 18, 4, 87, 193, 122, 254, 68, 499], [6597, 46, 345, 682, 174, 15, 365, 1, 15, 454, 230, 10, 17], [1388, 134, 6598, 1342, 6599, 6600, 38, 27, 2115, 12], [6601, 12, 246, 2983, 513, 6602, 617, 3007, 33, 260, 87, 57, 51, 6603, 1798, 1418, 6604, 146, 2, 1, 6605], [22, 82, 891, 1, 6606, 6607], [1, 578, 169, 6, 211, 335, 833], [361, 239, 1, 1385, 474, 1, 72, 6608], [773, 280, 169, 1, 681, 7, 246, 274], [6609, 760, 6610, 6611, 61, 148, 6612, 244, 143], [6613, 11, 26, 100], [22, 86, 51, 2540, 614, 171, 2960, 75, 360, 973, 1033, 11, 6614, 6615], [1, 456], [735, 4, 1, 8, 6616, 348, 66, 1626, 66], [6617, 252, 1993, 2341, 268, 2, 1, 448, 13, 17, 216, 1483, 15, 323], [842, 76, 1, 455, 15, 309, 843, 970, 971], [331, 2160, 587, 147, 754, 111, 35, 6618, 1154, 10, 3008, 669], [170, 99, 34, 56, 462, 2306, 6619, 68], [1618, 1, 4, 40, 27, 192, 6620, 1232, 6621, 213, 718], [6622, 295, 6623, 1, 96, 6624, 6625, 26, 651, 199, 3009, 199], [284, 265, 1, 1240, 339, 1037, 207, 11, 1899, 3, 3010, 1091, 3011, 286, 2525, 206, 6626, 52], [264, 15], [683, 77, 100], [242, 1, 31, 484, 470, 74, 659, 17, 6627, 335, 242, 581, 1835, 46, 1523], [144, 10, 2127, 247, 228, 2080, 6628, 229, 2002, 6629, 219], [287], [432, 198, 6630], [374, 1488, 6631, 1, 835, 339, 2243], [], [718, 1211, 6632, 2304, 940, 85, 145, 6633, 131, 317, 353, 629, 1, 6634, 1992, 317, 866, 466, 117, 181, 117, 6635, 8, 768, 894, 677], [507, 1441, 7, 9, 206, 2, 1, 185, 910, 6636, 1441, 75, 910, 202, 1927, 487, 6637, 289, 148, 6638, 1146, 4, 20], [383, 882, 1283, 59, 1125, 1, 21, 2111, 39, 309], [6, 34, 6639], [263, 6640, 80, 355, 138, 1, 399, 695, 48, 190, 906, 21, 293, 254, 331, 724, 123, 343, 865], [1, 1288], [2993, 7, 160, 34, 26, 6641, 84, 26, 1480], [1048, 6642, 6643, 1048, 1], [70, 186, 887, 887, 336, 2722, 2601, 22, 203, 243], [108, 3, 26, 409, 34, 525, 11, 64, 93, 1, 8, 14, 124, 274], [246, 12, 1, 108], [1, 69], [1090, 2768, 2065, 517, 45, 1, 276], [397, 1367, 166, 4, 498, 528, 200], [666, 6644, 17], [2675, 297, 6645, 1, 108, 1024, 108, 2, 231], [24, 4, 6646, 2258], [147, 563, 525, 1, 6, 8, 684, 14, 12, 8, 273, 273, 273, 66], [1784, 6647, 6648, 6649, 1326, 355, 1], [1, 14], [430, 187, 1102, 836, 1844, 205, 73, 662, 378, 1], [2500, 23, 134, 406, 6650, 257], [1318, 1847, 1524], [6651, 6652, 6653, 6654, 6655, 72, 1080, 6656, 6657, 6658, 329, 2, 1, 146, 6, 6659, 25], [40, 1997, 325, 61, 332, 6660, 6661, 4], [6662, 19, 7], [237, 6663, 198, 6664, 719], [651, 277, 1194, 213, 18, 290, 553, 999, 263, 6665, 2786, 6666, 1616], [6667, 6668, 870], [388, 1030, 536, 81, 490, 1005, 417, 1, 28, 167, 333, 196, 205, 188, 149], [9, 646, 114, 6669, 114, 174, 646, 3, 2268, 7, 874, 654, 2384], [85, 60, 36, 16, 553], [95, 302, 46, 121, 300, 1, 1, 7, 6670, 9, 382, 9, 48, 119, 107, 3012, 19, 165, 50, 45, 611], [1153, 471, 1, 2, 50, 758, 6, 1157, 50, 7, 13, 210, 22, 335], [1101, 575, 439, 1300, 131, 1258], [176, 1, 2, 39, 760, 16, 241, 985, 463, 109, 130], [555, 1035, 6671], [1973], [1, 1931, 282, 326, 205, 2, 565, 164, 74, 31, 135, 371, 1171, 147, 178, 46], [6672, 11, 6673, 29, 311, 52, 6674], [28, 1024, 827, 1, 278, 6675, 519, 32, 1371, 6676, 519, 272], [6677, 2200, 6678, 6679, 1916], [6680, 48, 32, 331, 3, 4, 389, 1030], [6681, 1782, 1695, 2646, 3013], [73, 428, 196, 102, 1, 86, 338], [6682, 1], [6683, 276], [1256, 737, 314, 1539, 6684, 1234, 388, 938], [6685, 586, 34], [172, 6, 6686], [6687, 902, 42], [380, 1, 2460, 96, 6688], [2869, 255, 182, 13, 6689, 410], [290, 74, 10, 44], [1928, 242, 6690, 93, 93, 2150, 1, 548, 22], [230, 1027, 181, 2256, 40, 196], [160, 1, 25, 90, 8, 500, 14], [1, 108, 3001, 6691], [85, 987, 52, 170, 181], [748, 2980, 43], [8, 611, 1, 6692, 203, 57, 6693, 6694, 554], [73, 428, 196, 102, 1, 86, 338, 998, 306], [30, 7, 32, 32], [11, 92, 572, 55, 6695, 1817, 6696, 6697, 1, 2494], [6698, 6699, 6700, 1, 4, 4, 6701, 67, 159, 230, 508, 6702, 17, 64], [260, 740, 6703], [6704, 32, 6705, 6706, 201, 3009, 452, 21, 350, 6707, 6, 1, 6708, 2019], [854, 1026, 39, 328, 169, 1, 2, 792, 5, 285, 441], [1, 187, 245, 899], [658, 61], [30, 445], [1530, 24, 3014, 1903, 6709, 656, 225, 2762], [292, 1, 1375, 3015], [], [220, 79, 691, 123, 1387, 904, 1484, 6, 497, 1416, 81, 81, 81, 6710, 6711, 37, 130, 6712, 416, 1], [3015, 84], [28, 333, 115, 11, 1, 3016, 1062, 28], [1099, 838, 6713, 155, 292, 386], [6, 126, 12, 5, 157, 3, 6714, 99, 34, 1869, 174, 213, 18], [6715, 6716], [617, 375, 655, 172, 6717, 6718, 176, 1, 63, 2844, 640, 1038], [587, 7, 7, 1, 2, 5, 3], [145, 2810, 844, 181], [2997, 1192, 2998, 976, 1, 259, 1972, 171, 140, 72], [1, 2020, 1413, 1, 133, 6719, 6720, 223, 6721, 524, 2021, 112], [448, 17, 617, 1], [6722, 73, 460, 102, 1, 6723, 447], [257, 30, 1183, 1202, 358], [172, 2042], [210, 15, 414, 286, 25, 37, 88, 10, 1354, 49, 1, 22, 15, 19, 1736, 8, 226, 214, 66], [1022, 6724, 1245, 321, 1, 2, 29, 86, 47, 6725], [44, 6726], [13, 15, 19, 3, 1, 2, 259, 132, 6727, 1231, 6728, 185, 1168, 106, 4, 680], [6729, 2312, 2819, 6730, 1394, 1, 45], [1229, 764, 85, 308, 100], [7, 31, 1], [57, 1, 1340, 3017, 13, 239, 3, 71, 167, 168, 83], [380, 1306, 72, 2113, 122, 263, 54, 1, 330, 502, 25, 37, 138, 87, 6731], [2022, 1529, 2950, 2022, 40, 6732, 6733, 2022, 6734], [1338, 1046, 463, 1, 123, 659, 6735, 86, 6736], [9, 235, 122, 410, 15, 1, 1260, 3, 187, 51, 74, 232, 1266, 189, 83], [147, 210, 1, 6737, 1439], [1, 603, 141, 1764, 11, 181, 6738, 13, 988, 247, 1, 62, 1288, 82, 1, 141], [1598, 172, 884, 6739, 6740, 518, 2023, 2024, 1, 41, 6741, 125, 1166, 6742, 6743], [12, 76, 1, 164, 74, 22, 613], [1, 141], [135, 496, 29, 375, 326, 1432], [207, 240, 13, 141, 1, 245, 2, 259, 132, 1242, 94, 1985, 6744], [387], [131, 527, 84, 3018, 199], [1, 1681, 1041, 6745, 2984, 6746], [179, 6747, 42, 1785, 68], [54, 1], [207, 16], [434, 76, 1236, 1, 16, 126, 2223, 1299, 190, 694, 851, 6748, 2731, 756, 96, 6749, 605, 133, 5], [1, 876, 1003], [599, 2228, 466, 819, 6750], [468, 369, 1915], [6751, 151, 120], [680, 123, 6752, 3019, 6753], [5, 182, 18, 1031, 1313, 227, 905, 85, 325], [142, 25, 90, 6754, 1, 2, 70, 32, 543, 1110, 268, 99, 13, 25, 37, 138, 6755, 13, 12], [6756, 376, 10, 3, 376, 328], [89, 183, 148, 18, 44], [74, 143, 89, 1740, 6757, 271], [408, 29, 3020, 139, 942, 1], [6758, 1, 6759, 4], [1383, 6760, 6761, 468, 6762, 6763, 1882], [116, 248, 2, 1, 306], [28, 253, 118, 175, 61, 22, 12, 1943, 1374, 61, 7, 335, 118, 1039], [241, 308, 554, 427], [689, 26], [1, 75, 147, 1203, 2466], [150, 1971, 791, 3, 755, 1, 2, 12, 6764, 1079, 65, 133, 10, 5, 2343, 6765, 6766, 289, 6767, 6768], [17, 1896, 1, 2, 941], [24, 911, 1544, 3021, 369], [16, 124], [12, 1240, 1528, 6769, 42, 27, 1897, 1], [2009, 6770, 10, 1603, 209, 194, 39, 98, 2009, 1], [16, 6771, 24, 6772, 2168, 6773], [29, 504], [1, 565, 41], [503, 558, 54, 1, 15, 272, 2951, 374, 86, 13, 54, 3022, 1030, 822, 3022, 374, 109, 952], [250, 1422, 39, 512, 1, 96], [250, 267, 312, 1], [122, 1, 6774, 10], [149, 1164, 1857, 1072, 6775, 2814, 894, 26], [243, 162, 1528, 6776, 1147], [712, 487, 2001, 44, 566, 6777, 425, 22, 55], [1146, 4, 6778], [6779, 817, 299, 12, 6780, 6, 19, 812, 3023], [112, 190], [2606, 182, 713], [35, 1565, 537], [6, 425, 125, 12, 100], [520, 1874, 6781, 520, 95, 1837, 78, 927, 85, 6782, 163, 1, 2008, 121, 22, 150, 140, 868, 33, 1, 50, 692, 145], [91, 220, 6783, 6784, 6785, 251, 399, 1, 6786, 6787, 72, 78, 380, 2015, 1303, 6788, 6789, 3024, 6790, 6791, 1910, 6792, 6793], [75, 93, 1979, 1, 1272], [299, 817, 1632, 6794, 901, 18], [685, 685, 6795], [21, 6796, 313, 41, 557, 1027, 1823], [66, 1947, 301, 442, 6797, 6798, 67, 4, 1172], [26, 1219, 1226, 6799, 20, 747, 89, 227], [1833, 264, 68], [56, 63, 130], [4, 1, 92, 65, 1219], [6800, 6801], [21, 2897, 995, 12, 307, 99, 2959, 294, 12, 1613], [47, 2836, 6802, 6803, 143, 181, 244, 101], [6804, 1, 416, 73], [277, 1024, 291, 447, 88, 46, 94, 516, 30, 15, 573, 653, 94, 858, 2648, 563, 15, 120, 1, 458, 7], [1, 6805, 154, 5, 3], [85, 55, 29, 6806, 463, 6807, 373, 784, 545, 1591], [358, 167, 333, 6808, 6809, 6810, 1, 1990, 29, 1646, 903, 12], [64, 6811, 132, 56, 1799, 6812, 3, 2400, 91, 22, 1862, 7, 176, 251, 2, 1, 79, 277, 6813], [7, 1, 857, 6814, 1606], [84], [23, 1, 6815, 6, 518, 172, 41], [170, 459, 1642, 676, 4, 6816, 889, 1531], [552, 10, 1], [717, 589, 918, 18, 145, 1870, 6817, 670, 6818, 1948, 512, 2, 1], [530, 6819, 901], [308, 6820, 1, 1640, 85, 104], [426, 6821, 546, 477, 6822], [59, 29, 364, 1, 73, 561, 328, 252, 1, 213, 17], [2467, 173, 1988, 6823, 3025, 6824, 1238, 149], [9, 6825, 114], [2202, 6826, 6827, 6828, 37, 1412, 6829, 37, 1808, 849, 25, 37, 1410, 6830, 1872, 1808, 1, 282, 6831], [666, 374, 3026], [6832, 1, 6833, 891, 88, 349, 2521, 1702, 762, 1976, 31, 6834, 86], [73, 15, 1416, 1], [1], [1307, 6835, 784, 2018, 142, 6836, 72, 6837, 354, 1], [6838, 2263, 45, 1], [1, 765, 862], [823, 6839, 423, 563, 1870, 1, 25, 90, 1795, 485, 66, 6840, 6841], [22, 3027, 1465, 6842], [44, 669, 39], [164, 1, 8, 742, 67, 14], [78, 141, 1, 141, 25, 90, 141, 1515, 6843, 78, 6844, 6845, 342, 185, 71, 279, 13, 115, 76, 259, 132, 185, 414, 317, 1502, 198, 13, 394, 78], [754, 179, 26, 2818, 10, 1780, 325], [160, 4], [263, 65, 939, 222, 1, 87, 2020, 169, 1290, 158, 1487, 7, 47, 6846, 116, 22, 15, 183, 736], [353], [331, 11, 3, 232, 2139, 672, 124, 1942, 6847, 1, 3, 64, 64, 44], [12, 2913, 8, 156, 27, 156, 27, 226, 214, 226, 214, 66, 15, 6848, 1, 2, 65, 10, 175, 32, 8, 67, 14, 1501, 64], [315, 92, 1, 58, 1053], [200, 42, 2103, 212, 6849, 71, 933, 1435, 6850], [36, 17, 36, 21, 60], [517, 15, 1, 642, 8, 81, 1368, 188, 155, 370], [157, 193, 21, 3, 2457, 166, 622, 1, 167, 88], [], [1069, 2892, 605, 497, 83, 1, 2, 6851, 357, 228, 2058, 6852, 17, 256, 389, 6853], [1, 2, 1838, 42, 16, 486, 690, 1048, 299, 1960, 113, 2872, 1331], [6854, 137, 316, 6855, 1049, 686, 204, 50], [400, 338, 6856, 1739, 6857], [1, 1533, 3028], [212, 59, 6858, 1990, 1, 6859, 1337, 149, 426], [867, 869, 2989, 6860], [9, 6861, 228], [463, 230, 1338, 1498, 49, 2, 38, 13, 11, 6862, 6863, 17, 76, 2, 49, 1, 454, 2721], [359, 756, 16, 364, 972, 1, 1, 141, 2447, 138, 133, 46, 757, 1579, 359, 6864, 1733, 6865, 235, 1039, 64], [6866, 2843, 58, 83, 22, 6867, 910, 6868, 443, 52, 6869], [1, 366, 172, 940], [160, 4, 35], [43, 1, 6870, 235, 496, 55, 6871, 6872], [6873, 63], [469, 1319, 675, 729, 6874, 731, 150, 675, 150, 2056, 112, 249, 10, 55, 1625, 2673, 45, 1], [6875, 57, 1, 1173, 606, 342, 2021, 1580, 168], [980, 190, 314], [17, 46, 1, 108], [11, 371, 2, 1, 867, 19, 2822, 2210, 206, 46, 7, 46, 195, 1077], [110, 6876, 522, 44], [70, 193, 6877], [], [12, 1374, 1719, 387, 10, 1, 5, 3, 7], [1647, 6878, 3006, 6879, 1, 116, 888, 1096, 6880, 378, 116, 483], [10, 163, 1, 148], [12, 13, 338, 130, 1102, 268, 2, 1], [173, 6881, 749, 6882, 1, 623, 1493, 774], [36, 109, 228, 3029, 29, 2199, 2089, 742], [55, 363, 84, 1019, 80, 2758, 421, 22, 6, 32], [885, 113, 164, 2953, 1481, 643, 1], [205, 927, 441, 1, 2, 102, 6883], [12, 32, 281, 89, 479, 68, 41, 105, 1793], [821, 614, 2, 1, 6884, 2, 1951], [16], [149, 198, 6885, 6886, 67, 14, 1767, 238], [6887, 309, 50, 2166, 122, 6888, 1, 2, 46, 17], [1077, 3, 632, 6889, 53, 107, 6890, 25, 90, 259, 1, 245], [6891, 6892, 112, 436, 17], [137, 999, 6893, 1669, 2559, 1025, 6894, 2094, 6895], [1332, 6896, 6897, 693, 1165, 415, 51, 6898, 2703, 9, 7, 10, 6899, 1119, 63], [6900, 140, 2781, 45, 1], [24, 6901, 30, 3030], [903, 100, 6902], [6903], [151, 95, 4, 144], [181, 2, 1, 3, 25, 90, 181, 1454, 519, 349, 57, 2420], [50, 304, 1493, 762, 60, 1241, 2176], [374, 409, 155, 323, 1195, 45, 1], [6904, 6905, 6906, 122, 380, 33, 1, 78], [30], [1, 1031, 1313, 6907], [856, 1024, 26, 636, 1, 8, 278, 97, 684, 14], [482, 22, 15], [23, 11, 6908, 182, 95, 449, 1111, 1109, 340, 152], [3, 6909, 78, 1, 6910], [461, 197, 673, 197, 673, 6911, 197, 673, 55, 271, 101, 6912, 677], [7, 488, 99, 2303, 6913, 1, 527, 1984, 34, 10, 2775], [45, 1, 240, 565, 17, 240, 3, 6914, 1823], [76, 1, 41, 352, 231, 10, 292, 2582, 5, 1793, 528, 1630, 528, 6915, 151, 326, 1397, 1921, 134, 1529, 1499, 1011], [6916, 1196, 58, 38, 2907, 249, 2801, 688, 319, 6917, 235, 2914, 6918], [375, 6919, 6920, 186, 100], [20, 1485, 1], [1128, 1367, 47, 544, 129, 14, 6921, 24, 544], [1363, 253, 6922, 1], [4, 186], [186, 118, 1421, 266, 336, 1392, 5], [1011, 6923, 6924, 2112], [979, 19, 10, 6925, 1334, 979, 165, 23], [6926, 126, 52, 32, 160, 505], [6927, 403, 1330, 751], [6928, 2537, 126, 2657, 84, 34, 764, 125, 301, 3031, 103], [617, 6929, 6930, 6931, 88, 4, 34, 1, 356, 2962, 6932], [6933, 266, 15, 98, 1], [1898, 1, 108, 106], [880, 235, 3027, 6934, 84, 1959, 260], [49, 1, 2, 588, 1242, 272, 88, 9, 72, 1243, 2898], [6, 663, 56, 1223, 340, 332, 100, 34, 6935, 24], [200, 81, 24, 199, 11, 47, 3, 332], [1317, 2988, 814, 1533, 23, 6936, 520, 23, 1439, 6, 55, 963, 6937, 6938, 2680, 1880, 1], [313, 6939, 21, 6940], [7, 554], [591, 1174, 2, 591, 38, 1, 7, 591, 96, 150, 278, 411, 28, 43], [7, 359, 204, 359, 1, 20, 1039, 437, 48, 1212, 31, 1469], [1004, 404, 122], [7, 239, 1391, 1709, 260], [359, 13, 76, 1, 343, 863, 940, 41, 1480, 611, 78, 823, 74, 18, 1798, 78, 6941], [149, 132, 41], [178, 1563, 1063, 1, 2353, 1494], [243, 171, 2504, 68, 2763, 6942, 3, 2475], [80, 1, 233, 87, 158, 270, 224], [350, 6943], [1, 178, 3024, 492, 1007, 2734], [492, 49, 283, 49, 2, 1, 177, 6944, 327, 6945, 374, 761], [2800, 346, 265, 1, 352, 107, 2, 20, 352, 231, 10, 352, 231, 1177, 2, 231, 352, 231, 42, 1297], [1], [219, 89, 271, 6946, 6947], [1923, 201], [925, 264], [60, 7, 60, 10], [94, 171, 13, 83, 1, 310, 6948, 753, 87, 2686], [11, 48, 1175, 150], [210, 6949, 1, 301, 260, 11, 19, 17, 6950, 149, 6951, 6952, 2592, 91], [6953, 75, 910, 383, 6954, 6955], [1241, 5, 51, 1000, 121, 508, 252, 1061, 46, 6956, 1, 91, 413, 3032, 1358], [9, 47, 200, 239, 6957, 1480, 3, 142, 1, 1483, 1938, 137], [30, 505], [6958, 6959, 2446, 936, 642, 206], [6960, 1, 281, 550, 6961], [1, 2242, 8, 219, 14], [11, 6962, 6963], [118, 466], [134, 92, 1170, 1], [2760, 27, 5, 2846, 20], [287, 6964, 56, 129, 598, 747], [36, 6965], [3, 981, 261, 6966], [120, 176, 1, 912, 2, 31, 247, 7, 3026, 643, 120, 5, 21, 114, 101, 51, 8, 226, 214, 66], [12, 170, 178], [80, 43, 1, 63, 196, 43, 138, 2226, 43, 6967], [47, 1], [6968, 6969], [1, 187, 245, 6, 899], [168, 1, 48, 18], [1631, 867, 1], [120, 1, 1064], [1137, 1137, 1137, 552, 7], [261, 225, 6970, 1960, 22, 366], [157, 157, 1, 72, 3033, 6971, 67, 30, 6972, 3033, 733, 6973, 6974], [6, 632, 6975, 1089, 416, 688, 1475, 2695, 1760, 391, 731, 1, 1533, 3028], [6976, 6, 6977, 529, 395, 1, 1161], [3034, 3034, 5, 449, 191, 1209, 228, 16, 826, 611, 6978, 35, 1, 898, 872, 1435, 3, 1499, 3030, 6979, 22, 2323, 388, 149, 2004, 47], [195, 53, 4, 3035, 1, 8, 453, 14, 124, 453, 14, 124, 453, 14, 124, 274], [3036, 11, 206, 121, 33, 387, 1184, 3, 176, 1, 2, 251, 1002, 65, 471, 65, 471], [30, 536, 7, 906, 33, 316, 9, 7, 149, 360, 1558, 216, 1, 139, 67, 14, 64, 168], [403], [12], [38, 280, 1, 246, 32], [243, 477, 1879], [11, 6980, 6981], [541, 6982, 3, 6983, 40, 133, 264, 1112, 1420, 317, 523, 1, 6984, 77, 6985], [771, 38, 4, 36], [1044, 166], [2025, 33, 1, 483, 192, 3, 7, 121, 165, 420, 1700, 10], [2506, 7, 1050, 6986], [56, 62, 6987, 1, 2118, 671], [52, 50, 299, 570, 18, 238, 1320], [137, 609, 6988, 137, 213, 609, 6, 126, 389, 515, 951, 336], [6989, 48, 1738, 21, 3037, 406], [24, 29, 2650], [5, 3, 101, 17, 28, 6990, 6, 1861, 616, 133, 57, 923, 6991, 120, 1, 7, 85, 6, 46, 101, 111], [469, 30], [6992, 6993, 74, 431, 22, 42], [1014, 1762, 35, 1, 1057, 977, 314], [30, 915], [2791, 664, 132, 6994, 357, 139, 111, 6995, 1, 2580, 17, 1189, 6996, 138], [141, 11, 146, 107, 35, 798, 375, 202, 807, 269, 1, 1249, 31], [1858], [149, 523, 1, 16, 477, 151, 100, 6997, 8, 14, 197, 94, 604, 97, 159, 155, 370], [6, 34, 1548, 10, 6998, 21, 60, 26, 144, 878], [407], [1, 2, 25, 2918], [6999, 446, 1541, 27, 908, 7000, 1659], [85, 60, 479, 296, 7001], [30, 1002, 1584, 1690, 579], [1184], [7002, 100, 702], [828, 1, 44], [7003, 2720, 377, 1875, 154, 1117, 29, 159, 1805, 7004, 365, 25, 90, 57, 377, 1666, 1514, 562, 509, 631, 154, 86, 7005, 233, 1151, 146, 107, 1], [2856, 42], [], [7006, 24, 7, 689, 35, 35, 1176, 104, 35, 7007, 1, 21, 180, 7008, 433, 185, 658], [7009, 1, 3038, 7010, 291, 25, 158, 3039, 19, 319, 56, 15, 98, 8, 7011, 163], [1479, 353, 1190, 798, 1, 13, 196, 7012, 206, 7013, 1293, 720, 2905, 7014, 2018, 2975, 51, 651, 1994, 651], [110, 12, 44], [7015, 137, 2785], [287, 26, 7016], [595, 313, 1, 7, 92], [1223, 43, 11, 225, 576, 64], [3, 45, 1], [219, 11, 513, 421], [1694, 208, 7017, 2151, 7018], [3040, 454, 168, 168, 1], [544, 80, 902, 2014, 38, 7019, 2413, 1049], [11, 84, 446, 219, 7020, 663], [18, 157], [147, 924, 870, 1965, 277, 1245, 7021], [571], [160, 4], [187, 1758, 665, 300, 33, 95, 776, 46, 149, 57, 7022, 7023, 13, 2576, 1], [48, 194, 35, 85, 7024, 363, 41, 1082, 9, 7025, 7026], [1, 272, 7027, 1015, 117, 1241, 2155, 7028, 36, 2167, 4, 503, 7029, 58, 7030, 2522], [30], [1227, 4], [60, 53, 7031, 7032, 2010, 7033], [7034, 36, 256, 831, 96, 665, 300, 215, 2495, 565, 28, 98, 1, 25, 37], [69, 54, 2, 1, 356, 178, 94, 12, 11, 6, 194, 558], [23, 4, 7035, 1427, 28, 496, 1427, 789, 456], [5, 3, 771, 377, 260, 469], [59, 1, 7036, 175, 578, 7037, 934, 66, 504], [906, 1], [424, 1093, 15, 543, 1], [99, 10, 219, 468, 1047, 143], [43, 7038, 20, 1, 344, 274, 12, 1292, 776, 9, 109], [1236, 7, 168], [70, 4, 115, 30, 7039, 1, 948, 50, 105], [80, 1, 233, 87, 158, 270, 224], [885, 493, 424, 1013, 2408, 177, 1, 655, 7040, 463], [24, 32], [], [7041, 3041, 75, 93], [12, 7042, 1029, 7043, 7044, 7045], [905, 68, 29, 130, 1604, 7046, 3042, 9, 307, 801, 7, 1534, 1724, 7, 443, 1907, 581, 251, 7047, 2, 1, 76], [56, 179, 151], [26, 6, 4, 213, 18, 287], [247, 855, 14, 157, 1780, 1978, 694, 237, 128, 415, 241], [483, 600, 7048, 2359, 1, 248], [576, 112, 611, 460, 401, 228, 36, 9, 82, 1, 366, 499, 2707, 831, 652], [144, 24], [13, 7049, 129, 103, 345, 49, 3043, 1, 510, 12, 240, 178, 343, 2868, 294, 282], [1, 966, 1941, 4, 42, 180, 16, 84], [1, 7050], [157, 4, 685], [1312, 1349, 7051, 570, 7052, 1, 7053, 2799], [3041, 885, 1535, 176, 1130, 3044, 3045, 7054, 1355, 610, 7055, 3045, 299, 7056, 252, 7057, 1, 3044, 7058], [48, 1, 2, 42, 84, 236, 20, 132, 906, 79, 153, 110, 261, 216, 17, 389, 11, 35, 307, 221], [7059, 1820, 7, 1820, 816, 7, 7060, 7061, 124, 765, 38, 10, 17, 69, 394, 2958, 520], [9, 741, 509, 489, 724, 369, 953, 3038, 3046, 362, 388, 23, 1, 41, 1308, 1190, 369, 1, 7062], [1, 69, 986, 1732, 243], [80, 1, 233, 87, 158, 270, 224], [1, 876, 7063], [24, 2663, 7064], [8, 1051, 218, 1, 106], [1248, 1, 9, 345], [85, 27], [1], [67, 7065, 7066, 105, 434, 7067, 19, 840], [1484, 2153, 1, 82], [250, 267, 312, 1, 7068, 267], [], [2585, 292, 11, 1, 392], [36, 7069, 99, 16, 7070, 7071, 7072, 32], [19, 1, 799], [6, 45, 353, 1, 7073, 7074, 7075, 7076, 28, 613, 1511, 7077, 639, 7078, 7079], [703, 7080, 7081, 7082, 7083, 7084, 7085], [533, 38, 219, 11, 23, 3047, 7086, 2729, 7087], [1052, 2211, 35, 653, 761, 1, 148, 319], [702, 2978, 7088, 7089], [131, 1, 2, 19, 48, 1824, 88, 10, 985, 7, 12, 468, 2610], [1036, 2492, 64, 7090, 31, 242, 53, 107, 15, 22, 722, 19, 109, 113], [1216, 274, 1216, 474, 56, 325, 928, 93, 1200, 824, 548, 7091, 30], [129, 12, 7092, 7093, 1272, 3048, 3048], [98, 49, 2, 7094, 2, 1, 1140, 942], [537, 163, 2445, 843, 417, 1041, 501, 1], [5, 3, 7095], [16, 5, 967, 6, 3, 1], [1, 187, 245, 899], [7096, 7097, 33, 121, 376, 75], [38, 1867], [82, 67, 33, 4, 307, 152, 336], [30, 7098, 4], [2940, 1], [346, 1007, 7099, 1213, 39, 7100, 50, 1, 19, 412, 37, 7101, 7102], [4, 21, 1, 256, 6, 4], [7103, 7104, 3049, 7105, 2486, 7106, 7107, 1, 1961, 2804, 7108, 7109, 239, 7110, 822, 485, 41], [287, 426, 68, 1175, 240, 1542], [1982, 2922, 960, 2005], [12, 1, 7111, 657, 7112, 7113, 17, 220], [821, 614, 18], [70, 281, 1504, 616, 7114, 951, 22, 122], [7115, 22, 16, 4, 58], [6, 126], [7116, 148, 26, 64, 1728], [516, 7117, 7118, 1025, 834, 3050, 890, 1435, 488, 7119, 7120, 61, 385, 119, 7121, 402, 2365], [7122, 68, 7123], [53, 7124, 5, 6, 24, 609], [36, 424, 60, 235, 4, 1289], [356, 476, 825, 7125, 1, 263, 279, 87, 1440, 341, 7126, 227, 206, 284, 7127], [633, 325, 423, 43, 1481, 502, 942, 20, 2013, 231, 7128, 827, 773, 644, 511, 1214, 863, 2026, 25, 1, 2949, 7129], [1477, 61, 47, 2012], [39, 7130, 571, 64, 93, 758, 201], [24, 7131, 68, 512, 362, 7132, 68, 831, 7133, 44, 414], [837, 795, 1268], [28, 401, 7134, 7135, 1132, 1812, 173, 478, 844, 7136], [1129], [2545, 20, 4], [1, 1008, 8, 921], [182, 3051, 242], [7137, 3052, 7138, 3052, 3053, 7139, 189, 180, 39, 7140, 7141, 189, 74, 147, 84, 568, 3053, 322, 59, 322, 1], [2928, 1, 38, 5, 7142, 7143, 2], [4, 58, 116, 55, 7144], [11, 7, 1, 7145, 7146, 7147, 229, 9, 230, 293, 83, 1155, 58, 199, 126, 41], [486, 1, 84, 8, 830, 14], [1, 7148, 4, 811], [93, 1851, 622, 1, 20, 63, 1078], [541, 43], [1, 1169, 530, 3, 211], [1, 29, 876], [1, 83, 1, 7149, 19, 7150], [1147, 7151], [2481, 69, 7, 7, 7], [302, 272, 110, 94, 115, 210, 65, 1, 28, 5, 20, 70, 30, 536, 2915], [999, 175], [96, 1], [11, 7, 76, 1, 15, 239, 3, 6, 32, 249, 10, 5, 3, 558, 47, 687], [1157, 1, 7152, 633, 1, 79, 7153, 17, 7154], [1075, 66, 348, 7155, 66, 348, 1], [121, 1, 231, 5, 157, 494, 120, 1, 469, 30, 18, 13, 4, 130, 13, 5], [36, 478, 320, 202, 10, 744], [7156, 1424, 237, 29, 7157, 2449, 7158], [266, 552], [9, 3054, 236, 1904, 500, 236, 1904], [2808, 117, 902, 60], [857, 215, 43], [2005, 75, 44], [242, 234, 198, 1964, 1, 58, 281, 52, 55, 778, 48, 125, 7159, 42], [7160, 732, 1989, 4, 200, 1542, 56, 5], [78, 245, 53, 107, 103, 437, 1, 1575, 22, 162, 362, 41, 7161], [3, 7162, 7163, 266, 428, 33, 1, 39, 46, 7164, 7165], [5, 6], [148, 7166, 1, 442, 1998, 7167, 7168, 7169, 984, 7170, 7171], [40, 334, 129, 234, 1], [7172, 1415, 2369, 104, 3055], [1089, 737, 750, 7173, 2045], [595, 24, 2315, 835], [163, 222, 1, 695, 206, 535, 330, 52, 656, 248, 1, 486, 1315, 1622], [115, 389, 12, 190], [397, 68, 536], [103, 968, 309, 1523, 2, 1276, 1277, 107, 800, 7174, 1742, 457, 1075, 95, 2287, 1855], [84, 7175, 127, 381, 704, 125], [288, 9, 183, 266, 299, 234, 1], [449, 3021, 714], [3056, 218, 1350, 2845, 3057, 522, 291, 37, 1162, 1962, 7176, 1304, 1243, 2934, 2, 1], [23, 275, 3039, 275, 23, 1, 17], [533, 6, 5, 7177, 164, 1073, 7178, 34], [19, 524, 152, 151, 48, 334, 155, 7179, 117, 1865, 190, 619, 68, 1, 7180, 3058], [1047, 238, 768, 193], [526, 7181, 7182, 7183, 325, 4], [1033, 7184], [50, 1, 106, 435, 75, 93], [618, 409, 1327, 45, 1, 2027, 7185], [39, 162, 35, 480], [871, 117], [38, 282, 40], [77, 7186], [1149, 390, 84, 10, 143, 218], [40, 732, 293, 5, 7187, 7188, 7189, 697, 1, 7190], [288, 358, 814, 275, 7191, 745, 2947, 7192, 1], [9, 55, 200, 29, 410, 1346, 75, 1346, 65, 69, 410], [1598, 7193, 247, 340, 978, 7194], [287, 359, 1252, 126, 40, 933, 7195, 3008, 1255, 683], [202, 785, 52], [3059, 1043, 860, 87, 104, 186, 869, 61, 1016, 61, 424, 217, 7196, 7197, 55, 118, 179], [301, 7198, 195, 1, 1043], [299, 137, 215, 487, 7199, 41], [7200, 2431, 174, 610], [148, 2480, 785, 57, 1451, 1156, 401, 12, 1, 25, 7201, 7202, 7203, 17], [24, 61, 310, 55, 2584, 7204, 7205, 7206, 2890], [702, 209, 911, 1544, 369, 39], [368, 657, 3007, 61, 137, 17, 205, 3046, 580], [1, 62, 7207, 85], [1201, 1170, 7208, 217, 1747, 54, 1, 2], [193, 236, 40, 7209, 367, 59, 322, 1, 5], [173, 7210, 1], [7211, 706, 66, 7212, 1792, 2909, 195], [904, 46, 596, 19, 105, 46, 404, 1], [20, 161, 16, 143, 106, 1487, 427, 70, 190], [358, 638, 560], [181, 746, 34, 7213, 53, 789, 1296], [351, 515, 10, 1926, 7214, 138, 1090, 2, 103, 346, 1, 7215, 7216, 131, 2757, 1122, 2178, 8, 1359, 14], [6, 19, 21, 101, 405, 405, 7217], [56, 850, 1142, 1, 10, 1749], [11, 354, 3, 7218, 15, 80, 1, 2883, 254, 119, 1931], [898, 6, 4, 396, 109, 2121, 56, 1244, 135, 39, 125, 67, 14, 67, 192], [56, 115, 536, 1381], [117, 5, 3, 2674, 805], [22, 6, 1135, 961, 148, 2028, 712, 1599, 7219, 7220, 7221, 92, 861, 2, 2519, 1, 59, 1081, 17, 2746, 7222, 7223, 282, 301, 1934, 1348, 2028], [290, 908, 905, 486], [15, 594, 2619, 733, 384, 1006, 606, 7224, 72, 583, 49, 1, 251, 1705, 1706, 1389, 146, 140, 1390, 1707, 1708, 992, 1066], [7225, 1100, 3060, 69], [193, 1, 21, 31], [51, 1911, 7226, 1176, 174, 99], [7227, 1608, 42, 1230, 1479, 2979, 673, 623, 3061, 1253, 7228, 10], [362], [350, 52, 656, 248, 1, 7229, 7230], [752, 7231, 105, 31, 427, 2681, 750, 373], [216, 23, 1, 329, 7232, 573, 109, 7233, 408, 493, 7234, 46, 7235, 2191, 7236, 7237, 7238, 728], [3057, 23, 457, 73, 291, 37, 1398, 86, 333, 457, 72, 73, 15, 512, 1, 3017, 7239], [11, 22, 607], [835, 1623, 7240, 46, 489, 4, 16, 68], [7, 13, 995, 169, 1, 1406, 2318, 2319, 2320], [1, 8, 204, 7241, 159, 155, 370], [7242, 7243, 7244, 2973, 614, 333, 7245, 2536, 187, 762, 3047, 1228, 7246], [114, 153, 114, 434, 1519, 1308, 1190, 7247, 7248, 208, 408, 1462, 1, 1519], [1, 92, 3, 1008], [1033, 7, 347, 13, 54, 1, 7249, 15, 114, 1781, 749, 57, 7250, 6, 35, 7251, 551], [10, 1, 289, 7252], [1314, 7253, 441, 7254, 946, 1968, 7255, 456, 206, 36, 209], [133, 58, 29, 1646, 571], [159, 255, 1193, 7256, 1187, 7257, 7258, 2368, 7259, 7260], [215, 931], [], [537, 797, 66, 7261, 8, 984, 66, 64, 299, 12, 91, 33, 1, 1370], [7262, 48], [699, 35, 1], [869, 1, 7263], [534], [], [2325, 128, 126, 2326, 540, 2327, 999, 61, 385, 871, 872, 24, 60, 128], [898, 715, 1013, 12, 266, 564, 285], [77], [466], [7, 2079, 13, 205, 2, 1, 185, 332, 443], [1834], [20, 161, 544, 53, 71, 2865, 955, 1], [7264, 16, 126], [403, 1242, 95, 874, 38, 110, 1], [181, 2943, 237, 19, 649, 7265, 61, 21, 3, 71, 738, 61, 29], [916, 21, 7266, 61, 379, 302, 704, 1012, 3040, 7267, 185], [2, 1, 28, 273, 1010, 50, 382, 83, 3], [1129, 2090], [13, 282, 25, 37, 131, 596, 1639, 8, 7268, 2026, 14, 2, 1], [219, 1, 1088, 82], [43, 1344, 7269, 672, 7270, 7271, 716, 7272, 832, 716], [617, 21, 990, 35, 1, 7273], [63], [26, 113, 106, 28, 65, 129, 598, 35, 22, 325], [23, 202], [7274], [74, 1, 19, 317, 11], [7275, 34, 7276, 68, 1100], [36, 16, 9, 452], [1864, 612, 909, 410, 2849, 7, 63, 348, 675], [16, 103, 2, 177, 1, 9], [11, 5, 182, 986, 74, 18, 530, 49, 438, 926], [7277, 534, 44, 202], [371], [7278, 47, 1895, 1, 879, 86], [7279, 3037, 7280, 478, 7281, 441, 97, 631, 7282, 7283], [1596, 1863, 54, 2, 347, 321, 1, 347, 54, 146, 7284, 107, 347, 321, 176, 3002, 347, 879, 348, 347, 7285], [256, 909, 1177, 168, 1, 2, 7286, 1364], [80, 1, 233, 87, 158, 270, 224], [99, 1208, 302, 7287, 7288, 7289, 601, 7290, 42, 257, 336, 7291, 1135], [176, 1], [4, 7292, 376], [7293, 374], [129, 1, 240], [119, 2518], [5, 3, 1075, 13, 525, 1, 219, 7294, 10, 167, 60, 4, 74, 390, 5, 3], [1, 1361, 229], [199, 11, 1, 108], [110, 912, 7295, 552, 710, 3, 86, 2, 57, 7296, 7297, 7298, 7299, 138, 516], [344, 1, 263, 865, 171, 15, 51, 171, 7300, 113, 133, 7301, 76, 235, 1426, 124, 39], [11, 114, 242, 7302, 7303, 253, 228], [181, 181, 113, 299, 181], [40, 234, 1, 7304, 794, 1681, 17, 143], [7305, 7306, 3050], [7307, 430, 1752, 2180, 243, 47, 7308], [1], [146, 2, 1, 54, 251, 77, 277, 661, 116, 870, 16, 198, 647, 732, 7309], [748, 147, 7310, 3062, 7311, 557, 7312, 237, 7313, 7314, 638], [80, 1, 233, 87, 158, 270, 224], [7, 28, 15, 774, 142, 545, 1, 2, 142], [3025, 592], [7315, 462], [290, 55, 7316, 1055, 261, 28, 7317, 2249, 1461, 1194, 421, 7318, 138], [1, 3004, 813, 11, 183, 329, 596, 324, 72], [280, 7319, 499, 3043, 499, 821], [195, 51, 1684, 186, 2840, 7320, 2971, 7321, 360, 7322, 54, 354, 154, 1130, 35, 1, 653, 761, 15, 942, 7323, 7324, 7, 1193, 1021], [1, 590, 90, 50, 7, 109, 46, 11, 139, 93, 41, 46, 63, 2143, 512, 25, 90, 78, 164, 31], [112, 13, 1, 392, 190, 50, 366, 180, 235, 373, 750], [191, 836, 53, 107, 268, 700, 7325, 146, 396, 1497, 1538, 1107, 2886, 154, 7326, 886, 1172, 138, 1, 2], [], [26, 1461, 369], [1210, 7327, 16, 7328, 125], [315, 608, 1, 4, 1495, 235, 42, 84, 436, 19, 65, 626, 210, 315, 31], [20, 4], [499, 12, 12, 3, 2418, 1923, 865, 7329], [63, 16, 68], [1, 108], [7330, 7331, 13, 1, 3042, 7332], [2796, 1370], [1665, 191, 217, 24, 7333], [2288, 178], [57, 20, 282, 53, 530, 121, 2507, 282, 48, 51, 334, 934, 473, 53, 949, 4, 276, 1, 44, 427], [2498, 34, 456, 7334, 7335, 7336, 40, 6, 381, 1429, 2581], [64, 7337, 1263, 416, 793, 136, 7338, 7339, 7340, 195, 195, 408, 7341], [667, 2966, 7342, 257, 42, 228], [283, 3063, 458, 1849, 3063, 284, 1, 2, 222], [7343], [93], [111], [7, 215], [2244, 37, 303, 1, 298, 116, 224, 7344, 1976, 1265, 29, 86, 562, 86], [877, 7345, 543, 152, 70, 43, 1195, 103, 2635, 1423, 7346, 1, 185, 601, 240, 1488, 1061, 17, 119, 1252, 21, 7347], [1907, 20, 4, 1], [56, 99, 7348, 1970, 44, 567, 1021, 44, 3023], [463, 1420, 1126, 1577, 1987, 25, 37, 11, 479, 387], [1, 21, 583, 771, 352, 231, 153, 628, 5, 3, 153, 7349, 980, 175, 7], [24, 29, 1400, 1900], [1736, 13, 17, 15, 1, 7, 419, 12, 142], [10, 780, 517, 1, 108], [909, 631, 3035, 1499], [40, 417, 10, 137, 452, 316, 516, 22, 1], [], [64, 7350, 14, 4], [75, 351, 11, 2535, 1, 2, 710], [110, 148, 617, 597, 7351, 1674, 2778, 890, 7352, 539, 72, 1, 1766, 2571], [1, 1104, 613, 3058, 2029, 7353, 2029, 809], [756, 7354, 238, 238, 7355], [43, 1185, 1185, 1], [1436, 402, 7356, 104, 2860], [84, 218, 15, 936, 1, 132, 78, 106, 26, 422, 591], [1, 4, 71, 2020, 32, 314, 115, 5, 7357], [1, 1537], [301, 192, 7358, 686, 70, 480, 363, 2136, 1], [1922, 194], [30, 7359, 2036, 1], [4, 7360, 11], [137, 1192, 7361, 7362, 893, 134, 145, 1152, 7363, 560], [117, 261, 75], [26, 10, 109, 41], [144, 7364, 199, 70, 7365, 12, 7366], [2919, 25, 37, 109, 1, 1981], [1], [64, 7367, 139, 159, 422, 131, 762, 99, 3055, 354, 399, 2, 350, 15, 7368, 762, 251, 72, 87, 263, 248, 1, 354, 399], [33, 540, 1, 7369, 7370, 192, 1825, 619, 537, 55, 1061, 305, 7371, 183, 91], [2440, 42, 29, 2285, 143], [7372, 33, 367, 1, 9, 27, 256, 16, 65, 13], [7373], [1784, 7374, 118, 96, 28, 2185, 52, 118, 545, 1060, 316], [16, 31, 2937, 7375, 4, 16, 190, 747], [82, 451, 1, 2, 354, 262, 169], [7376, 792, 688, 1538, 164, 362, 184, 339], [22, 276], [60, 1801], [5, 1456, 787, 1905, 7377, 141, 77, 7378, 1, 2451, 539, 146, 2], [19, 1, 208, 7379, 199, 1752, 7380, 7381, 7, 7382, 286], [3031, 647, 1998, 7383, 820, 45, 1], [7384, 1920, 58], [7385], [485, 7386, 884, 2994, 444, 1571, 77, 706], [857, 1054, 2499], [2030, 487, 664], [7387, 33, 76, 359, 93, 624, 19, 277, 3064, 98, 1, 2], [7388, 23, 102, 1, 514, 1265, 29, 283, 1243, 39, 12, 282, 7389, 127], [36, 7390, 455], [147, 668, 482, 25, 37, 524, 94, 144, 283, 7, 7391, 3065, 345, 1, 46], [1, 9, 121, 1038, 694, 15, 65, 57, 15, 229, 194], [7392, 7393, 1086, 253, 1912, 1095, 2987, 480, 7394], [309, 1, 16, 675, 2573, 7395], [8, 156, 27, 14, 994, 7396, 1, 142, 555, 236, 520, 3, 419, 19, 847, 3065, 2977, 384, 44, 28, 424], [390], [1, 1], [390, 127, 2651, 30], [39, 1966, 1314, 7397, 181], [7398, 1], [113, 1, 41, 113, 1467], [859, 19, 7399, 1211, 13, 295, 333, 3060, 1, 83, 8, 1204, 1204, 1204], [624, 1469, 10, 2, 1, 482, 7400, 15, 8, 1204, 2531, 20, 4, 133, 6, 4, 133, 15, 8, 67, 14, 67, 192], [7401, 2023, 2024, 1, 56, 170, 461, 7402, 1244, 47, 3], [1, 187, 588, 169, 208, 164], [1, 260, 104], [798, 1, 7403, 608], [7404, 35, 1], [16, 7405, 2029, 7406, 2023, 2024, 1, 18, 168], [1047, 7407, 650, 4], [3066, 7408, 1032, 7409, 480, 909, 7410, 701, 7411, 61, 7412, 743, 7413, 1679, 7414], [287], [332, 21, 246], [9, 39, 46, 618, 162, 2969, 162, 621, 16], [1, 141, 122, 20, 8, 830, 14], [11, 911, 1544, 1134, 7415], [576, 9, 33], [40, 24, 559, 7416, 7417, 2459], [], [6, 34, 12, 6, 7418, 91, 7419], [173, 737, 104, 7420, 7421, 1975], [5, 20, 1, 3], [1, 907, 15, 1585, 733], [1987, 329, 3003, 297, 692, 484, 1272, 492, 3061, 7, 1, 2161, 46, 21, 115, 146, 7422], [693, 4, 421], [30, 7423], [200], [1489, 943], [84], [39, 29, 46, 462, 7424], [2793, 3051], [1047, 465, 198, 7425, 180, 7426, 46, 48, 663, 238, 1524, 1049, 7427, 426, 179], [117, 5, 3, 2043, 2003, 7428, 1871, 1138], [244, 173, 796, 2938, 173, 99, 2403, 269, 1], [453, 1, 7429, 7430, 239], [206, 1940, 859, 1235, 120, 1], [1, 121], [80, 104, 58, 1305, 65, 18, 4, 2, 1, 85, 79, 120, 3, 303], [1, 16, 51, 320], [332, 294], [7431, 1, 78, 2485, 1726, 770, 7432, 1959, 644, 7433, 7434, 479], [477, 7435], [1414, 7436, 7437, 177, 283, 7438, 1, 150, 7439, 7440], [7441], [142, 1, 1483, 1938, 137], [661, 54, 1, 35, 514, 28, 7442], [210], [172, 66, 7443, 43, 179, 35, 7444, 116, 31, 31, 213, 272, 101, 282, 528, 325, 17, 1, 8], [640, 694, 1964, 7445, 7446], [35, 202, 236, 200], [36, 89, 7447, 36, 190, 2805], [1, 2, 77, 69, 16], [381, 290, 4], [1944, 23, 1, 8, 157, 97, 14, 124, 274], [714, 23, 4, 779, 18], [70, 7448, 639], [1101, 7449, 918, 1406, 55, 7450, 7451, 186, 426, 174, 93, 7452, 114, 688, 7453, 1103, 48, 259, 1, 89, 8, 500, 7454], [93, 7455, 1299, 6, 1, 481, 261, 7456], [21, 7457], [1, 326, 115, 164, 1068, 74, 7458, 998, 2910, 849, 730, 3067, 450, 122, 27, 115, 6, 393], [585, 981, 87], [130, 1, 251, 695, 468, 932, 6, 7459, 7, 7460, 7, 1876, 757, 13, 41], [26, 106, 709, 2195, 20, 1, 756], [1176, 7461, 169, 131, 50, 7, 147, 1148], [1210, 81, 7462], [7463, 461, 7464, 56, 13, 139, 6, 19, 63, 218, 58], [616, 74, 3068, 283, 23, 1, 1037, 7465, 616], [236, 110, 7466, 349, 626, 95, 309, 874, 7467, 25, 158, 895, 1, 1079, 7468, 349, 70], [7469, 2902, 11, 28, 164, 1073, 7470, 7471, 4, 125, 132, 2019, 7472, 7473, 103, 7474, 46, 98, 208, 161, 7475, 1], [110, 803, 573, 1], [1995, 1, 108, 44], [109, 957], [85, 59, 322, 1], [288, 1287, 507, 2562, 7476, 465, 2114, 1287, 862], [1107, 1267, 1922, 7477, 76, 1, 1029, 246, 145, 5, 2409, 5, 3, 64], [123, 480], [311, 7478, 7479, 93, 10, 186, 181, 1112], [950, 674, 7480, 95, 521, 605, 349, 7481, 276, 1, 502], [802, 7482, 1127, 797, 250], [303, 309, 1950, 1264, 561, 102, 1, 241, 2887, 183, 1991, 1567, 2888, 26, 303, 179], [901], [48, 7483, 784, 7484, 1753, 612, 48, 190, 41, 670, 2015, 26, 2996, 197, 7485, 129, 234, 1], [3069, 1496, 408, 2253, 57, 7486, 3020, 3070, 7487, 3069, 3070, 7488, 7489, 7490, 1505, 7491, 7492, 1496, 7493, 7494, 63, 275, 408, 793, 1, 1830, 732], [711, 1007, 1, 7495, 7496, 7497, 368, 1156, 482, 1698, 7498], [23, 4, 13, 55, 7499, 2961, 12], [2788, 7500, 3066, 1909, 1804, 7501], [591, 2739, 187, 1, 2, 396, 51, 2346, 136, 4, 336, 30], [356, 254, 58, 2661, 48, 7502, 19, 135, 122, 184, 175, 837, 1, 2084], [7503, 578, 46], [555, 590, 294, 256, 83, 1], [8, 7504, 97, 163, 120, 1, 8, 204, 334, 7505, 48, 8, 7506, 7507, 8, 7508, 7509, 335, 370, 1199, 8, 3071, 745, 3071, 193, 8, 204, 189, 189, 7510, 8, 2889, 66, 7511, 8, 1274, 92, 358, 577, 8, 3072, 889, 1515, 3072, 8, 3073, 97, 470, 923, 2027, 1037, 215, 1074], [269, 1, 236, 785, 17, 7512, 16, 70, 317, 10, 26], [40, 6, 58], [77, 7513, 1044, 2430], [7514, 674, 1], [7515, 344, 1625, 45, 1], [7516], [70, 406, 822, 1, 92, 70, 13, 210, 2867], [38], [28, 439, 1536, 448, 204, 1, 818, 91, 565, 7517, 91, 136, 2423, 419, 7518, 530, 342], [1506, 1206, 298, 339, 2, 1, 102, 283, 39], [2376, 856, 7519], [10, 42], [964, 228, 635, 783, 517, 294, 601, 635, 507, 964, 72, 539, 1], [119, 628, 1037, 1, 132, 7, 628, 71], [1958, 320], [1203, 52, 2031, 10, 40, 355, 2873, 28, 127, 1, 13, 3, 143, 7520], [1454, 246, 33, 3, 5, 3], [260, 1109, 568, 7521, 1906, 892, 1459, 3, 2877, 2025], [826, 84, 112, 89, 7522, 306, 612], [726, 279, 236, 7523, 151], [51, 11, 1, 329, 596, 65, 31, 7524, 136, 1462, 5, 1, 90, 136, 8, 226, 214, 66], [9, 30, 445, 43, 7525], [161], [1256, 26, 4], [306, 305, 972, 73, 416, 1, 220, 327, 691], [3, 119, 12, 143, 7526, 33, 7527, 5, 46, 101, 706, 119, 24, 1, 7528, 17], [28, 7529, 1273, 69, 133, 324, 393, 2019], [13, 25, 90, 72, 7530, 1, 2, 7531, 539], [152, 989, 1], [7532, 2030, 7533, 7534, 177, 23, 1, 7535, 1201, 10, 83], [89, 21, 60], [1, 92, 1517, 3, 10, 2, 886, 1, 36], [273, 1, 63, 53, 516, 882, 1914, 63, 2030, 129, 7536, 12, 165], [216, 477, 486, 1315, 350, 52, 656, 7537, 1316, 535, 97, 387, 330, 202, 827], [1, 69], [498, 4], [2852, 9, 2853, 2854, 114, 1530], [1448, 13, 1164, 387, 41, 83, 7538], [2437, 6, 1901], [200, 301, 513], [3, 269, 2, 1, 2618, 549, 27, 3029], [82, 33, 7539], [250, 267, 312, 1, 49, 2, 386], [1501, 1501, 310, 7540, 954], [19, 7, 762, 1, 306, 91, 792], [80, 49, 207, 293, 838, 3, 517, 207, 54, 176, 1, 3], [73, 582, 1199, 2862, 19, 7541, 7542], [2, 62, 1, 8, 14, 197, 1942], [7543, 623, 78, 690, 7544, 1, 8, 156, 27, 14, 79, 17, 1265, 384, 1016, 1667, 13, 95, 6, 668, 130, 210, 7545, 122, 223, 797], [59, 288, 170, 133, 266, 3, 54, 2, 1, 945, 7546, 1098], [59, 173, 174, 1], [509, 2698, 159, 1897, 12, 7547, 604, 11, 221, 12, 29, 91], [12, 54, 1, 302, 79, 180, 128, 4, 1973, 7548, 2945, 722, 51, 21, 1, 7549], [1840, 40, 2803, 452, 1516, 1, 7550, 82], [17, 7551], [2232, 1487, 68, 547, 4, 95, 2539, 10, 1806, 397, 81], [116, 248, 2, 1], [214, 1114], [371, 3074, 509, 1, 115, 2314, 299, 2933, 7552, 185, 2148, 2215, 1828, 7553, 7554, 7555, 5, 397, 525, 7556], [135, 358, 26, 7557], [496, 16, 47, 687], [59, 7558, 1, 62], [1101, 4, 84, 5, 18], [30, 1810, 7, 7559, 15, 222, 1, 2, 7560, 340, 760, 96, 283, 7561, 545, 150, 905, 368, 2678, 7562, 7563, 7564, 7565], [1397, 1306, 43, 19, 7566, 1933, 25, 37, 1, 52, 1444, 286], [1, 2, 16, 11, 7567, 83], [7568, 14, 558, 1761, 193, 36, 386, 14, 1031, 1031], [351, 7569, 1, 8, 14, 124, 274], [2693, 1, 20, 1519, 1537], [144, 503, 69, 11, 302, 40, 26], [231, 7570, 943, 232, 243], [313, 8, 3073, 97, 470, 923, 2027, 159, 155, 43, 94, 1, 16, 1358, 2595, 1193, 335, 1688, 1374], [775, 1464, 2689, 1, 775, 375, 502, 522, 1, 775, 662, 57, 775, 2690, 340, 298], [3019, 921, 33, 450, 25, 37, 29, 2759, 7571, 1437, 1822, 2229, 54, 1, 29, 883, 614, 394, 306, 7572, 7573], [7574, 94, 67], [22, 217, 276], [5, 38, 7575, 7576, 2104, 829], [48, 555, 6, 19, 407], [7577, 114, 1796, 1796, 7578, 7579, 3075, 1917, 1802, 213, 46, 3076, 4], [80, 1, 233, 87, 158, 270, 224], [2936, 198, 1255, 7580, 956, 1207, 225, 894], [2641, 16], [7581, 2339], [], [36, 706], [7, 828, 26, 11], [607, 1, 83], [7582], [2032, 7583, 10, 7584, 1, 514, 357, 7585, 377, 341, 133, 2032, 7, 328, 582, 282, 247, 2477], [7586, 1029, 1999, 1629, 317, 9, 1029, 75, 1415, 2828, 250], [510, 19, 629, 950, 1], [7587, 866, 182, 866, 197, 866, 219, 22, 232], [243, 2924, 1578, 28, 231], [75, 93, 41, 8, 27, 14, 38, 22, 1, 108], [209, 41, 3016, 55, 7, 542, 164, 821, 654, 1007, 7588, 1, 7589, 398, 7590, 1421, 2329, 7591, 55], [1, 226, 148, 1428], [1154, 281, 1866, 7592], [359, 197, 117, 7593, 1433, 7594], [9, 7595, 61, 7596], [2769, 62, 3, 23, 67, 114, 800, 1792, 66, 909, 2956, 7597, 400, 7598, 1, 7599, 1890], [535, 2, 1, 580, 127, 13, 689, 26, 26], [1, 321, 2, 284, 398, 753, 856, 262, 31, 7600, 1896, 1379], [16, 4, 106, 4, 99], [89, 7601, 1238, 4, 752], [88], [19, 6, 117, 51, 201], [75, 93, 119, 122, 1, 1333, 1152, 1621, 46, 297, 7602, 36], [9, 360, 5, 3077, 840, 840, 1439, 1, 816, 28, 7603, 143, 7604, 51, 577, 74, 973], [8, 1395, 1, 736, 348, 374, 550, 2021, 374], [243, 99, 151, 99, 7605, 7606, 425, 7607], [7608], [7609, 147, 7610, 1237, 64, 93, 7611, 420], [7612, 31, 123, 3, 7613, 2614, 846], [3067, 58, 1], [179, 3, 1050, 7614, 12], [975, 69], [121, 2942], [87, 2, 1, 366, 285, 1138], [15, 2, 1, 32, 440, 2470, 127, 28, 8, 226, 214, 66, 2363, 44], [79, 1, 253, 17], [489, 3075, 166, 292, 91, 193, 69], [60, 571, 938, 938, 938, 766, 1649, 688, 1, 43, 172, 1728, 31, 612, 7615, 7616, 7617, 7618, 7619, 7620], [396, 867, 727, 1, 265, 111, 72], [7621, 628, 501, 56, 642, 1553, 95, 2031, 15, 1, 92], [1452, 2000, 1866, 161, 3062, 22, 7622, 1136, 7623, 61, 230, 625, 1510], [947, 1, 55, 814, 275], [7624, 11, 129, 1], [144], [50, 1, 2, 1438, 50, 321, 1299, 454, 1375, 443, 787, 510, 845, 16, 19, 35, 88, 221], [68], [148, 7625, 7626, 844], [431, 496, 197, 7627, 201, 249, 84], [1339, 1530, 7628, 599, 7629, 136, 7630, 7631, 7632, 296, 7633], [235, 439, 1, 23, 3, 16, 16, 238, 25, 90, 320, 404, 149, 2421, 195, 1564, 3], [992, 2967, 638, 2968, 1], [98, 48, 32, 1], [83, 1478, 812], [5, 20], [38, 2921, 116, 158, 142, 22, 252, 516, 154, 224, 54, 2, 1, 391, 86, 175, 22, 263, 261, 7634], [203, 51, 7635, 2946, 335, 594, 1200, 2955, 2, 1, 55, 7636, 24, 2099, 280, 436, 5, 7637, 7638, 22, 15, 1786, 329, 8, 7639], [246, 96, 48, 711, 7640, 150, 1159, 136, 3032, 1403, 514, 1, 47, 551, 7641, 1040, 440], [1, 62, 98, 92, 788, 198, 1222, 21, 2748, 677, 931, 788, 32, 470, 133, 823, 191, 71, 69, 853], [1114, 1531], [5, 1856, 3, 1319, 232, 18, 243], [7, 38, 353, 304], [405], [666, 7642, 60, 55, 3000, 1491, 1528, 444], [1210, 56], [308, 10, 505, 978, 384, 68, 112, 95, 16, 2911], [1505, 323, 426, 45, 1], [7643, 166, 166, 83], [7644, 627, 3013, 629, 1], [24, 444, 353], [17, 88, 2, 231, 7645, 1, 185, 20, 1874, 2579], [217, 7646, 18, 40, 738, 7647], [944, 1, 64], [847, 375, 34, 122, 1232, 894, 919, 9, 1060, 18, 5, 3077, 9, 42, 180, 3068, 751, 1205, 7648, 1, 578], [326, 619, 106], [489, 1136, 444, 29, 7649, 9, 124], [632, 409, 13, 563, 102, 252, 1], [73, 460, 102, 1, 327, 562, 39], [496, 7650, 7651, 7652, 7653, 23, 1049, 7654, 7655, 797, 7656, 7657, 3, 62, 572, 7658], [7659, 331, 85, 3036, 3, 503, 22, 147, 7660, 557, 10, 33, 25, 37, 7661, 130, 3, 320, 43, 82, 121, 412, 1, 119], [81, 75, 81, 1193, 117, 157], [60, 1424, 60, 135, 498], [3014, 143, 1532], [1, 240, 635], [1509, 2221, 332, 10, 154, 515, 575, 345, 3054, 297, 7662, 23, 1, 618, 150, 2963, 3078, 1832, 7663, 513, 2141, 150, 2164], [38, 7, 1403, 1, 272, 366, 575, 3, 698], [75, 279, 1357, 58, 5, 436, 6, 333, 997, 5, 7664, 1, 557, 649, 5, 6, 997], [], [456, 1540, 1751, 1540, 1486, 1540, 189], [3056, 380, 524, 524, 484, 948, 1699, 380, 753, 1], [7665, 7666, 34, 7667], [5, 42], [17, 105], [456, 175], [1572, 7668, 170, 99, 34, 7669, 289], [2684, 1, 120, 65, 371], [7670, 12, 438, 7671, 462, 7672], [116, 248, 2, 1], [119, 678, 704, 12, 17, 41, 257, 7673, 1498, 7674, 7675, 11, 446, 276, 14, 1531], [1084, 94, 239, 1236, 1470, 1, 7676, 147, 7677, 1837], [1164], [3, 119, 178, 1935, 3, 675], [275, 402, 382, 1, 13, 382, 114, 1, 114, 13, 275, 550, 109], [748, 7678, 179, 667, 1508, 38], [1, 108], [140, 721, 368, 7679, 140, 859, 531, 140, 371, 2, 1, 13, 149, 1145, 58, 658, 203, 636, 721, 140, 868], [77], [24, 7680, 69, 2797, 33], [], [1162, 341, 2, 107, 1], [1, 1361, 229], [7681, 1857, 280, 100], [192, 1108, 1373, 192, 7682, 557, 192, 1108, 152, 243], [7683, 730, 40, 43, 7684, 221, 100, 89, 8, 14, 1658, 192, 384, 133, 338, 7685, 7686], [634, 1662, 7687, 505, 526], [7688, 996, 133, 455], [26, 17, 1266], [96, 15, 113, 6, 7689, 32, 76, 2, 1], [7690, 7691, 45, 1], [7692, 759, 916, 7693, 716], [2976, 1799, 1, 393, 7694], [1, 7695], [40, 167, 84, 271, 191, 1, 119, 69], [13, 2544, 541, 7696, 372, 7697, 2708, 212, 729, 23, 1, 977, 190, 258], [7, 7698, 133, 1425, 7], [2771, 48, 51], [20, 34, 20, 10, 36, 1118, 881, 910, 1568, 2394, 960, 244, 95, 125], [7699, 11, 1159, 79, 1376, 302, 1026, 1339, 2313, 185, 676, 75, 1], [810, 42, 7700, 3, 31, 1048, 7701, 433, 564, 7702, 424, 1502, 7703], [2, 1, 2349, 77, 20, 525, 782, 46, 38, 324, 71, 10, 64], [1454, 71, 4, 182, 17, 1381, 119, 4, 153, 28, 469, 1186, 1470, 1000, 1, 355, 605, 2145, 1365, 315, 7], [862, 983, 1, 953, 7704], [461, 207, 1218, 1379, 202, 2624], [254, 42, 549, 2247], [75, 6, 298], [124, 42, 27, 101, 1], [1509, 59, 305, 1927, 982, 1, 1978, 202, 3, 7705, 2059, 1750, 273, 379, 2737, 31, 1490, 1, 8, 14, 124, 274], [24, 7706, 238], [311, 4, 1], [2957, 7707, 320, 2278, 7708], [36, 7709], [1916, 392, 1089, 7710, 794, 7711, 20, 793, 423, 177, 1, 794, 7712, 1615, 7713, 3079, 492, 7714, 883, 7715], [311, 41], [228, 220, 40, 203, 367, 217, 7716], [609, 237, 552, 81, 8, 67, 14, 66, 451, 2439, 6, 59, 1865, 114, 7717, 603, 265, 1, 7718], [3005, 50, 88], [2745, 2389, 171], [85, 307, 7719, 7720], [1232, 732, 1955, 3064], [36, 111], [304, 11, 22, 26, 676, 9, 16, 195, 11], [3, 79, 164, 806, 1], [540, 73, 384, 16, 13, 432, 1074, 7721, 16, 17, 3, 2008, 1, 7722, 209, 291], [7723, 7724, 19, 7725, 92, 1, 641, 129, 435, 1, 7726, 7727, 7728, 377, 71, 119, 710, 88, 543], [7729, 7730, 344, 1019, 23, 2773, 308, 225, 7731, 7732], [7733, 7734, 7735, 718, 7736, 740, 75, 40, 857, 4], [781, 89, 549, 991, 9, 7737, 1513, 7738], [207, 793, 136, 1, 82, 951, 3079, 7739, 2133, 196, 1309, 2991, 42, 241, 1614, 594, 2132, 7740, 509, 1488, 7741], [2553, 7742, 1476, 1, 120, 120, 7743], [3080, 2, 1], [24, 1514, 162], [7744, 585, 7745, 178, 508], [137, 4, 288], [1, 945, 92, 3, 119, 7746, 468, 110, 42, 489], [112, 95, 1, 285, 706], [1, 62, 3012, 341, 368, 103, 7747, 1770, 1016, 692, 15, 340], [91, 171, 13, 172, 716], [95], [17, 986, 1], [147, 7748, 254, 1039], [521, 335, 7749, 594, 208, 153, 331, 743, 36, 320, 1, 2, 25, 138], [9, 7750, 955, 7751, 186, 7752], [6, 126, 13, 43, 770, 276, 1, 50, 538, 10, 18], [987, 1], [134, 2345, 18, 4, 2931, 901, 1396, 7753], [], [507, 1], [16, 18, 1207, 21, 60, 582, 2109, 160, 29, 1924], [2881, 1012, 220, 79, 691, 123, 1387, 904, 1484, 6, 497, 1416, 1, 1475, 717, 562, 7754, 326, 693, 21], [196, 7755, 348, 31, 40, 63, 30, 7756], [3, 173, 23, 1], [36, 197, 318], [4, 46, 1765, 546], [2920, 1, 392, 128], [410, 866, 7757, 2245, 704, 1296, 7758, 358, 264], [7759, 7760, 9, 7761, 7762, 7763, 61, 7764, 7765, 7766, 7767], [7768, 7769, 23, 7770, 22, 7771], [43, 82, 1503, 19, 91, 9, 7772, 273, 2701, 104, 7773, 75, 7774, 7775, 45, 119, 1, 276, 758, 91], [571, 7, 65, 195, 13, 9, 2266], [1460, 1347], [567, 498, 7776, 2870, 12, 7777, 545, 498, 7778, 7779, 363], [1, 1417, 1222, 1410, 8, 14, 124, 67, 14, 278, 411, 197, 467, 204, 1368, 188, 155, 14, 1658, 403, 14], [36, 227, 36, 106, 213, 1650], [227, 11, 584, 43, 227, 331, 396, 15, 1, 2014, 7780, 3076, 371, 277, 103, 7781, 20, 132], [250, 267, 312, 1, 49, 2, 386], [23, 1, 17, 237, 19, 7782, 11, 237, 566], [40, 120, 108, 18, 7783, 2425, 40, 1, 108, 397, 27, 7784, 7785, 758, 2829], [7786, 57, 566, 52, 455], [1269, 903, 9, 42], [148, 234, 1], [1994, 30, 68], [755, 1786, 3059, 1, 239, 7787, 109, 484], [247, 407, 5, 819, 379, 21, 1590], [53, 2138, 2925, 48, 2570, 1], [392, 1611], [5, 157, 10, 4, 64], [36, 1, 1952, 1930, 3, 2509, 71, 82, 7788, 121, 698], [1, 2, 7789], [4, 189, 18, 1229, 184, 431, 494, 1229, 184, 431, 1121, 1121, 44], [102, 7790, 7791, 1, 7792, 284, 2438, 239, 335, 3081, 7793, 7794, 440, 57, 3081, 7795, 284, 7796], [7797, 294, 344, 925, 38], [7798, 1475, 902], [206, 1940, 859, 1235, 120, 1], [415, 464, 2642, 58, 63, 74, 58, 74, 713, 113, 7799], [113, 489, 593, 386, 106, 2847, 386, 45, 1, 58], [219, 24, 2699], [21, 757, 98, 2, 1, 25, 90, 12, 305, 10, 1174, 38], [250, 267, 1473, 1], [7800, 165, 7801, 7802], [432, 2016, 191, 7803, 438, 2, 1, 8, 14, 7804, 7805], [7806, 77, 2017, 758, 31, 2017, 7807, 9, 7808, 574, 77, 130, 1, 251], [93, 1409], [7809, 1319, 1034, 7810, 77], [118, 80, 403, 41], [1, 50, 16, 516], [], [259, 1875, 1630, 2401, 2402, 104, 2941, 120, 1, 7811, 78, 72, 7812], [149, 2028, 258, 126], [2666, 337, 216, 279, 368], [7813, 7814, 3018, 498], [283, 6, 7815, 1065, 297, 1, 265, 111, 2, 7816, 283, 531, 620, 6, 1060, 268, 893, 457], [237, 1387, 7817, 2031, 40, 166, 884], [661, 330, 418, 15, 1, 18], [26], [22, 407, 9, 7818, 363, 1860, 148, 844], [496, 7819, 61, 11, 181, 853, 18, 4], [1961, 1209, 54, 1], [40, 22, 1, 396, 143, 7820, 3078, 2264, 8, 1343, 14, 303, 2999, 95, 8, 14, 889, 411], [7821, 7822, 7823, 7824, 7825, 7826, 7827, 287, 52], [1228, 7828, 1985, 7829, 7830, 1, 448, 51, 776, 109, 520, 142, 168], [], [4, 471, 7831, 574, 15, 329, 281, 471, 131, 286, 131, 1, 2, 22, 692, 15, 384, 16], [269, 1], [250, 267, 1473, 1, 2137], [51, 51, 51, 51, 51, 51, 51, 51, 51, 51, 51, 51], [1, 49, 2, 103, 225, 19, 69, 105, 41, 98, 1043, 50, 7], [12, 216], [235, 7832, 2682, 1915, 376, 427], [257], [7833, 80, 6, 885, 7834, 56, 492, 371, 1, 7835, 50, 1, 1936, 16, 966, 7836], [618, 627, 730], [660, 10, 4, 13, 7837, 650, 7838, 1279, 1150, 1], [777, 777, 777, 777, 777, 777, 777, 777], [7839, 1044, 69], [6, 56, 12, 12, 85, 48], [217, 478, 464, 7840, 1217, 7841, 1383, 401, 1, 7842, 6, 478, 464, 7843, 1522], [2552, 98, 1, 1235, 183], [1, 2, 50, 7, 8, 14, 124, 274], [801, 1411, 7844, 1017, 168, 3082, 855, 187, 245, 1, 258, 2032, 1284, 565, 7845, 7846, 282, 1919, 1534, 459, 7847, 547, 454, 3082, 247, 1946], [1, 2, 1094, 13, 398, 378, 475, 694, 7848, 7849, 7850, 602, 1882, 2344, 222, 398, 284], [272, 1670, 44, 2857, 7851, 2995, 6, 1608, 1, 108], [7852, 24, 136, 7853, 144, 943], [194, 9, 616, 204, 1, 616, 516, 2875, 46, 96], [41, 178], [465, 55, 7854], [250, 267, 312, 1, 49, 2], [165, 1, 106, 106, 2007, 11, 241], [345, 3074, 35, 1, 11, 48, 152, 31, 396, 7855, 10, 133, 96, 244, 111, 7856, 7857, 44, 492], [2087, 1682], [20, 4], [2986, 41], [16], [665, 300, 392, 172, 7858, 239, 3, 377, 7859, 2, 146, 21, 1471, 278, 278, 194, 1336, 1336, 974, 130], [73, 257, 4, 196, 102, 252, 1], [165, 199, 218, 1049, 7860, 2054], [2605, 13, 115, 76, 1, 259, 132, 494, 1520, 63, 7861, 207, 94, 50, 168, 7862, 118, 389, 118, 2532, 342, 78, 141, 317, 111, 119, 62], [3083, 3083, 578, 7863], [179, 147, 178, 113, 21, 1551, 2078], [121, 646, 761, 148, 754, 7864, 7865, 10], [1154, 3049, 269, 1, 1548], [1, 1015, 7866], [284, 265, 1, 1240, 339, 1037, 207, 11, 1899, 3, 3010, 1091, 3011, 286], [16, 933, 42, 18, 7867, 7868, 1370], [552, 3080, 7869, 7870], [2, 1003, 1, 20, 8, 2026, 14], [133, 7871, 1, 364, 63, 59, 92, 133, 133, 961, 101, 2627, 7872, 972, 791], [518, 3, 2025, 369, 1, 21, 7873, 7874, 12], [1034, 48, 829], [30, 949, 1271, 3, 51, 3, 1], [30, 2248, 1210, 7875, 213], [], [75, 64]]\n"
     ]
    }
   ],
   "source": [
    "print(encd_text)"
   ]
  },
  {
   "cell_type": "code",
   "execution_count": 56,
   "id": "cd1ead04",
   "metadata": {},
   "outputs": [
    {
     "data": {
      "text/plain": [
       "dict_items([('depression', 1), ('anxiety', 2), ('like', 3), ('day', 4), ('feel', 5), ('good', 6), ('know', 7), ('emoji', 8), ('want', 9), ('time', 10), ('think', 11), ('love', 12), ('people', 13), ('face', 14), ('help', 15), ('work', 16), ('life', 17), ('today', 18), ('thing', 19), ('bad', 20), ('come', 21), ('need', 22), ('great', 23), ('miss', 24), ('mental', 25), ('sleep', 26), ('cry', 27), ('try', 28), ('new', 29), ('happy', 30), ('year', 31), ('friend', 32), ('talk', 33), ('night', 34), ('cause', 35), ('hate', 36), ('health', 37), ('sad', 38), ('find', 39), ('going', 40), ('right', 41), ('leave', 42), ('tell', 43), ('lol', 44), ('cure', 45), ('way', 46), ('look', 47), ('lose', 48), ('stress', 49), ('let', 50), ('lot', 51), ('twitter', 52), ('eat', 53), ('suffer', 54), ('watch', 55), ('hope', 56), ('use', 57), ('week', 58), ('post', 59), ('home', 60), ('amp', 61), ('real', 62), ('start', 63), ('thank', 64), ('hard', 65), ('heart', 66), ('smile', 67), ('tomorrow', 68), ('suck', 69), ('wish', 70), ('shit', 71), ('mentalhealth', 72), ('exercise', 73), ('school', 74), ('oh', 75), ('struggle', 76), ('fuck', 77), ('suicide', 78), ('live', 79), ('mom', 80), ('man', 81), ('stop', 82), ('away', 83), ('bed', 84), ('wanna', 85), ('study', 86), ('kid', 87), ('long', 88), ('wait', 89), ('illness', 90), ('world', 91), ('hit', 92), ('god', 93), ('person', 94), ('mean', 95), ('read', 96), ('hand', 97), ('deal', 98), ('fun', 99), ('tonight', 100), ('end', 101), ('risk', 102), ('self', 103), ('die', 104), ('happen', 105), ('hour', 106), ('disorder', 107), ('nap', 108), ('change', 109), ('sure', 110), ('pain', 111), ('guess', 112), ('maybe', 113), ('win', 114), ('actually', 115), ('child', 116), ('head', 117), ('ur', 118), ('fucking', 119), ('fight', 120), ('depressed', 121), ('break', 122), ('old', 123), ('tear', 124), ('little', 125), ('morning', 126), ('reason', 127), ('food', 128), ('fall', 129), ('care', 130), ('problem', 131), ('thought', 132), ('write', 133), ('got', 134), ('finally', 135), ('turn', 136), ('tweet', 137), ('issue', 138), ('bring', 139), ('therapy', 140), ('joke', 141), ('support', 142), ('soon', 143), ('damn', 144), ('hear', 145), ('bipolar', 146), ('sorry', 147), ('check', 148), ('big', 149), ('book', 150), ('girl', 151), ('month', 152), ('point', 153), ('brain', 154), ('skin', 155), ('loudly', 156), ('ok', 157), ('emotional', 158), ('light', 159), ('nice', 160), ('mood', 161), ('phone', 162), ('sign', 163), ('high', 164), ('bitch', 165), ('rain', 166), ('stay', 167), ('far', 168), ('experience', 169), ('guy', 170), ('music', 171), ('listen', 172), ('video', 173), ('game', 174), ('family', 175), ('severe', 176), ('lead', 177), ('hurt', 178), ('baby', 179), ('house', 180), ('cool', 181), ('sick', 182), ('share', 183), ('death', 184), ('etc', 185), ('play', 186), ('drug', 187), ('medium', 188), ('run', 189), ('job', 190), ('class', 191), ('eye', 192), ('summer', 193), ('mind', 194), ('believe', 195), ('cut', 196), ('cold', 197), ('ass', 198), ('wake', 199), ('awesome', 200), ('weekend', 201), ('follow', 202), ('learn', 203), ('woman', 204), ('social', 205), ('ask', 206), ('fact', 207), ('low', 208), ('body', 209), ('understand', 210), ('feeling', 211), ('forget', 212), ('later', 213), ('red', 214), ('wrong', 215), ('save', 216), ('car', 217), ('early', 218), ('tired', 219), ('matter', 220), ('speak', 221), ('symptom', 222), ('kill', 223), ('development', 224), ('stupid', 225), ('heavy', 226), ('doctor', 227), ('drive', 228), ('state', 229), ('dark', 230), ('attack', 231), ('stuff', 232), ('tie', 233), ('deep', 234), ('able', 235), ('pretty', 236), ('buy', 237), ('boo', 238), ('treat', 239), ('easy', 240), ('free', 241), ('battle', 242), ('haha', 243), ('add', 244), ('addiction', 245), ('true', 246), ('close', 247), ('teen', 248), ('spend', 249), ('puff', 250), ('ptsd', 251), ('develop', 252), ('enjoy', 253), ('dad', 254), ('bit', 255), ('literally', 256), ('minute', 257), ('fail', 258), ('suicidal', 259), ('dog', 260), ('boy', 261), ('past', 262), ('parent', 263), ('exam', 264), ('chronic', 265), ('song', 266), ('cannabis', 267), ('treatment', 268), ('crippling', 269), ('intellectual', 270), ('till', 271), ('decide', 272), ('beat', 273), ('joy', 274), ('war', 275), ('fix', 276), ('daily', 277), ('open', 278), ('okay', 279), ('realize', 280), ('nt', 281), ('relationship', 282), ('research', 283), ('patient', 284), ('lonely', 285), ('place', 286), ('goodnight', 287), ('hi', 288), ('ya', 289), ('ready', 290), ('physical', 291), ('sit', 292), ('room', 293), ('beautiful', 294), ('medication', 295), ('wonder', 296), ('include', 297), ('link', 298), ('send', 299), ('bom', 300), ('black', 301), ('probably', 302), ('mother', 303), ('moment', 304), ('story', 305), ('news', 306), ('meet', 307), ('movie', 308), ('avoid', 309), ('instead', 310), ('word', 311), ('ease', 312), ('yeah', 313), ('money', 314), ('honestly', 315), ('anymore', 316), ('bc', 317), ('weather', 318), ('level', 319), ('ppl', 320), ('affect', 321), ('concert', 322), ('raise', 323), ('piece', 324), ('rest', 325), ('college', 326), ('age', 327), ('chance', 328), ('recovery', 329), ('question', 330), ('idk', 331), ('dream', 332), ('positive', 333), ('weight', 334), ('strong', 335), ('ago', 336), ('iphone', 337), ('suggest', 338), ('increase', 339), ('visit', 340), ('condition', 341), ('attention', 342), ('especially', 343), ('amazing', 344), ('relate', 345), ('diagnose', 346), ('million', 347), ('grow', 348), ('term', 349), ('join', 350), ('wow', 351), ('panic', 352), ('worry', 353), ('trauma', 354), ('anger', 355), ('remember', 356), ('emotion', 357), ('finish', 358), ('pray', 359), ('art', 360), ('rt', 361), ('number', 362), ('tv', 363), ('blog', 364), ('major', 365), ('kick', 366), ('bout', 367), ('online', 368), ('crash', 369), ('tone', 370), ('overcome', 371), ('pass', 372), ('pay', 373), ('hair', 374), ('episode', 375), ('ticket', 376), ('human', 377), ('clinical', 378), ('party', 379), ('stigma', 380), ('awake', 381), ('happiness', 382), ('excited', 383), ('plan', 384), ('apple', 385), ('sun', 386), ('answer', 387), ('set', 388), ('crazy', 389), ('bored', 390), ('result', 391), ('deserve', 392), ('idea', 393), ('fake', 394), ('sadness', 395), ('med', 396), ('ill', 397), ('cancer', 398), ('abuse', 399), ('yes', 400), ('sex', 401), ('inside', 402), ('hug', 403), ('cope', 404), ('bye', 405), ('pick', 406), ('follower', 407), ('trump', 408), ('clear', 409), ('internet', 410), ('mouth', 411), ('control', 412), ('fear', 413), ('seriously', 414), ('yay', 415), ('prevent', 416), ('trigger', 417), ('medical', 418), ('kind', 419), ('rn', 420), ('hopefully', 421), ('huge', 422), ('history', 423), ('stick', 424), ('dance', 425), ('final', 426), ('wtf', 427), ('regularly', 428), ('lmao', 429), ('fan', 430), ('friday', 431), ('fat', 432), ('crap', 433), ('yesterday', 434), ('continue', 435), ('normal', 436), ('harm', 437), ('glad', 438), ('pull', 439), ('recommend', 440), ('double', 441), ('glass', 442), ('blame', 443), ('brother', 444), ('content', 445), ('sooo', 446), ('activity', 447), ('young', 448), ('second', 449), ('student', 450), ('shape', 451), ('tour', 452), ('cat', 453), ('push', 454), ('app', 455), ('dinner', 456), ('effect', 457), ('disease', 458), ('dress', 459), ('lower', 460), ('funny', 461), ('text', 462), ('course', 463), ('star', 464), ('fine', 465), ('hot', 466), ('weary', 467), ('train', 468), ('suppose', 469), ('middle', 470), ('admit', 471), ('water', 472), ('mad', 473), ('medicine', 474), ('update', 475), ('country', 476), ('date', 477), ('porn', 478), ('church', 479), ('dead', 480), ('poor', 481), ('case', 482), ('psychology', 483), ('diagnosis', 484), ('type', 485), ('pm', 486), ('account', 487), ('super', 488), ('stand', 489), ('facebook', 490), ('survive', 491), ('manage', 492), ('getting', 493), ('everyday', 494), ('ugh', 495), ('catch', 496), ('step', 497), ('xd', 498), ('sigh', 499), ('upside', 500), ('postpartum', 501), ('discuss', 502), ('kinda', 503), ('picture', 504), ('sunday', 505), ('imisscath', 506), ('hello', 507), ('soul', 508), ('create', 509), ('lack', 510), ('important', 511), ('reduce', 512), ('coffee', 513), ('loneliness', 514), ('imagine', 515), ('healthy', 516), ('weed', 517), ('album', 518), ('terrible', 519), ('sound', 520), ('consider', 521), ('impact', 522), ('wave', 523), ('different', 524), ('lately', 525), ('ah', 526), ('insomnia', 527), ('regret', 528), ('heal', 529), ('cuz', 530), ('mindfulness', 531), ('hold', 532), ('suddenly', 533), ('headache', 534), ('expert', 535), ('birthday', 536), ('definitely', 537), ('therapist', 538), ('mentalillness', 539), ('diet', 540), ('upset', 541), ('situation', 542), ('act', 543), ('drop', 544), ('page', 545), ('release', 546), ('father', 547), ('peace', 548), ('til', 549), ('constantly', 550), ('society', 551), ('perfect', 552), ('late', 553), ('sell', 554), ('group', 555), ('awareness', 556), ('swear', 557), ('remind', 558), ('half', 559), ('smh', 560), ('decrease', 561), ('researcher', 562), ('active', 563), ('soo', 564), ('ruin', 565), ('single', 566), ('busy', 567), ('ve', 568), ('difficult', 569), ('reply', 570), ('office', 571), ('rock', 572), ('improve', 573), ('exactly', 574), ('tooth', 575), ('hey', 576), ('project', 577), ('weird', 578), ('white', 579), ('list', 580), ('mentalhealthawareness', 581), ('build', 582), ('adhd', 583), ('abt', 584), ('cheer', 585), ('monday', 586), ('trust', 587), ('choice', 588), ('proud', 589), ('message', 590), ('difference', 591), ('hell', 592), ('outside', 593), ('individual', 594), ('aw', 595), ('process', 596), ('saturday', 597), ('asleep', 598), ('burn', 599), ('teacher', 600), ('worth', 601), ('practice', 602), ('meme', 603), ('fold', 604), ('short', 605), ('gain', 606), ('drink', 607), ('tough', 608), ('lady', 609), ('system', 610), ('pill', 611), ('uk', 612), ('lift', 613), ('test', 614), ('store', 615), ('teach', 616), ('podcast', 617), ('photo', 618), ('interview', 619), ('meditation', 620), ('computer', 621), ('seasonal', 622), ('attempt', 623), ('promise', 624), ('cloud', 625), ('explain', 626), ('comment', 627), ('scared', 628), ('actual', 629), ('focus', 630), ('model', 631), ('evidence', 632), ('power', 633), ('hang', 634), ('notice', 635), ('schedule', 636), ('debt', 637), ('paper', 638), ('somebody', 639), ('company', 640), ('rise', 641), ('tho', 642), ('escape', 643), ('healing', 644), ('rate', 645), ('cavs', 646), ('cook', 647), ('sort', 648), ('carry', 649), ('shut', 650), ('walk', 651), ('energy', 652), ('memory', 653), ('pressure', 654), ('fit', 655), ('chat', 656), ('reality', 657), ('contact', 658), ('adult', 659), ('fill', 660), ('small', 661), ('combat', 662), ('nite', 663), ('negative', 664), ('park', 665), ('goodbye', 666), ('dear', 667), ('truly', 668), ('luv', 669), ('benefit', 670), ('challenge', 671), ('cover', 672), ('nose', 673), ('anti', 674), ('business', 675), ('totally', 676), ('laugh', 677), ('chill', 678), ('random', 679), ('touch', 680), ('mania', 681), ('character', 682), ('lay', 683), ('pensive', 684), ('fast', 685), ('hole', 686), ('forward', 687), ('total', 688), ('trouble', 689), ('twice', 690), ('gender', 691), ('professional', 692), ('london', 693), ('offer', 694), ('teenager', 695), ('choicedepression', 696), ('clothe', 697), ('asshole', 698), ('math', 699), ('hospital', 700), ('complete', 701), ('gt', 702), ('design', 703), ('atm', 704), ('science', 705), ('forever', 706), ('alive', 707), ('gym', 708), ('excellent', 709), ('sense', 710), ('connection', 711), ('youtube', 712), ('thursday', 713), ('cancel', 714), ('public', 715), ('quot', 716), ('team', 717), ('sister', 718), ('hungry', 719), ('trip', 720), ('skype', 721), ('pop', 722), ('symptoms', 723), ('present', 724), ('esteem', 725), ('bore', 726), ('postnatal', 727), ('pic', 728), ('forgot', 729), ('space', 730), ('economic', 731), ('clean', 732), ('goal', 733), ('key', 734), ('rainy', 735), ('tip', 736), ('card', 737), ('cost', 738), ('season', 739), ('ride', 740), ('sing', 741), ('slightly', 742), ('handle', 743), ('delete', 744), ('wear', 745), ('lil', 746), ('fml', 747), ('aww', 748), ('purpose', 749), ('bill', 750), ('cute', 751), ('omg', 752), ('compare', 753), ('da', 754), ('grief', 755), ('currently', 756), ('comfort', 757), ('entire', 758), ('line', 759), ('website', 760), ('loss', 761), ('childhood', 762), ('reach', 763), ('shower', 764), ('im', 765), ('enter', 766), ('mum', 767), ('roll', 768), ('sexual', 769), ('jesus', 770), ('horrible', 771), ('ist', 772), ('begin', 773), ('opinion', 774), ('vaastu', 775), ('artist', 776), ('mcflyforgermany', 777), ('kanye', 778), ('ahead', 779), ('smoke', 780), ('apparently', 781), ('dm', 782), ('wild', 783), ('member', 784), ('personal', 785), ('em', 786), ('failure', 787), ('yo', 788), ('pizza', 789), ('block', 790), ('subject', 791), ('report', 792), ('recession', 793), ('obama', 794), ('david', 795), ('playlist', 796), ('steal', 797), ('manic', 798), ('thread', 799), ('personality', 800), ('despite', 801), ('boss', 802), ('yoga', 803), ('sink', 804), ('ball', 805), ('function', 806), ('period', 807), ('thx', 808), ('regardless', 809), ('holiday', 810), ('straight', 811), ('welcome', 812), ('common', 813), ('infinity', 814), ('film', 815), ('yea', 816), ('sunshine', 817), ('sickness', 818), ('chocolate', 819), ('chip', 820), ('blood', 821), ('choose', 822), ('note', 823), ('encourage', 824), ('allow', 825), ('force', 826), ('conversation', 827), ('goin', 828), ('fb', 829), ('disappointed', 830), ('pls', 831), ('dude', 832), ('overwhelming', 833), ('sexy', 834), ('possible', 835), ('base', 836), ('rip', 837), ('smell', 838), ('shopping', 839), ('cough', 840), ('cos', 841), ('friends', 842), ('potentially', 843), ('site', 844), ('progress', 845), ('leg', 846), ('depressive', 847), ('gut', 848), ('provide', 849), ('deepika', 850), ('email', 851), ('shortstack', 852), ('son', 853), ('analysis', 854), ('door', 855), ('figure', 856), ('boring', 857), ('mentally', 858), ('effective', 859), ('community', 860), ('topic', 861), ('gay', 862), ('youth', 863), ('index', 864), ('divorce', 865), ('silly', 866), ('truth', 867), ('session', 868), ('hide', 869), ('husband', 870), ('shake', 871), ('lunch', 872), ('identify', 873), ('alot', 874), ('breath', 875), ('obsession', 876), ('national', 877), ('sleepy', 878), ('dementia', 879), ('wednesday', 880), ('alcohol', 881), ('graduate', 882), ('track', 883), ('download', 884), ('theory', 885), ('plus', 886), ('guitar', 887), ('adolescent', 888), ('symbol', 889), ('lovely', 890), ('associate', 891), ('charge', 892), ('nasty', 893), ('floor', 894), ('isolation', 895), ('bother', 896), ('saddepression', 897), ('couple', 898), ('blend', 899), ('bowl', 900), ('swim', 901), ('airport', 902), ('city', 903), ('running', 904), ('appointment', 905), ('barely', 906), ('def', 907), ('dentist', 908), ('female', 909), ('btw', 910), ('air', 911), ('extreme', 912), ('chemical', 913), ('imbalance', 914), ('sunny', 915), ('club', 916), ('bf', 917), ('involve', 918), ('genuinely', 919), ('july', 920), ('fire', 921), ('information', 922), ('finger', 923), ('ex', 924), ('freak', 925), ('chest', 926), ('epidemic', 927), ('faith', 928), ('turkey', 929), ('remove', 930), ('wit', 931), ('psychologist', 932), ('load', 933), ('weak', 934), ('waste', 935), ('protect', 936), ('throw', 937), ('reject', 938), ('spot', 939), ('daughter', 940), ('future', 941), ('america', 942), ('scary', 943), ('spiral', 944), ('strike', 945), ('large', 946), ('mild', 947), ('bpd', 948), ('meal', 949), ('definition', 950), ('yr', 951), ('recover', 952), ('musical', 953), ('soup', 954), ('sandwich', 955), ('flat', 956), ('screen', 957), ('likely', 958), ('expect', 959), ('score', 960), ('series', 961), ('blow', 962), ('prob', 963), ('flower', 964), ('cramp', 965), ('slowly', 966), ('hella', 967), ('medicate', 968), ('annoyed', 969), ('harmful', 970), ('phrases', 971), ('article', 972), ('homework', 973), ('realise', 974), ('ahhh', 975), ('talks', 976), ('americans', 977), ('rat', 978), ('yep', 979), ('everybody', 980), ('emo', 981), ('mention', 982), ('culture', 983), ('blue', 984), ('training', 985), ('depress', 986), ('rid', 987), ('near', 988), ('fully', 989), ('warning', 990), ('june', 991), ('atlanta', 992), ('creep', 993), ('agree', 994), ('england', 995), ('ipod', 996), ('slip', 997), ('sky', 998), ('breakfast', 999), ('deeply', 1000), ('ocd', 1001), ('wall', 1002), ('mix', 1003), ('advice', 1004), ('main', 1005), ('action', 1006), ('diabetes', 1007), ('truck', 1008), ('luck', 1009), ('refuse', 1010), ('harry', 1011), ('tech', 1012), ('slow', 1013), ('federal', 1014), ('ugly', 1015), ('seek', 1016), ('demon', 1017), ('ketamine', 1018), ('shop', 1019), ('broken', 1020), ('drunk', 1021), ('marijuana', 1022), ('massive', 1023), ('regular', 1024), ('cheese', 1025), ('millennial', 1026), ('angel', 1027), ('commit', 1028), ('ring', 1029), ('event', 1030), ('sore', 1031), ('st', 1032), ('hmm', 1033), ('french', 1034), ('shoot', 1035), ('interesting', 1036), ('prove', 1037), ('tune', 1038), ('prayer', 1039), ('highly', 1040), ('suffering', 1041), ('hocking', 1042), ('fam', 1043), ('clearly', 1044), ('bang', 1045), ('factor', 1046), ('boston', 1047), ('row', 1048), ('la', 1049), ('favorite', 1050), ('airplane', 1051), ('vitamin', 1052), ('cuddle', 1053), ('english', 1054), ('cup', 1055), ('mi', 1056), ('cheat', 1057), ('decision', 1058), ('children', 1059), ('exist', 1060), ('incredible', 1061), ('positivity', 1062), ('role', 1063), ('productivity', 1064), ('area', 1065), ('georgia', 1066), ('defeat', 1067), ('law', 1068), ('shame', 1069), ('cake', 1070), ('relief', 1071), ('crawl', 1072), ('quality', 1073), ('doubt', 1074), ('distance', 1075), ('vote', 1076), ('lie', 1077), ('warm', 1078), ('extremely', 1079), ('mentalhealthmatter', 1080), ('grad', 1081), ('min', 1082), ('recognize', 1083), ('miserable', 1084), ('beach', 1085), ('dvd', 1086), ('girlfriend', 1087), ('easily', 1088), ('credit', 1089), ('minor', 1090), ('dr', 1091), ('anyways', 1092), ('autism', 1093), ('differ', 1094), ('darkness', 1095), ('university', 1096), ('wednesdaywisdom', 1097), ('folk', 1098), ('ignore', 1099), ('meeting', 1100), ('having', 1101), ('plant', 1102), ('price', 1103), ('motivation', 1104), ('strength', 1105), ('non', 1106), ('recently', 1107), ('infection', 1108), ('vet', 1109), ('pre', 1110), ('er', 1111), ('hrs', 1112), ('creative', 1113), ('wings', 1114), ('count', 1115), ('nearly', 1116), ('shed', 1117), ('police', 1118), ('gig', 1119), ('promote', 1120), ('ha', 1121), ('eating', 1122), ('immediately', 1123), ('cycle', 1124), ('graduation', 1125), ('knetz', 1126), ('coz', 1127), ('ground', 1128), ('feed', 1129), ('injury', 1130), ('majority', 1131), ('safe', 1132), ('green', 1133), ('plane', 1134), ('web', 1135), ('ma', 1136), ('blah', 1137), ('mess', 1138), ('frown', 1139), ('association', 1140), ('constant', 1141), ('padukone', 1142), ('mail', 1143), ('jst', 1144), ('improvement', 1145), ('wonderful', 1146), ('youu', 1147), ('delay', 1148), ('alright', 1149), ('psychiatry', 1150), ('schizophrenia', 1151), ('wide', 1152), ('afraid', 1153), ('dis', 1154), ('anybody', 1155), ('journal', 1156), ('destroy', 1157), ('married', 1158), ('completely', 1159), ('tms', 1160), ('voice', 1161), ('psychological', 1162), ('modern', 1163), ('angry', 1164), ('miley', 1165), ('depressing', 1166), ('basically', 1167), ('available', 1168), ('accept', 1169), ('bus', 1170), ('insecurity', 1171), ('usual', 1172), ('tool', 1173), ('anxious', 1174), ('spanish', 1175), ('server', 1176), ('equal', 1177), ('backhand', 1178), ('camp', 1179), ('reflect', 1180), ('fave', 1181), ('laptop', 1182), ('thinking', 1183), ('simple', 1184), ('brush', 1185), ('effort', 1186), ('san', 1187), ('junk', 1188), ('address', 1189), ('market', 1190), ('rare', 1191), ('prize', 1192), ('punch', 1193), ('mile', 1194), ('grade', 1195), ('possibly', 1196), ('spread', 1197), ('properly', 1198), ('muscle', 1199), ('inspire', 1200), ('afford', 1201), ('tuesday', 1202), ('stage', 1203), ('cherry', 1204), ('spring', 1205), ('fever', 1206), ('grr', 1207), ('afternoon', 1208), ('worker', 1209), ('awww', 1210), ('refer', 1211), ('wife', 1212), ('surgery', 1213), ('educate', 1214), ('tight', 1215), ('antidepressant', 1216), ('stone', 1217), ('town', 1218), ('dumb', 1219), ('se', 1220), ('slash', 1221), ('outta', 1222), ('grandma', 1223), ('farrah', 1224), ('fawcett', 1225), ('arm', 1226), ('jonas', 1227), ('officially', 1228), ('fresh', 1229), ('awful', 1230), ('calm', 1231), ('bathroom', 1232), ('tend', 1233), ('box', 1234), ('method', 1235), ('badly', 1236), ('disability', 1237), ('vegas', 1238), ('nightmare', 1239), ('sm', 1240), ('sadly', 1241), ('simply', 1242), ('difficulty', 1243), ('doc', 1244), ('dose', 1245), ('tokiohotel', 1246), ('ache', 1247), ('rapper', 1248), ('behavior', 1249), ('occur', 1250), ('grrr', 1251), ('blessing', 1252), ('google', 1253), ('sneeze', 1254), ('kitchen', 1255), ('dammit', 1256), ('dnt', 1257), ('solve', 1258), ('legal', 1259), ('addict', 1260), ('band', 1261), ('tax', 1262), ('policy', 1263), ('breastfeeding', 1264), ('accord', 1265), ('depend', 1266), ('netflix', 1267), ('eddings', 1268), ('darn', 1269), ('expensive', 1270), ('taste', 1271), ('wise', 1272), ('assignment', 1273), ('direct', 1274), ('inflammation', 1275), ('bi', 1276), ('polar', 1277), ('copy', 1278), ('mentalhealthmatters', 1279), ('sport', 1280), ('multiple', 1281), ('usually', 1282), ('nervous', 1283), ('financial', 1284), ('twit', 1285), ('stuck', 1286), ('stranger', 1287), ('plz', 1288), ('hollywood', 1289), ('frequent', 1290), ('apart', 1291), ('author', 1292), ('field', 1293), ('complicated', 1294), ('ban', 1295), ('waitin', 1296), ('exhausted', 1297), ('women', 1298), ('writing', 1299), ('bright', 1300), ('climate', 1301), ('beth', 1302), ('survivor', 1303), ('mh', 1304), ('relative', 1305), ('surround', 1306), ('senior', 1307), ('stock', 1308), ('govt', 1309), ('view', 1310), ('lucky', 1311), ('response', 1312), ('throat', 1313), ('chicken', 1314), ('et', 1315), ('nimh', 1316), ('review', 1317), ('cleveland', 1318), ('revise', 1319), ('hoo', 1320), ('pnd', 1321), ('local', 1322), ('bridge', 1323), ('honey', 1324), ('american', 1325), ('pump', 1326), ('acne', 1327), ('concern', 1328), ('foot', 1329), ('soooo', 1330), ('kitten', 1331), ('demi', 1332), ('manifest', 1333), ('revolve', 1334), ('defend', 1335), ('loud', 1336), ('record', 1337), ('lifestyle', 1338), ('lazy', 1339), ('excuse', 1340), ('thunder', 1341), ('fr', 1342), ('pouting', 1343), ('violent', 1344), ('education', 1345), ('mock', 1346), ('australia', 1347), ('disappoint', 1348), ('chris', 1349), ('intervention', 1350), ('alleviate', 1351), ('apologize', 1352), ('fuckin', 1353), ('relieve', 1354), ('immune', 1355), ('lad', 1356), ('solid', 1357), ('judge', 1358), ('relieved', 1359), ('worried', 1360), ('villainous', 1361), ('mia', 1362), ('certainly', 1363), ('af', 1364), ('stream', 1365), ('kiss', 1366), ('wet', 1367), ('shrug', 1368), ('quiet', 1369), ('xxx', 1370), ('eventually', 1371), ('election', 1372), ('left', 1373), ('brave', 1374), ('corner', 1375), ('um', 1376), ('resource', 1377), ('interest', 1378), ('population', 1379), ('interested', 1380), ('shot', 1381), ('bummer', 1382), ('bike', 1383), ('option', 1384), ('functional', 1385), ('value', 1386), ('pair', 1387), ('jus', 1388), ('counseling', 1389), ('retweet', 1390), ('bug', 1391), ('studio', 1392), ('stressful', 1393), ('pun', 1394), ('camera', 1395), ('ship', 1396), ('drama', 1397), ('fantastic', 1398), ('ocean', 1399), ('moon', 1400), ('trackle', 1401), ('sorrow', 1402), ('assume', 1403), ('brilliant', 1404), ('diversity', 1405), ('lifetime', 1406), ('arrive', 1407), ('secret', 1408), ('bless', 1409), ('service', 1410), ('success', 1411), ('coach', 1412), ('odd', 1413), ('connect', 1414), ('ily', 1415), ('ward', 1416), ('hotline', 1417), ('animal', 1418), ('speech', 1419), ('mindset', 1420), ('joint', 1421), ('cannabi', 1422), ('sleepless', 1423), ('sweet', 1424), ('intern', 1425), ('dry', 1426), ('fish', 1427), ('mark', 1428), ('hangover', 1429), ('belief', 1430), ('vs', 1431), ('hill', 1432), ('spray', 1433), ('publish', 1434), ('beer', 1435), ('comp', 1436), ('quarter', 1437), ('rule', 1438), ('slight', 1439), ('certain', 1440), ('queen', 1441), ('swing', 1442), ('obtain', 1443), ('friendly', 1444), ('stomach', 1445), ('smirk', 1446), ('frustration', 1447), ('myspace', 1448), ('sir', 1449), ('government', 1450), ('diary', 1451), ('praise', 1452), ('crush', 1453), ('absolutely', 1454), ('vintage', 1455), ('worthless', 1456), ('bitterness', 1457), ('sin', 1458), ('bleed', 1459), ('jb', 1460), ('monster', 1461), ('worst', 1462), ('land', 1463), ('living', 1464), ('buddy', 1465), ('survival', 1466), ('bear', 1467), ('pot', 1468), ('rough', 1469), ('dig', 1470), ('disappear', 1471), ('supplement', 1472), ('easeâ', 1473), ('learning', 1474), ('international', 1475), ('puzzle', 1476), ('click', 1477), ('migraine', 1478), ('scratch', 1479), ('bag', 1480), ('order', 1481), ('barakatday', 1482), ('donate', 1483), ('shoe', 1484), ('form', 1485), ('workout', 1486), ('shift', 1487), ('growth', 1488), ('storm', 1489), ('contribute', 1490), ('cop', 1491), ('percent', 1492), ('silence', 1493), ('employee', 1494), ('physically', 1495), ('bush', 1496), ('witness', 1497), ('dj', 1498), ('prince', 1499), ('recognition', 1500), ('halo', 1501), ('shitty', 1502), ('victim', 1503), ('volunteer', 1504), ('fund', 1505), ('hay', 1506), ('draw', 1507), ('road', 1508), ('lmaooo', 1509), ('scare', 1510), ('sympathy', 1511), ('dish', 1512), ('candy', 1513), ('cell', 1514), ('quit', 1515), ('lmfao', 1516), ('travel', 1517), ('fly', 1518), ('silent', 1519), ('idc', 1520), ('yum', 1521), ('nude', 1522), ('label', 1523), ('orlando', 1524), ('cole', 1525), ('ko', 1526), ('tht', 1527), ('bby', 1528), ('engage', 1529), ('bum', 1530), ('ftw', 1531), ('argh', 1532), ('epic', 1533), ('cross', 1534), ('regard', 1535), ('innocent', 1536), ('killer', 1537), ('murder', 1538), ('dt', 1539), ('lt', 1540), ('gunna', 1541), ('woo', 1542), ('squarespace', 1543), ('france', 1544), ('sudden', 1545), ('intense', 1546), ('boyfriend', 1547), ('hehe', 1548), ('huh', 1549), ('religion', 1550), ('oil', 1551), ('hallucination', 1552), ('paranoid', 1553), ('tea', 1554), ('os', 1555), ('bday', 1556), ('dan', 1557), ('inspiration', 1558), ('drown', 1559), ('tension', 1560), ('relax', 1561), ('suggestion', 1562), ('leadership', 1563), ('bullshit', 1564), ('india', 1565), ('frustrating', 1566), ('breastfeed', 1567), ('katie', 1568), ('theater', 1569), ('valdoxan', 1570), ('msn', 1571), ('offline', 1572), ('strain', 1573), ('hm', 1574), ('hotlineshare', 1575), ('quote', 1576), ('grasp', 1577), ('ju', 1578), ('zone', 1579), ('ego', 1580), ('skip', 1581), ('radio', 1582), ('cash', 1583), ('bedroom', 1584), ('vision', 1585), ('boost', 1586), ('serotonin', 1587), ('april', 1588), ('ashamed', 1589), ('invite', 1590), ('matt', 1591), ('guilt', 1592), ('doll', 1593), ('nyc', 1594), ('receive', 1595), ('worldwide', 1596), ('dunno', 1597), ('guys', 1598), ('channel', 1599), ('passion', 1600), ('cheap', 1601), ('magic', 1602), ('transition', 1603), ('co', 1604), ('region', 1605), ('hmmm', 1606), ('window', 1607), ('ol', 1608), ('gun', 1609), ('anime', 1610), ('forgive', 1611), ('quick', 1612), ('xx', 1613), ('mkt', 1614), ('economy', 1615), ('match', 1616), ('stat', 1617), ('hah', 1618), ('wallow', 1619), ('strayquiz', 1620), ('variety', 1621), ('nimhchat', 1622), ('demand', 1623), ('grocery', 1624), ('vine', 1625), ('sparkling', 1626), ('outlet', 1627), ('tale', 1628), ('fair', 1629), ('actor', 1630), ('naked', 1631), ('northern', 1632), ('california', 1633), ('asian', 1634), ('ppd', 1635), ('pen', 1636), ('achieve', 1637), ('freedom', 1638), ('differently', 1639), ('tbh', 1640), ('indicate', 1641), ('banana', 1642), ('sytycd', 1643), ('naturally', 1644), ('horse', 1645), ('york', 1646), ('jonathan', 1647), ('carpet', 1648), ('phase', 1649), ('prescription', 1650), ('victory', 1651), ('aye', 1652), ('overall', 1653), ('letter', 1654), ('mode', 1655), ('similar', 1656), ('hahaha', 1657), ('rolling', 1658), ('crown', 1659), ('ye', 1660), ('holidays', 1661), ('steven', 1662), ('brown', 1663), ('nd', 1664), ('master', 1665), ('stem', 1666), ('validation', 1667), ('snap', 1668), ('toast', 1669), ('spam', 1670), ('ughhhh', 1671), ('gone', 1672), ('arrow', 1673), ('replay', 1674), ('particular', 1675), ('specifically', 1676), ('amor', 1677), ('fault', 1678), ('brian', 1679), ('grin', 1680), ('prison', 1681), ('crew', 1682), ('babe', 1683), ('athlete', 1684), ('impress', 1685), ('yummy', 1686), ('journey', 1687), ('yell', 1688), ('keeptalkingmh', 1689), ('paint', 1690), ('legit', 1691), ('ignorant', 1692), ('farmer', 1693), ('battery', 1694), ('global', 1695), ('incident', 1696), ('meta', 1697), ('studies', 1698), ('attract', 1699), ('scream', 1700), ('closed', 1701), ('consequence', 1702), ('weakness', 1703), ('pet', 1704), ('selfesteem', 1705), ('familyconflict', 1706), ('followus', 1707), ('decatur', 1708), ('bite', 1709), ('watchin', 1710), ('draft', 1711), ('swollen', 1712), ('diploma', 1713), ('generally', 1714), ('hehehe', 1715), ('bounce', 1716), ('crave', 1717), ('psych', 1718), ('honest', 1719), ('reaction', 1720), ('piss', 1721), ('induce', 1722), ('shadow', 1723), ('frustrate', 1724), ('semester', 1725), ('cast', 1726), ('shock', 1727), ('sam', 1728), ('justice', 1729), ('screw', 1730), ('projection', 1731), ('dick', 1732), ('knowledge', 1733), ('trek', 1734), ('helpful', 1735), ('thankful', 1736), ('slap', 1737), ('momentum', 1738), ('celebrity', 1739), ('celebrate', 1740), ('burden', 1741), ('numb', 1742), ('europe', 1743), ('manager', 1744), ('mtv', 1745), ('host', 1746), ('accident', 1747), ('magnesium', 1748), ('gala', 1749), ('threaten', 1750), ('bath', 1751), ('bubble', 1752), ('generation', 1753), ('tonite', 1754), ('potter', 1755), ('mount', 1756), ('breeze', 1757), ('scandal', 1758), ('priority', 1759), ('collapse', 1760), ('winter', 1761), ('reserve', 1762), ('uniform', 1763), ('claim', 1764), ('shall', 1765), ('suicideprevention', 1766), ('talkin', 1767), ('gettin', 1768), ('tix', 1769), ('determine', 1770), ('sim', 1771), ('mobile', 1772), ('followfriday', 1773), ('nasal', 1774), ('sooooo', 1775), ('disappointment', 1776), ('contest', 1777), ('confirm', 1778), ('bunch', 1779), ('sum', 1780), ('universe', 1781), ('magazine', 1782), ('cd', 1783), ('adam', 1784), ('pi', 1785), ('exception', 1786), ('birth', 1787), ('pregnancy', 1788), ('typical', 1789), ('aka', 1790), ('chicago', 1791), ('shine', 1792), ('frequently', 1793), ('timeline', 1794), ('seizure', 1795), ('woop', 1796), ('describe', 1797), ('spirit', 1798), ('sake', 1799), ('pile', 1800), ('better', 1801), ('finale', 1802), ('gossip', 1803), ('king', 1804), ('genetic', 1805), ('gpa', 1806), ('warn', 1807), ('wellness', 1808), ('endthestigma', 1809), ('wellnesswednesday', 1810), ('current', 1811), ('search', 1812), ('dedicate', 1813), ('minority', 1814), ('respect', 1815), ('spasm', 1816), ('discover', 1817), ('bts', 1818), ('lyric', 1819), ('depressionme', 1820), ('street', 1821), ('south', 1822), ('devil', 1823), ('temper', 1824), ('opening', 1825), ('creativity', 1826), ('pink', 1827), ('square', 1828), ('drag', 1829), ('dem', 1830), ('bible', 1831), ('peter', 1832), ('uni', 1833), ('twilight', 1834), ('settle', 1835), ('forecast', 1836), ('rude', 1837), ('allergy', 1838), ('unemployment', 1839), ('taylor', 1840), ('goodmorne', 1841), ('string', 1842), ('rape', 1843), ('solution', 1844), ('court', 1845), ('depressant', 1846), ('congrat', 1847), ('buzz', 1848), ('possibility', 1849), ('unamuse', 1850), ('reverse', 1851), ('related', 1852), ('heel', 1853), ('meat', 1854), ('pa', 1855), ('guilty', 1856), ('spider', 1857), ('ashley', 1858), ('dp', 1859), ('pc', 1860), ('programme', 1861), ('rosie', 1862), ('billion', 1863), ('men', 1864), ('fortnite', 1865), ('gud', 1866), ('iran', 1867), ('payment', 1868), ('laker', 1869), ('recent', 1870), ('image', 1871), ('nutrition', 1872), ('program', 1873), ('un', 1874), ('mini', 1875), ('tf', 1876), ('award', 1877), ('rwby', 1878), ('enemy', 1879), ('temporary', 1880), ('skull', 1881), ('explore', 1882), ('gm', 1883), ('tryna', 1884), ('gravity', 1885), ('fulfil', 1886), ('log', 1887), ('politic', 1888), ('pickle', 1889), ('onion', 1890), ('knw', 1891), ('contain', 1892), ('mg', 1893), ('hopelessness', 1894), ('participant', 1895), ('general', 1896), ('pure', 1897), ('accidentally', 1898), ('behave', 1899), ('trailer', 1900), ('appetite', 1901), ('marry', 1902), ('kris', 1903), ('voltron', 1904), ('hopeless', 1905), ('ear', 1906), ('mistake', 1907), ('jeff', 1908), ('ako', 1909), ('bully', 1910), ('hack', 1911), ('army', 1912), ('stack', 1913), ('phd', 1914), ('dc', 1915), ('bs', 1916), ('le', 1917), ('anchor', 1918), ('alcoholic', 1919), ('arizona', 1920), ('department', 1921), ('special', 1922), ('status', 1923), ('chair', 1924), ('leeds', 1925), ('management', 1926), ('instagram', 1927), ('solo', 1928), ('caregiver', 1929), ('personally', 1930), ('trash', 1931), ('troll', 1932), ('clue', 1933), ('perspective', 1934), ('complain', 1935), ('consume', 1936), ('hype', 1937), ('profit', 1938), ('partner', 1939), ('hn', 1940), ('cripple', 1941), ('sweat', 1942), ('sis', 1943), ('rich', 1944), ('biological', 1945), ('edge', 1946), ('race', 1947), ('aim', 1948), ('color', 1949), ('nighttime', 1950), ('dosage', 1951), ('flare', 1952), ('fellow', 1953), ('fleur', 1954), ('enjoyable', 1955), ('tragic', 1956), ('golden', 1957), ('bbl', 1958), ('best', 1959), ('puppy', 1960), ('sa', 1961), ('aside', 1962), ('relatable', 1963), ('round', 1964), ('overdose', 1965), ('bone', 1966), ('rappers', 1967), ('fry', 1968), ('iranelection', 1969), ('replacement', 1970), ('tackle', 1971), ('thoughts', 1972), ('electricity', 1973), ('offend', 1974), ('drain', 1975), ('adolescence', 1976), ('cali', 1977), ('chick', 1978), ('sync', 1979), ('fruit', 1980), ('thief', 1981), ('geez', 1982), ('uncle', 1983), ('delicious', 1984), ('justin', 1985), ('zero', 1986), ('concept', 1987), ('upload', 1988), ('sheet', 1989), ('era', 1990), ('print', 1991), ('aunt', 1992), ('charity', 1993), ('board', 1994), ('shoutout', 1995), ('feelin', 1996), ('beauty', 1997), ('salt', 1998), ('switch', 1999), ('lord', 2000), ('suspend', 2001), ('ti', 2002), ('mmm', 2003), ('budget', 2004), ('everton', 2005), ('clapping', 2006), ('fool', 2007), ('overlook', 2008), ('menopause', 2009), ('oreo', 2010), ('becuz', 2011), ('profile', 2012), ('terrorist', 2013), ('distract', 2014), ('homeless', 2015), ('ap', 2016), ('steve', 2017), ('peer', 2018), ('structure', 2019), ('normally', 2020), ('stroke', 2021), ('worm', 2022), ('bateman', 2023), ('lectures', 2024), ('everytime', 2025), ('persevere', 2026), ('extend', 2027), ('giant', 2028), ('press', 2029), ('bank', 2030), ('denial', 2031), ('marriage', 2032), ('appreciate', 2033), ('infinitywar', 2034), ('annoying', 2035), ('homie', 2036), ('firefox', 2037), ('delusion', 2038), ('accomplish', 2039), ('outer', 2040), ('basketball', 2041), ('mac', 2042), ('explode', 2043), ('fir', 2044), ('wallet', 2045), ('teens', 2046), ('outlook', 2047), ('phil', 2048), ('successful', 2049), ('jona', 2050), ('singing', 2051), ('debate', 2052), ('aur', 2053), ('kay', 2054), ('kya', 2055), ('library', 2056), ('republican', 2057), ('brink', 2058), ('harass', 2059), ('wa', 2060), ('oxytocin', 2061), ('register', 2062), ('jamie', 2063), ('presence', 2064), ('convince', 2065), ('hospitalize', 2066), ('palatine', 2067), ('tonsil', 2068), ('pose', 2069), ('negatively', 2070), ('detect', 2071), ('blonde', 2072), ('terri', 2073), ('complex', 2074), ('firstly', 2075), ('electric', 2076), ('heck', 2077), ('rub', 2078), ('plenty', 2079), ('hr', 2080), ('anyer', 2081), ('someday', 2082), ('tightly', 2083), ('wellbee', 2084), ('void', 2085), ('paul', 2086), ('fl', 2087), ('advisor', 2088), ('confidence', 2089), ('pig', 2090), ('blossom', 2091), ('streaming', 2092), ('antibiotic', 2093), ('cap', 2094), ('deadpool', 2095), ('chilli', 2096), ('occupation', 2097), ('interaction', 2098), ('fame', 2099), ('gaga', 2100), ('ughhh', 2101), ('dysphoria', 2102), ('dont', 2103), ('expire', 2104), ('emergence', 2105), ('routine', 2106), ('mentalhealthtraine', 2107), ('background', 2108), ('furniture', 2109), ('wud', 2110), ('target', 2111), ('hotdog', 2112), ('gradually', 2113), ('urself', 2114), ('times', 2115), ('stretch', 2116), ('ravage', 2117), ('grand', 2118), ('west', 2119), ('fabulous', 2120), ('bold', 2121), ('wednesdaymotivation', 2122), ('hawaii', 2123), ('roughly', 2124), ('serving', 2125), ('cookie', 2126), ('border', 2127), ('bayern', 2128), ('ronaldo', 2129), ('fanboy', 2130), ('drove', 2131), ('liberty', 2132), ('coolidge', 2133), ('toxic', 2134), ('hatred', 2135), ('tropical', 2136), ('mm', 2137), ('taco', 2138), ('toy', 2139), ('pineapple', 2140), ('table', 2141), ('private', 2142), ('preview', 2143), ('simultaneously', 2144), ('crappy', 2145), ('straykid', 2146), ('choke', 2147), ('noodle', 2148), ('learningmind', 2149), ('deliver', 2150), ('palm', 2151), ('craft', 2152), ('wheel', 2153), ('gather', 2154), ('spark', 2155), ('brb', 2156), ('detroit', 2157), ('passive', 2158), ('thai', 2159), ('wat', 2160), ('remain', 2161), ('bryan', 2162), ('txt', 2163), ('century', 2164), ('unique', 2165), ('succeed', 2166), ('jealous', 2167), ('booo', 2168), ('size', 2169), ('kindness', 2170), ('romanticize', 2171), ('supportive', 2172), ('trap', 2173), ('brooklyn', 2174), ('rewire', 2175), ('replace', 2176), ('cousin', 2177), ('habit', 2178), ('dokey', 2179), ('shirt', 2180), ('fibromyalgia', 2181), ('bay', 2182), ('meds', 2183), ('cooking', 2184), ('followin', 2185), ('vile', 2186), ('tag', 2187), ('ny', 2188), ('bouta', 2189), ('smidge', 2190), ('criminal', 2191), ('dopamine', 2192), ('netball', 2193), ('careful', 2194), ('gauge', 2195), ('aggressive', 2196), ('favourite', 2197), ('fade', 2198), ('dent', 2199), ('predict', 2200), ('amy', 2201), ('lisa', 2202), ('kristen', 2203), ('luckily', 2204), ('grateful', 2205), ('chem', 2206), ('unfortunately', 2207), ('natalie', 2208), ('refuge', 2209), ('strengthen', 2210), ('deficiency', 2211), ('tall', 2212), ('nadir', 2213), ('reminisce', 2214), ('sequel', 2215), ('somewhat', 2216), ('selfie', 2217), ('listenin', 2218), ('ughh', 2219), ('soundcloud', 2220), ('bookstore', 2221), ('peep', 2222), ('permanent', 2223), ('expressionless', 2224), ('importance', 2225), ('ed', 2226), ('breathe', 2227), ('tongue', 2228), ('african', 2229), ('meek', 2230), ('gnarly', 2231), ('dbl', 2232), ('bbm', 2233), ('babysit', 2234), ('sleeping', 2235), ('appear', 2236), ('television', 2237), ('royal', 2238), ('oldie', 2239), ('sugar', 2240), ('bruh', 2241), ('hunt', 2242), ('psa', 2243), ('reuters', 2244), ('newcastle', 2245), ('heartbreaking', 2246), ('wedding', 2247), ('anniversary', 2248), ('concrete', 2249), ('strategy', 2250), ('alarming', 2251), ('garden', 2252), ('gop', 2253), ('bargaining', 2254), ('speaker', 2255), ('unfair', 2256), ('example', 2257), ('sponge', 2258), ('ned', 2259), ('arrest', 2260), ('anywho', 2261), ('frozen', 2262), ('funk', 2263), ('equilibrium', 2264), ('gdp', 2265), ('employ', 2266), ('correct', 2267), ('loose', 2268), ('prospective', 2269), ('cohort', 2270), ('vol', 2271), ('technically', 2272), ('happily', 2273), ('vent', 2274), ('allay', 2275), ('carson', 2276), ('useless', 2277), ('imm', 2278), ('nerd', 2279), ('jonghyun', 2280), ('cultural', 2281), ('inequality', 2282), ('neighbor', 2283), ('pack', 2284), ('mexico', 2285), ('bisexual', 2286), ('rite', 2287), ('freakin', 2288), ('daddy', 2289), ('technique', 2290), ('breakup', 2291), ('egg', 2292), ('physicalactivity', 2293), ('comic', 2294), ('cyrus', 2295), ('united', 2296), ('states', 2297), ('internship', 2298), ('photography', 2299), ('mel', 2300), ('bend', 2301), ('broke', 2302), ('sprinkle', 2303), ('duty', 2304), ('hungover', 2305), ('pub', 2306), ('gutte', 2307), ('curriculum', 2308), ('incapable', 2309), ('badd', 2310), ('opportunity', 2311), ('respond', 2312), ('entitle', 2313), ('edit', 2314), ('kim', 2315), ('susan', 2316), ('boyle', 2317), ('talkf', 2318), ('itsoktotalk', 2319), ('thursdaythoughts', 2320), ('spose', 2321), ('organic', 2322), ('chemistry', 2323), ('subjective', 2324), ('proper', 2325), ('liquid', 2326), ('citrus', 2327), ('disney', 2328), ('sluggish', 2329), ('endorphin', 2330), ('production', 2331), ('rap', 2332), ('na', 2333), ('aussie', 2334), ('intend', 2335), ('irritation', 2336), ('clock', 2337), ('gmail', 2338), ('guyz', 2339), ('mutual', 2340), ('understanding', 2341), ('significant', 2342), ('incredibly', 2343), ('psychiatric', 2344), ('sunburnt', 2345), ('counsellor', 2346), ('comin', 2347), ('err', 2348), ('soooooo', 2349), ('shatter', 2350), ('feather', 2351), ('skill', 2352), ('isolate', 2353), ('gross', 2354), ('hilarious', 2355), ('logic', 2356), ('vmas', 2357), ('bipolarbrave', 2358), ('essay', 2359), ('joe', 2360), ('motivate', 2361), ('lvatt', 2362), ('sane', 2363), ('roof', 2364), ('belly', 2365), ('mic', 2366), ('undiagnosed', 2367), ('mexican', 2368), ('chaise', 2369), ('atl', 2370), ('welp', 2371), ('hours', 2372), ('quiz', 2373), ('eatin', 2374), ('cereal', 2375), ('yah', 2376), ('fraud', 2377), ('sweep', 2378), ('grind', 2379), ('superman', 2380), ('consistent', 2381), ('customer', 2382), ('glance', 2383), ('bron', 2384), ('entirely', 2385), ('canon', 2386), ('serve', 2387), ('mourn', 2388), ('hassle', 2389), ('prior', 2390), ('niggas', 2391), ('shorty', 2392), ('reassurance', 2393), ('cw', 2394), ('discussion', 2395), ('burst', 2396), ('kevin', 2397), ('batt', 2398), ('flippin', 2399), ('trend', 2400), ('verne', 2401), ('troyer', 2402), ('transgender', 2403), ('ab', 2404), ('orange', 2405), ('kindly', 2406), ('de', 2407), ('driver', 2408), ('decade', 2409), ('celibate', 2410), ('stair', 2411), ('prescribe', 2412), ('hop', 2413), ('fic', 2414), ('lunchtime', 2415), ('itchy', 2416), ('critical', 2417), ('stalker', 2418), ('entry', 2419), ('disgusting', 2420), ('spectrum', 2421), ('descend', 2422), ('chaos', 2423), ('ethic', 2424), ('productive', 2425), ('diego', 2426), ('existential', 2427), ('momma', 2428), ('lean', 2429), ('superior', 2430), ('portable', 2431), ('masturbate', 2432), ('assault', 2433), ('maternalhealth', 2434), ('blush', 2435), ('fdr', 2436), ('pie', 2437), ('previously', 2438), ('stable', 2439), ('eh', 2440), ('nobel', 2441), ('festival', 2442), ('damage', 2443), ('poisoning', 2444), ('alcoholism', 2445), ('password', 2446), ('sensitive', 2447), ('tmrw', 2448), ('suit', 2449), ('yogurt', 2450), ('borderlinepersonality', 2451), ('expression', 2452), ('congratulation', 2453), ('talent', 2454), ('conscious', 2455), ('calculus', 2456), ('snow', 2457), ('taboo', 2458), ('webcast', 2459), ('workplace', 2460), ('organization', 2461), ('harvest', 2462), ('para', 2463), ('drawing', 2464), ('theme', 2465), ('relevant', 2466), ('gb', 2467), ('inch', 2468), ('mumbai', 2469), ('cbd', 2470), ('loan', 2471), ('rachel', 2472), ('alexa', 2473), ('necessarily', 2474), ('rod', 2475), ('korean', 2476), ('meaningful', 2477), ('dawg', 2478), ('scheme', 2479), ('handwritten', 2480), ('grace', 2481), ('amen', 2482), ('subliminal', 2483), ('thomas', 2484), ('demons', 2485), ('mo', 2486), ('item', 2487), ('colorful', 2488), ('havin', 2489), ('vice', 2490), ('trial', 2491), ('mentality', 2492), ('grant', 2493), ('distraction', 2494), ('career', 2495), ('chile', 2496), ('shipping', 2497), ('cracker', 2498), ('coursework', 2499), ('disneyland', 2500), ('threat', 2501), ('monitor', 2502), ('chilling', 2503), ('unlimited', 2504), ('fatigue', 2505), ('hotel', 2506), ('esp', 2507), ('celebs', 2508), ('cmon', 2509), ('wreak', 2510), ('havoc', 2511), ('willing', 2512), ('australian', 2513), ('unwilling', 2514), ('jackson', 2515), ('remedy', 2516), ('asthma', 2517), ('curious', 2518), ('sexuality', 2519), ('dump', 2520), ('cognitive', 2521), ('depth', 2522), ('tiger', 2523), ('selena', 2524), ('curiousity', 2525), ('coldplay', 2526), ('lesbian', 2527), ('chillin', 2528), ('robin', 2529), ('mainly', 2530), ('sunflower', 2531), ('desperate', 2532), ('north', 2533), ('council', 2534), ('transfer', 2535), ('enhance', 2536), ('annoy', 2537), ('bar', 2538), ('minimal', 2539), ('tommorow', 2540), ('pr', 2541), ('jk', 2542), ('skincare', 2543), ('legally', 2544), ('ehhh', 2545), ('modulation', 2546), ('signaling', 2547), ('contributes', 2548), ('impairment', 2549), ('awards', 2550), ('fcke', 2551), ('recommendation', 2552), ('indie', 2553), ('slide', 2554), ('bio', 2555), ('produce', 2556), ('situational', 2557), ('capable', 2558), ('cream', 2559), ('bird', 2560), ('narcissism', 2561), ('frank', 2562), ('bleh', 2563), ('vacuum', 2564), ('ben', 2565), ('core', 2566), ('aish', 2567), ('elect', 2568), ('reduction', 2569), ('pound', 2570), ('advocate', 2571), ('yer', 2572), ('tommy', 2573), ('abortion', 2574), ('hearty', 2575), ('explanation', 2576), ('jail', 2577), ('diagnostic', 2578), ('dwell', 2579), ('misery', 2580), ('tattoo', 2581), ('desk', 2582), ('reminder', 2583), ('dora', 2584), ('earth', 2585), ('nuclear', 2586), ('macbook', 2587), ('pro', 2588), ('expressive', 2589), ('misconceptions', 2590), ('advertising', 2591), ('chase', 2592), ('bet', 2593), ('sonic', 2594), ('silently', 2595), ('roast', 2596), ('oven', 2597), ('selfhelp', 2598), ('enthusiasm', 2599), ('injustice', 2600), ('dust', 2601), ('native', 2602), ('british', 2603), ('chi', 2604), ('insult', 2605), ('grandfather', 2606), ('hahahahaha', 2607), ('express', 2608), ('lizzie', 2609), ('taekwondo', 2610), ('nadal', 2611), ('crisis', 2612), ('central', 2613), ('pony', 2614), ('clop', 2615), ('tablet', 2616), ('balcony', 2617), ('building', 2618), ('define', 2619), ('fuckdepression', 2620), ('november', 2621), ('smooth', 2622), ('contraction', 2623), ('tumblr', 2624), ('initial', 2625), ('unknown', 2626), ('commission', 2627), ('opposite', 2628), ('nurse', 2629), ('frostpunk', 2630), ('banished', 2631), ('labor', 2632), ('propaganda', 2633), ('committee', 2634), ('bullying', 2635), ('tory', 2636), ('motors', 2637), ('temporarily', 2638), ('significantly', 2639), ('scene', 2640), ('brandon', 2641), ('testing', 2642), ('aswell', 2643), ('grandparent', 2644), ('paige', 2645), ('fashion', 2646), ('vegan', 2647), ('alert', 2648), ('penguin', 2649), ('jersey', 2650), ('oddly', 2651), ('lolz', 2652), ('reserveâ', 2653), ('bernanke', 2654), ('andâ', 2655), ('theâ', 2656), ('hog', 2657), ('vulnerable', 2658), ('location', 2659), ('itunes', 2660), ('passing', 2661), ('auntie', 2662), ('summertime', 2663), ('duran', 2664), ('secondary', 2665), ('error', 2666), ('imperative', 2667), ('stink', 2668), ('pit', 2669), ('sale', 2670), ('haley', 2671), ('sparkles', 2672), ('compilation', 2673), ('bowling', 2674), ('hobby', 2675), ('exploit', 2676), ('vulnerability', 2677), ('yyc', 2678), ('neuron', 2679), ('traumatic', 2680), ('gota', 2681), ('ac', 2682), ('illustration', 2683), ('lowkey', 2684), ('dip', 2685), ('cudi', 2686), ('lesson', 2687), ('mari', 2688), ('pallavi', 2689), ('principle', 2690), ('wind', 2691), ('fairytale', 2692), ('ahhhh', 2693), ('approach', 2694), ('banking', 2695), ('flash', 2696), ('ad', 2697), ('realm', 2698), ('gf', 2699), ('ahhhhhh', 2700), ('bloody', 2701), ('tan', 2702), ('mee', 2703), ('incorporate', 2704), ('fone', 2705), ('tweetie', 2706), ('horny', 2707), ('island', 2708), ('revenue', 2709), ('neighbour', 2710), ('rose', 2711), ('swine', 2712), ('flu', 2713), ('liver', 2714), ('stoke', 2715), ('voicemail', 2716), ('woot', 2717), ('deprivation', 2718), ('sowwy', 2719), ('scientist', 2720), ('balance', 2721), ('collect', 2722), ('spellcheck', 2723), ('insist', 2724), ('xoxo', 2725), ('guideline', 2726), ('higher', 2727), ('rates', 2728), ('counterpart', 2729), ('partum', 2730), ('producer', 2731), ('parking', 2732), ('nighter', 2733), ('diabetic', 2734), ('worthy', 2735), ('consult', 2736), ('freshman', 2737), ('centre', 2738), ('access', 2739), ('healthcare', 2740), ('surprise', 2741), ('rejection', 2742), ('concerned', 2743), ('bbq', 2744), ('unsure', 2745), ('spirituality', 2746), ('cus', 2747), ('mid', 2748), ('compassion', 2749), ('humor', 2750), ('bhai', 2751), ('ka', 2752), ('pattern', 2753), ('lincoln', 2754), ('knife', 2755), ('gona', 2756), ('unhealthy', 2757), ('trent', 2758), ('datum', 2759), ('thnk', 2760), ('bein', 2761), ('responsibility', 2762), ('simon', 2763), ('grave', 2764), ('prescribed', 2765), ('intuition', 2766), ('morn', 2767), ('inconvenience', 2768), ('idiot', 2769), ('degree', 2770), ('lb', 2771), ('dislike', 2772), ('nooo', 2773), ('dancing', 2774), ('snack', 2775), ('tim', 2776), ('repress', 2777), ('feature', 2778), ('receptionist', 2779), ('trynna', 2780), ('miracle', 2781), ('danny', 2782), ('mama', 2783), ('nonexistent', 2784), ('sharon', 2785), ('fc', 2786), ('breast', 2787), ('eliminate', 2788), ('spain', 2789), ('material', 2790), ('latestnews', 2791), ('gentle', 2792), ('definately', 2793), ('brothers', 2794), ('hmv', 2795), ('waiit', 2796), ('dirty', 2797), ('woke', 2798), ('counselling', 2799), ('katy', 2800), ('gold', 2801), ('hov', 2802), ('perform', 2803), ('relation', 2804), ('hunting', 2805), ('violence', 2806), ('aesthetic', 2807), ('cab', 2808), ('heartbroken', 2809), ('pandora', 2810), ('derg', 2811), ('noooo', 2812), ('spelt', 2813), ('flick', 2814), ('nonsense', 2815), ('jackie', 2816), ('elizabeth', 2817), ('gosh', 2818), ('lame', 2819), ('goingg', 2820), ('pathway', 2821), ('christ', 2822), ('existence', 2823), ('insurance', 2824), ('bbc', 2825), ('cant', 2826), ('marcus', 2827), ('sparkle', 2828), ('evening', 2829), ('colour', 2830), ('affirmation', 2831), ('grrrr', 2832), ('famous', 2833), ('phantom', 2834), ('hen', 2835), ('fwd', 2836), ('beg', 2837), ('ng', 2838), ('contemplate', 2839), ('football', 2840), ('flip', 2841), ('trans', 2842), ('fringe', 2843), ('fitness', 2844), ('gp', 2845), ('rlly', 2846), ('soak', 2847), ('cardiovascular', 2848), ('entrepreneur', 2849), ('startup', 2850), ('seductively', 2851), ('awwwwwh', 2852), ('aiden', 2853), ('davis', 2854), ('irritability', 2855), ('bestfriend', 2856), ('siege', 2857), ('alarm', 2858), ('device', 2859), ('sadface', 2860), ('wireless', 2861), ('mass', 2862), ('caffeine', 2863), ('nah', 2864), ('ton', 2865), ('hills', 2866), ('depressionisreal', 2867), ('cultivate', 2868), ('bah', 2869), ('stars', 2870), ('conan', 2871), ('basket', 2872), ('bargain', 2873), ('sora', 2874), ('holistic', 2875), ('champions', 2876), ('waterfall', 2877), ('baseball', 2878), ('dubai', 2879), ('drill', 2880), ('africa', 2881), ('psychiatrist', 2882), ('obviously', 2883), ('plexus', 2884), ('jon', 2885), ('suspect', 2886), ('handout', 2887), ('nursing', 2888), ('purple', 2889), ('mouse', 2890), ('confuse', 2891), ('uncertainty', 2892), ('chapter', 2893), ('kama', 2894), ('sutra', 2895), ('objectionable', 2896), ('manchester', 2897), ('poof', 2898), ('language', 2899), ('subreddit', 2900), ('prompt', 2901), ('activation', 2902), ('aspect', 2903), ('bottle', 2904), ('lake', 2905), ('boom', 2906), ('panda', 2907), ('iraq', 2908), ('soldier', 2909), ('rocket', 2910), ('presentation', 2911), ('filipino', 2912), ('lauren', 2913), ('farm', 2914), ('al', 2915), ('democrat', 2916), ('encounter', 2917), ('breakdown', 2918), ('sadden', 2919), ('chaotic', 2920), ('male', 2921), ('chelsea', 2922), ('communication', 2923), ('dragon', 2924), ('bell', 2925), ('signal', 2926), ('neurotoxin', 2927), ('sufferer', 2928), ('slope', 2929), ('churro', 2930), ('paradise', 2931), ('booze', 2932), ('proof', 2933), ('ie', 2934), ('adrian', 2935), ('bust', 2936), ('pant', 2937), ('funniest', 2938), ('nxt', 2939), ('drake', 2940), ('aged', 2941), ('sadd', 2942), ('ew', 2943), ('fs', 2944), ('argument', 2945), ('pan', 2946), ('makeup', 2947), ('debilitate', 2948), ('generational', 2949), ('capitalism', 2950), ('chop', 2951), ('anticipate', 2952), ('revision', 2953), ('mainstream', 2954), ('mei', 2955), ('engineer', 2956), ('ii', 2957), ('weeping', 2958), ('germany', 2959), ('physics', 2960), ('bro', 2961), ('literal', 2962), ('strange', 2963), ('sip', 2964), ('neutral', 2965), ('hyper', 2966), ('unfolding', 2967), ('boi', 2968), ('bluetooth', 2969), ('adversity', 2970), ('mixed', 2971), ('attitude', 2972), ('supposedly', 2973), ('dirts', 2974), ('climb', 2975), ('deteriorate', 2976), ('require', 2977), ('exit', 2978), ('scar', 2979), ('borrow', 2980), ('gnight', 2981), ('deficit', 2982), ('crime', 2983), ('cruel', 2984), ('warming', 2985), ('manila', 2986), ('evil', 2987), ('avenger', 2988), ('paramore', 2989), ('gene', 2990), ('spending', 2991), ('hiv', 2992), ('pleased', 2993), ('virus', 2994), ('tn', 2995), ('mattress', 2996), ('pulitzer', 2997), ('winner', 2998), ('nature', 2999), ('mall', 3000), ('income', 3001), ('psychosis', 3002), ('misunderstood', 3003), ('relapse', 3004), ('pac', 3005), ('andrew', 3006), ('blogge', 3007), ('straighten', 3008), ('warrior', 3009), ('saint', 3010), ('mam', 3011), ('treatable', 3012), ('section', 3013), ('bb', 3014), ('sob', 3015), ('fuel', 3016), ('advantage', 3017), ('midnight', 3018), ('heat', 3019), ('slogan', 3020), ('flight', 3021), ('dramatic', 3022), ('xo', 3023), ('ability', 3024), ('dam', 3025), ('length', 3026), ('snuggle', 3027), ('proportion', 3028), ('instructor', 3029), ('elvis', 3030), ('kettle', 3031), ('wrongly', 3032), ('lovelife', 3033), ('impaired', 3034), ('torture', 3035), ('rant', 3036), ('writer', 3037), ('multi', 3038), ('spiritual', 3039), ('conference', 3040), ('working', 3041), ('dread', 3042), ('angst', 3043), ('hpv', 3044), ('vax', 3045), ('media', 3046), ('hero', 3047), ('meow', 3048), ('gurl', 3049), ('bread', 3050), ('bedtime', 3051), ('runto', 3052), ('niall', 3053), ('display', 3054), ('laughter', 3055), ('irishme', 3056), ('aware', 3057), ('shoulder', 3058), ('grieve', 3059), ('vibe', 3060), ('adjust', 3061), ('kno', 3062), ('lyme', 3063), ('task', 3064), ('tendency', 3065), ('sb', 3066), ('overwhelmed', 3067), ('independently', 3068), ('reagan', 3069), ('rob', 3070), ('bikini', 3071), ('smoking', 3072), ('reversed', 3073), ('inertia', 3074), ('pour', 3075), ('excitement', 3076), ('motivated', 3077), ('spin', 3078), ('rep', 3079), ('threesome', 3080), ('opioid', 3081), ('marvin', 3082), ('hee', 3083), ('nigga', 3084), ('updating', 3085), ('making', 3086), ('whyyyyyyy', 3087), ('serbian', 3088), ('belllly', 3089), ('notch', 3090), ('pp', 3091), ('frustratingly', 3092), ('boggile', 3093), ('uterus', 3094), ('exhaustion', 3095), ('concentrating', 3096), ('unmanageable', 3097), ('wooo', 3098), ('ilysfm', 3099), ('doodle', 3100), ('xxxx', 3101), ('sooooooo', 3102), ('disapponte', 3103), ('grower', 3104), ('besitos', 3105), ('fyi', 3106), ('feb', 3107), ('uninstall', 3108), ('huhu', 3109), ('maintenance', 3110), ('tl', 3111), ('essential', 3112), ('overwhelm', 3113), ('alistair', 3114), ('pjs', 3115), ('revenge', 3116), ('soccer', 3117), ('flickr', 3118), ('install', 3119), ('user', 3120), ('colostomy', 3121), ('rp', 3122), ('sl', 3123), ('ptosis', 3124), ('slice', 3125), ('philosophical', 3126), ('unwavering', 3127), ('tunnel', 3128), ('singer', 3129), ('collingwood', 3130), ('shiteeeeeeeee', 3131), ('comeee', 3132), ('boysssss', 3133), ('ebnjc', 3134), ('appropriate', 3135), ('rigour', 3136), ('issu', 3137), ('jab', 3138), ('bohat', 3139), ('ziada', 3140), ('ho', 3141), ('honay', 3142), ('liay', 3143), ('karna', 3144), ('chaiay', 3145), ('gongwer', 3146), ('saveohiolibrarie', 3147), ('ideology', 3148), ('mire', 3149), ('audacity', 3150), ('obstruct', 3151), ('administration', 3152), ('morningjoe', 3153), ('korea', 3154), ('hypocritical', 3155), ('pdt', 3156), ('webinar', 3157), ('inland', 3158), ('empire', 3159), ('coalition', 3160), ('lactation', 3161), ('undoubtedly', 3162), ('athens', 3163), ('landmark', 3164), ('execute', 3165), ('boris', 3166), ('gentlegiant', 3167), ('hopecharityproject', 3168), ('splay', 3169), ('iqto', 3170), ('neurology', 3171), ('neurocognitivedisorders', 3172), ('cdcp', 3173), ('vape', 3174), ('sativa', 3175), ('hotlinemy', 3176), ('dms', 3177), ('thot', 3178), ('investment', 3179), ('glade', 3180), ('beta', 3181), ('stargate', 3182), ('samuel', 3183), ('alan', 3184), ('tate', 3185), ('samael', 3186), ('imagination', 3187), ('pride', 3188), ('disclaimer', 3189), ('programming', 3190), ('blanky', 3191), ('xm', 3192), ('signature', 3193), ('mondayeyes', 3194), ('bracelet', 3195), ('autograph', 3196), ('doyoga', 3197), ('quilting', 3198), ('avocado', 3199), ('sucksssssss', 3200), ('measurement', 3201), ('endless', 3202), ('yearn', 3203), ('numerous', 3204), ('opendemocracy', 3205), ('thu', 3206), ('banten', 3207), ('xoxoboobli', 3208), ('flag', 3209), ('bestee', 3210), ('pamperd', 3211), ('sike', 3212), ('safina', 3213), ('churchgirl', 3214), ('loathing', 3215), ('goood', 3216), ('twittz', 3217), ('nessa', 3218), ('mural', 3219), ('commitment', 3220), ('mhiz', 3221), ('newyork', 3222), ('lcsw', 3223), ('psychotherapy', 3224), ('hypnotherapy', 3225), ('seechange', 3226), ('positivethought', 3227), ('positivethinke', 3228), ('leed', 3229), ('solutionfocused', 3230), ('healthylife', 3231), ('kerrang', 3232), ('mensutra', 3233), ('kapil', 3234), ('sharma', 3235), ('controversy', 3236), ('reubens', 3237), ('supporter', 3238), ('mabel', 3239), ('sinus', 3240), ('twin', 3241), ('tapi', 3242), ('belum', 3243), ('sama', 3244), ('lagi', 3245), ('philly', 3246), ('chili', 3247), ('bearable', 3248), ('grindr', 3249), ('kuya', 3250), ('choir', 3251), ('kabatch', 3252), ('subscribe', 3253), ('dayz', 3254), ('harsh', 3255), ('shisha', 3256), ('ktv', 3257), ('temperature', 3258), ('tent', 3259), ('actively', 3260), ('spoiler', 3261), ('prawn', 3262), ('ing', 3263), ('client', 3264), ('ending', 3265), ('addictive', 3266), ('river', 3267), ('napp', 3268), ('inaperfectworld', 3269), ('togth', 3270), ('ahh', 3271), ('brendon', 3272), ('stubbs', 3273), ('geographical', 3274), ('therapyonline', 3275), ('hammered', 3276), ('beating', 3277), ('playhouse', 3278), ('baltimore', 3279), ('silouhette', 3280), ('sunset', 3281), ('cigarette', 3282), ('compress', 3283), ('stare', 3284), ('mah', 3285), ('darle', 3286), ('inquiry', 3287), ('whoa', 3288), ('leggo', 3289), ('universally', 3290), ('weapon', 3291), ('ikea', 3292), ('hav', 3293), ('bin', 3294), ('pasta', 3295), ('thuli', 3296), ('madonsela', 3297), ('heartfelt', 3298), ('yesssssssss', 3299), ('practise', 3300), ('bodily', 3301), ('fledged', 3302), ('hahah', 3303), ('whatif', 3304), ('yqbaba', 3305), ('yqquote', 3306), ('yourquote', 3307), ('offence', 3308), ('musicmonday', 3309), ('placesin', 3310), ('lone', 3311), ('plague', 3312), ('canyon', 3313), ('bipolardisorder', 3314), ('ohhhh', 3315), ('nother', 3316), ('drexel', 3317), ('snatch', 3318), ('gibson', 3319), ('inspirationalquote', 3320), ('recovered', 3321), ('seminar', 3322), ('mushroom', 3323), ('mewho', 3324), ('thirst', 3325), ('twisted', 3326), ('camhs', 3327), ('wergisislamic', 3328), ('pea', 3329), ('butterscotch', 3330), ('diverse', 3331), ('transformation', 3332), ('political', 3333), ('architecture', 3334), ('winningreal', 3335), ('outdoors', 3336), ('churn', 3337), ('driven', 3338), ('economics', 3339), ('creditcards', 3340), ('homepage', 3341), ('league', 3342), ('sundown', 3343), ('randomly', 3344), ('goat', 3345), ('verge', 3346), ('persistence', 3347), ('misogynist', 3348), ('woody', 3349), ('woodpecker', 3350), ('barber', 3351), ('seville', 3352), ('ch', 3353), ('snowflake', 3354), ('wwii', 3355), ('soar', 3356), ('numbmetomybone', 3357), ('carrie', 3358), ('hummin', 3359), ('headin', 3360), ('dadsssssss', 3361), ('centro', 3362), ('temp', 3363), ('transfered', 3364), ('sadpanda', 3365), ('derick', 3366), ('todd', 3367), ('unfortunate', 3368), ('circumstance', 3369), ('finance', 3370), ('handmaid', 3371), ('itsummer', 3372), ('celphone', 3373), ('dw', 3374), ('frankincense', 3375), ('moree', 3376), ('doingg', 3377), ('fandom', 3378), ('mourning', 3379), ('quitb', 3380), ('itc', 3381), ('gteen', 3382), ('fizzle', 3383), ('tribe', 3384), ('yankees', 3385), ('meeeeee', 3386), ('roaring', 3387), ('excess', 3388), ('leisure', 3389), ('indulgence', 3390), ('contributor', 3391), ('bizarre', 3392), ('immigrant', 3393), ('exahauste', 3394), ('fckin', 3395), ('bich', 3396), ('placenta', 3397), ('capsule', 3398), ('pregnancyproblem', 3399), ('childbirth', 3400), ('sharpie', 3401), ('luvs', 3402), ('thatâ', 3403), ('sacrifice', 3404), ('betch', 3405), ('wire', 3406), ('prolong', 3407), ('homelessness', 3408), ('shan', 3409), ('gets', 3410), ('teenage', 3411), ('fing', 3412), ('ridiculous', 3413), ('charger', 3414), ('excersise', 3415), ('bt', 3416), ('stumble', 3417), ('okeydoke', 3418), ('okie', 3419), ('dokie', 3420), ('hokey', 3421), ('okey', 3422), ('okledockle', 3423), ('slang', 3424), ('oklahomans', 3425), ('pantie', 3426), ('celulite', 3427), ('asdfghjkl', 3428), ('rinitis', 3429), ('shocker', 3430), ('halsey', 3431), ('kehlani', 3432), ('bald', 3433), ('activelinc', 3434), ('bikeability', 3435), ('whilst', 3436), ('doin', 3437), ('ocder', 3438), ('californians', 3439), ('ming', 3440), ('yearsof', 3441), ('harassment', 3442), ('dissapointe', 3443), ('iowa', 3444), ('mentalhealh', 3445), ('lammmmeee', 3446), ('noon', 3447), ('hateful', 3448), ('ree', 3449), ('mogg', 3450), ('decent', 3451), ('foreign', 3452), ('resort', 3453), ('suburban', 3454), ('depressionawareness', 3455), ('sista', 3456), ('cleaner', 3457), ('bcuz', 3458), ('obsessive', 3459), ('regimen', 3460), ('flatshare', 3461), ('greys', 3462), ('rue', 3463), ('manee', 3464), ('moderate', 3465), ('destiney', 3466), ('megan', 3467), ('noun', 3468), ('hint', 3469), ('scallop', 3470), ('dimple', 3471), ('battlement', 3472), ('convenient', 3473), ('chilly', 3474), ('midsummer', 3475), ('goosebump', 3476), ('teke', 3477), ('cuzin', 3478), ('sence', 3479), ('net', 3480), ('iapt', 3481), ('skinsupport', 3482), ('vast', 3483), ('mere', 3484), ('eccentricity', 3485), ('unlikely', 3486), ('violently', 3487), ('danger', 3488), ('resourcefulness', 3489), ('magicianseven', 3490), ('pentaclesnine', 3491), ('swords', 3492), ('curtain', 3493), ('uptown', 3494), ('visa', 3495), ('wavy', 3496), ('advance', 3497), ('kstew', 3498), ('blockk', 3499), ('holland', 3500), ('fluffy', 3501), ('rihanna', 3502), ('sewing', 3503), ('addition', 3504), ('givin', 3505), ('bicyclist', 3506), ('henderson', 3507), ('ky', 3508), ('gnna', 3509), ('nct', 3510), ('wonwoo', 3511), ('guestpost', 3512), ('writerslife', 3513), ('exhaust', 3514), ('rofl', 3515), ('lab', 3516), ('nj', 3517), ('boonie', 3518), ('path', 3519), ('mystic', 3520), ('marvel', 3521), ('fieldssocial', 3522), ('anxietytense', 3523), ('disposition', 3524), ('everlasting', 3525), ('depressionmajor', 3526), ('deem', 3527), ('mindframe', 3528), ('ani', 3529), ('blocker', 3530), ('rightwards', 3531), ('gorgeous', 3532), ('grandpa', 3533), ('infantry', 3534), ('gaza', 3535), ('march', 3536), ('shrapnel', 3537), ('liter', 3538), ('daykeep', 3539), ('awayweh', 3540), ('tennant', 3541), ('scotsman', 3542), ('romance', 3543), ('script', 3544), ('irk', 3545), ('jurassic', 3546), ('trilogy', 3547), ('nostalgic', 3548), ('optimistic', 3549), ('campfire', 3550), ('tempt', 3551), ('strongly', 3552), ('thelovelybone', 3553), ('heathers', 3554), ('zzz', 3555), ('mildly', 3556), ('insufficient', 3557), ('measurable', 3558), ('igotthis', 3559), ('wrt', 3560), ('fav', 3561), ('gnite', 3562), ('gmornin', 3563), ('trippin', 3564), ('analouge', 3565), ('proverbs', 3566), ('farha', 3567), ('np', 3568), ('famed', 3569), ('michigan', 3570), ('rur', 3571), ('abroad', 3572), ('retweete', 3573), ('martin', 3574), ('lewis', 3575), ('breathing', 3576), ('creditor', 3577), ('hospitalise', 3578), ('westwick', 3579), ('chace', 3580), ('crawford', 3581), ('abel', 3582), ('shush', 3583), ('wishin', 3584), ('nooooo', 3585), ('doughy', 3586), ('kevvy', 3587), ('kidless', 3588), ('reckon', 3589), ('charlize', 3590), ('theron', 3591), ('admits', 3592), ('potato', 3593), ('pounds', 3594), ('bias', 3595), ('comparison', 3596), ('gucci', 3597), ('muslims', 3598), ('mousey', 3599), ('standard', 3600), ('grass', 3601), ('greensun', 3602), ('shininglow', 3603), ('droppeddepression', 3604), ('columbus', 3605), ('jesse', 3606), ('mccartney', 3607), ('klfjhadsklfhk', 3608), ('affordable', 3609), ('acl', 3610), ('pains', 3611), ('asmr', 3612), ('blast', 3613), ('ray', 3614), ('driay', 3615), ('merion', 3616), ('aaron', 3617), ('blender', 3618), ('return', 3619), ('postnataldepression', 3620), ('returningtowork', 3621), ('workingmum', 3622), ('linger', 3623), ('rly', 3624), ('madcap', 3625), ('boredddd', 3626), ('powerpoint', 3627), ('bedss', 3628), ('gayyyy', 3629), ('bride', 3630), ('veil', 3631), ('morrow', 3632), ('cmo', 3633), ('mentalwellness', 3634), ('brainhealth', 3635), ('mindmatter', 3636), ('whatyoudontsee', 3637), ('map', 3638), ('bot', 3639), ('euromillions', 3640), ('maintain', 3641), ('senate', 3642), ('upcoming', 3643), ('foxandfriends', 3644), ('treacle', 3645), ('crocwhen', 3646), ('shire', 3647), ('injure', 3648), ('slaughterhouse', 3649), ('dvpit', 3650), ('camaro', 3651), ('ebay', 3652), ('afi', 3653), ('freeway', 3654), ('bob', 3655), ('rescue', 3656), ('momacita', 3657), ('bball', 3658), ('blesh', 3659), ('feedback', 3660), ('sheesh', 3661), ('boyfie', 3662), ('miniscule', 3663), ('positively', 3664), ('utilize', 3665), ('grate', 3666), ('static', 3667), ('attackpeople', 3668), ('itme', 3669), ('thispeople', 3670), ('uit', 3671), ('devoted', 3672), ('voluntarily', 3673), ('ayy', 3674), ('fist', 3675), ('anak', 3676), ('shldnt', 3677), ('ito', 3678), ('incel', 3679), ('shyness', 3680), ('uncontrollably', 3681), ('occasionally', 3682), ('remembering', 3683), ('earache', 3684), ('ouch', 3685), ('urge', 3686), ('awhhe', 3687), ('profession', 3688), ('bcd', 3689), ('nodaji', 3690), ('intensifie', 3691), ('belhblehbleh', 3692), ('familys', 3693), ('moviee', 3694), ('beingg', 3695), ('computerr', 3696), ('jerkface', 3697), ('onee', 3698), ('daaayyyy', 3699), ('shinee', 3700), ('shawol', 3701), ('onew', 3702), ('minho', 3703), ('taemin', 3704), ('abnormal', 3705), ('connectivity', 3706), ('ventral', 3707), ('anterior', 3708), ('insula', 3709), ('asthmatic', 3710), ('dystopian', 3711), ('novel', 3712), ('technologically', 3713), ('privileged', 3714), ('autonomy', 3715), ('polarization', 3716), ('fragmentation', 3717), ('sannesias', 3718), ('bosco', 3719), ('sara', 3720), ('recital', 3721), ('grrrrr', 3722), ('meee', 3723), ('substance', 3724), ('sequelae', 3725), ('victimization', 3726), ('travail', 3727), ('ahja', 3728), ('liebe', 3729), ('friendz', 3730), ('wieder', 3731), ('mal', 3732), ('duchess', 3733), ('cambridge', 3734), ('umassmedical', 3735), ('missin', 3736), ('crackberry', 3737), ('hajime', 3738), ('hinata', 3739), ('debrief', 3740), ('nityanandam', 3741), ('shree', 3742), ('buggin', 3743), ('heartache', 3744), ('pets', 3745), ('bacon', 3746), ('strip', 3747), ('representation', 3748), ('floridians', 3749), ('lushhh', 3750), ('fallin', 3751), ('skool', 3752), ('specially', 3753), ('cricket', 3754), ('krimpeling', 3755), ('smoothie', 3756), ('gettn', 3757), ('stuffy', 3758), ('backwards', 3759), ('vinde', 3760), ('intrustive', 3761), ('awa', 3762), ('connector', 3763), ('fwafa', 3764), ('maid', 3765), ('childish', 3766), ('cabaret', 3767), ('thor', 3768), ('seven', 3769), ('identical', 3770), ('dieddepression', 3771), ('neat', 3772), ('tae', 3773), ('yw', 3774), ('stresscontrol', 3775), ('anymoreee', 3776), ('somone', 3777), ('cafeteria', 3778), ('bestdayever', 3779), ('genesis', 3780), ('soullessi', 3781), ('humani', 3782), ('inhumani', 3783), ('uncontrollablyit', 3784), ('depressionas', 3785), ('suggestedbecause', 3786), ('youit', 3787), ('nz', 3788), ('igotyou', 3789), ('nzmentalhealth', 3790), ('bawl', 3791), ('wobbley', 3792), ('netty', 3793), ('halfway', 3794), ('specific', 3795), ('sg', 3796), ('daybut', 3797), ('dayone', 3798), ('console', 3799), ('disdainand', 3800), ('submerge', 3801), ('anxietythem', 3802), ('drizzy', 3803), ('rogers', 3804), ('brace', 3805), ('braceface', 3806), ('eveer', 3807), ('justify', 3808), ('proclaim', 3809), ('designate', 3810), ('disenfranc', 3811), ('figuredd', 3812), ('profilee', 3813), ('levi', 3814), ('calorie', 3815), ('reread', 3816), ('illne', 3817), ('sparks', 3818), ('rematch', 3819), ('myth', 3820), ('ke', 3821), ('fela', 3822), ('dieing', 3823), ('skilled', 3824), ('penmanship', 3825), ('congratz', 3826), ('rely', 3827), ('agent', 3828), ('pout', 3829), ('ecl', 3830), ('cram', 3831), ('byee', 3832), ('guysss', 3833), ('worsens', 3834), ('hydration', 3835), ('tolerance', 3836), ('sandhill', 3837), ('ramen', 3838), ('handmaids', 3839), ('talvez', 3840), ('seja', 3841), ('cifra', 3842), ('mas', 3843), ('chain', 3844), ('delivery', 3845), ('farmers', 3846), ('pity', 3847), ('apartment', 3848), ('wished', 3849), ('investing', 3850), ('ala', 3851), ('fvck', 3852), ('ethical', 3853), ('player', 3854), ('buu', 3855), ('huu', 3856), ('baja', 3857), ('starburst', 3858), ('hesitate', 3859), ('shitpost', 3860), ('cp', 3861), ('mimo', 3862), ('dosnt', 3863), ('invalidate', 3864), ('oppressive', 3865), ('borderline', 3866), ('words', 3867), ('blackpool', 3868), ('chuck', 3869), ('sweetie', 3870), ('qualified', 3871), ('plc', 3872), ('imp', 3873), ('webcam', 3874), ('havet', 3875), ('bak', 3876), ('ct', 3877), ('makin', 3878), ('quik', 3879), ('handlin', 3880), ('bizzz', 3881), ('strangely', 3882), ('semisonic', 3883), ('upfront', 3884), ('birthdayyyyy', 3885), ('unicorn', 3886), ('cryi', 3887), ('minutes', 3888), ('germ', 3889), ('dunya', 3890), ('ignite', 3891), ('naive', 3892), ('rab', 3893), ('strained', 3894), ('mentalhealthke', 3895), ('depressionke', 3896), ('revbise', 3897), ('valuable', 3898), ('strirrer', 3899), ('incorrect', 3900), ('thanx', 3901), ('curl', 3902), ('selfcare', 3903), ('bipolarhotline', 3904), ('nowplaying', 3905), ('biblical', 3906), ('pastor', 3907), ('marquez', 3908), ('provider', 3909), ('abeautyhealthy', 3910), ('comming', 3911), ('nest', 3912), ('fiancee', 3913), ('mindsmithâ', 3914), ('personalise', 3915), ('confidential', 3916), ('rush', 3917), ('crossing', 3918), ('silver', 3919), ('shovel', 3920), ('certifiably', 3921), ('oppose', 3922), ('limiting', 3923), ('restore', 3924), ('seein', 3925), ('blunt', 3926), ('tokin', 3927), ('mediocre', 3928), ('impressed', 3929), ('months', 3930), ('aiqht', 3931), ('goodniqht', 3932), ('tri', 3933), ('neena', 3934), ('malcolm', 3935), ('jlew', 3936), ('ascent', 3937), ('akp', 3938), ('burak', 3939), ('potent', 3940), ('ally', 3941), ('calf', 3942), ('washington', 3943), ('capitals', 3944), ('myweakness', 3945), ('definatly', 3946), ('relaxing', 3947), ('questioni', 3948), ('outright', 3949), ('fascism', 3950), ('alllway', 3951), ('aberdeen', 3952), ('sunnnnshine', 3953), ('doodadoo', 3954), ('fw', 3955), ('dang', 3956), ('commercial', 3957), ('gear', 3958), ('overdepression', 3959), ('racing', 3960), ('gabi', 3961), ('guarantee', 3962), ('usage', 3963), ('fabcbd', 3964), ('fabfam', 3965), ('fablife', 3966), ('hemp', 3967), ('cannabiscommunity', 3968), ('sqad', 3969), ('sup', 3970), ('sns', 3971), ('condamne', 3972), ('manuel', 3973), ('basil', 3974), ('powershot', 3975), ('sectioncurb', 3976), ('depressiongo', 3977), ('rehabacknowledge', 3978), ('oncoming', 3979), ('societal', 3980), ('intimidating', 3981), ('arse', 3982), ('dissociate', 3983), ('unwell', 3984), ('rapid', 3985), ('cycling', 3986), ('savage', 3987), ('neuro', 3988), ('systemreverse', 3989), ('etcprevent', 3990), ('dramatically', 3991), ('progression', 3992), ('alzheimers', 3993), ('neurological', 3994), ('expand', 3995), ('documentary', 3996), ('neone', 3997), ('exact', 3998), ('procedure', 3999), ('ds', 4000), ('monopolar', 4001), ('mockery', 4002), ('ivketamine', 4003), ('pip', 4004), ('guna', 4005), ('colada', 4006), ('phrase', 4007), ('transphobic', 4008), ('paraguay', 4009), ('sweating', 4010), ('yardhouse', 4011), ('favesss', 4012), ('tlc', 4013), ('waterfalls', 4014), ('robust', 4015), ('tissue', 4016), ('bahahaha', 4017), ('jodie', 4018), ('sos', 4019), ('epiccc', 4020), ('kelli', 4021), ('jeffy', 4022), ('wee', 4023), ('rights', 4024), ('mechanic', 4025), ('talesfrmsurb', 4026), ('dancin', 4027), ('todayyy', 4028), ('lush', 4029), ('wale', 4030), ('latest', 4031), ('avicii', 4032), ('county', 4033), ('dating', 4034), ('priestly', 4035), ('vocation', 4036), ('battleground', 4037), ('obvi', 4038), ('expirience', 4039), ('heroic', 4040), ('highway', 4041), ('frankus', 4042), ('unintentionally', 4043), ('th', 4044), ('sksksksksk', 4045), ('kanskadkckxkdk', 4046), ('rc', 4047), ('blakes', 4048), ('jr', 4049), ('overheatedd', 4050), ('veiw', 4051), ('mirror', 4052), ('transport', 4053), ('julian', 4054), ('kuuku', 4055), ('smart', 4056), ('recollection', 4057), ('span', 4058), ('srewart', 4059), ('sniffle', 4060), ('puurfect', 4061), ('charcter', 4062), ('dangerous', 4063), ('villain', 4064), ('cupid', 4065), ('throwbie', 4066), ('editor', 4067), ('depressssse', 4068), ('firepit', 4069), ('whoop', 4070), ('allison', 4071), ('grip', 4072), ('burnout', 4073), ('occasional', 4074), ('duie', 4075), ('popularity', 4076), ('realy', 4077), ('prssa', 4078), ('convention', 4079), ('ahold', 4080), ('elaina', 4081), ('sarah', 4082), ('lifelong', 4083), ('dilemma', 4084), ('employment', 4085), ('biome', 4086), ('loveyourbiome', 4087), ('awe', 4088), ('vastness', 4089), ('obscure', 4090), ('arrrrrrgggh', 4091), ('weeeeeeeeek', 4092), ('photoshop', 4093), ('andyhurleyday', 4094), ('poke', 4095), ('goose', 4096), ('pillow', 4097), ('weeknd', 4098), ('aiigght', 4099), ('coop', 4100), ('stigmatise', 4101), ('estimate', 4102), ('squared', 4103), ('sexually', 4104), ('maternity', 4105), ('bump', 4106), ('birthstory', 4107), ('matexp', 4108), ('birthtraumachat', 4109), ('maternitymatter', 4110), ('pblogger', 4111), ('pnmh', 4112), ('motherhood', 4113), ('royalbaby', 4114), ('gilded', 4115), ('wealth', 4116), ('democracy', 4117), ('democratic', 4118), ('socialism', 4119), ('unfettered', 4120), ('unregulated', 4121), ('capitalistic', 4122), ('viewer', 4123), ('soz', 4124), ('opps', 4125), ('taylorrhick', 4126), ('venue', 4127), ('yasmin', 4128), ('makee', 4129), ('wishhh', 4130), ('landi', 4131), ('lotttt', 4132), ('vocabulary', 4133), ('fleeting', 4134), ('fraudulent', 4135), ('jik', 4136), ('collective', 4137), ('horn', 4138), ('punishes', 4139), ('discourage', 4140), ('immediate', 4141), ('driving', 4142), ('nausea', 4143), ('wor', 4144), ('timestwo', 4145), ('meetevery', 4146), ('prestonwhen', 4147), ('therapeutic', 4148), ('format', 4149), ('imsoake', 4150), ('fixi', 4151), ('wikipedia', 4152), ('boob', 4153), ('preach', 4154), ('consciousness', 4155), ('mulligrub', 4156), ('unusualwords', 4157), ('vomit', 4158), ('eerie', 4159), ('overthinking', 4160), ('depressionlonelinessand', 4161), ('crescent', 4162), ('midst', 4163), ('emerge', 4164), ('timeless', 4165), ('sucky', 4166), ('competitiveness', 4167), ('painful', 4168), ('campaign', 4169), ('laziness', 4170), ('nhs', 4171), ('hoax', 4172), ('ideation', 4173), ('ballin', 4174), ('accurately', 4175), ('false', 4176), ('britains', 4177), ('wizard', 4178), ('thyroid', 4179), ('vit', 4180), ('tidy', 4181), ('drunvalo', 4182), ('melchizedek', 4183), ('vietnam', 4184), ('hidden', 4185), ('ifebplive', 4186), ('leaf', 4187), ('flutter', 4188), ('gardening', 4189), ('immunity', 4190), ('microbes', 4191), ('soil', 4192), ('dirt', 4193), ('dinara', 4194), ('roland', 4195), ('garros', 4196), ('safin', 4197), ('faltam', 4198), ('dias', 4199), ('boredom', 4200), ('stsre', 4201), ('ceiling', 4202), ('tragedy', 4203), ('fetal', 4204), ('position', 4205), ('harddrive', 4206), ('anyonefeeling', 4207), ('generous', 4208), ('environmental', 4209), ('devendra', 4210), ('fadnavis', 4211), ('abdulla', 4212), ('shaikh', 4213), ('hasham', 4214), ('qureshi', 4215), ('illegally', 4216), ('possesion', 4217), ('jj', 4218), ('marg', 4219), ('station', 4220), ('policeman', 4221), ('cancald', 4222), ('downer', 4223), ('ginny', 4224), ('onset', 4225), ('gram', 4226), ('pathological', 4227), ('foreshadow', 4228), ('renewal', 4229), ('carljung', 4230), ('embryonic', 4231), ('discovery', 4232), ('blight', 4233), ('operation', 4234), ('spinal', 4235), ('insert', 4236), ('steam', 4237), ('runner', 4238), ('xyz', 4239), ('pad', 4240), ('broaden', 4241), ('giv', 4242), ('stilll', 4243), ('checkmate', 4244), ('aha', 4245), ('omnipresent', 4246), ('permeate', 4247), ('filthy', 4248), ('subtle', 4249), ('inescapable', 4250), ('bloor', 4251), ('inc', 4252), ('combine', 4253), ('comradeship', 4254), ('herstory', 4255), ('fuckity', 4256), ('dwayne', 4257), ('johnson', 4258), ('sleek', 4259), ('phillie', 4260), ('angels', 4261), ('healthnews', 4262), ('headset', 4263), ('deathbed', 4264), ('strampelt', 4265), ('takt', 4266), ('yael', 4267), ('naim', 4268), ('ive', 4269), ('striped', 4270), ('knitted', 4271), ('jokeplease', 4272), ('jink', 4273), ('motrin', 4274), ('sleeeep', 4275), ('helpin', 4276), ('changin', 4277), ('mathce', 4278), ('overthinke', 4279), ('jeannette', 4280), ('platter', 4281), ('pleease', 4282), ('surface', 4283), ('pyramid', 4284), ('overanalyze', 4285), ('leavin', 4286), ('hoe', 4287), ('roommate', 4288), ('resident', 4289), ('heb', 4290), ('beware', 4291), ('lest', 4292), ('root', 4293), ('defile', 4294), ('corruption', 4295), ('grab', 4296), ('ditch', 4297), ('frida', 4298), ('amadeus', 4299), ('shaffer', 4300), ('olivia', 4301), ('mixture', 4302), ('strepsil', 4303), ('koltsovo', 4304), ('stripper', 4305), ('friendship', 4306), ('soooooooooooooo', 4307), ('sour', 4308), ('sop', 4309), ('healthbenefit', 4310), ('coupon', 4311), ('checkout', 4312), ('additional', 4313), ('ghostbusters', 4314), ('britain', 4315), ('momo', 4316), ('premenstrual', 4317), ('syndromethe', 4318), ('pms', 4319), ('vary', 4320), ('toady', 4321), ('revising', 4322), ('gd', 4323), ('monkeyball', 4324), ('auckland', 4325), ('gutterd', 4326), ('firework', 4327), ('bubu', 4328), ('msg', 4329), ('hapnin', 4330), ('goodmorning', 4331), ('cha', 4332), ('discriminate', 4333), ('oughtibridge', 4334), ('loner', 4335), ('beboing', 4336), ('twitteringinging', 4337), ('tving', 4338), ('dihd', 4339), ('wel', 4340), ('antsy', 4341), ('unmotivated', 4342), ('savusavu', 4343), ('tommi', 4344), ('oulu', 4345), ('iv', 4346), ('spanking', 4347), ('blackberry', 4348), ('vitality', 4349), ('gutbrainlink', 4350), ('lethal', 4351), ('condemn', 4352), ('academic', 4353), ('ketamineinfusiontherapy', 4354), ('partht', 4355), ('downplay', 4356), ('fools', 4357), ('brea', 4358), ('stubhub', 4359), ('salary', 4360), ('yuck', 4361), ('transparent', 4362), ('spurt', 4363), ('oftentime', 4364), ('memes', 4365), ('moodswing', 4366), ('react', 4367), ('trace', 4368), ('imprint', 4369), ('troop', 4370), ('conflict', 4371), ('anzac', 4372), ('tenth', 4373), ('cloudy', 4374), ('benjamin', 4375), ('button', 4376), ('donald', 4377), ('provigil', 4378), ('admiral', 4379), ('agitation', 4380), ('nervousness', 4381), ('confusion', 4382), ('wena', 4383), ('dug', 4384), ('alochol', 4385), ('karen', 4386), ('shrit', 4387), ('fukin', 4388), ('gs', 4389), ('puter', 4390), ('favour', 4391), ('barbie', 4392), ('menstrual', 4393), ('vaginal', 4394), ('bleeding', 4395), ('behavioral', 4396), ('cis', 4397), ('lion', 4398), ('gomez', 4399), ('lautner', 4400), ('hosp', 4401), ('taxi', 4402), ('telstra', 4403), ('formal', 4404), ('vandal', 4405), ('swastika', 4406), ('naples', 4407), ('williams', 4408), ('wrap', 4409), ('rice', 4410), ('namjin', 4411), ('namjoon', 4412), ('centric', 4413), ('tw', 4414), ('leah', 4415), ('moval', 4416), ('traffic', 4417), ('aahh', 4418), ('intimidate', 4419), ('madaldal', 4420), ('yellow', 4421), ('mga', 4422), ('ganon', 4423), ('mustache', 4424), ('hosptal', 4425), ('bee', 4426), ('mute', 4427), ('helio', 4428), ('punk', 4429), ('getnin', 4430), ('stfu', 4431), ('lowpass', 4432), ('pizzicato', 4433), ('playin', 4434), ('bow', 4435), ('raid', 4436), ('inn', 4437), ('speedy', 4438), ('mate', 4439), ('profoundly', 4440), ('chinese', 4441), ('template', 4442), ('oc', 4443), ('ion', 4444), ('toms', 4445), ('aging', 4446), ('healthier', 4447), ('antiage', 4448), ('bestantiagingproduct', 4449), ('hairproducts', 4450), ('painrelief', 4451), ('reverseaging', 4452), ('reversedisease', 4453), ('reversetheagingprocess', 4454), ('socialization', 4455), ('playing', 4456), ('illegaly', 4457), ('irresponsible', 4458), ('marshmallow', 4459), ('gelatin', 4460), ('startin', 4461), ('articles', 4462), ('jubii', 4463), ('larsensitis', 4464), ('frontal', 4465), ('lobe', 4466), ('transmissible', 4467), ('comorbid', 4468), ('graveyard', 4469), ('amt', 4470), ('atltweet', 4471), ('tweetup', 4472), ('sociology', 4473), ('dag', 4474), ('fox', 4475), ('lash', 4476), ('didda', 4477), ('sys', 4478), ('zzzz', 4479), ('rooooooooomie', 4480), ('holler', 4481), ('mackenzie', 4482), ('fictional', 4483), ('ptexp', 4484), ('protective', 4485), ('stab', 4486), ('bull', 4487), ('avatar', 4488), ('workshop', 4489), ('buck', 4490), ('unrelated', 4491), ('aaa', 4492), ('shooter', 4493), ('gx', 4494), ('whateverbut', 4495), ('partly', 4496), ('introvert', 4497), ('dash', 4498), ('extrovert', 4499), ('arena', 4500), ('emapth', 4501), ('enlightenment', 4502), ('fought', 4503), ('stagnancy', 4504), ('yt', 4505), ('lyf', 4506), ('generalize', 4507), ('mushy', 4508), ('wknd', 4509), ('needwithin', 4510), ('youarenotalone', 4511), ('ice', 4512), ('iero', 4513), ('vegetarian', 4514), ('niche', 4515), ('plr', 4516), ('ws', 4517), ('qqing', 4518), ('poverty', 4519), ('illiteracy', 4520), ('anthey', 4521), ('anna', 4522), ('agynaathavaasi', 4523), ('daridram', 4524), ('geeez', 4525), ('rudely', 4526), ('pin', 4527), ('publix', 4528), ('jose', 4529), ('badge', 4530), ('exciting', 4531), ('sadi', 4532), ('diewelcome', 4533), ('binge', 4534), ('comedy', 4535), ('spearhead', 4536), ('initiative', 4537), ('erase', 4538), ('bitter', 4539), ('achievement', 4540), ('duplicate', 4541), ('fxcke', 4542), ('precisely', 4543), ('peerrun', 4544), ('andperforme', 4545), ('andsignificantly', 4546), ('arkowitz', 4547), ('overdue', 4548), ('shallow', 4549), ('squeeze', 4550), ('cousinnn', 4551), ('cancelledd', 4552), ('adoption', 4553), ('lgbqt', 4554), ('whathaveyoudonetoday', 4555), ('newport', 4556), ('tiernan', 4557), ('plastic', 4558), ('bitchesss', 4559), ('eureka', 4560), ('onli', 4561), ('craptastic', 4562), ('horsie', 4563), ('consist', 4564), ('shameless', 4565), ('hyolyn', 4566), ('sokor', 4567), ('intellect', 4568), ('druggie', 4569), ('confiscate', 4570), ('saadd', 4571), ('guardian', 4572), ('crackdown', 4573), ('clash', 4574), ('celiac', 4575), ('gi', 4576), ('groan', 4577), ('criterion', 4578), ('justughughuuuughhhhhhhhhhhuuuuuuuughuuuuuuuuuuuuuuuuuuugh', 4579), ('distant', 4580), ('varie', 4581), ('pinellasâ', 4582), ('fans', 4583), ('guild', 4584), ('skylar', 4585), ('alanine', 4586), ('obese', 4587), ('prone', 4588), ('lasbestgames', 4589), ('enjoyment', 4590), ('examination', 4591), ('manny', 4592), ('toe', 4593), ('que', 4594), ('tienes', 4595), ('nuevo', 4596), ('sry', 4597), ('kenny', 4598), ('triparoundthesuntour', 4599), ('butterfly', 4600), ('jun', 4601), ('tlkd', 4602), ('stubborn', 4603), ('bugaboo', 4604), ('harley', 4605), ('nov', 4606), ('omdz', 4607), ('seat', 4608), ('poem', 4609), ('appstore', 4610), ('approval', 4611), ('ethiopia', 4612), ('danakil', 4613), ('environnement', 4614), ('mars', 4615), ('titan', 4616), ('astrobiology', 4617), ('mar', 4618), ('tourism', 4619), ('nominate', 4620), ('nomination', 4621), ('purchase', 4622), ('houston', 4623), ('wider', 4624), ('avera', 4625), ('illegal', 4626), ('sk', 4627), ('unlike', 4628), ('humiliate', 4629), ('unable', 4630), ('prozac', 4631), ('todayyyyyyyyy', 4632), ('stressstudy', 4633), ('psychoactive', 4634), ('compound', 4635), ('gon', 4636), ('faithful', 4637), ('moi', 4638), ('bachmann', 4639), ('texan', 4640), ('quest', 4641), ('bruin', 4642), ('owl', 4643), ('facinelli', 4644), ('loooong', 4645), ('chug', 4646), ('iiiiit', 4647), ('lifter', 4648), ('strengththerapy', 4649), ('fuuuuck', 4650), ('nursery', 4651), ('wail', 4652), ('soundly', 4653), ('incessantly', 4654), ('espresso', 4655), ('zooooooooom', 4656), ('imjustsayin', 4657), ('thin', 4658), ('stressed', 4659), ('inspection', 4660), ('bracket', 4661), ('taxis', 4662), ('pamper', 4663), ('paranormal', 4664), ('investigation', 4665), ('intellectualâ', 4666), ('iartg', 4667), ('asmsg', 4668), ('mentalhealthliving', 4669), ('profitable', 4670), ('junkfood', 4671), ('heighten', 4672), ('obesity', 4673), ('triumph', 4674), ('hearten', 4675), ('righteous', 4676), ('succumb', 4677), ('yeahuhh', 4678), ('socialist', 4679), ('slaughter', 4680), ('filipinos', 4681), ('mabey', 4682), ('hari', 4683), ('straiten', 4684), ('curly', 4685), ('mop', 4686), ('ff', 4687), ('allday', 4688), ('sly', 4689), ('owww', 4690), ('wordsmith', 4691), ('fiyah', 4692), ('missive', 4693), ('kenya', 4694), ('julia', 4695), ('michaels', 4696), ('diabite', 4697), ('spell', 4698), ('ttoally', 4699), ('fuckign', 4700), ('eg', 4701), ('senexchange', 4702), ('basic', 4703), ('messaging', 4704), ('wrangle', 4705), ('codependency', 4706), ('familiar', 4707), ('fucccckkkkkkkkkk', 4708), ('dd', 4709), ('pinkeye', 4710), ('tortilla', 4711), ('granblue', 4712), ('commie', 4713), ('lyks', 4714), ('bordeirlne', 4715), ('svu', 4716), ('haunt', 4717), ('materialize', 4718), ('loser', 4719), ('foe', 4720), ('gonnna', 4721), ('loveee', 4722), ('yous', 4723), ('youss', 4724), ('dy', 4725), ('aarrrrggghhhhh', 4726), ('birtney', 4727), ('ciaraaaa', 4728), ('dayssss', 4729), ('failing', 4730), ('shortcoming', 4731), ('weaponize', 4732), ('ipad', 4733), ('andy', 4734), ('roddick', 4735), ('spazze', 4736), ('stave', 4737), ('eshoot', 4738), ('tampa', 4739), ('clerks', 4740), ('editing', 4741), ('jay', 4742), ('greatness', 4743), ('cannibal', 4744), ('bonus', 4745), ('instruction', 4746), ('horseback', 4747), ('aspecially', 4748), ('shelter', 4749), ('gah', 4750), ('apnea', 4751), ('confident', 4752), ('morrea', 4753), ('joseph', 4754), ('vale', 4755), ('finn', 4756), ('iw', 4757), ('xoxox', 4758), ('cheeseburglar', 4759), ('arrgghhhh', 4760), ('distinctly', 4761), ('ncis', 4762), ('glowing', 4763), ('linkinpark', 4764), ('nosh', 4765), ('messy', 4766), ('mobbing', 4767), ('correlation', 4768), ('versa', 4769), ('unclear', 4770), ('acrylic', 4771), ('charm', 4772), ('cafe', 4773), ('bean', 4774), ('tempeh', 4775), ('tempermental', 4776), ('robotpickupline', 4777), ('ryan', 4778), ('ross', 4779), ('folllow', 4780), ('lebron', 4781), ('lets', 4782), ('browns', 4783), ('bullpen', 4784), ('lke', 4785), ('shuld', 4786), ('elevation', 4787), ('norepinehrine', 4788), ('receptor', 4789), ('sympathetic', 4790), ('uterine', 4791), ('labour', 4792), ('ofcourse', 4793), ('faaaar', 4794), ('posterous', 4795), ('recipe', 4796), ('lithium', 4797), ('stabilize', 4798), ('socialmedia', 4799), ('fel', 4800), ('zoro', 4801), ('quantity', 4802), ('oxide', 4803), ('greatly', 4804), ('bes', 4805), ('catastrophic', 4806), ('medicationreadmore', 4807), ('buyonline', 4808), ('confound', 4809), ('distress', 4810), ('cl', 4811), ('teddy', 4812), ('nashville', 4813), ('beingadoptedmeans', 4814), ('rainbow', 4815), ('farter', 4816), ('gloomy', 4817), ('pajama', 4818), ('solace', 4819), ('paramount', 4820), ('myhemophiliateam', 4821), ('longest', 4822), ('bukas', 4823), ('raw', 4824), ('destiny', 4825), ('banish', 4826), ('builder', 4827), ('paths', 4828), ('deceive', 4829), ('dlc', 4830), ('characteristic', 4831), ('homicide', 4832), ('austerity', 4833), ('brexit', 4834), ('madness', 4835), ('hummer', 4836), ('camping', 4837), ('okeechobee', 4838), ('metal', 4839), ('straykids', 4840), ('mc', 4841), ('sff', 4842), ('protagonist', 4843), ('besfriend', 4844), ('marco', 4845), ('muah', 4846), ('jahannam', 4847), ('fanwar', 4848), ('cryyyyyy', 4849), ('trance', 4850), ('assertion', 4851), ('blatant', 4852), ('entertaining', 4853), ('extrinsic', 4854), ('western', 4855), ('ingest', 4856), ('abundance', 4857), ('truffle', 4858), ('flowers', 4859), ('bmi', 4860), ('overweight', 4861), ('hrv', 4862), ('differentiate', 4863), ('expressly', 4864), ('shoestring', 4865), ('unimpressed', 4866), ('karmada', 4867), ('mysapce', 4868), ('dib', 4869), ('manner', 4870), ('lori', 4871), ('dat', 4872), ('dyck', 4873), ('cliche', 4874), ('gawdd', 4875), ('noooooooooo', 4876), ('makes', 4877), ('selective', 4878), ('militaryspouse', 4879), ('magat', 4880), ('cheeky', 4881), ('remark', 4882), ('bigdata', 4883), ('organize', 4884), ('granola', 4885), ('kalamazoo', 4886), ('curvy', 4887), ('staircase', 4888), ('lgbtq', 4889), ('handily', 4890), ('tat', 4891), ('craper', 4892), ('whisper', 4893), ('downward', 4894), ('overtired', 4895), ('cranky', 4896), ('tammra', 4897), ('warby', 4898), ('drtammrawarby', 4899), ('fettuccine', 4900), ('feetsie', 4901), ('icecream', 4902), ('innnnn', 4903), ('monetary', 4904), ('policyâ', 4905), ('chairman', 4906), ('economist', 4907), ('milton', 4908), ('friedman', 4909), ('blameâ', 4910), ('forthe', 4911), ('forâ', 4912), ('mentor', 4913), ('neglect', 4914), ('ferret', 4915), ('scoobs', 4916), ('burgers', 4917), ('lmbo', 4918), ('moldy', 4919), ('ahoy', 4920), ('hala', 4921), ('hateee', 4922), ('todayyyyyy', 4923), ('charlie', 4924), ('geographic', 4925), ('geographically', 4926), ('undesirable', 4927), ('natural', 4928), ('theanine', 4929), ('attacks', 4930), ('hates', 4931), ('jazzy', 4932), ('kgs', 4933), ('stuyde', 4934), ('gutter', 4935), ('oops', 4936), ('zahra', 4937), ('solitude', 4938), ('fillmore', 4939), ('relentlessly', 4940), ('uh', 4941), ('triple', 4942), ('sunglass', 4943), ('mv', 4944), ('psychologists', 4945), ('yugioh', 4946), ('mmd', 4947), ('kristis', 4948), ('moe', 4949), ('mmmaybe', 4950), ('perimenopause', 4951), ('hormonal', 4952), ('secondly', 4953), ('ilk', 4954), ('moralist', 4955), ('boner', 4956), ('fishing', 4957), ('brycey', 4958), ('alreadt', 4959), ('oside', 4960), ('bind', 4961), ('resilience', 4962), ('trucker', 4963), ('niggahz', 4964), ('dylan', 4965), ('reapply', 4966), ('sunscreen', 4967), ('jinx', 4968), ('narcosis', 4969), ('hostile', 4970), ('immigration', 4971), ('leslie', 4972), ('absolute', 4973), ('fedex', 4974), ('feeeeel', 4975), ('judgement', 4976), ('reallyy', 4977), ('pakcricket', 4978), ('recruit', 4979), ('takepartinresearch', 4980), ('influence', 4981), ('godman', 4982), ('priest', 4983), ('nope', 4984), ('evolution', 4985), ('giving', 4986), ('yeg', 4987), ('yvr', 4988), ('pathogenesis', 4989), ('peripheral', 4990), ('neuropathic', 4991), ('alzheimer', 4992), ('parkinsons', 4993), ('sclerosis', 4994), ('motor', 4995), ('ischemia', 4996), ('yummo', 4997), ('plecing', 4998), ('kangkung', 4999), ('ayam', 5000), ('bakar', 5001), ('taliwang', 5002), ('exotic', 5003), ('indonesia', 5004), ('whistling', 5005), ('accessory', 5006), ('mccann', 5007), ('sevilla', 5008), ('powerful', 5009), ('badfeel', 5010), ('stoner', 5011), ('infidelity', 5012), ('wynne', 5013), ('penalty', 5014), ('madre', 5015), ('calculate', 5016), ('affair', 5017), ('emusic', 5018), ('beautifulylost', 5019), ('naraaz', 5020), ('houn', 5021), ('khana', 5022), ('chor', 5023), ('phire', 5024), ('chli', 5025), ('jae', 5026), ('kr', 5027), ('nsn', 5028), ('ftsk', 5029), ('mondaaay', 5030), ('detachment', 5031), ('transgression', 5032), ('tummy', 5033), ('onslaught', 5034), ('fffssss', 5035), ('szn', 5036), ('awwe', 5037), ('shuch', 5038), ('lightning', 5039), ('brief', 5040), ('blackout', 5041), ('institute', 5042), ('thur', 5043), ('subway', 5044), ('kotaku', 5045), ('ign', 5046), ('playstation', 5047), ('devstateddd', 5048), ('jailbreak', 5049), ('kayley', 5050), ('composition', 5051), ('waltz', 5052), ('lullaby', 5053), ('gremlin', 5054), ('daydream', 5055), ('intriguing', 5056), ('probiotic', 5057), ('herbal', 5058), ('parfait', 5059), ('pudding', 5060), ('telephone', 5061), ('frisby', 5062), ('whyy', 5063), ('kurdishwhitebean', 5064), ('hominem', 5065), ('discredit', 5066), ('stance', 5067), ('domestic', 5068), ('chica', 5069), ('mii', 5070), ('ahhhhh', 5071), ('subscription', 5072), ('compliment', 5073), ('cz', 5074), ('hardcore', 5075), ('cohesive', 5076), ('aspiration', 5077), ('amplify', 5078), ('ruminate', 5079), ('estate', 5080), ('specialist', 5081), ('homes', 5082), ('coldwell', 5083), ('banker', 5084), ('piccckkk', 5085), ('uppp', 5086), ('historian', 5087), ('upper', 5088), ('ame', 5089), ('nodding', 5090), ('chester', 5091), ('supernatural', 5092), ('mamma', 5093), ('china', 5094), ('coal', 5095), ('ood', 5096), ('xmas', 5097), ('bas', 5098), ('teh', 5099), ('earl', 5100), ('instantly', 5101), ('tiredmum', 5102), ('ghost', 5103), ('kardashian', 5104), ('bettter', 5105), ('ish', 5106), ('tlk', 5107), ('canadians', 5108), ('robsten', 5109), ('hol', 5110), ('watts', 5111), ('yippeeeee', 5112), ('holy', 5113), ('pmea', 5114), ('fighting', 5115), ('yorkshireâ', 5116), ('cruise', 5117), ('mite', 5118), ('officialy', 5119), ('lease', 5120), ('digital', 5121), ('rapture', 5122), ('coolness', 5123), ('phat', 5124), ('waahhh', 5125), ('hub', 5126), ('sticth', 5127), ('wattpad', 5128), ('portuguese', 5129), ('wendy', 5130), ('commerical', 5131), ('rowling', 5132), ('magical', 5133), ('mismanage', 5134), ('undertreated', 5135), ('lecture', 5136), ('enlive', 5137), ('troubled', 5138), ('stigmatize', 5139), ('tha', 5140), ('cornell', 5141), ('ttyl', 5142), ('choco', 5143), ('duck', 5144), ('oddity', 5145), ('replica', 5146), ('velociraptor', 5147), ('arthur', 5148), ('velocipede', 5149), ('letsbefr', 5150), ('hippo', 5151), ('birdie', 5152), ('koala', 5153), ('orientation', 5154), ('heterosexual', 5155), ('ht', 5156), ('pacific', 5157), ('goldblum', 5158), ('optician', 5159), ('han', 5160), ('ignorance', 5161), ('volume', 5162), ('aaaaaah', 5163), ('los', 5164), ('angeles', 5165), ('homagi', 5166), ('caregive', 5167), ('humpday', 5168), ('wellcaregiverwednesday', 5169), ('homag', 5170), ('disgusted', 5171), ('ankle', 5172), ('basis', 5173), ('nut', 5174), ('envy', 5175), ('bolster', 5176), ('crumple', 5177), ('mocha', 5178), ('bk', 5179), ('beloved', 5180), ('dwarf', 5181), ('hamster', 5182), ('creature', 5183), ('gagan', 5184), ('modi', 5185), ('fo', 5186), ('incoming', 5187), ('islamist', 5188), ('garner', 5189), ('rural', 5190), ('welfare', 5191), ('subsidy', 5192), ('augmentedmentalhealth', 5193), ('unmatched', 5194), ('escalator', 5195), ('fluid', 5196), ('insurtech', 5197), ('mentalhealthprogram', 5198), ('mf', 5199), ('tweetdeck', 5200), ('justified', 5201), ('reenforce', 5202), ('official', 5203), ('promotion', 5204), ('nephew', 5205), ('spag', 5206), ('tesco', 5207), ('stayin', 5208), ('steezy', 5209), ('mowin', 5210), ('lawn', 5211), ('loviie', 5212), ('goie', 5213), ('tanning', 5214), ('autistic', 5215), ('drowning', 5216), ('scam', 5217), ('spiritually', 5218), ('mommy', 5219), ('newborn', 5220), ('mike', 5221), ('annual', 5222), ('forthright', 5223), ('request', 5224), ('deepe', 5225), ('picky', 5226), ('dice', 5227), ('mommmm', 5228), ('arre', 5229), ('kuch', 5230), ('kam', 5231), ('absorb', 5232), ('wood', 5233), ('manhattan', 5234), ('relish', 5235), ('ribbed', 5236), ('mhmm', 5237), ('sims', 5238), ('unltimate', 5239), ('maing', 5240), ('astros', 5241), ('herbo', 5242), ('abraham', 5243), ('xbl', 5244), ('xbla', 5245), ('ellie', 5246), ('mcfly', 5247), ('transformers', 5248), ('colombia', 5249), ('unattractive', 5250), ('sounds', 5251), ('lik', 5252), ('cmts', 5253), ('mentalheath', 5254), ('daisyretreat', 5255), ('reznor', 5256), ('albany', 5257), ('weeeekend', 5258), ('coverage', 5259), ('medicalmarijuana', 5260), ('medicalcannabis', 5261), ('recall', 5262), ('mither', 5263), ('jump', 5264), ('shreeching', 5265), ('previo', 5266), ('fest', 5267), ('kelly', 5268), ('clarkson', 5269), ('disgust', 5270), ('potential', 5271), ('migraines', 5272), ('consistently', 5273), ('refresh', 5274), ('shafa', 5275), ('insensitive', 5276), ('lifehouse', 5277), ('bellowhead', 5278), ('saltaire', 5279), ('promoter', 5280), ('heginbotham', 5281), ('weareallremnantkings', 5282), ('twitterer', 5283), ('adrink', 5284), ('faaa', 5285), ('blackjack', 5286), ('nourish', 5287), ('ast', 5288), ('integrity', 5289), ('hiding', 5290), ('suppress', 5291), ('hush', 5292), ('aa', 5293), ('poc', 5294), ('blk', 5295), ('wiv', 5296), ('propose', 5297), ('psycho', 5298), ('hereditary', 5299), ('evolutionary', 5300), ('sword', 5301), ('terminate', 5302), ('jerz', 5303), ('emotionally', 5304), ('split', 5305), ('odeeeee', 5306), ('aaaaoooowwwww', 5307), ('beezo', 5308), ('mis', 5309), ('nina', 5310), ('falls', 5311), ('tribune', 5312), ('scout', 5313), ('title', 5314), ('prepared', 5315), ('baked', 5316), ('saw', 5317), ('boat', 5318), ('feeeling', 5319), ('incomplete', 5320), ('aramex', 5321), ('rx', 5322), ('porter', 5323), ('obs', 5324), ('stout', 5325), ('astonished', 5326), ('ohhhhhkkkk', 5327), ('netizen', 5328), ('seal', 5329), ('orb', 5330), ('duncan', 5331), ('retirement', 5332), ('spidey', 5333), ('toolkit', 5334), ('tinyhabit', 5335), ('goob', 5336), ('masculine', 5337), ('damaging', 5338), ('variation', 5339), ('escala', 5340), ('hitech', 5341), ('mhealth', 5342), ('perinatal', 5343), ('hunger', 5344), ('puke', 5345), ('chemist', 5346), ('pollute', 5347), ('mazda', 5348), ('litle', 5349), ('aggressively', 5350), ('argumentative', 5351), ('eatte', 5352), ('popcorn', 5353), ('bruce', 5354), ('practically', 5355), ('uhh', 5356), ('fantasticly', 5357), ('boredd', 5358), ('hommmmme', 5359), ('kms', 5360), ('pleaseit', 5361), ('mastectomy', 5362), ('conserving', 5363), ('reconstruction', 5364), ('systematic', 5365), ('crease', 5366), ('wrist', 5367), ('overland', 5368), ('overlande', 5369), ('adventuretravel', 5370), ('motorcycle', 5371), ('kyle', 5372), ('suckss', 5373), ('capacity', 5374), ('suggestsit', 5375), ('hands', 5376), ('babbbbbbbbyy', 5377), ('jumper', 5378), ('smgt', 5379), ('selegiline', 5380), ('emsam', 5381), ('neva', 5382), ('unpredictable', 5383), ('fence', 5384), ('nowwww', 5385), ('plauge', 5386), ('hurry', 5387), ('quirky', 5388), ('exhibit', 5389), ('ambition', 5390), ('nog', 5391), ('insanely', 5392), ('longgg', 5393), ('hittin', 5394), ('invention', 5395), ('twentea', 5396), ('eyesight', 5397), ('wardrobe', 5398), ('garon', 5399), ('effexor', 5400), ('pal', 5401), ('fixed', 5402), ('sideline', 5403), ('awhile', 5404), ('manslaughter', 5405), ('encouraged', 5406), ('maya', 5407), ('murphy', 5408), ('teenagesuicide', 5409), ('peerpressure', 5410), ('criminaldefense', 5411), ('mayalaw', 5412), ('lawyersinct', 5413), ('gerd', 5414), ('popsicle', 5415), ('squirrel', 5416), ('fluoxetine', 5417), ('worthlessness', 5418), ('nervousbut', 5419), ('crab', 5420), ('dinger', 5421), ('perry', 5422), ('birmingham', 5423), ('hock', 5424), ('etsy', 5425), ('abatevintage', 5426), ('fleurchipbowl', 5427), ('communitymentalhealth', 5428), ('mentalhealtheducation', 5429), ('dani', 5430), ('dare', 5431), ('technology', 5432), ('ltparentlife', 5433), ('aloneeeeeeeee', 5434), ('prenatalalcoholexposure', 5435), ('behavioralhealth', 5436), ('suicidality', 5437), ('opioidusedisorder', 5438), ('noonecare', 5439), ('wage', 5440), ('conciquence', 5441), ('rom', 5442), ('furhermore', 5443), ('sucide', 5444), ('context', 5445), ('floss', 5446), ('machine', 5447), ('gen', 5448), ('tease', 5449), ('understatement', 5450), ('ian', 5451), ('spoon', 5452), ('cheek', 5453), ('chime', 5454), ('legendsneverdie', 5455), ('wyd', 5456), ('prick', 5457), ('countless', 5458), ('mmh', 5459), ('breed', 5460), ('substitute', 5461), ('emptiness', 5462), ('dive', 5463), ('meditate', 5464), ('thy', 5465), ('masterful', 5466), ('crumble', 5467), ('hilariouss', 5468), ('respondent', 5469), ('east', 5470), ('satisfaction', 5471), ('bleeehhh', 5472), ('catalyst', 5473), ('rebuild', 5474), ('polymath', 5475), ('rosen', 5476), ('undo', 5477), ('oof', 5478), ('wellnessblog', 5479), ('cheerleader', 5480), ('berkley', 5481), ('bmth', 5482), ('overanalyzing', 5483), ('addon', 5484), ('twitterfox', 5485), ('facts', 5486), ('coolbrainfact', 5487), ('wecare', 5488), ('notsmilingoninside', 5489), ('boooo', 5490), ('unmentionable', 5491), ('navigate', 5492), ('calld', 5493), ('twitterpated', 5494), ('utang', 5495), ('nang', 5496), ('loob', 5497), ('dirk', 5498), ('istene', 5499), ('nutty', 5500), ('fmla', 5501), ('dayoff', 5502), ('warframe', 5503), ('relaxed', 5504), ('lorddd', 5505), ('patheticcc', 5506), ('plate', 5507), ('raining', 5508), ('supertramp', 5509), ('eric', 5510), ('lauras', 5511), ('unreal', 5512), ('gesture', 5513), ('imu', 5514), ('options', 5515), ('yorkshire', 5516), ('envrionment', 5517), ('objectively', 5518), ('hula', 5519), ('hooping', 5520), ('printable', 5521), ('soap', 5522), ('urgh', 5523), ('chrissy', 5524), ('teigen', 5525), ('stephen', 5526), ('portugal', 5527), ('arw', 5528), ('beginner', 5529), ('hedo', 5530), ('chainlink', 5531), ('supportmentalhealth', 5532), ('goddamn', 5533), ('elderly', 5534), ('stressin', 5535), ('yeeeeeeeeeeeessshhhh', 5536), ('happend', 5537), ('weiner', 5538), ('trish', 5539), ('maka', 5540), ('meadd', 5541), ('tweetin', 5542), ('rhyme', 5543), ('sible', 5544), ('confrontation', 5545), ('measure', 5546), ('tshirt', 5547), ('folx', 5548), ('dizzy', 5549), ('ughhhhhhhhhhhhhhhhhhhhhhhhhhhhh', 5550), ('pursh', 5551), ('indy', 5552), ('mabuhay', 5553), ('schweet', 5554), ('legitimately', 5555), ('scroll', 5556), ('ig', 5557), ('raunchy', 5558), ('epsom', 5559), ('derby', 5560), ('csa', 5561), ('marginalize', 5562), ('argue', 5563), ('huz', 5564), ('smf', 5565), ('yrs', 5566), ('seldom', 5567), ('communicate', 5568), ('depressionclasse', 5569), ('mend', 5570), ('icymi', 5571), ('mb', 5572), ('onpeak', 5573), ('bloggerstribe', 5574), ('cocaine', 5575), ('amphetamine', 5576), ('fonebook', 5577), ('fxxxking', 5578), ('unnoticed', 5579), ('unappreciated', 5580), ('pee', 5581), ('mk', 5582), ('liam', 5583), ('chasm', 5584), ('priv', 5585), ('ironic', 5586), ('carb', 5587), ('bugle', 5588), ('interconnect', 5589), ('chloe', 5590), ('brotheridges', 5591), ('calmer', 5592), ('foursome', 5593), ('magens', 5594), ('loove', 5595), ('saturdayss', 5596), ('noshame', 5597), ('notalone', 5598), ('sicknotweak', 5599), ('didyouknow', 5600), ('cupla', 5601), ('inbox', 5602), ('ifone', 5603), ('wf', 5604), ('hayes', 5605), ('clair', 5606), ('lifelessons', 5607), ('entrepreneurship', 5608), ('selfimprovement', 5609), ('dorky', 5610), ('lou', 5611), ('selfharm', 5612), ('stampoutstigma', 5613), ('footwear', 5614), ('labeling', 5615), ('norm', 5616), ('document', 5617), ('depressionfed', 5618), ('chief', 5619), ('concentrate', 5620), ('mlia', 5621), ('repel', 5622), ('attacker', 5623), ('moat', 5624), ('archer', 5625), ('attrition', 5626), ('muddy', 5627), ('streak', 5628), ('vibrant', 5629), ('inspirational', 5630), ('thriving', 5631), ('scanning', 5632), ('pixma', 5633), ('goodness', 5634), ('yaaay', 5635), ('proceed', 5636), ('dreambuilders', 5637), ('innovation', 5638), ('companion', 5639), ('donor', 5640), ('fork', 5641), ('salad', 5642), ('terminal', 5643), ('buisnesse', 5644), ('embrace', 5645), ('tori', 5646), ('fails', 5647), ('philosopher', 5648), ('transmute', 5649), ('considerate', 5650), ('fairy', 5651), ('posh', 5652), ('obvisously', 5653), ('downhill', 5654), ('obsessively', 5655), ('obvious', 5656), ('comprehend', 5657), ('flo', 5658), ('center', 5659), ('types', 5660), ('cognition', 5661), ('experiences', 5662), ('eradicate', 5663), ('squarely', 5664), ('sooooooooooo', 5665), ('fuuuuuuuuuuuuuuuuuuuuuuuuuuuuuuuuuuuuuuuuuuuck', 5666), ('expo', 5667), ('tombre', 5668), ('rishabh', 5669), ('wip', 5670), ('grandmere', 5671), ('memere', 5672), ('icant', 5673), ('ministry', 5674), ('seclusion', 5675), ('phoenix', 5676), ('teams', 5677), ('riiight', 5678), ('bethenny', 5679), ('frankel', 5680), ('starred', 5681), ('disagree', 5682), ('murderous', 5683), ('imo', 5684), ('nalin', 5685), ('entertainment', 5686), ('experimental', 5687), ('experiment', 5688), ('melody', 5689), ('sope', 5690), ('aumin', 5691), ('yoongi', 5692), ('blind', 5693), ('jung', 5694), ('hoseok', 5695), ('exs', 5696), ('txts', 5697), ('bestttttttttttttttttttt', 5698), ('farely', 5699), ('paralyze', 5700), ('awwwaaayy', 5701), ('smith', 5702), ('amber', 5703), ('heritage', 5704), ('compote', 5705), ('magics', 5706), ('thermometer', 5707), ('principal', 5708), ('monthly', 5709), ('byyeee', 5710), ('jamarcusssssss', 5711), ('wizz', 5712), ('fizz', 5713), ('finding', 5714), ('reshape', 5715), ('emphasis', 5716), ('malaise', 5717), ('quartz', 5718), ('bandom', 5719), ('spoil', 5720), ('rotten', 5721), ('fics', 5722), ('jamjam', 5723), ('betseyjohnson', 5724), ('necklace', 5725), ('cooperate', 5726), ('declare', 5727), ('confusing', 5728), ('satisfy', 5729), ('minseokie', 5730), ('riku', 5731), ('indulgent', 5732), ('afloat', 5733), ('salkehatchie', 5734), ('crust', 5735), ('protein', 5736), ('unit', 5737), ('corn', 5738), ('joyless', 5739), ('hardboile', 5740), ('amirite', 5741), ('visitng', 5742), ('boyet', 5743), ('famm', 5744), ('dumbass', 5745), ('autonomic', 5746), ('regulation', 5747), ('bereavement', 5748), ('strawberry', 5749), ('texte', 5750), ('nuggets', 5751), ('nba', 5752), ('curropt', 5753), ('leader', 5754), ('burpee', 5755), ('celebration', 5756), ('fiste', 5757), ('desire', 5758), ('director', 5759), ('fuckeddddd', 5760), ('neurostar', 5761), ('toolio', 5762), ('sunburned', 5763), ('istg', 5764), ('jihyo', 5765), ('shaming', 5766), ('heater', 5767), ('weirdly', 5768), ('gdoc', 5769), ('ballet', 5770), ('leotard', 5771), ('hahaa', 5772), ('freeze', 5773), ('intake', 5774), ('skulls', 5775), ('doobie', 5776), ('renata', 5777), ('schoeman', 5778), ('lecturer', 5779), ('usb', 5780), ('mba', 5781), ('alumnus', 5782), ('tomo', 5783), ('revsion', 5784), ('friendster', 5785), ('feck', 5786), ('worldhad', 5787), ('ultra', 5788), ('circulation', 5789), ('carthageland', 5790), ('inspite', 5791), ('lata', 5792), ('emergency', 5793), ('traveltips', 5794), ('safety', 5795), ('roughplace', 5796), ('frownie', 5797), ('oneplexus', 5798), ('guthealth', 5799), ('healthandhappiness', 5800), ('candlewick', 5801), ('candle', 5802), ('holder', 5803), ('imperial', 5804), ('irissa', 5805), ('dandruff', 5806), ('slick', 5807), ('caress', 5808), ('melania', 5809), ('kung', 5810), ('pano', 5811), ('nalabanan', 5812), ('yung', 5813), ('hulsey', 5814), ('boudreau', 5815), ('tremendously', 5816), ('savour', 5817), ('umbrella', 5818), ('fuzzy', 5819), ('whiskery', 5820), ('siren', 5821), ('havnt', 5822), ('tierd', 5823), ('freakshow', 5824), ('beautician', 5825), ('wax', 5826), ('eyebrow', 5827), ('oblivion', 5828), ('deff', 5829), ('mighty', 5830), ('tkt', 5831), ('booking', 5832), ('portal', 5833), ('dies', 5834), ('abc', 5835), ('partyring', 5836), ('starbuck', 5837), ('vulnerableness', 5838), ('kindergarden', 5839), ('showtime', 5840), ('crickey', 5841), ('ambitious', 5842), ('finaly', 5843), ('highschool', 5844), ('foward', 5845), ('paris', 5846), ('landin', 5847), ('ayonna', 5848), ('unexpected', 5849), ('coping', 5850), ('techniques', 5851), ('chronicallysick', 5852), ('chronicpain', 5853), ('chronicillnes', 5854), ('abscene', 5855), ('homeish', 5856), ('leela', 5857), ('michelle', 5858), ('mufid', 5859), ('cristina', 5860), ('kittykat', 5861), ('awkward', 5862), ('moose', 5863), ('alice', 5864), ('scooby', 5865), ('doo', 5866), ('brick', 5867), ('analyze', 5868), ('reddit', 5869), ('poirot', 5870), ('internetconnection', 5871), ('dire', 5872), ('itâ', 5873), ('dismiss', 5874), ('cite', 5875), ('mercury', 5876), ('retrograde', 5877), ('sentence', 5878), ('spilt', 5879), ('jordan', 5880), ('distraught', 5881), ('statistic', 5882), ('fathers', 5883), ('iludaddy', 5884), ('pregnant', 5885), ('elevate', 5886), ('heated', 5887), ('massage', 5888), ('clinic', 5889), ('mooddisorders', 5890), ('limited', 5891), ('availability', 5892), ('boro', 5893), ('dident', 5894), ('tornado', 5895), ('ohh', 5896), ('pow', 5897), ('tbs', 5898), ('singe', 5899), ('gumawa', 5900), ('tula', 5901), ('slurpee', 5902), ('damnit', 5903), ('ticketsandpassport', 5904), ('traxionico', 5905), ('traxion', 5906), ('envision', 5907), ('truthfulness', 5908), ('accountability', 5909), ('transparency', 5910), ('civilian', 5911), ('deaths', 5912), ('kuwait', 5913), ('attacked', 5914), ('killing', 5915), ('civilians', 5916), ('sacrificing', 5917), ('israle', 5918), ('operating', 5919), ('application', 5920), ('blair', 5921), ('shamble', 5922), ('cameron', 5923), ('apply', 5924), ('eu', 5925), ('compensation', 5926), ('anorexia', 5927), ('instant', 5928), ('boyfrnd', 5929), ('makayla', 5930), ('legalize', 5931), ('joel', 5932), ('villanueva', 5933), ('leafy', 5934), ('isu', 5935), ('woooo', 5936), ('aaaaaaaand', 5937), ('lotta', 5938), ('allegra', 5939), ('singulair', 5940), ('iremeber', 5941), ('dopeboy', 5942), ('mt', 5943), ('mariah', 5944), ('carey', 5945), ('crop', 5946), ('congrats', 5947), ('senator', 5948), ('keahey', 5949), ('alpolitic', 5950), ('dehumanization', 5951), ('tiring', 5952), ('tweep', 5953), ('ihihih', 5954), ('petia', 5955), ('guest', 5956), ('exhausting', 5957), ('mp', 5958), ('britainsfatfight', 5959), ('canada', 5960), ('fargo', 5961), ('papi', 5962), ('blindboy', 5963), ('alt', 5964), ('seeking', 5965), ('peoole', 5966), ('themself', 5967), ('flaw', 5968), ('inappropriately', 5969), ('limb', 5970), ('heroin', 5971), ('leysh', 5972), ('wellbeingwednesday', 5973), ('harvard', 5974), ('minimum', 5975), ('damaged', 5976), ('reboot', 5977), ('harlem', 5978), ('swagg', 5979), ('alpha', 5980), ('bubblegum', 5981), ('absence', 5982), ('cedar', 5983), ('squaresp', 5984), ('squarespac', 5985), ('giveaways', 5986), ('giveway', 5987), ('iphonegiveway', 5988), ('squarespce', 5989), ('arrrrrrrgggggggghhhhhhhh', 5990), ('daytona', 5991), ('foxnew', 5992), ('easter', 5993), ('arggh', 5994), ('tomorrra', 5995), ('ovguide', 5996), ('celbritie', 5997), ('tube', 5998), ('bulma', 5999), ('barbara', 6000), ('obscene', 6001), ('completo', 6002), ('iq', 6003), ('luc', 6004), ('alkermes', 6005), ('fda', 6006), ('misunderstanding', 6007), ('hospitol', 6008), ('golf', 6009), ('tourny', 6010), ('bharat', 6011), ('provoke', 6012), ('costco', 6013), ('jedi', 6014), ('gum', 6015), ('eek', 6016), ('bulb', 6017), ('grimace', 6018), ('foodporn', 6019), ('burger', 6020), ('foodgram', 6021), ('potd', 6022), ('gg', 6023), ('nom', 6024), ('champssss', 6025), ('evangelion', 6026), ('maggie', 6027), ('reaallly', 6028), ('confused', 6029), ('skinny', 6030), ('jean', 6031), ('sweater', 6032), ('loved', 6033), ('glorious', 6034), ('brutal', 6035), ('daniel', 6036), ('powter', 6037), ('nash', 6038), ('wri', 6039), ('flor', 6040), ('vid', 6041), ('shikari', 6042), ('signing', 6043), ('oustide', 6044), ('hobo', 6045), ('judgemental', 6046), ('photograph', 6047), ('hv', 6048), ('whyyyyyy', 6049), ('ennndddd', 6050), ('hectic', 6051), ('achive', 6052), ('hiss', 6053), ('craig', 6054), ('cokehead', 6055), ('wut', 6056), ('tiffany', 6057), ('somethin', 6058), ('hellllllll', 6059), ('hearingloss', 6060), ('ringtone', 6061), ('owe', 6062), ('colleague', 6063), ('impossible', 6064), ('possi', 6065), ('bash', 6066), ('incl', 6067), ('forgetfulness', 6068), ('vedio', 6069), ('pornstar', 6070), ('mosh', 6071), ('bogan', 6072), ('woots', 6073), ('confusedd', 6074), ('insect', 6075), ('sleepie', 6076), ('woods', 6077), ('bungie', 6078), ('pizzaa', 6079), ('shooting', 6080), ('militia', 6081), ('potester', 6082), ('azadi', 6083), ('sq', 6084), ('tehran', 6085), ('giggly', 6086), ('copper', 6087), ('ghey', 6088), ('leftist', 6089), ('showin', 6090), ('ll', 6091), ('glittery', 6092), ('shottas', 6093), ('practical', 6094), ('aggression', 6095), ('indig', 6096), ('oklahoma', 6097), ('kebabking', 6098), ('ungrateful', 6099), ('socialcare', 6100), ('mhfa', 6101), ('safetalk', 6102), ('mentalhealthawarenessweek', 6103), ('mhaw', 6104), ('accomodation', 6105), ('rental', 6106), ('weekly', 6107), ('expense', 6108), ('invoke', 6109), ('momz', 6110), ('thee', 6111), ('thankyou', 6112), ('embarrassing', 6113), ('withdrawal', 6114), ('whateva', 6115), ('fortune', 6116), ('contract', 6117), ('ick', 6118), ('advil', 6119), ('grandmas', 6120), ('thihi', 6121), ('uva', 6122), ('cate', 6123), ('becca', 6124), ('monsoon', 6125), ('choppin', 6126), ('itttttt', 6127), ('napoleon', 6128), ('hil', 6129), ('nutella', 6130), ('lock', 6131), ('brighten', 6132), ('behaviour', 6133), ('themoodcard', 6134), ('letstalk', 6135), ('headstogether', 6136), ('places', 6137), ('duo', 6138), ('originally', 6139), ('coachella', 6140), ('champion', 6141), ('wimbledon', 6142), ('caio', 6143), ('haircut', 6144), ('interrupt', 6145), ('carrot', 6146), ('grain', 6147), ('yield', 6148), ('drastically', 6149), ('gluten', 6150), ('leaver', 6151), ('myriad', 6152), ('institution', 6153), ('counsel', 6154), ('housework', 6155), ('midterm', 6156), ('publishing', 6157), ('zachs', 6158), ('vein', 6159), ('style', 6160), ('unresolved', 6161), ('frst', 6162), ('aquinas', 6163), ('sleepin', 6164), ('finals', 6165), ('chealea', 6166), ('peanut', 6167), ('butter', 6168), ('hmmmm', 6169), ('camaros', 6170), ('meto', 6171), ('stopworrye', 6172), ('weep', 6173), ('depressioncrept', 6174), ('disinterestedto', 6175), ('confusedand', 6176), ('tiredlike', 6177), ('restless', 6178), ('skythat', 6179), ('keepschange', 6180), ('limp', 6181), ('bizkit', 6182), ('rollin', 6183), ('songstuckinmyheadwheniwokeup', 6184), ('royalty', 6185), ('beats', 6186), ('elevator', 6187), ('perfectly', 6188), ('waiste', 6189), ('dedicated', 6190), ('audience', 6191), ('serial', 6192), ('gggrr', 6193), ('nhl', 6194), ('papa', 6195), ('lemon', 6196), ('abe', 6197), ('loopt', 6198), ('habits', 6199), ('hellish', 6200), ('days', 6201), ('acim', 6202), ('salvation', 6203), ('oi', 6204), ('canaveral', 6205), ('seashore', 6206), ('jrm', 6207), ('icon', 6208), ('bam', 6209), ('counter', 6210), ('nola', 6211), ('wsu', 6212), ('healthbeat', 6213), ('fuckingwell', 6214), ('revamp', 6215), ('peopledepression', 6216), ('sleepdepression', 6217), ('insidedepression', 6218), ('goingdepression', 6219), ('antagonize', 6220), ('empathy', 6221), ('stories', 6222), ('lassie', 6223), ('vomiting', 6224), ('volatile', 6225), ('bullish', 6226), ('bearish', 6227), ('booms', 6228), ('bubbles', 6229), ('expansion', 6230), ('rbi', 6231), ('hawkish', 6232), ('dovish', 6233), ('nda', 6234), ('upa', 6235), ('blues', 6236), ('blase', 6237), ('bridget', 6238), ('fixation', 6239), ('janelle', 6240), ('paradox', 6241), ('wash', 6242), ('apl', 6243), ('buddha', 6244), ('wompppp', 6245), ('wompp', 6246), ('fmc', 6247), ('yeeeeeeeeeeee', 6248), ('git', 6249), ('version', 6250), ('gnome', 6251), ('shell', 6252), ('compiz', 6253), ('clutter', 6254), ('profanity', 6255), ('alllllan', 6256), ('lifeeee', 6257), ('bjork', 6258), ('bachelorette', 6259), ('ncaa', 6260), ('softball', 6261), ('uw', 6262), ('huskies', 6263), ('kekepalmer', 6264), ('rareâ', 6265), ('knob', 6266), ('sackage', 6267), ('diplomatic', 6268), ('huhuhu', 6269), ('cartoon', 6270), ('aaaaayyyyy', 6271), ('repair', 6272), ('gust', 6273), ('troubling', 6274), ('ld', 6275), ('dodger', 6276), ('dodgers', 6277), ('restraint', 6278), ('planning', 6279), ('inability', 6280), ('directly', 6281), ('kinnda', 6282), ('faint', 6283), ('motion', 6284), ('frustrated', 6285), ('technician', 6286), ('wantt', 6287), ('hiim', 6288), ('publicity', 6289), ('religious', 6290), ('leaflet', 6291), ('offering', 6292), ('po', 6293), ('intercept', 6294), ('romanticise', 6295), ('deppresion', 6296), ('underage', 6297), ('inte', 6298), ('outfit', 6299), ('kalm', 6300), ('corporate', 6301), ('grrrrrrrrrr', 6302), ('brass', 6303), ('helper', 6304), ('yaaass', 6305), ('appearance', 6306), ('superpower', 6307), ('el', 6308), ('gem', 6309), ('duper', 6310), ('beautyful', 6311), ('shout', 6312), ('pussy', 6313), ('suzumiya', 6314), ('haruhi', 6315), ('yuuutsu', 6316), ('source', 6317), ('irregular', 6318), ('britian', 6319), ('holly', 6320), ('misread', 6321), ('informative', 6322), ('thirty', 6323), ('zzzzzzzzzzzzz', 6324), ('examseason', 6325), ('challenging', 6326), ('lexapro', 6327), ('proplanolol', 6328), ('tips', 6329), ('souvenir', 6330), ('herschel', 6331), ('planck', 6332), ('stake', 6333), ('massively', 6334), ('minimise', 6335), ('hypnotise', 6336), ('product', 6337), ('renew', 6338), ('negativity', 6339), ('discouragement', 6340), ('yeshewill', 6341), ('rejoice', 6342), ('klansmen', 6343), ('supremacist', 6344), ('clemente', 6345), ('efffffff', 6346), ('wiit', 6347), ('babes', 6348), ('fancy', 6349), ('screengrab', 6350), ('wethu', 6351), ('sogqiba', 6352), ('azimele', 6353), ('nge', 6354), ('hayley', 6355), ('dehrydrate', 6356), ('aaaaaand', 6357), ('juuuuuuuuuuuuuuuuussssst', 6358), ('peak', 6359), ('abandon', 6360), ('terrify', 6361), ('survivebut', 6362), ('introduce', 6363), ('circle', 6364), ('hoff', 6365), ('bandaid', 6366), ('dancey', 6367), ('pessimistic', 6368), ('meant', 6369), ('tupelo', 6370), ('demos', 6371), ('rsd', 6372), ('vinyl', 6373), ('schossow', 6374), ('suckcce', 6375), ('dub', 6376), ('indiaforum', 6377), ('sht', 6378), ('assassinate', 6379), ('housing', 6380), ('mosquito', 6381), ('scum', 6382), ('horrific', 6383), ('detective', 6384), ('robert', 6385), ('uof', 6386), ('amigo', 6387), ('hangin', 6388), ('undie', 6389), ('luvly', 6390), ('slur', 6391), ('disabled', 6392), ('stew', 6393), ('knee', 6394), ('volleyball', 6395), ('awwwww', 6396), ('tu', 6397), ('trifling', 6398), ('sundress', 6399), ('obvs', 6400), ('unrealistic', 6401), ('pathetic', 6402), ('yknow', 6403), ('indecisive', 6404), ('alllll', 6405), ('mit', 6406), ('ppm', 6407), ('arctic', 6408), ('meri', 6409), ('hota', 6410), ('hai', 6411), ('becoz', 6412), ('quran', 6413), ('pak', 6414), ('ayat', 6415), ('hadee', 6416), ('wanttell', 6417), ('openu', 6418), ('muslimi', 6419), ('muslim', 6420), ('muslimin', 6421), ('sha', 6422), ('allah', 6423), ('brug', 6424), ('mcrchat', 6425), ('fucker', 6426), ('ant', 6427), ('poll', 6428), ('deployment', 6429), ('certification', 6430), ('inform', 6431), ('kpop', 6432), ('hypocrite', 6433), ('princess', 6434), ('shuri', 6435), ('charles', 6436), ('spurgeon', 6437), ('christianity', 6438), ('sleepdeprivation', 6439), ('heartdisease', 6440), ('fbi', 6441), ('gate', 6442), ('screened', 6443), ('jin', 6444), ('carrell', 6445), ('gru', 6446), ('painting', 6447), ('ziggy', 6448), ('marley', 6449), ('erykah', 6450), ('badu', 6451), ('kickin', 6452), ('pottercast', 6453), ('lupin', 6454), ('willow', 6455), ('grumpy', 6456), ('senexhange', 6457), ('receptive', 6458), ('knowthesigns', 6459), ('genechat', 6460), ('mutate', 6461), ('ns', 6462), ('john', 6463), ('mayer', 6464), ('trio', 6465), ('dreamin', 6466), ('leading', 6467), ('weeeeek', 6468), ('moyai', 6469), ('bra', 6470), ('obsolete', 6471), ('murderi', 6472), ('daylight', 6473), ('nat', 6474), ('spotify', 6475), ('feelsie', 6476), ('brussels', 6477), ('tram', 6478), ('metro', 6479), ('quorn', 6480), ('dubyas', 6481), ('tril', 6482), ('unfunded', 6483), ('mandate', 6484), ('decline', 6485), ('countercycle', 6486), ('repub', 6487), ('rece', 6488), ('checkup', 6489), ('topper', 6490), ('requirement', 6491), ('ordinary', 6492), ('sape', 6493), ('yg', 6494), ('penah', 6495), ('rasa', 6496), ('je', 6497), ('tahu', 6498), ('sakit', 6499), ('dia', 6500), ('cm', 6501), ('ne', 6502), ('braintech', 6503), ('marker', 6504), ('vines', 6505), ('wer', 6506), ('istrugglewith', 6507), ('strongertogeth', 6508), ('speakout', 6509), ('depressedbutnotdefeated', 6510), ('genome', 6511), ('phenotype', 6512), ('biobank', 6513), ('variant', 6514), ('excitatory', 6515), ('synaptic', 6516), ('apr', 6517), ('comm', 6518), ('gatsby', 6519), ('prequel', 6520), ('crazypark', 6521), ('depressionpark', 6522), ('goign', 6523), ('whites', 6524), ('atleast', 6525), ('dave', 6526), ('depressioninsg', 6527), ('recoveringfromdepression', 6528), ('depresseddavecomic', 6529), ('depdavecomic', 6530), ('moble', 6531), ('twitterrific', 6532), ('lap', 6533), ('lane', 6534), ('cyber', 6535), ('stavros', 6536), ('mayfair', 6537), ('jar', 6538), ('lid', 6539), ('alternative', 6540), ('hall', 6541), ('squat', 6542), ('generalised', 6543), ('aura', 6544), ('ofc', 6545), ('ritual', 6546), ('storytelling', 6547), ('parks', 6548), ('goldquote', 6549), ('ppmad', 6550), ('resentment', 6551), ('throug', 6552), ('someoneeeee', 6553), ('lines', 6554), ('uggggggghhhh', 6555), ('kate', 6556), ('steer', 6557), ('postive', 6558), ('trouser', 6559), ('external', 6560), ('lung', 6561), ('yhu', 6562), ('ngeke', 6563), ('dock', 6564), ('degress', 6565), ('tegus', 6566), ('bernie', 6567), ('venezuela', 6568), ('econ', 6569), ('hqs', 6570), ('kenneth', 6571), ('lee', 6572), ('newt', 6573), ('elise', 6574), ('melanie', 6575), ('shiz', 6576), ('jolly', 6577), ('alergic', 6578), ('girlllll', 6579), ('vexing', 6580), ('scrumptious', 6581), ('kg', 6582), ('arghhhhhhhhhhhhhhh', 6583), ('colorblind', 6584), ('portrait', 6585), ('bisante', 6586), ('pastel', 6587), ('scientifically', 6588), ('debunk', 6589), ('batter', 6590), ('uggh', 6591), ('foxtell', 6592), ('ack', 6593), ('guru', 6594), ('postpartumdepression', 6595), ('janet', 6596), ('inquisition', 6597), ('hom', 6598), ('tda', 6599), ('funeral', 6600), ('lindsay', 6601), ('reading', 6602), ('gif', 6603), ('platypus', 6604), ('letsbefriend', 6605), ('nihilistic', 6606), ('inclination', 6607), ('functionalmedicine', 6608), ('annnnnd', 6609), ('launched', 6610), ('bookmark', 6611), ('itinerary', 6612), ('excite', 6613), ('optical', 6614), ('illusion', 6615), ('revolving', 6616), ('justdonate', 6617), ('nebody', 6618), ('quizzage', 6619), ('tiny', 6620), ('cubicle', 6621), ('floride', 6622), ('domestication', 6623), ('agreements', 6624), ('collectively', 6625), ('tagged', 6626), ('retrospect', 6627), ('toher', 6628), ('sniff', 6629), ('nai', 6630), ('abatement', 6631), ('motherly', 6632), ('marital', 6633), ('niece', 6634), ('wisdomous', 6635), ('lysm', 6636), ('queenxxlarray', 6637), ('ilysm', 6638), ('twittaz', 6639), ('attentive', 6640), ('comfy', 6641), ('gravure', 6642), ('membersback', 6643), ('cwg', 6644), ('subtweeting', 6645), ('starfish', 6646), ('eve', 6647), ('reversal', 6648), ('fakeout', 6649), ('kitty', 6650), ('reposte', 6651), ('carriefisher', 6652), ('princessleia', 6653), ('princessleiaforever', 6654), ('starwar', 6655), ('sober', 6656), ('sobriety', 6657), ('rehab', 6658), ('legacy', 6659), ('mr', 6660), ('handsome', 6661), ('unspeakable', 6662), ('corney', 6663), ('ughhhhhhhhhhh', 6664), ('frisco', 6665), ('dallas', 6666), ('mani', 6667), ('pedi', 6668), ('defense', 6669), ('evolve', 6670), ('prom', 6671), ('tweetwrath', 6672), ('coin', 6673), ('dictionary', 6674), ('moody', 6675), ('wretche', 6676), ('homer', 6677), ('eagle', 6678), ('giants', 6679), ('gerald', 6680), ('neet', 6681), ('anhedonic', 6682), ('battlestar', 6683), ('deluxe', 6684), ('happpy', 6685), ('charlotte', 6686), ('firend', 6687), ('employmentlaw', 6688), ('whine', 6689), ('belive', 6690), ('gn', 6691), ('bronchodilation', 6692), ('conjunction', 6693), ('bibioxyphosphoate', 6694), ('judgejudy', 6695), ('bondirescue', 6696), ('daytimetv', 6697), ('syo', 6698), ('kurusu', 6699), ('curre', 6700), ('energetic', 6701), ('blessed', 6702), ('bicycle', 6703), ('hammer', 6704), ('fallen', 6705), ('legion', 6706), ('maitreya', 6707), ('albino', 6708), ('comcast', 6709), ('compressopn', 6710), ('socks', 6711), ('exrtcise', 6712), ('sizzle', 6713), ('corona', 6714), ('oove', 6715), ('bahaa', 6716), ('explian', 6717), ('overcame', 6718), ('misogynistic', 6719), ('screed', 6720), ('spree', 6721), ('funclickearn', 6722), ('studyphysical', 6723), ('strains', 6724), ('answers', 6725), ('nooooooooo', 6726), ('samaritan', 6727), ('papyrus', 6728), ('shane', 6729), ('mothman', 6730), ('tricky', 6731), ('amputate', 6732), ('spine', 6733), ('kin', 6734), ('nesdo', 6735), ('medic', 6736), ('intthe', 6737), ('trendy', 6738), ('original', 6739), ('soundtrack', 6740), ('bandcamp', 6741), ('indiefilm', 6742), ('indiefilmmaker', 6743), ('bieber', 6744), ('prisoner', 6745), ('jailer', 6746), ('ethan', 6747), ('genuine', 6748), ('animate', 6749), ('downside', 6750), ('girls', 6751), ('prickley', 6752), ('rash', 6753), ('limit', 6754), ('degrade', 6755), ('fifa', 6756), ('stres', 6757), ('shortly', 6758), ('tolerate', 6759), ('claremont', 6760), ('village', 6761), ('tofu', 6762), ('scramble', 6763), ('heartbreak', 6764), ('worthwhile', 6765), ('amwrite', 6766), ('ownvoice', 6767), ('hawkfalls', 6768), ('tears', 6769), ('turbulent', 6770), ('sooooon', 6771), ('cody', 6772), ('foreverr', 6773), ('layer', 6774), ('blankey', 6775), ('lovee', 6776), ('ladies', 6777), ('grrrrrrrrreat', 6778), ('stroll', 6779), ('vibration', 6780), ('empathetic', 6781), ('misconstrue', 6782), ('torontostrong', 6783), ('stolengirl', 6784), ('equality', 6785), ('timesup', 6786), ('thewaramp', 6787), ('redfriday', 6788), ('loveislove', 6789), ('climatechange', 6790), ('mmiwg', 6791), ('boysmattertoo', 6792), ('beccatoldmeto', 6793), ('ireland', 6794), ('brunswick', 6795), ('psh', 6796), ('extravaganza', 6797), ('downtown', 6798), ('itch', 6799), ('goooood', 6800), ('timessss', 6801), ('twitpic', 6802), ('selma', 6803), ('zicutake', 6804), ('succumbs', 6805), ('ep', 6806), ('ppv', 6807), ('forgotten', 6808), ('lessons', 6809), ('commercialization', 6810), ('compromise', 6811), ('rating', 6812), ('giggle', 6813), ('uninteresting', 6814), ('prolly', 6815), ('phallic', 6816), ('updatesoptimise', 6817), ('pulmonaryrehab', 6818), ('frankie', 6819), ('worsen', 6820), ('destination', 6821), ('august', 6822), ('utube', 6823), ('sony', 6824), ('taj', 6825), ('hoffman', 6826), ('lamanna', 6827), ('rlcsw', 6828), ('roots', 6829), ('specialization', 6830), ('issues', 6831), ('maternal', 6832), ('exposure', 6833), ('longitudinal', 6834), ('correspondent', 6835), ('network', 6836), ('journalism', 6837), ('vapor', 6838), ('mefloquine', 6839), ('rhythm', 6840), ('worldmalariaday', 6841), ('backkk', 6842), ('faking', 6843), ('clout', 6844), ('notices', 6845), ('ensure', 6846), ('bo', 6847), ('threw', 6848), ('aboot', 6849), ('safely', 6850), ('separately', 6851), ('blot', 6852), ('howe', 6853), ('coco', 6854), ('viva', 6855), ('ought', 6856), ('deathmatch', 6857), ('klopp', 6858), ('pang', 6859), ('decode', 6860), ('octo', 6861), ('djs', 6862), ('glamorous', 6863), ('wisdom', 6864), ('courage', 6865), ('edinburgh', 6866), ('monie', 6867), ('elliott', 6868), ('intrusion', 6869), ('subside', 6870), ('bojack', 6871), ('horseman', 6872), ('gaaaahhhhh', 6873), ('swap', 6874), ('furrie', 6875), ('minimize', 6876), ('jam', 6877), ('lp', 6878), ('lf', 6879), ('kansas', 6880), ('sole', 6881), ('belittle', 6882), ('psyblog', 6883), ('metoprolol', 6884), ('kool', 6885), ('aid', 6886), ('meaning', 6887), ('meaningless', 6888), ('statement', 6889), ('deadly', 6890), ('asylm', 6891), ('panel', 6892), ('bagel', 6893), ('iced', 6894), ('delish', 6895), ('lovato', 6896), ('comme', 6897), ('trustttt', 6898), ('itune', 6899), ('electroconvulsive', 6900), ('prissy', 6901), ('mae', 6902), ('exams', 6903), ('kudo', 6904), ('michael', 6905), ('phelps', 6906), ('halaloya', 6907), ('rags', 6908), ('meeeeeeeeeee', 6909), ('gangnamstyle', 6910), ('realllyyyy', 6911), ('wana', 6912), ('latent', 6913), ('pd', 6914), ('intensify', 6915), ('ptr', 6916), ('enchanting', 6917), ('titanium', 6918), ('forensic', 6919), ('file', 6920), ('drizzle', 6921), ('havimg', 6922), ('bella', 6923), ('emmaline', 6924), ('selfish', 6925), ('gooooood', 6926), ('gimme', 6927), ('archie', 6928), ('accompany', 6929), ('tedious', 6930), ('stupidly', 6931), ('lifesaver', 6932), ('tbt', 6933), ('lilly', 6934), ('uplift', 6935), ('bop', 6936), ('myb', 6937), ('bcs', 6938), ('comeshere', 6939), ('depressionrrrrrrrrrrrrrrrrrrrrrrrrev', 6940), ('suicideawareness', 6941), ('tryin', 6942), ('karenwild', 6943), ('premature', 6944), ('wrinkle', 6945), ('wwe', 6946), ('burswood', 6947), ('idolize', 6948), ('churchill', 6949), ('affirm', 6950), ('daft', 6951), ('mutt', 6952), ('txttt', 6953), ('bia', 6954), ('tommrow', 6955), ('mask', 6956), ('tote', 6957), ('dropshot', 6958), ('katjrobertson', 6959), ('pretend', 6960), ('smother', 6961), ('trachea', 6962), ('infect', 6963), ('everbody', 6964), ('liiiiiiiife', 6965), ('hollyoak', 6966), ('hypersensitive', 6967), ('sch', 6968), ('tmr', 6969), ('clingy', 6970), ('workhard', 6971), ('beautifullife', 6972), ('keepontrye', 6973), ('summeriscome', 6974), ('considerable', 6975), ('shizu', 6976), ('healer', 6977), ('cocktail', 6978), ('pros', 6979), ('yoru', 6980), ('bummma', 6981), ('idek', 6982), ('ik', 6983), ('knock', 6984), ('loooooool', 6985), ('poopie', 6986), ('ucla', 6987), ('goodnite', 6988), ('heroes', 6989), ('zav', 6990), ('razor', 6991), ('alton', 6992), ('tower', 6993), ('destructive', 6994), ('unhappiness', 6995), ('pendemic', 6996), ('prayforme', 6997), ('homegirl', 6998), ('omgaga', 6999), ('supose', 7000), ('wht', 7001), ('pavel', 7002), ('clever', 7003), ('underpinning', 7004), ('mutation', 7005), ('bullcrap', 7006), ('spiraling', 7007), ('accuse', 7008), ('nutritionally', 7009), ('faceted', 7010), ('thumb', 7011), ('tree', 7012), ('chronicle', 7013), ('fennwick', 7014), ('jonah', 7015), ('monkey', 7016), ('boooooooo', 7017), ('springs', 7018), ('museum', 7019), ('nitey', 7020), ('haterade', 7021), ('hut', 7022), ('investigate', 7023), ('tc', 7024), ('candygirls', 7025), ('daisy', 7026), ('rear', 7027), ('jealousy', 7028), ('tank', 7029), ('plunge', 7030), ('mcdonald', 7031), ('cinnamelt', 7032), ('frosty', 7033), ('bandwagonne', 7034), ('sanibel', 7035), ('addams', 7036), ('sporadic', 7037), ('cwb', 7038), ('alas', 7039), ('rage', 7040), ('cubase', 7041), ('guyssss', 7042), ('mmmyeahh', 7043), ('ble', 7044), ('blingg', 7045), ('ordinator', 7046), ('eupd', 7047), ('assign', 7048), ('continuously', 7049), ('wanima', 7050), ('hipkins', 7051), ('students', 7052), ('ration', 7053), ('inflamme', 7054), ('meningitis', 7055), ('cliff', 7056), ('acute', 7057), ('va', 7058), ('fren', 7059), ('dome', 7060), ('knowfren', 7061), ('tastic', 7062), ('xxxtentaction', 7063), ('daley', 7064), ('fairly', 7065), ('hapy', 7066), ('damper', 7067), ('gwph', 7068), ('summerschool', 7069), ('doooit', 7070), ('visitt', 7071), ('fobby', 7072), ('melancholy', 7073), ('brooding', 7074), ('deliberately', 7075), ('forth', 7076), ('gloom', 7077), ('arnold', 7078), ('bennett', 7079), ('gallery', 7080), ('exhibition', 7081), ('postcard', 7082), ('mailer', 7083), ('extinct', 7084), ('nyt', 7085), ('anthem', 7086), ('heroine', 7087), ('cessna', 7088), ('skydive', 7089), ('replying', 7090), ('antidepressantoftheday', 7091), ('stockington', 7092), ('witty', 7093), ('infographic', 7094), ('douchebag', 7095), ('rsl', 7096), ('paley', 7097), ('mothers', 7098), ('thoracotomy', 7099), ('sarcoidosis', 7100), ('mylife', 7101), ('myhealth', 7102), ('aaahhhh', 7103), ('hypocrisy', 7104), ('bakit', 7105), ('dinadamay', 7106), ('yang', 7107), ('niyong', 7108), ('dalawa', 7109), ('nicely', 7110), ('despair', 7111), ('chemically', 7112), ('philosophically', 7113), ('vbs', 7114), ('sat', 7115), ('bookmarke', 7116), ('butcher', 7117), ('exclusive', 7118), ('sparkly', 7119), ('wine', 7120), ('tango', 7121), ('intrigue', 7122), ('announcement', 7123), ('steak', 7124), ('euthanasia', 7125), ('belgium', 7126), ('euthanize', 7127), ('citizen', 7128), ('curse', 7129), ('bberry', 7130), ('imma', 7131), ('qs', 7132), ('phobia', 7133), ('bing', 7134), ('deactivate', 7135), ('lea', 7136), ('merch', 7137), ('barrier', 7138), ('livestream', 7139), ('wifito', 7140), ('queue', 7141), ('persistent', 7142), ('nagging', 7143), ('grac', 7144), ('rarely', 7145), ('slump', 7146), ('paralyzed', 7147), ('napping', 7148), ('longtime', 7149), ('sayin', 7150), ('welcomee', 7151), ('reclaim', 7152), ('depressionfree', 7153), ('curedepression', 7154), ('fonder', 7155), ('trae', 7156), ('baithing', 7157), ('wove', 7158), ('credibility', 7159), ('ooh', 7160), ('mrjayv', 7161), ('kirk', 7162), ('fanklin', 7163), ('sneak', 7164), ('homophobia', 7165), ('mckee', 7166), ('pepper', 7167), ('shakers', 7168), ('delphite', 7169), ('aluminum', 7170), ('lids', 7171), ('triiiiiii', 7172), ('ow', 7173), ('pharmaceutical', 7174), ('lookin', 7175), ('discrete', 7176), ('jpeg', 7177), ('depressiongood', 7178), ('glow', 7179), ('gloome', 7180), ('postman', 7181), ('package', 7182), ('goon', 7183), ('emotionless', 7184), ('lifespan', 7185), ('overtime', 7186), ('myselfme', 7187), ('haphazardly', 7188), ('shove', 7189), ('drawer', 7190), ('purposely', 7191), ('uhm', 7192), ('locations', 7193), ('patrol', 7194), ('laundry', 7195), ('trunk', 7196), ('parents', 7197), ('patent', 7198), ('select', 7199), ('dsi', 7200), ('momlife', 7201), ('gymlife', 7202), ('lifegoal', 7203), ('explorer', 7204), ('prefer', 7205), ('mickey', 7206), ('idnt', 7207), ('ripped', 7208), ('consecutive', 7209), ('yousne', 7210), ('devistate', 7211), ('joshua', 7212), ('berrie', 7213), ('concentration', 7214), ('deplete', 7215), ('heath', 7216), ('hampton', 7217), ('gna', 7218), ('issa', 7219), ('rae', 7220), ('presentsit', 7221), ('friendships', 7222), ('intimate', 7223), ('insight', 7224), ('handshake', 7225), ('garena', 7226), ('clumsy', 7227), ('freestyling', 7228), ('observance', 7229), ('mentalhealthawarenessmonth', 7230), ('celly', 7231), ('steadily', 7232), ('trumpalso', 7233), ('oust', 7234), ('otherhe', 7235), ('mueller', 7236), ('nail', 7237), ('himcount', 7238), ('exercisework', 7239), ('justification', 7240), ('vampire', 7241), ('charade', 7242), ('sammy', 7243), ('sosa', 7244), ('performance', 7245), ('disgrace', 7246), ('tanking', 7247), ('historically', 7248), ('globally', 7249), ('stardom', 7250), ('betterment', 7251), ('nyela', 7252), ('mcnugget', 7253), ('cheeseburger', 7254), ('lemonade', 7255), ('mission', 7256), ('francisco', 7257), ('gin', 7258), ('liqueur', 7259), ('apt', 7260), ('atticren', 7261), ('cardinal', 7262), ('succession', 7263), ('thrill', 7264), ('amazon', 7265), ('sheffield', 7266), ('conf', 7267), ('persevering', 7268), ('femmes', 7269), ('gnarls', 7270), ('barkley', 7271), ('tks', 7272), ('mcglinchey', 7273), ('paddle', 7274), ('gooood', 7275), ('prepare', 7276), ('caffine', 7277), ('upmc', 7278), ('freelance', 7279), ('braille', 7280), ('stunt', 7281), ('palmolive', 7282), ('dishwashe', 7283), ('affective', 7284), ('sharedfact', 7285), ('adorable', 7286), ('wicked', 7287), ('sunburn', 7288), ('xp', 7289), ('nick', 7290), ('surf', 7291), ('guard', 7292), ('blowdrye', 7293), ('sweatpant', 7294), ('reasoning', 7295), ('infant', 7296), ('colic', 7297), ('associated', 7298), ('digestive', 7299), ('empower', 7300), ('inner', 7301), ('impend', 7302), ('crud', 7303), ('killary', 7304), ('fettucini', 7305), ('garlic', 7306), ('becomme', 7307), ('chubby', 7308), ('cately', 7309), ('bae', 7310), ('grindin', 7311), ('needa', 7312), ('artbook', 7313), ('construction', 7314), ('hmph', 7315), ('sprint', 7316), ('tame', 7317), ('tire', 7318), ('happe', 7319), ('hockey', 7320), ('martial', 7321), ('boxing', 7322), ('pugilistic', 7323), ('syndrome', 7324), ('establish', 7325), ('tumor', 7326), ('derek', 7327), ('kandie', 7328), ('trinity', 7329), ('tk', 7330), ('comments', 7331), ('hearing', 7332), ('vw', 7333), ('tgi', 7334), ('fridays', 7335), ('cinema', 7336), ('ovama', 7337), ('miriam', 7338), ('accomplishment', 7339), ('dispute', 7340), ('honora', 7341), ('chihuahua', 7342), ('thestreetforce', 7343), ('infancy', 7344), ('headlining', 7345), ('nights', 7346), ('overnight', 7347), ('jillian', 7348), ('disappointing', 7349), ('hater', 7350), ('est', 7351), ('talented', 7352), ('military', 7353), ('tajur', 7354), ('hungweey', 7355), ('baterry', 7356), ('lost', 7357), ('soulmoral', 7358), ('flex', 7359), ('twittering', 7360), ('sidebar', 7361), ('cassidy', 7362), ('peen', 7363), ('thuderstorm', 7364), ('bebe', 7365), ('richard', 7366), ('helping', 7367), ('regain', 7368), ('mikhaila', 7369), ('peterson', 7370), ('admire', 7371), ('kish', 7372), ('gadget', 7373), ('ong', 7374), ('ironically', 7375), ('ncavp', 7376), ('unwanted', 7377), ('embarrassment', 7378), ('coming', 7379), ('contentment', 7380), ('ambush', 7381), ('sunken', 7382), ('vinegar', 7383), ('goodbyeeee', 7384), ('invisible', 7385), ('spaz', 7386), ('saythat', 7387), ('millenial', 7388), ('primary', 7389), ('bebot', 7390), ('homicidal', 7391), ('hubby', 7392), ('briso', 7393), ('hubs', 7394), ('zimmer', 7395), ('luna', 7396), ('nugget', 7397), ('hoggster', 7398), ('moreso', 7399), ('journale', 7400), ('submit', 7401), ('autobiographical', 7402), ('jimmy', 7403), ('contraceptive', 7404), ('electronic', 7405), ('kit', 7406), ('globe', 7407), ('fwy', 7408), ('correction', 7409), ('lafd', 7410), ('chp', 7411), ('coroner', 7412), ('nfd', 7413), ('humphrey', 7414), ('passenger', 7415), ('pt', 7416), ('honolulu', 7417), ('bud', 7418), ('adamcheeeserosie', 7419), ('dvi', 7420), ('cord', 7421), ('depre', 7422), ('juice', 7423), ('yey', 7424), ('eddie', 7425), ('whocangetit', 7426), ('cle', 7427), ('horrendous', 7428), ('signs', 7429), ('causes', 7430), ('judging', 7431), ('heavens', 7432), ('deliverance', 7433), ('baptist', 7434), ('fourth', 7435), ('dna', 7436), ('dot', 7437), ('inherit', 7438), ('silentinheritance', 7439), ('dnaday', 7440), ('hiccuuppsss', 7441), ('adderall', 7442), ('surely', 7443), ('abort', 7444), ('vss', 7445), ('rif', 7446), ('equally', 7447), ('ella', 7448), ('pl', 7449), ('highlight', 7450), ('championship', 7451), ('reward', 7452), ('ecstasy', 7453), ('utv', 7454), ('wars', 7455), ('badass', 7456), ('xox', 7457), ('percentage', 7458), ('ina', 7459), ('gemini', 7460), ('backup', 7461), ('suckd', 7462), ('goodbassplayer', 7463), ('oilipo', 7464), ('disprove', 7465), ('expose', 7466), ('unnecessary', 7467), ('useful', 7468), ('behavioural', 7469), ('selfcarea', 7470), ('duvet', 7471), ('wonderfully', 7472), ('restorative', 7473), ('compassionate', 7474), ('itsoknottobeok', 7475), ('lampard', 7476), ('description', 7477), ('marv', 7478), ('albert', 7479), ('capitalist', 7480), ('sunsette', 7481), ('marah', 7482), ('mcintyre', 7483), ('windrush', 7484), ('warehouse', 7485), ('maga', 7486), ('treasury', 7487), ('soc', 7488), ('sec', 7489), ('saving', 7490), ('inflation', 7491), ('trickle', 7492), ('banks', 7493), ('trillion', 7494), ('elif', 7495), ('avdal', 7496), ('juniper', 7497), ('jojcs', 7498), ('berkeley', 7499), ('kqs', 7500), ('flop', 7501), ('straw', 7502), ('speechless', 7503), ('fisted', 7504), ('lifting', 7505), ('dancer', 7506), ('cardio', 7507), ('flexed', 7508), ('bicep', 7509), ('october', 7510), ('loving', 7511), ('anytime', 7512), ('dev', 7513), ('mysuperpower', 7514), ('wyyyuuuuut', 7515), ('fcukk', 7516), ('alien', 7517), ('anythin', 7518), ('outt', 7519), ('acce', 7520), ('stitch', 7521), ('niley', 7522), ('shy', 7523), ('spouse', 7524), ('hw', 7525), ('starts', 7526), ('obsessed', 7527), ('ruinne', 7528), ('ftv', 7529), ('bpdchat', 7530), ('mentalillnessmisconception', 7531), ('deregulation', 7532), ('predatory', 7533), ('lender', 7534), ('republicans', 7535), ('madly', 7536), ('teendepression', 7537), ('ja', 7538), ('stalk', 7539), ('udon', 7540), ('speed', 7541), ('metabolism', 7542), ('molestation', 7543), ('yall', 7544), ('hardship', 7545), ('chord', 7546), ('command', 7547), ('ov', 7548), ('depr', 7549), ('pende', 7550), ('lazzzzyyyy', 7551), ('reader', 7552), ('peg', 7553), ('strangers', 7554), ('pilgrims', 7555), ('mak', 7556), ('peacefully', 7557), ('vacation', 7558), ('massagetherapy', 7559), ('hypertension', 7560), ('resources', 7561), ('massagecalgary', 7562), ('yychealth', 7563), ('yychealthylive', 7564), ('rmt', 7565), ('nigerians', 7566), ('simethibg', 7567), ('cleanse', 7568), ('sample', 7569), ('moth', 7570), ('reveal', 7571), ('detection', 7572), ('capability', 7573), ('ius', 7574), ('acct', 7575), ('bn', 7576), ('feddy', 7577), ('compose', 7578), ('preparation', 7579), ('wearin', 7580), ('dou', 7581), ('racit', 7582), ('preclude', 7583), ('ofâ', 7584), ('endemic', 7585), ('engagement', 7586), ('eurgh', 7587), ('arthritis', 7588), ('ms', 7589), ('stiff', 7590), ('apathy', 7591), ('heatstroke', 7592), ('skunk', 7593), ('yard', 7594), ('casanova', 7595), ('clopin', 7596), ('boot', 7597), ('frazzle', 7598), ('peel', 7599), ('prevalence', 7600), ('las', 7601), ('propensity', 7602), ('redraw', 7603), ('altho', 7604), ('thaaat', 7605), ('mormon', 7606), ('tonightt', 7607), ('canuck', 7608), ('kalena', 7609), ('tia', 7610), ('retire', 7611), ('immature', 7612), ('ninja', 7613), ('dessert', 7614), ('sierra', 7615), ('leone', 7616), ('hostileenvironment', 7617), ('legalaid', 7618), ('independentreview', 7619), ('migrantvoice', 7620), ('reallyyyyy', 7621), ('workn', 7622), ('thighs', 7623), ('wuah', 7624), ('sushi', 7625), ('memorial', 7626), ('rubbish', 7627), ('chalean', 7628), ('interval', 7629), ('fascinating', 7630), ('shade', 7631), ('puce', 7632), ('oxygen', 7633), ('intentional', 7634), ('rpdri', 7635), ('katya', 7636), ('awfuli', 7637), ('bulimic', 7638), ('ribbon', 7639), ('extraordinary', 7640), ('anew', 7641), ('steph', 7642), ('boreddddd', 7643), ('pyrocynical', 7644), ('strew', 7645), ('inspect', 7646), ('dollar', 7647), ('photoshoot', 7648), ('jordans', 7649), ('bullet', 7650), ('boys', 7651), ('trixter', 7652), ('pete', 7653), ('guns', 7654), ('kix', 7655), ('hung', 7656), ('backstage', 7657), ('roller', 7658), ('uhhh', 7659), ('advanced', 7660), ('irl', 7661), ('teeth', 7662), ('jennings', 7663), ('deepness', 7664), ('greeeeattttt', 7665), ('fuckingf', 7666), ('bneede', 7667), ('seeya', 7668), ('lvoe', 7669), ('eeep', 7670), ('hannahh', 7671), ('didd', 7672), ('ooo', 7673), ('trvs', 7674), ('ayeeeeeeee', 7675), ('dickhead', 7676), ('unjustly', 7677), ('decapitate', 7678), ('skypeâ', 7679), ('nectar', 7680), ('terrified', 7681), ('contaminate', 7682), ('blank', 7683), ('anda', 7684), ('catharsis', 7685), ('motiv', 7686), ('mohler', 7687), ('restart', 7688), ('japanese', 7689), ('drax', 7690), ('destroyer', 7691), ('waiting', 7692), ('blip', 7693), ('havign', 7694), ('activate', 7695), ('rightly', 7696), ('ellis', 7697), ('sharepoint', 7698), ('stereotype', 7699), ('loansome', 7700), ('tis', 7701), ('skint', 7702), ('scotland', 7703), ('theatre', 7704), ('gag', 7705), ('leddy', 7706), ('beleivee', 7707), ('losinng', 7708), ('lighten', 7709), ('president', 7710), ('brake', 7711), ('adms', 7712), ('gwb', 7713), ('demolish', 7714), ('realnews', 7715), ('motorbike', 7716), ('snapchat', 7717), ('mansion', 7718), ('wifey', 7719), ('sux', 7720), ('enforce', 7721), ('posture', 7722), ('interwebs', 7723), ('twerent', 7724), ('betrayal', 7725), ('acceptance', 7726), ('semi', 7727), ('sociopathism', 7728), ('alex', 7729), ('gaskarth', 7730), ('hannie', 7731), ('montannie', 7732), ('famliy', 7733), ('bck', 7734), ('homee', 7735), ('hore', 7736), ('paolo', 7737), ('nooooooooow', 7738), ('pres', 7739), ('sector', 7740), ('jo', 7741), ('genre', 7742), ('goofin', 7743), ('frenchie', 7744), ('sod', 7745), ('freight', 7746), ('assessment', 7747), ('neda', 7748), ('minded', 7749), ('ham', 7750), ('diannaaaa', 7751), ('pokemon', 7752), ('pool', 7753), ('kings', 7754), ('beard', 7755), ('meantime', 7756), ('aol', 7757), ('abi', 7758), ('kashrut', 7759), ('convo', 7760), ('kosher', 7761), ('roomie', 7762), ('catholic', 7763), ('pork', 7764), ('loin', 7765), ('fridge', 7766), ('kosherfail', 7767), ('sox', 7768), ('floyd', 7769), ('reliever', 7770), ('scolding', 7771), ('corpse', 7772), ('messplease', 7773), ('enlighten', 7774), ('genius', 7775), ('wirting', 7776), ('almos', 7777), ('listenint', 7778), ('afh', 7779), ('retribution', 7780), ('loathe', 7781), ('necessary', 7782), ('anbe', 7783), ('ultralight', 7784), ('beam', 7785), ('cnt', 7786), ('dsm', 7787), ('weepy', 7788), ('vlog', 7789), ('fatal', 7790), ('respiratory', 7791), ('particularly', 7792), ('analgesic', 7793), ('manufacturer', 7794), ('tolerant', 7795), ('tel', 7796), ('brokeback', 7797), ('jfk', 7798), ('sf', 7799), ('eff', 7800), ('dunkin', 7801), ('donuts', 7802), ('thrive', 7803), ('cowboy', 7804), ('hat', 7805), ('nancy', 7806), ('rightfully', 7807), ('famil', 7808), ('cba', 7809), ('oral', 7810), ('tooâ', 7811), ('vernetroyer', 7812), ('cocoa', 7813), ('pebble', 7814), ('handful', 7815), ('promising', 7816), ('wellie', 7817), ('satellite', 7818), ('reflection', 7819), ('rainout', 7820), ('adorei', 7821), ('zoffitcha', 7822), ('hj', 7823), ('dps', 7824), ('ponho', 7825), ('foto', 7826), ('tpic', 7827), ('neptune', 7828), ('timberlake', 7829), ('timbaland', 7830), ('problemyou', 7831), ('ticketmaster', 7832), ('lololol', 7833), ('xddd', 7834), ('privilege', 7835), ('pace', 7836), ('enrich', 7837), ('noise', 7838), ('gcse', 7839), ('evan', 7840), ('mountain', 7841), ('homosexuality', 7842), ('ameture', 7843), ('adulation', 7844), ('fateful', 7845), ('tempestuous', 7846), ('preacher', 7847), ('guidance', 7848), ('clinician', 7849), ('alter', 7850), ('smite', 7851), ('eden', 7852), ('drift', 7853), ('rad', 7854), ('groggy', 7855), ('rabid', 7856), ('zombie', 7857), ('respected', 7858), ('isdepression', 7859), ('opera', 7860), ('rumor', 7861), ('sicken', 7862), ('shiver', 7863), ('vinci', 7864), ('code', 7865), ('beast', 7866), ('toodles', 7867), ('lufflie', 7868), ('rcb', 7869), ('rcbian', 7870), ('expat', 7871), ('wsj', 7872), ('shawn', 7873), ('sleeve', 7874), ('barry', 7875)])"
      ]
     },
     "execution_count": 56,
     "metadata": {},
     "output_type": "execute_result"
    }
   ],
   "source": [
    "tok.word_index.items()"
   ]
  },
  {
   "cell_type": "code",
   "execution_count": 57,
   "id": "ff822bb0",
   "metadata": {},
   "outputs": [],
   "source": [
    "import pickle\n",
    "with open(file=\"model/tokens.pkl\",mode=\"wb\") as file:\n",
    "    pickle.dump(obj=tok,file=file)"
   ]
  },
  {
   "cell_type": "code",
   "execution_count": 58,
   "id": "043ed52a",
   "metadata": {},
   "outputs": [],
   "source": [
    "pad_text=pad_sequences(sequences=encd_text,maxlen=53,padding=\"post\")"
   ]
  },
  {
   "cell_type": "code",
   "execution_count": 59,
   "id": "fd179e54",
   "metadata": {},
   "outputs": [
    {
     "name": "stdout",
     "output_type": "stream",
     "text": [
      "[[ 356  129    1 ...    0    0    0]\n",
      " [  10 3085  567 ...    0    0    0]\n",
      " [3087    1  319 ...    0    0    0]\n",
      " ...\n",
      " [  30 2248 1210 ...    0    0    0]\n",
      " [   0    0    0 ...    0    0    0]\n",
      " [  75   64    0 ...    0    0    0]]\n"
     ]
    }
   ],
   "source": [
    "print(pad_text)"
   ]
  },
  {
   "cell_type": "code",
   "execution_count": 60,
   "id": "7e69583a",
   "metadata": {},
   "outputs": [],
   "source": [
    "y=df[\"labels\"]"
   ]
  },
  {
   "cell_type": "markdown",
   "id": "77a4219e",
   "metadata": {},
   "source": [
    "## Data Splitting"
   ]
  },
  {
   "cell_type": "code",
   "execution_count": 61,
   "id": "63f6e1b9",
   "metadata": {},
   "outputs": [],
   "source": [
    "from sklearn.model_selection import train_test_split\n",
    "from sklearn.metrics import accuracy_score,classification_report,confusion_matrix"
   ]
  },
  {
   "cell_type": "code",
   "execution_count": 62,
   "id": "922f7aff",
   "metadata": {},
   "outputs": [],
   "source": [
    "x_train,x_test,y_train,y_test=train_test_split(pad_text,y,test_size=0.2,random_state=42)"
   ]
  },
  {
   "cell_type": "markdown",
   "id": "52e1004d",
   "metadata": {},
   "source": [
    "## Model-1 RandomForestClassifier"
   ]
  },
  {
   "cell_type": "code",
   "execution_count": 63,
   "id": "2d1eb130",
   "metadata": {},
   "outputs": [],
   "source": [
    "from sklearn.ensemble import RandomForestClassifier\n",
    "\n",
    "clf=RandomForestClassifier(n_estimators=600)"
   ]
  },
  {
   "cell_type": "code",
   "execution_count": 64,
   "id": "00120325",
   "metadata": {},
   "outputs": [],
   "source": [
    "RF_model = clf.fit(x_train,y_train)"
   ]
  },
  {
   "cell_type": "code",
   "execution_count": 65,
   "id": "5d41f2e3",
   "metadata": {},
   "outputs": [],
   "source": [
    "y_pred_RF=RF_model.predict(x_test)"
   ]
  },
  {
   "cell_type": "code",
   "execution_count": 66,
   "id": "e69f2e10",
   "metadata": {},
   "outputs": [
    {
     "name": "stdout",
     "output_type": "stream",
     "text": [
      "[0 0 0 1 1 0 0 0 0 0 0 1 1 1 0 1 1 1 1 1 1 0 0 1 1 1 0 1 0 0 1 1 0 0 1 1 0\n",
      " 1 1 1 1 1 1 1 1 0 0 0 0 1 1 1 1 0 0 1 0 0 0 0 0 1 0 0 0 1 1 0 0 1 1 0 0 1\n",
      " 1 0 0 1 0 0 0 1 0 0 0 1 0 1 1 0 1 0 0 0 1 0 0 0 1 1 1 1 0 0 0 0 0 1 1 0 1\n",
      " 1 0 0 0 1 0 1 1 0 0 1 1 0 1 0 0 0 0 0 1 1 1 1 0 0 0 0 0 0 0 0 0 0 0 0 1 1\n",
      " 0 0 1 1 0 0 0 1 0 0 1 1 1 1 0 1 1 0 0 1 0 1 0 1 0 0 1 1 0 0 1 1 1 1 1 0 0\n",
      " 0 0 1 0 1 0 1 1 1 1 0 1 0 1 0 1 0 0 0 1 0 1 0 0 0 1 1 1 0 1 0 0 0 1 1 0 0\n",
      " 1 1 1 1 0 1 1 1 0 0 1 0 0 1 1 0 0 0 1 0 1 1 1 0 0 1 0 1 0 1 1 0 0 0 1 1 0\n",
      " 0 0 1 1 0 1 1 1 1 1 0 0 1 1 1 1 0 0 1 0 1 1 0 0 0 0 0 0 1 1 0 1 1 0 1 0 1\n",
      " 1 1 0 1 0 1 1 1 0 0 0 1 0 0 1 1 0 0 0 1 1 1 1 0 0 1 0 0 1 0 0 1 1 1 0 0 1\n",
      " 1 1 0 0 1 0 0 0 1 1 1 0 0 1 1 0 1 0 0 1 1 0 1 1 1 1 0 1 0 0 1 1 1 0 1 1 0\n",
      " 0 1 0 0 1 1 1 1 1 0 0 1 1 1 1 0 1 0 1 1 0 1 1 0 1 0 1 0 1 0 0 1 0 1 0 0 0\n",
      " 1 0 1 0 0 1 1 0 1 0 0 1 0 1 1 0 1 0 1 1 0 0 0 0 0 0 1 0 0 1 1 1 0 0 1 1 0\n",
      " 1 0 1 0 1 0 0 1 1 1 1 0 1 1 0 1 1 1 1 1 0 1 1 1 1 1 0 0 1 1 0 1 1 1 0 1 1\n",
      " 1 1 1 1 0 1 1 0 1 0 0 0 0 1 0 0 0 0 1 1 0 0 1 1 1 0 0 1 1 1 1 1 1 0 0 1 1\n",
      " 1 0 0 0 1 0 1 1 1 0 0 1 1 0 1 1 1 1 0 0 1 0 0 0 1 1 1 1 1 1 1 1 1 0 0 0 1\n",
      " 1 1 0 0 0 1 1 0 0 1 1 1 1 0 0 1 0 0 0 0 1 1 1 1 1 1 0 0 0 0 1 0 0 1 0 0 0\n",
      " 1 0 1 0 0 1 0 1 1 1 0 0 1 1 1 1 0 0 0 0 1 0 0 1 1 1 0 0 0 0 0 0 1 0 1 0 0\n",
      " 0 1 1 1 1 0 1 0 0 0 1 1 0 0 1 0 1 0 1 1 0 1 0 1 1 1 0 0 0 0 0 0 1 1 0 1 1\n",
      " 0 0 0 0 1 1 0 1 1 0 1 1 0 1 0 1 1 1 0 0 1 1 1 0 0 0 0 1 1 1 0 0 0 1 1 0 0\n",
      " 0 0 0 0 1 1 1 0 0 0 0 0 0 1 0 0 0 1 0 0 1 1 1 0 1 1 0 0 0 0 0 0 1 1 1 0 1\n",
      " 0 1 1 0 0 1 1 0 0 1 1 0 1 1 1 1 1 0 1 0 1 0 1 1 1 1 1 1 0 1 0 0 0 0 1 0 1\n",
      " 0 0 0 1 1 1 1 1 1 1 1 0 0 1 1 1 1 0 0 1 0 1 1 0 0 0 1 0 0 1 0 0 0 0 1 1 1\n",
      " 0 0 0 1 1 0 1 1 1 1 1 0 0 1 1 0 1 1 1 0 0 1 1 0 1 0 0 0 0 1 1 1 0 1 1 0 0\n",
      " 0 1 1 1 1 0 1 0 1 1 0 1 1 0 1 1 0 0 1 0 0 0 1 1 0 1 1 1 0 1 0 1 1 1 0 0 1\n",
      " 1 0 1 1 0 1 1 1 0 1 1 0 0 1 0 1 0 0 1 0 1 1 0 1 0 1 0 1 1 1 1 1]\n"
     ]
    }
   ],
   "source": [
    "print(y_pred_RF)"
   ]
  },
  {
   "cell_type": "markdown",
   "id": "00707606",
   "metadata": {},
   "source": [
    "## Result Analysis"
   ]
  },
  {
   "cell_type": "markdown",
   "id": "3d229156",
   "metadata": {},
   "source": [
    "### Accuracy Score"
   ]
  },
  {
   "cell_type": "code",
   "execution_count": 67,
   "id": "f164e328",
   "metadata": {},
   "outputs": [
    {
     "name": "stdout",
     "output_type": "stream",
     "text": [
      "0.9554347826086956\n"
     ]
    }
   ],
   "source": [
    "RF_Accuracy=accuracy_score(y_test,y_pred_RF)\n",
    "print(RF_Accuracy)"
   ]
  },
  {
   "cell_type": "markdown",
   "id": "adb8f872",
   "metadata": {},
   "source": [
    "### Classification Report"
   ]
  },
  {
   "cell_type": "code",
   "execution_count": 68,
   "id": "c6c437c7",
   "metadata": {},
   "outputs": [
    {
     "name": "stdout",
     "output_type": "stream",
     "text": [
      "              precision    recall  f1-score   support\n",
      "\n",
      "           0       0.96      0.95      0.95       447\n",
      "           1       0.95      0.96      0.96       473\n",
      "\n",
      "    accuracy                           0.96       920\n",
      "   macro avg       0.96      0.96      0.96       920\n",
      "weighted avg       0.96      0.96      0.96       920\n",
      "\n"
     ]
    }
   ],
   "source": [
    "print(classification_report(y_test, y_pred_RF))"
   ]
  },
  {
   "cell_type": "markdown",
   "id": "c76037d2",
   "metadata": {},
   "source": [
    "### Confusion Matrix"
   ]
  },
  {
   "cell_type": "code",
   "execution_count": 69,
   "id": "49f17329",
   "metadata": {},
   "outputs": [],
   "source": [
    "labels=[\"Not_Stress\",\"Stress\"]"
   ]
  },
  {
   "cell_type": "code",
   "execution_count": 70,
   "id": "4d51cc14",
   "metadata": {},
   "outputs": [
    {
     "data": {
      "image/png": "[encoded data removed]",
      "text/plain": [
       "<Figure size 720x432 with 2 Axes>"
      ]
     },
     "metadata": {
      "needs_background": "light"
     },
     "output_type": "display_data"
    }
   ],
   "source": [
    "plt.rcParams[\"figure.figsize\"]=(10,6)\n",
    "sns.heatmap(data=confusion_matrix(y_true=y_test,y_pred=y_pred_RF),annot=True,fmt=\"d\",cmap=\"YlGnBu\",xticklabels=labels,yticklabels=labels)\n",
    "plt.show()"
   ]
  },
  {
   "cell_type": "markdown",
   "id": "1793c675",
   "metadata": {},
   "source": [
    "## Model Saving"
   ]
  },
  {
   "cell_type": "code",
   "execution_count": 71,
   "id": "9d369279",
   "metadata": {},
   "outputs": [],
   "source": [
    "import pickle\n",
    "pickle.dump(RF_model, open('model/RF_model.pkl', 'wb'))"
   ]
  },
  {
   "cell_type": "markdown",
   "id": "ac029fcb",
   "metadata": {},
   "source": [
    "## Model-2 SupportVectorClassifier"
   ]
  },
  {
   "cell_type": "code",
   "execution_count": 72,
   "id": "7fce4c35",
   "metadata": {},
   "outputs": [],
   "source": [
    "from sklearn.svm import SVC"
   ]
  },
  {
   "cell_type": "code",
   "execution_count": 73,
   "id": "1c3301f8",
   "metadata": {},
   "outputs": [],
   "source": [
    "svm = SVC()"
   ]
  },
  {
   "cell_type": "code",
   "execution_count": 74,
   "id": "98010c7e",
   "metadata": {},
   "outputs": [],
   "source": [
    "SVM_model = svm.fit(x_train,y_train)"
   ]
  },
  {
   "cell_type": "code",
   "execution_count": 75,
   "id": "3516ab8f",
   "metadata": {},
   "outputs": [],
   "source": [
    "y_pred_SVM =SVM_model.predict(x_test)"
   ]
  },
  {
   "cell_type": "code",
   "execution_count": 76,
   "id": "0594fdfe",
   "metadata": {},
   "outputs": [
    {
     "name": "stdout",
     "output_type": "stream",
     "text": [
      "[0 0 0 1 1 0 0 1 0 0 0 1 0 0 0 1 1 0 0 0 0 0 0 1 1 0 0 1 1 0 1 0 0 0 1 1 1\n",
      " 0 0 1 0 0 1 1 1 0 0 0 0 1 0 0 0 1 0 1 0 0 0 0 1 1 1 0 0 0 0 0 0 0 1 0 1 1\n",
      " 1 0 0 1 0 0 0 0 0 0 0 0 0 0 0 0 1 0 1 0 0 0 0 0 0 0 0 0 0 0 0 0 1 1 1 0 1\n",
      " 0 0 0 0 0 0 0 0 0 0 0 0 0 1 0 0 1 1 0 1 1 1 1 0 0 0 0 1 0 0 1 1 0 0 0 1 1\n",
      " 0 1 1 1 0 0 0 0 1 0 1 1 1 1 0 0 0 1 0 0 0 0 0 1 0 0 1 0 1 0 1 1 1 0 1 0 1\n",
      " 0 0 0 0 0 0 1 1 0 0 0 1 0 0 0 0 0 0 0 0 1 0 0 0 1 1 0 0 0 0 1 0 0 1 1 0 0\n",
      " 0 0 1 0 0 1 1 0 1 0 1 0 0 0 1 0 0 0 0 0 0 1 0 0 0 0 0 0 0 1 1 0 0 0 1 0 0\n",
      " 0 0 0 1 1 0 1 1 1 1 0 0 0 1 0 1 0 0 0 0 1 1 0 0 0 1 0 1 1 0 0 0 1 0 0 0 1\n",
      " 1 1 0 1 1 0 1 0 0 0 0 1 0 0 1 1 0 0 0 1 1 1 1 0 0 0 0 0 0 0 1 0 0 1 0 0 0\n",
      " 0 0 0 0 0 0 0 0 0 1 1 0 0 1 1 0 0 0 0 1 1 0 1 1 0 0 0 0 1 0 0 1 1 0 0 1 0\n",
      " 0 1 0 0 0 0 1 1 0 0 0 1 0 0 0 0 1 0 0 1 0 1 1 0 1 0 1 0 1 1 1 0 0 1 0 0 0\n",
      " 1 1 0 0 0 0 0 0 0 0 0 1 0 0 0 0 1 0 1 1 0 0 1 0 0 0 1 1 0 1 1 1 0 0 0 0 0\n",
      " 0 1 1 1 1 0 0 0 0 1 0 0 0 0 1 0 0 1 0 1 0 0 0 1 1 0 0 0 0 0 0 0 1 0 0 0 1\n",
      " 1 1 1 1 0 0 1 0 0 0 0 0 0 1 0 0 0 1 0 1 0 0 1 0 0 0 0 1 1 0 1 1 0 0 0 0 1\n",
      " 0 0 0 0 0 0 1 0 1 0 0 0 0 0 0 0 1 0 0 0 0 0 0 0 0 0 0 1 1 1 1 1 0 0 0 0 1\n",
      " 1 0 0 0 0 1 1 0 0 0 1 1 1 0 0 0 0 0 0 0 1 1 0 0 0 0 0 0 0 0 1 0 1 0 0 0 0\n",
      " 1 0 0 0 0 0 0 0 1 1 0 0 0 1 1 1 0 0 1 0 0 0 0 1 0 0 0 0 1 0 0 0 1 1 0 0 0\n",
      " 0 1 1 1 1 0 0 0 1 0 0 0 1 0 0 0 0 0 0 0 0 0 1 1 0 1 0 1 0 0 1 0 1 0 0 1 0\n",
      " 0 0 1 1 0 1 0 1 1 0 1 1 0 1 0 1 0 1 1 0 1 0 0 1 0 0 0 0 0 1 0 0 0 1 1 0 0\n",
      " 0 0 0 0 0 1 1 0 0 0 1 0 0 0 0 0 0 1 0 0 1 0 1 0 0 1 0 0 0 0 0 0 0 1 0 0 1\n",
      " 0 1 0 0 0 0 1 1 0 1 1 0 1 0 0 0 0 0 1 0 0 0 0 1 0 1 0 1 0 1 0 0 0 0 0 0 1\n",
      " 0 0 1 0 0 0 1 0 0 1 1 0 0 1 0 0 1 0 0 1 0 1 1 0 0 0 0 0 1 0 0 0 0 0 1 1 0\n",
      " 0 0 0 1 1 1 0 0 1 1 1 0 0 1 1 0 1 0 1 0 0 1 0 0 0 0 0 0 0 1 1 1 1 1 1 0 1\n",
      " 0 1 1 0 1 0 1 0 0 0 0 0 0 0 1 0 0 0 0 0 0 0 1 1 1 1 1 0 0 0 0 0 1 0 0 0 0\n",
      " 1 0 0 1 1 1 0 0 0 0 0 1 0 0 0 0 0 0 0 0 0 0 0 0 0 1 0 1 1 0 0 0]\n"
     ]
    }
   ],
   "source": [
    "print(y_pred_SVM)"
   ]
  },
  {
   "cell_type": "markdown",
   "id": "94511027",
   "metadata": {},
   "source": [
    "## Result Analysis"
   ]
  },
  {
   "cell_type": "markdown",
   "id": "bbc05f5f",
   "metadata": {},
   "source": [
    "### Accuracy Score"
   ]
  },
  {
   "cell_type": "code",
   "execution_count": 77,
   "id": "05295a0a",
   "metadata": {},
   "outputs": [
    {
     "name": "stdout",
     "output_type": "stream",
     "text": [
      "0.6521739130434783\n"
     ]
    }
   ],
   "source": [
    "SVM_Accuracy=accuracy_score(y_test,y_pred_SVM)\n",
    "print(SVM_Accuracy)"
   ]
  },
  {
   "cell_type": "markdown",
   "id": "1bdc92f8",
   "metadata": {},
   "source": [
    "### Classification Report"
   ]
  },
  {
   "cell_type": "code",
   "execution_count": 78,
   "id": "bd4f8e56",
   "metadata": {},
   "outputs": [
    {
     "name": "stdout",
     "output_type": "stream",
     "text": [
      "              precision    recall  f1-score   support\n",
      "\n",
      "           0       0.60      0.83      0.70       447\n",
      "           1       0.75      0.48      0.59       473\n",
      "\n",
      "    accuracy                           0.65       920\n",
      "   macro avg       0.68      0.66      0.64       920\n",
      "weighted avg       0.68      0.65      0.64       920\n",
      "\n"
     ]
    }
   ],
   "source": [
    "print(classification_report(y_test, y_pred_SVM))"
   ]
  },
  {
   "cell_type": "markdown",
   "id": "41d04703",
   "metadata": {},
   "source": [
    "### Confusion Matrix"
   ]
  },
  {
   "cell_type": "code",
   "execution_count": 79,
   "id": "18921a1c",
   "metadata": {},
   "outputs": [
    {
     "data": {
      "image/png": "[encoded data removed]",
      "text/plain": [
       "<Figure size 720x432 with 2 Axes>"
      ]
     },
     "metadata": {
      "needs_background": "light"
     },
     "output_type": "display_data"
    }
   ],
   "source": [
    "plt.rcParams[\"figure.figsize\"]=(10,6)\n",
    "sns.heatmap(data=confusion_matrix(y_true=y_test,y_pred=y_pred_SVM),annot=True,fmt=\"d\",cmap=\"YlGnBu\",xticklabels=labels,yticklabels=labels)\n",
    "plt.show()"
   ]
  },
  {
   "cell_type": "markdown",
   "id": "05f0ce90",
   "metadata": {},
   "source": [
    "## Model Saving"
   ]
  },
  {
   "cell_type": "code",
   "execution_count": 80,
   "id": "4f9aa72b",
   "metadata": {},
   "outputs": [],
   "source": [
    "pickle.dump(SVM_model, open('model/SVM_Model.pkl', 'wb'))"
   ]
  },
  {
   "cell_type": "markdown",
   "id": "a8b6482b",
   "metadata": {},
   "source": [
    "## Model-3 AdaBoostClassifier"
   ]
  },
  {
   "cell_type": "code",
   "execution_count": 81,
   "id": "0a27cd0c",
   "metadata": {},
   "outputs": [
    {
     "data": {
      "text/plain": [
       "AdaBoostClassifier(n_estimators=600)"
      ]
     },
     "execution_count": 81,
     "metadata": {},
     "output_type": "execute_result"
    }
   ],
   "source": [
    "from sklearn.ensemble import AdaBoostClassifier\n",
    "ABC=AdaBoostClassifier(n_estimators=600)\n",
    "ABC.fit(x_train,y_train)"
   ]
  },
  {
   "cell_type": "code",
   "execution_count": 82,
   "id": "4008c78e",
   "metadata": {},
   "outputs": [],
   "source": [
    "ABC_pred=ABC.predict(x_test)"
   ]
  },
  {
   "cell_type": "code",
   "execution_count": 83,
   "id": "eeb59e06",
   "metadata": {},
   "outputs": [
    {
     "name": "stdout",
     "output_type": "stream",
     "text": [
      "[0 0 0 1 1 0 0 0 0 0 0 1 1 1 0 1 1 1 1 1 1 0 0 1 1 1 0 1 0 0 1 1 0 0 1 1 0\n",
      " 1 1 1 1 1 1 1 0 0 0 0 0 1 1 1 1 0 0 1 0 0 0 0 0 1 0 0 0 1 1 0 0 1 1 0 0 1\n",
      " 1 0 0 1 0 0 0 1 0 0 0 0 0 1 1 0 1 0 0 0 1 0 0 0 1 1 1 1 0 0 0 0 0 1 1 0 1\n",
      " 1 0 0 0 1 0 0 1 0 0 1 1 0 0 0 0 0 0 0 1 1 1 1 0 0 0 0 0 0 0 0 0 0 0 0 1 1\n",
      " 0 0 1 1 0 0 0 1 0 0 1 1 1 1 0 1 1 0 0 1 0 1 0 1 0 0 0 1 0 0 1 1 1 1 1 0 0\n",
      " 0 0 1 0 1 0 1 1 1 1 0 1 0 1 0 1 0 0 0 1 0 1 0 0 0 1 1 1 0 1 0 0 0 1 1 0 0\n",
      " 1 1 1 1 0 1 1 1 0 0 1 0 0 1 1 0 0 0 1 1 1 1 1 0 0 1 0 1 0 0 1 0 0 0 1 1 0\n",
      " 0 0 1 1 0 1 1 1 1 1 0 0 1 0 1 1 0 0 1 0 1 1 0 0 0 0 0 0 1 1 0 1 1 0 1 0 1\n",
      " 1 1 0 1 0 1 1 1 0 0 0 0 0 0 1 0 0 0 0 1 1 1 1 0 0 1 0 0 1 0 0 1 1 1 0 0 1\n",
      " 1 1 0 0 1 0 0 0 0 1 1 0 0 1 1 0 1 0 0 1 1 0 1 1 1 1 0 1 0 0 1 0 1 0 1 1 0\n",
      " 0 1 0 0 1 1 0 1 1 0 0 1 1 1 1 0 1 0 1 1 0 1 1 0 1 0 1 0 1 0 0 1 0 1 1 0 0\n",
      " 1 0 1 0 0 1 1 0 1 0 0 1 0 1 1 0 1 0 1 1 0 0 0 0 0 0 1 0 0 1 1 1 0 0 1 1 0\n",
      " 1 0 1 0 1 0 0 1 1 1 0 0 1 1 0 1 1 1 1 1 0 1 1 1 1 1 0 0 1 1 0 1 0 1 0 1 0\n",
      " 1 1 0 1 0 1 1 0 1 0 0 0 0 1 0 0 0 0 1 1 0 0 1 1 1 0 0 1 1 1 1 1 1 0 0 1 1\n",
      " 1 0 0 0 1 0 1 1 1 0 0 1 1 0 1 1 1 1 0 0 1 0 0 0 1 1 1 1 1 1 1 1 1 0 0 0 1\n",
      " 1 1 0 0 0 1 0 0 0 1 1 1 1 0 0 1 0 0 0 0 1 1 1 1 1 1 0 0 0 0 1 0 0 1 0 0 0\n",
      " 1 0 1 0 0 1 0 1 1 1 0 0 1 1 1 1 0 0 0 0 1 0 0 1 1 1 0 0 0 0 0 0 1 0 1 0 0\n",
      " 0 1 1 1 1 0 1 0 0 0 1 1 0 0 1 0 1 0 1 1 0 1 0 1 1 1 0 0 0 0 0 0 1 1 0 1 1\n",
      " 0 0 0 0 1 1 0 1 1 0 1 1 0 1 0 1 1 1 0 0 1 1 1 0 0 0 0 1 1 1 0 0 0 1 1 0 0\n",
      " 0 0 0 0 1 1 1 0 0 0 0 0 0 1 0 0 0 1 0 0 1 1 1 0 1 1 0 0 0 0 0 0 1 0 1 0 1\n",
      " 0 1 1 1 0 1 1 1 0 1 1 0 1 1 1 1 1 0 1 0 1 0 1 1 1 1 1 1 0 1 0 0 0 0 1 0 1\n",
      " 0 0 0 1 1 1 1 1 1 1 1 0 0 1 1 1 1 0 0 1 0 1 1 0 0 0 1 0 0 1 0 0 0 0 1 1 1\n",
      " 0 0 0 1 1 0 1 1 1 1 0 0 0 1 1 0 1 1 1 0 0 0 1 0 1 0 0 0 0 1 1 1 0 1 1 0 0\n",
      " 0 1 1 1 1 0 1 0 1 1 0 1 1 0 1 1 0 0 1 0 0 0 1 1 0 1 1 1 0 1 0 1 1 1 0 0 1\n",
      " 1 0 1 1 0 1 1 1 0 1 1 0 0 1 0 1 0 0 1 0 1 1 0 1 0 1 0 1 1 1 1 1]\n"
     ]
    }
   ],
   "source": [
    "print(ABC_pred)"
   ]
  },
  {
   "cell_type": "markdown",
   "id": "4db46678",
   "metadata": {},
   "source": [
    "## Result Analysis"
   ]
  },
  {
   "cell_type": "markdown",
   "id": "d886dd5e",
   "metadata": {},
   "source": [
    "### Accuracy Score"
   ]
  },
  {
   "cell_type": "code",
   "execution_count": 84,
   "id": "0917e77b",
   "metadata": {},
   "outputs": [
    {
     "name": "stdout",
     "output_type": "stream",
     "text": [
      "0.9641304347826087\n"
     ]
    }
   ],
   "source": [
    "ABC_Accuracy=accuracy_score(y_test,ABC_pred)\n",
    "print(ABC_Accuracy)"
   ]
  },
  {
   "cell_type": "markdown",
   "id": "cd78fe17",
   "metadata": {},
   "source": [
    "### Classification Report"
   ]
  },
  {
   "cell_type": "code",
   "execution_count": 85,
   "id": "b8f276f6",
   "metadata": {},
   "outputs": [
    {
     "name": "stdout",
     "output_type": "stream",
     "text": [
      "              precision    recall  f1-score   support\n",
      "\n",
      "           0       0.95      0.98      0.96       447\n",
      "           1       0.98      0.95      0.96       473\n",
      "\n",
      "    accuracy                           0.96       920\n",
      "   macro avg       0.96      0.96      0.96       920\n",
      "weighted avg       0.96      0.96      0.96       920\n",
      "\n"
     ]
    }
   ],
   "source": [
    "print(classification_report(y_test, ABC_pred))"
   ]
  },
  {
   "cell_type": "markdown",
   "id": "fbd56efc",
   "metadata": {},
   "source": [
    "### Confusion Matrix"
   ]
  },
  {
   "cell_type": "code",
   "execution_count": 86,
   "id": "a1b17bb4",
   "metadata": {},
   "outputs": [
    {
     "data": {
      "image/png": "[encoded data removed]",
      "text/plain": [
       "<Figure size 720x432 with 2 Axes>"
      ]
     },
     "metadata": {
      "needs_background": "light"
     },
     "output_type": "display_data"
    }
   ],
   "source": [
    "plt.rcParams[\"figure.figsize\"]=(10,6)\n",
    "sns.heatmap(data=confusion_matrix(y_true=y_test,y_pred=ABC_pred),annot=True,fmt=\"d\",cmap=\"YlGnBu\",xticklabels=labels,yticklabels=labels)\n",
    "plt.show()"
   ]
  },
  {
   "cell_type": "code",
   "execution_count": 89,
   "id": "86ed1f55",
   "metadata": {},
   "outputs": [],
   "source": [
    "with open(file=\"model/ABC_model.pkl\",mode=\"wb\") as file:\n",
    "    pickle.dump(obj=ABC,file=file)"
   ]
  },
  {
   "cell_type": "markdown",
   "id": "753094d6",
   "metadata": {},
   "source": [
    "## Accuracy Comparision"
   ]
  },
  {
   "cell_type": "code",
   "execution_count": 87,
   "id": "70c9461b",
   "metadata": {},
   "outputs": [],
   "source": [
    "Labels = ['RFC', 'SVC','ABC']\n",
    "Accuracies = [RF_Accuracy, SVM_Accuracy,ABC_Accuracy]"
   ]
  },
  {
   "cell_type": "code",
   "execution_count": 88,
   "id": "d377b1fd",
   "metadata": {},
   "outputs": [
    {
     "name": "stdout",
     "output_type": "stream",
     "text": [
      "[0.9554347826086956, 0.6521739130434783, 0.9641304347826087]\n"
     ]
    },
    {
     "data": {
      "text/plain": [
       "<AxesSubplot:>"
      ]
     },
     "execution_count": 88,
     "metadata": {},
     "output_type": "execute_result"
    },
    {
     "data": {
      "image/png": "[encoded data removed]",
      "text/plain": [
       "<Figure size 576x576 with 1 Axes>"
      ]
     },
     "metadata": {},
     "output_type": "display_data"
    }
   ],
   "source": [
    "print(Accuracies)\n",
    "sns.set(rc = {'figure.figsize':(8,8)})\n",
    "sns.set(font_scale = 2)\n",
    "sns.barplot(x=Labels, y=Accuracies)"
   ]
  },
  {
   "cell_type": "markdown",
   "id": "0c2b4aa8",
   "metadata": {},
   "source": [
    "---"
   ]
  },
  {
   "cell_type": "markdown",
   "id": "f1a17780",
   "metadata": {},
   "source": [
    "## Thank You"
   ]
  }
 ],
 "metadata": {
  "kernelspec": {
   "display_name": "Python 3",
   "language": "python",
   "name": "python3"
  },
  "language_info": {
   "codemirror_mode": {
    "name": "ipython",
    "version": 3
   },
   "file_extension": ".py",
   "mimetype": "text/x-python",
   "name": "python",
   "nbconvert_exporter": "python",
   "pygments_lexer": "ipython3",
   "version": "3.8.8"
  }
 },
 "nbformat": 4,
 "nbformat_minor": 5
}
